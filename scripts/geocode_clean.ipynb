{
 "cells": [
  {
   "cell_type": "code",
   "execution_count": 1,
   "metadata": {
    "collapsed": true
   },
   "outputs": [],
   "source": [
    "import pandas as pd"
   ]
  },
  {
   "cell_type": "code",
   "execution_count": 10,
   "outputs": [],
   "source": [
    "df1 = pd.read_csv('../data/curated/apartment_geocoded.csv')\n",
    "df2 = pd.read_csv('../data/curated/house_geocoded.csv')"
   ],
   "metadata": {
    "collapsed": false,
    "pycharm": {
     "name": "#%%\n"
    }
   }
  },
  {
   "cell_type": "code",
   "execution_count": 11,
   "outputs": [
    {
     "data": {
      "text/plain": "   Unnamed: 0                                         address  price  beds  \\\n0           0    EAST MELBOURNE 12/174 George Street VIC 3002    495     1   \n1           1         BRIGHTON 210/26 Warleigh Grove VIC 3186    595     2   \n2           2     MELBOURNE 605/455 Elizabeth Street VIC 3000    500     2   \n3           3    MELBOURNE 3510/500 Elizabeth Street VIC 3000    580     2   \n4           4  MELBOURNE 309/402-408 La Trobe Street VIC 3000    450     2   \n\n   baths  parking    propertyTypeFormatted  latitudes  longitudes  \n0      1        1  Apartment / Unit / Flat   -37.8167    144.9879  \n1      2        1  Apartment / Unit / Flat   -37.9057    145.0067  \n2      1        0  Apartment / Unit / Flat    45.5916     14.1546  \n3      2        0  Apartment / Unit / Flat    45.5916     14.1546  \n4      1        0  Apartment / Unit / Flat    45.5916     14.1546  ",
      "text/html": "<div>\n<style scoped>\n    .dataframe tbody tr th:only-of-type {\n        vertical-align: middle;\n    }\n\n    .dataframe tbody tr th {\n        vertical-align: top;\n    }\n\n    .dataframe thead th {\n        text-align: right;\n    }\n</style>\n<table border=\"1\" class=\"dataframe\">\n  <thead>\n    <tr style=\"text-align: right;\">\n      <th></th>\n      <th>Unnamed: 0</th>\n      <th>address</th>\n      <th>price</th>\n      <th>beds</th>\n      <th>baths</th>\n      <th>parking</th>\n      <th>propertyTypeFormatted</th>\n      <th>latitudes</th>\n      <th>longitudes</th>\n    </tr>\n  </thead>\n  <tbody>\n    <tr>\n      <th>0</th>\n      <td>0</td>\n      <td>EAST MELBOURNE 12/174 George Street VIC 3002</td>\n      <td>495</td>\n      <td>1</td>\n      <td>1</td>\n      <td>1</td>\n      <td>Apartment / Unit / Flat</td>\n      <td>-37.8167</td>\n      <td>144.9879</td>\n    </tr>\n    <tr>\n      <th>1</th>\n      <td>1</td>\n      <td>BRIGHTON 210/26 Warleigh Grove VIC 3186</td>\n      <td>595</td>\n      <td>2</td>\n      <td>2</td>\n      <td>1</td>\n      <td>Apartment / Unit / Flat</td>\n      <td>-37.9057</td>\n      <td>145.0067</td>\n    </tr>\n    <tr>\n      <th>2</th>\n      <td>2</td>\n      <td>MELBOURNE 605/455 Elizabeth Street VIC 3000</td>\n      <td>500</td>\n      <td>2</td>\n      <td>1</td>\n      <td>0</td>\n      <td>Apartment / Unit / Flat</td>\n      <td>45.5916</td>\n      <td>14.1546</td>\n    </tr>\n    <tr>\n      <th>3</th>\n      <td>3</td>\n      <td>MELBOURNE 3510/500 Elizabeth Street VIC 3000</td>\n      <td>580</td>\n      <td>2</td>\n      <td>2</td>\n      <td>0</td>\n      <td>Apartment / Unit / Flat</td>\n      <td>45.5916</td>\n      <td>14.1546</td>\n    </tr>\n    <tr>\n      <th>4</th>\n      <td>4</td>\n      <td>MELBOURNE 309/402-408 La Trobe Street VIC 3000</td>\n      <td>450</td>\n      <td>2</td>\n      <td>1</td>\n      <td>0</td>\n      <td>Apartment / Unit / Flat</td>\n      <td>45.5916</td>\n      <td>14.1546</td>\n    </tr>\n  </tbody>\n</table>\n</div>"
     },
     "execution_count": 11,
     "metadata": {},
     "output_type": "execute_result"
    }
   ],
   "source": [
    "df1.head()"
   ],
   "metadata": {
    "collapsed": false,
    "pycharm": {
     "name": "#%%\n"
    }
   }
  },
  {
   "cell_type": "code",
   "execution_count": 12,
   "outputs": [],
   "source": [
    "#apartment\n",
    "df_clear1 = df1.drop(df1[df1['latitudes']>0].index)\n",
    "\n",
    "#house\n",
    "df_clear2 = df2.drop(df2[df2['latitudes']>0].index)"
   ],
   "metadata": {
    "collapsed": false,
    "pycharm": {
     "name": "#%%\n"
    }
   }
  },
  {
   "cell_type": "code",
   "execution_count": 15,
   "outputs": [],
   "source": [
    "df_clear1.reset_index(drop=True, inplace=True)\n",
    "df_clear2.reset_index(drop=True, inplace=True)"
   ],
   "metadata": {
    "collapsed": false,
    "pycharm": {
     "name": "#%%\n"
    }
   }
  },
  {
   "cell_type": "code",
   "execution_count": 17,
   "outputs": [
    {
     "data": {
      "text/plain": "   Unnamed: 0                                       address  price  beds  \\\n0           0  EAST MELBOURNE 12/174 George Street VIC 3002    495     1   \n1           1       BRIGHTON 210/26 Warleigh Grove VIC 3186    595     2   \n2           5         CARLTON G06/81 Cemetery Road VIC 3053    375     1   \n3           6    ST KILDA EAST 7/1A Hughenden Road VIC 3183    340     1   \n4           7  ABBOTSFORD EG07/11 Flockhart Street VIC 3067    375     2   \n\n   baths  parking    propertyTypeFormatted  latitudes  longitudes  \\\n0      1        1  Apartment / Unit / Flat   -37.8167    144.9879   \n1      2        1  Apartment / Unit / Flat   -37.9057    145.0067   \n2      1        0  Apartment / Unit / Flat   -37.8004    144.9684   \n3      1        1  Apartment / Unit / Flat   -37.8692    144.9977   \n4      1        0  Apartment / Unit / Flat   -37.8046    144.9998   \n\n            coordinates  \n0  [144.9879, -37.8167]  \n1  [145.0067, -37.9057]  \n2  [144.9684, -37.8004]  \n3  [144.9977, -37.8692]  \n4  [144.9998, -37.8046]  ",
      "text/html": "<div>\n<style scoped>\n    .dataframe tbody tr th:only-of-type {\n        vertical-align: middle;\n    }\n\n    .dataframe tbody tr th {\n        vertical-align: top;\n    }\n\n    .dataframe thead th {\n        text-align: right;\n    }\n</style>\n<table border=\"1\" class=\"dataframe\">\n  <thead>\n    <tr style=\"text-align: right;\">\n      <th></th>\n      <th>Unnamed: 0</th>\n      <th>address</th>\n      <th>price</th>\n      <th>beds</th>\n      <th>baths</th>\n      <th>parking</th>\n      <th>propertyTypeFormatted</th>\n      <th>latitudes</th>\n      <th>longitudes</th>\n      <th>coordinates</th>\n    </tr>\n  </thead>\n  <tbody>\n    <tr>\n      <th>0</th>\n      <td>0</td>\n      <td>EAST MELBOURNE 12/174 George Street VIC 3002</td>\n      <td>495</td>\n      <td>1</td>\n      <td>1</td>\n      <td>1</td>\n      <td>Apartment / Unit / Flat</td>\n      <td>-37.8167</td>\n      <td>144.9879</td>\n      <td>[144.9879, -37.8167]</td>\n    </tr>\n    <tr>\n      <th>1</th>\n      <td>1</td>\n      <td>BRIGHTON 210/26 Warleigh Grove VIC 3186</td>\n      <td>595</td>\n      <td>2</td>\n      <td>2</td>\n      <td>1</td>\n      <td>Apartment / Unit / Flat</td>\n      <td>-37.9057</td>\n      <td>145.0067</td>\n      <td>[145.0067, -37.9057]</td>\n    </tr>\n    <tr>\n      <th>2</th>\n      <td>5</td>\n      <td>CARLTON G06/81 Cemetery Road VIC 3053</td>\n      <td>375</td>\n      <td>1</td>\n      <td>1</td>\n      <td>0</td>\n      <td>Apartment / Unit / Flat</td>\n      <td>-37.8004</td>\n      <td>144.9684</td>\n      <td>[144.9684, -37.8004]</td>\n    </tr>\n    <tr>\n      <th>3</th>\n      <td>6</td>\n      <td>ST KILDA EAST 7/1A Hughenden Road VIC 3183</td>\n      <td>340</td>\n      <td>1</td>\n      <td>1</td>\n      <td>1</td>\n      <td>Apartment / Unit / Flat</td>\n      <td>-37.8692</td>\n      <td>144.9977</td>\n      <td>[144.9977, -37.8692]</td>\n    </tr>\n    <tr>\n      <th>4</th>\n      <td>7</td>\n      <td>ABBOTSFORD EG07/11 Flockhart Street VIC 3067</td>\n      <td>375</td>\n      <td>2</td>\n      <td>1</td>\n      <td>0</td>\n      <td>Apartment / Unit / Flat</td>\n      <td>-37.8046</td>\n      <td>144.9998</td>\n      <td>[144.9998, -37.8046]</td>\n    </tr>\n  </tbody>\n</table>\n</div>"
     },
     "execution_count": 17,
     "metadata": {},
     "output_type": "execute_result"
    }
   ],
   "source": [
    "df_clear1[\"coordinates\"] = [[df_clear1[\"longitudes\"][i], df_clear1[\"latitudes\"][i]] for i in range(len(df_clear1))]\n",
    "\n",
    "df_clear1.head()"
   ],
   "metadata": {
    "collapsed": false,
    "pycharm": {
     "name": "#%%\n"
    }
   }
  },
  {
   "cell_type": "code",
   "execution_count": 18,
   "outputs": [],
   "source": [
    "df_clear2[\"coordinates\"] = [[df_clear2[\"longitudes\"][i], df_clear2[\"latitudes\"][i]] for i in range(len(df_clear2))]"
   ],
   "metadata": {
    "collapsed": false,
    "pycharm": {
     "name": "#%%\n"
    }
   }
  },
  {
   "cell_type": "code",
   "execution_count": 20,
   "outputs": [],
   "source": [
    "df_clear1.to_csv('../data/curated/clean_apartment_geo.csv')\n",
    "df_clear2.to_csv('../data/curated/clean_house_geo.csv')"
   ],
   "metadata": {
    "collapsed": false,
    "pycharm": {
     "name": "#%%\n"
    }
   }
  }
 ],
 "metadata": {
  "kernelspec": {
   "display_name": "Python 3",
   "language": "python",
   "name": "python3"
  },
  "language_info": {
   "codemirror_mode": {
    "name": "ipython",
    "version": 2
   },
   "file_extension": ".py",
   "mimetype": "text/x-python",
   "name": "python",
   "nbconvert_exporter": "python",
   "pygments_lexer": "ipython2",
   "version": "2.7.6"
  }
 },
 "nbformat": 4,
 "nbformat_minor": 0
}