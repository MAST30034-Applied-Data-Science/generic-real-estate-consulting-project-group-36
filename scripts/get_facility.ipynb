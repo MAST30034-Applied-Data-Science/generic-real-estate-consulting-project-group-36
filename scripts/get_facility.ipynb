{
 "cells": [
  {
   "cell_type": "code",
   "execution_count": 2,
   "metadata": {
    "collapsed": true
   },
   "outputs": [],
   "source": [
    "import pandas as pd\n"
   ]
  },
  {
   "cell_type": "code",
   "execution_count": 4,
   "outputs": [],
   "source": [
    "df = pd.read_csv(\"../data/raw/srv_ifmd_all-facilities.csv\")"
   ],
   "metadata": {
    "collapsed": false,
    "pycharm": {
     "name": "#%% read facilities csv\n"
    }
   }
  },
  {
   "cell_type": "code",
   "execution_count": 6,
   "outputs": [
    {
     "data": {
      "text/plain": "  Facility ID LGA Name       Facility Name  Facility_AutoNumber Street #  \\\n0  MITCHE3674      NaN  Vermont South Club                 3674      NaN   \n1  MITCHE3674      NaN  Vermont South Club                 3674      NaN   \n2  MITCHE3674      NaN  Vermont South Club                 3674      NaN   \n3  MITCHE3674      NaN  Vermont South Club                 3674      NaN   \n4  MITCHE3674      NaN  Vermont South Club                 3674      NaN   \n\n  Street Name Street Type Suburb/Town   Pcode Melway Ref  ...  \\\n0  Coronation      Avenue      BRIGHT  3741.0        NaN  ...   \n1  Coronation      Avenue      BRIGHT  3741.0        NaN  ...   \n2  Coronation      Avenue      BRIGHT  3741.0        NaN  ...   \n3  Coronation      Avenue      BRIGHT  3741.0        NaN  ...   \n4  Coronation      Avenue      BRIGHT  3741.0        NaN  ...   \n\n  Number of Field/Courts  Field/Surface Type  Age of Facility  \\\n0                    NaN                 NaN              NaN   \n1                    1.0               Grass              NaN   \n2                    1.0     Synthetic Pitch              NaN   \n3                    1.0             Asphalt              NaN   \n4                    4.0     Artificial Turf              NaN   \n\n  Condition of Facility Facility Upgrade Age Changerooms  Facility Features  \\\n0                   NaN                  NaN         NaN                NaN   \n1                   NaN                  NaN         NaN                NaN   \n2                   NaN                  NaN         NaN                NaN   \n3                   NaN                  NaN         NaN                NaN   \n4                   NaN                  NaN         NaN                NaN   \n\n  Spectator numbers for seating/shelter                      FullAddress  \\\n0                                   NaN   Coronation Avenue, BRIGHT 3741   \n1                                   NaN   Coronation Avenue, BRIGHT 3741   \n2                                   NaN   Coronation Avenue, BRIGHT 3741   \n3                                   NaN   Coronation Avenue, BRIGHT 3741   \n4                                   NaN   Coronation Avenue, BRIGHT 3741   \n\n  MelwaysVicRoadsRef  \n0             661 P4  \n1             661 P4  \n2             661 P4  \n3             661 P4  \n4             661 P4  \n\n[5 rows x 31 columns]",
      "text/html": "<div>\n<style scoped>\n    .dataframe tbody tr th:only-of-type {\n        vertical-align: middle;\n    }\n\n    .dataframe tbody tr th {\n        vertical-align: top;\n    }\n\n    .dataframe thead th {\n        text-align: right;\n    }\n</style>\n<table border=\"1\" class=\"dataframe\">\n  <thead>\n    <tr style=\"text-align: right;\">\n      <th></th>\n      <th>Facility ID</th>\n      <th>LGA Name</th>\n      <th>Facility Name</th>\n      <th>Facility_AutoNumber</th>\n      <th>Street #</th>\n      <th>Street Name</th>\n      <th>Street Type</th>\n      <th>Suburb/Town</th>\n      <th>Pcode</th>\n      <th>Melway Ref</th>\n      <th>...</th>\n      <th>Number of Field/Courts</th>\n      <th>Field/Surface Type</th>\n      <th>Age of Facility</th>\n      <th>Condition of Facility</th>\n      <th>Facility Upgrade Age</th>\n      <th>Changerooms</th>\n      <th>Facility Features</th>\n      <th>Spectator numbers for seating/shelter</th>\n      <th>FullAddress</th>\n      <th>MelwaysVicRoadsRef</th>\n    </tr>\n  </thead>\n  <tbody>\n    <tr>\n      <th>0</th>\n      <td>MITCHE3674</td>\n      <td>NaN</td>\n      <td>Vermont South Club</td>\n      <td>3674</td>\n      <td>NaN</td>\n      <td>Coronation</td>\n      <td>Avenue</td>\n      <td>BRIGHT</td>\n      <td>3741.0</td>\n      <td>NaN</td>\n      <td>...</td>\n      <td>NaN</td>\n      <td>NaN</td>\n      <td>NaN</td>\n      <td>NaN</td>\n      <td>NaN</td>\n      <td>NaN</td>\n      <td>NaN</td>\n      <td>NaN</td>\n      <td>Coronation Avenue, BRIGHT 3741</td>\n      <td>661 P4</td>\n    </tr>\n    <tr>\n      <th>1</th>\n      <td>MITCHE3674</td>\n      <td>NaN</td>\n      <td>Vermont South Club</td>\n      <td>3674</td>\n      <td>NaN</td>\n      <td>Coronation</td>\n      <td>Avenue</td>\n      <td>BRIGHT</td>\n      <td>3741.0</td>\n      <td>NaN</td>\n      <td>...</td>\n      <td>1.0</td>\n      <td>Grass</td>\n      <td>NaN</td>\n      <td>NaN</td>\n      <td>NaN</td>\n      <td>NaN</td>\n      <td>NaN</td>\n      <td>NaN</td>\n      <td>Coronation Avenue, BRIGHT 3741</td>\n      <td>661 P4</td>\n    </tr>\n    <tr>\n      <th>2</th>\n      <td>MITCHE3674</td>\n      <td>NaN</td>\n      <td>Vermont South Club</td>\n      <td>3674</td>\n      <td>NaN</td>\n      <td>Coronation</td>\n      <td>Avenue</td>\n      <td>BRIGHT</td>\n      <td>3741.0</td>\n      <td>NaN</td>\n      <td>...</td>\n      <td>1.0</td>\n      <td>Synthetic Pitch</td>\n      <td>NaN</td>\n      <td>NaN</td>\n      <td>NaN</td>\n      <td>NaN</td>\n      <td>NaN</td>\n      <td>NaN</td>\n      <td>Coronation Avenue, BRIGHT 3741</td>\n      <td>661 P4</td>\n    </tr>\n    <tr>\n      <th>3</th>\n      <td>MITCHE3674</td>\n      <td>NaN</td>\n      <td>Vermont South Club</td>\n      <td>3674</td>\n      <td>NaN</td>\n      <td>Coronation</td>\n      <td>Avenue</td>\n      <td>BRIGHT</td>\n      <td>3741.0</td>\n      <td>NaN</td>\n      <td>...</td>\n      <td>1.0</td>\n      <td>Asphalt</td>\n      <td>NaN</td>\n      <td>NaN</td>\n      <td>NaN</td>\n      <td>NaN</td>\n      <td>NaN</td>\n      <td>NaN</td>\n      <td>Coronation Avenue, BRIGHT 3741</td>\n      <td>661 P4</td>\n    </tr>\n    <tr>\n      <th>4</th>\n      <td>MITCHE3674</td>\n      <td>NaN</td>\n      <td>Vermont South Club</td>\n      <td>3674</td>\n      <td>NaN</td>\n      <td>Coronation</td>\n      <td>Avenue</td>\n      <td>BRIGHT</td>\n      <td>3741.0</td>\n      <td>NaN</td>\n      <td>...</td>\n      <td>4.0</td>\n      <td>Artificial Turf</td>\n      <td>NaN</td>\n      <td>NaN</td>\n      <td>NaN</td>\n      <td>NaN</td>\n      <td>NaN</td>\n      <td>NaN</td>\n      <td>Coronation Avenue, BRIGHT 3741</td>\n      <td>661 P4</td>\n    </tr>\n  </tbody>\n</table>\n<p>5 rows × 31 columns</p>\n</div>"
     },
     "execution_count": 6,
     "metadata": {},
     "output_type": "execute_result"
    }
   ],
   "source": [
    "df.head()"
   ],
   "metadata": {
    "collapsed": false,
    "pycharm": {
     "name": "#%%\n"
    }
   }
  },
  {
   "cell_type": "code",
   "execution_count": 35,
   "outputs": [],
   "source": [
    "df = df.loc[:,['Facility ID','Facility Name','Street Name','Suburb/Town','Pcode','Latitude',\n",
    "                'Longitude','Field/Surface Type','FullAddress','MelwaysVicRoadsRef']]"
   ],
   "metadata": {
    "collapsed": false,
    "pycharm": {
     "name": "#%% choose columns we want\n"
    }
   }
  },
  {
   "cell_type": "code",
   "execution_count": 36,
   "outputs": [
    {
     "data": {
      "text/plain": "(9590, 10)"
     },
     "execution_count": 36,
     "metadata": {},
     "output_type": "execute_result"
    }
   ],
   "source": [
    "df.head()\n",
    "df.shape"
   ],
   "metadata": {
    "collapsed": false,
    "pycharm": {
     "name": "#%%\n"
    }
   }
  },
  {
   "cell_type": "code",
   "execution_count": 38,
   "outputs": [
    {
     "data": {
      "text/plain": "0     False\n1      True\n2      True\n3      True\n4      True\n5     False\n6     False\n7     False\n8     False\n9      True\n10     True\n11    False\n12     True\n13    False\n14    False\n15     True\n16    False\n17     True\n18    False\n19    False\n20    False\n21     True\n22    False\n23    False\n24     True\n25    False\n26     True\n27    False\n28     True\n29     True\ndtype: bool"
     },
     "execution_count": 38,
     "metadata": {},
     "output_type": "execute_result"
    }
   ],
   "source": [
    "df.duplicated(subset=['FullAddress','Latitude','Longitude']).head(30)"
   ],
   "metadata": {
    "collapsed": false,
    "pycharm": {
     "name": "#%% look up for some duplicated address, log and lat\n"
    }
   }
  },
  {
   "cell_type": "code",
   "execution_count": 39,
   "outputs": [],
   "source": [
    "new = df.drop_duplicates(subset=['FullAddress','Latitude','Longitude'], keep='first')"
   ],
   "metadata": {
    "collapsed": false,
    "pycharm": {
     "name": "#%% drop all duplicated row\n"
    }
   }
  },
  {
   "cell_type": "code",
   "execution_count": 41,
   "outputs": [
    {
     "data": {
      "text/plain": "(4898, 10)"
     },
     "execution_count": 41,
     "metadata": {},
     "output_type": "execute_result"
    }
   ],
   "source": [
    "new.shape"
   ],
   "metadata": {
    "collapsed": false,
    "pycharm": {
     "name": "#%%\n"
    }
   }
  },
  {
   "cell_type": "code",
   "execution_count": 46,
   "outputs": [
    {
     "name": "stdout",
     "output_type": "stream",
     "text": [
      "0       False\n",
      "5        True\n",
      "6       False\n",
      "7        True\n",
      "8        True\n",
      "        ...  \n",
      "9569    False\n",
      "9570    False\n",
      "9571    False\n",
      "9572    False\n",
      "9581     True\n",
      "Name: Facility Name, Length: 4898, dtype: bool\n"
     ]
    }
   ],
   "source": [
    "print(new['Facility Name'].str.contains('park|reserve', case=False))"
   ],
   "metadata": {
    "collapsed": false,
    "pycharm": {
     "name": "#%%\n"
    }
   }
  },
  {
   "cell_type": "code",
   "execution_count": 48,
   "outputs": [],
   "source": [
    "park_reserve = new[new['Facility Name'].str.contains('park|reserve', case=False)]\n",
    "\n",
    "gym_fitness = new[new['Facility Name'].str.contains('gym|fitness', case=False)]\n",
    "\n",
    "swimming_sport = new[new['Facility Name'].str.contains('swimming|pool|sport', case=False)]\n",
    "\n"
   ],
   "metadata": {
    "collapsed": false,
    "pycharm": {
     "name": "#%% separate different types of facilities into different dataframe\n"
    }
   }
  },
  {
   "cell_type": "code",
   "execution_count": 54,
   "outputs": [
    {
     "data": {
      "text/plain": "    Facility ID                    Facility Name   Street Name   Suburb/Town  \\\n5    ALPINE5519  Pioneer Park Recreation Reserve    Coronation        BRIGHT   \n7   ALPINE10928  Mount Beauty recreation Reserve     Lakeside   MOUNT BEAUTY   \n8   ALPINE10924      Dederang Recreation reserve  Kiewa-Valley      DEDERANG   \n11  ALPINE10932              RC McNamara Reserve        Lewis     MYRTLEFORD   \n13  ALPINE10942    Porepunkah Recreation Reserve       Martley    POREPUNKAH   \n\n     Pcode   Latitude   Longitude   Field/Surface Type  \\\n5   3741.0 -36.737199  146.973353                  NaN   \n7   3699.0 -36.739256  147.172162  Grass Running Track   \n8   3691.0 -36.475264  147.020525                Grass   \n11  3737.0 -36.567524  146.723777                Grass   \n13  3740.0 -36.698109  146.910729                Grass   \n\n                             FullAddress MelwaysVicRoadsRef  \n5         Coronation Avenue, BRIGHT 3741             661 P4  \n7    Lakeside  Avenue, MOUNT BEAUTY 3699            660 H10  \n8        Kiewa-Valley Hwy, DEDERANG 3691              36 B9  \n11        Lewis  Avenue, MYRTLEFORD 3737             660 B7  \n13       Martley Street, POREPUNKAH 3740            661 M11  ",
      "text/html": "<div>\n<style scoped>\n    .dataframe tbody tr th:only-of-type {\n        vertical-align: middle;\n    }\n\n    .dataframe tbody tr th {\n        vertical-align: top;\n    }\n\n    .dataframe thead th {\n        text-align: right;\n    }\n</style>\n<table border=\"1\" class=\"dataframe\">\n  <thead>\n    <tr style=\"text-align: right;\">\n      <th></th>\n      <th>Facility ID</th>\n      <th>Facility Name</th>\n      <th>Street Name</th>\n      <th>Suburb/Town</th>\n      <th>Pcode</th>\n      <th>Latitude</th>\n      <th>Longitude</th>\n      <th>Field/Surface Type</th>\n      <th>FullAddress</th>\n      <th>MelwaysVicRoadsRef</th>\n    </tr>\n  </thead>\n  <tbody>\n    <tr>\n      <th>5</th>\n      <td>ALPINE5519</td>\n      <td>Pioneer Park Recreation Reserve</td>\n      <td>Coronation</td>\n      <td>BRIGHT</td>\n      <td>3741.0</td>\n      <td>-36.737199</td>\n      <td>146.973353</td>\n      <td>NaN</td>\n      <td>Coronation Avenue, BRIGHT 3741</td>\n      <td>661 P4</td>\n    </tr>\n    <tr>\n      <th>7</th>\n      <td>ALPINE10928</td>\n      <td>Mount Beauty recreation Reserve</td>\n      <td>Lakeside</td>\n      <td>MOUNT BEAUTY</td>\n      <td>3699.0</td>\n      <td>-36.739256</td>\n      <td>147.172162</td>\n      <td>Grass Running Track</td>\n      <td>Lakeside  Avenue, MOUNT BEAUTY 3699</td>\n      <td>660 H10</td>\n    </tr>\n    <tr>\n      <th>8</th>\n      <td>ALPINE10924</td>\n      <td>Dederang Recreation reserve</td>\n      <td>Kiewa-Valley</td>\n      <td>DEDERANG</td>\n      <td>3691.0</td>\n      <td>-36.475264</td>\n      <td>147.020525</td>\n      <td>Grass</td>\n      <td>Kiewa-Valley Hwy, DEDERANG 3691</td>\n      <td>36 B9</td>\n    </tr>\n    <tr>\n      <th>11</th>\n      <td>ALPINE10932</td>\n      <td>RC McNamara Reserve</td>\n      <td>Lewis</td>\n      <td>MYRTLEFORD</td>\n      <td>3737.0</td>\n      <td>-36.567524</td>\n      <td>146.723777</td>\n      <td>Grass</td>\n      <td>Lewis  Avenue, MYRTLEFORD 3737</td>\n      <td>660 B7</td>\n    </tr>\n    <tr>\n      <th>13</th>\n      <td>ALPINE10942</td>\n      <td>Porepunkah Recreation Reserve</td>\n      <td>Martley</td>\n      <td>POREPUNKAH</td>\n      <td>3740.0</td>\n      <td>-36.698109</td>\n      <td>146.910729</td>\n      <td>Grass</td>\n      <td>Martley Street, POREPUNKAH 3740</td>\n      <td>661 M11</td>\n    </tr>\n  </tbody>\n</table>\n</div>"
     },
     "execution_count": 54,
     "metadata": {},
     "output_type": "execute_result"
    }
   ],
   "source": [
    "park_reserve.head()"
   ],
   "metadata": {
    "collapsed": false,
    "pycharm": {
     "name": "#%%\n"
    }
   }
  },
  {
   "cell_type": "code",
   "execution_count": 58,
   "outputs": [
    {
     "data": {
      "text/plain": "   Facility ID                    Facility Name   Street Name   Suburb/Town  \\\n0   ALPINE5519  Pioneer Park Recreation Reserve    Coronation        BRIGHT   \n1  ALPINE10928  Mount Beauty recreation Reserve     Lakeside   MOUNT BEAUTY   \n2  ALPINE10924      Dederang Recreation reserve  Kiewa-Valley      DEDERANG   \n3  ALPINE10932              RC McNamara Reserve        Lewis     MYRTLEFORD   \n4  ALPINE10942    Porepunkah Recreation Reserve       Martley    POREPUNKAH   \n\n    Pcode   Latitude   Longitude   Field/Surface Type  \\\n0  3741.0 -36.737199  146.973353                  NaN   \n1  3699.0 -36.739256  147.172162  Grass Running Track   \n2  3691.0 -36.475264  147.020525                Grass   \n3  3737.0 -36.567524  146.723777                Grass   \n4  3740.0 -36.698109  146.910729                Grass   \n\n                            FullAddress MelwaysVicRoadsRef  \n0        Coronation Avenue, BRIGHT 3741             661 P4  \n1   Lakeside  Avenue, MOUNT BEAUTY 3699            660 H10  \n2       Kiewa-Valley Hwy, DEDERANG 3691              36 B9  \n3        Lewis  Avenue, MYRTLEFORD 3737             660 B7  \n4       Martley Street, POREPUNKAH 3740            661 M11  ",
      "text/html": "<div>\n<style scoped>\n    .dataframe tbody tr th:only-of-type {\n        vertical-align: middle;\n    }\n\n    .dataframe tbody tr th {\n        vertical-align: top;\n    }\n\n    .dataframe thead th {\n        text-align: right;\n    }\n</style>\n<table border=\"1\" class=\"dataframe\">\n  <thead>\n    <tr style=\"text-align: right;\">\n      <th></th>\n      <th>Facility ID</th>\n      <th>Facility Name</th>\n      <th>Street Name</th>\n      <th>Suburb/Town</th>\n      <th>Pcode</th>\n      <th>Latitude</th>\n      <th>Longitude</th>\n      <th>Field/Surface Type</th>\n      <th>FullAddress</th>\n      <th>MelwaysVicRoadsRef</th>\n    </tr>\n  </thead>\n  <tbody>\n    <tr>\n      <th>0</th>\n      <td>ALPINE5519</td>\n      <td>Pioneer Park Recreation Reserve</td>\n      <td>Coronation</td>\n      <td>BRIGHT</td>\n      <td>3741.0</td>\n      <td>-36.737199</td>\n      <td>146.973353</td>\n      <td>NaN</td>\n      <td>Coronation Avenue, BRIGHT 3741</td>\n      <td>661 P4</td>\n    </tr>\n    <tr>\n      <th>1</th>\n      <td>ALPINE10928</td>\n      <td>Mount Beauty recreation Reserve</td>\n      <td>Lakeside</td>\n      <td>MOUNT BEAUTY</td>\n      <td>3699.0</td>\n      <td>-36.739256</td>\n      <td>147.172162</td>\n      <td>Grass Running Track</td>\n      <td>Lakeside  Avenue, MOUNT BEAUTY 3699</td>\n      <td>660 H10</td>\n    </tr>\n    <tr>\n      <th>2</th>\n      <td>ALPINE10924</td>\n      <td>Dederang Recreation reserve</td>\n      <td>Kiewa-Valley</td>\n      <td>DEDERANG</td>\n      <td>3691.0</td>\n      <td>-36.475264</td>\n      <td>147.020525</td>\n      <td>Grass</td>\n      <td>Kiewa-Valley Hwy, DEDERANG 3691</td>\n      <td>36 B9</td>\n    </tr>\n    <tr>\n      <th>3</th>\n      <td>ALPINE10932</td>\n      <td>RC McNamara Reserve</td>\n      <td>Lewis</td>\n      <td>MYRTLEFORD</td>\n      <td>3737.0</td>\n      <td>-36.567524</td>\n      <td>146.723777</td>\n      <td>Grass</td>\n      <td>Lewis  Avenue, MYRTLEFORD 3737</td>\n      <td>660 B7</td>\n    </tr>\n    <tr>\n      <th>4</th>\n      <td>ALPINE10942</td>\n      <td>Porepunkah Recreation Reserve</td>\n      <td>Martley</td>\n      <td>POREPUNKAH</td>\n      <td>3740.0</td>\n      <td>-36.698109</td>\n      <td>146.910729</td>\n      <td>Grass</td>\n      <td>Martley Street, POREPUNKAH 3740</td>\n      <td>661 M11</td>\n    </tr>\n  </tbody>\n</table>\n</div>"
     },
     "execution_count": 58,
     "metadata": {},
     "output_type": "execute_result"
    }
   ],
   "source": [
    "park_reserve.reset_index(drop=True, inplace=True)\n",
    "\n",
    "gym_fitness.reset_index(drop=True, inplace=True)\n",
    "\n",
    "swimming_sport.reset_index(drop=True, inplace=True)\n",
    "park_reserve.head()"
   ],
   "metadata": {
    "collapsed": false,
    "pycharm": {
     "name": "#%%\n"
    }
   }
  },
  {
   "cell_type": "code",
   "execution_count": 60,
   "outputs": [],
   "source": [
    "park_reserve.to_csv(\"../data/curated/park_reserve.csv\")\n",
    "\n",
    "gym_fitness.to_csv(\"../data/curated/gym_fitness.csv\")\n",
    "\n",
    "swimming_sport.to_csv(\"../data/curated/swim_sport.csv\")"
   ],
   "metadata": {
    "collapsed": false,
    "pycharm": {
     "name": "#%% save three types of facilities into different csv for later useing\n"
    }
   }
  },
  {
   "cell_type": "code",
   "execution_count": null,
   "outputs": [],
   "source": [],
   "metadata": {
    "collapsed": false,
    "pycharm": {
     "name": "#%%\n"
    }
   }
  }
 ],
 "metadata": {
  "kernelspec": {
   "display_name": "Python 3",
   "language": "python",
   "name": "python3"
  },
  "language_info": {
   "codemirror_mode": {
    "name": "ipython",
    "version": 2
   },
   "file_extension": ".py",
   "mimetype": "text/x-python",
   "name": "python",
   "nbconvert_exporter": "python",
   "pygments_lexer": "ipython2",
   "version": "2.7.6"
  }
 },
 "nbformat": 4,
 "nbformat_minor": 0
}