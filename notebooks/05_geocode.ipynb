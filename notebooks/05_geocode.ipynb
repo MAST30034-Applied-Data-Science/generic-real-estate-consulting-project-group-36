{
 "cells": [
  {
   "cell_type": "code",
   "execution_count": 1,
   "id": "722a530b-9e8f-4978-a4e7-f50978f9134d",
   "metadata": {},
   "outputs": [],
   "source": [
    "import geopy\n",
    "import geopandas\n",
    "import pandas as pd"
   ]
  },
  {
   "cell_type": "code",
   "execution_count": 2,
   "id": "438c5f67-42dc-4704-9c3a-5d5dff5d4f94",
   "metadata": {},
   "outputs": [],
   "source": [
    "from opencage.geocoder import OpenCageGeocode"
   ]
  },
  {
   "cell_type": "code",
   "execution_count": 3,
   "id": "af4254ad-fe1c-4865-8064-638a6c6b65a4",
   "metadata": {},
   "outputs": [],
   "source": [
    "key = \"YOUR_OWN_KEY\"\n",
    "geocoder = OpenCageGeocode(key) "
   ]
  },
  {
   "cell_type": "code",
   "execution_count": 4,
   "id": "b574e357-e789-4b3b-8563-05d48d9fa332",
   "metadata": {},
   "outputs": [],
   "source": [
    "df1 = pd.read_csv(\"../data/curated/house.csv\")"
   ]
  },
  {
   "cell_type": "code",
   "execution_count": 5,
   "id": "591694de-1a04-4eae-bc0c-0f25b589926f",
   "metadata": {},
   "outputs": [],
   "source": [
    "df2 = pd.read_csv(\"../data/curated/apartment.csv\")"
   ]
  },
  {
   "cell_type": "code",
   "execution_count": null,
   "id": "53077867",
   "metadata": {},
   "outputs": [],
   "source": [
    "df3 = pd.read_csv(\"../data/curated/park_.csv\")"
   ]
  },
  {
   "cell_type": "code",
   "execution_count": 6,
   "id": "50055799-d932-49f7-ac35-4d7dd4c29eea",
   "metadata": {},
   "outputs": [],
   "source": [
    "addresses = df1[\"address\"].values.tolist()\n",
    "\n",
    "latitudes = []\n",
    "longitudes = []\n",
    "# calcualate longitudes and latitudes of house\n",
    "for address in addresses:\n",
    "    result = geocoder.geocode(address, no_annotations=\"1\")\n",
    "\n",
    "    if result and len(result):\n",
    "        longitude = result[0]['geometry']['lng']\n",
    "        latitude = result[0]['geometry']['lat']\n",
    "    else:\n",
    "        longitude = \"N/A\"\n",
    "        latitude = \"N/A\"\n",
    "\n",
    "    latitudes.append(latitude)\n",
    "    longitudes.append(longitude)\n",
    "\n",
    "df1[\"latitudes\"] = latitudes\n",
    "df1[\"longitudes\"] = longitudes\n",
    "\n",
    "df1.to_csv(\"../data/curated/house_geocoded.csv\")"
   ]
  },
  {
   "cell_type": "code",
   "execution_count": null,
   "id": "7200d2b6-563c-46f0-b7b1-ca33ebf6e78e",
   "metadata": {},
   "outputs": [],
   "source": [
    "addresses2 = df2[\"address\"].values.tolist()\n",
    "\n",
    "latitudes2 = []\n",
    "longitudes2 = []\n",
    "\n",
    "for address in addresses2:\n",
    "    result = geocoder.geocode(address, no_annotations=\"1\")\n",
    "\n",
    "    if result and len(result):\n",
    "        longitude = result[0]['geometry']['lng']\n",
    "        latitude = result[0]['geometry']['lat']\n",
    "    else:\n",
    "        longitude = \"N/A\"\n",
    "        latitude = \"N/A\"\n",
    "\n",
    "    latitudes2.append(latitude)\n",
    "    longitudes2.append(longitude)\n",
    "\n",
    "df2[\"latitudes\"] = latitudes2\n",
    "df2[\"longitudes\"] = longitudes2\n",
    "\n",
    "df2.to_csv(\"../data/curated/apartment_geocoded.csv\")"
   ]
  },
  {
   "cell_type": "code",
   "execution_count": null,
   "id": "88be7b3f",
   "metadata": {},
   "outputs": [],
   "source": [
    "addresses = df3[\"address\"].values.tolist()\n",
    "\n",
    "latitudes = []\n",
    "longitudes = []\n",
    "# calcualate longitudes and latitudes of park\n",
    "for address in addresses:\n",
    "    result = geocoder.geocode(address, no_annotations=\"1\")\n",
    "\n",
    "    if result and len(result):\n",
    "        longitude = result[0]['geometry']['lng']\n",
    "        latitude = result[0]['geometry']['lat']\n",
    "    else:\n",
    "        longitude = \"N/A\"\n",
    "        latitude = \"N/A\"\n",
    "\n",
    "    latitudes.append(latitude)\n",
    "    longitudes.append(longitude)\n",
    "\n",
    "df3[\"latitudes\"] = latitudes\n",
    "df3[\"longitudes\"] = longitudes\n",
    "\n",
    "df3.to_csv(\"../data/curated/park_geocoded.csv\")"
   ]
  }
 ],
 "metadata": {
  "kernelspec": {
   "display_name": "Python 3 (ipykernel)",
   "language": "python",
   "name": "python3"
  },
  "language_info": {
   "codemirror_mode": {
    "name": "ipython",
    "version": 3
   },
   "file_extension": ".py",
   "mimetype": "text/x-python",
   "name": "python",
   "nbconvert_exporter": "python",
   "pygments_lexer": "ipython3",
   "version": "3.8.13"
  }
 },
 "nbformat": 4,
 "nbformat_minor": 5
}
