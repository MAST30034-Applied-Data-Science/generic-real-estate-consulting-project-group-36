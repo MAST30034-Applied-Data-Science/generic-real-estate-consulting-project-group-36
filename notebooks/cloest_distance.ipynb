{
 "cells": [
  {
   "cell_type": "code",
   "execution_count": null,
   "metadata": {},
   "outputs": [],
   "source": [
    "#pip install openrouteservice   "
   ]
  },
  {
   "cell_type": "code",
   "execution_count": 2,
   "metadata": {},
   "outputs": [],
   "source": [
    "import openrouteservice as ors"
   ]
  },
  {
   "cell_type": "code",
   "execution_count": null,
   "metadata": {
    "tags": []
   },
   "outputs": [],
   "source": [
    "coordinates = [[13.384116, 52.533558], [13.428726, 52.519355]]\n",
    "\n",
    "route = client.directions(\n",
    "    coordinates=coordinates,\n",
    "    profile='driving-car',\n",
    "    format='geojson',\n",
    "    validate=False,\n",
    ")\n",
    "route['features'][0]['properties']['segments'][0]['distance']"
   ]
  },
  {
   "cell_type": "markdown",
   "metadata": {},
   "source": [
    "## Matrix"
   ]
  },
  {
   "cell_type": "code",
   "execution_count": 3,
   "metadata": {
    "tags": []
   },
   "outputs": [],
   "source": [
    "import pandas as pd\n",
    "  \n",
    "facilities = pd.DataFrame(pd.read_csv(\"../data/curated/school.csv\"))\n",
    "df = facilities.loc[:, ['Facility Name', 'Latitude', 'Longitude']]"
   ]
  },
  {
   "cell_type": "code",
   "execution_count": 4,
   "metadata": {},
   "outputs": [],
   "source": [
    "apa = pd.read_csv(\"../data/curated/clean_apartment_geo.csv\")\n",
    "house = pd.read_csv(\"../data/curated/clean_house_geo.csv\")"
   ]
  },
  {
   "cell_type": "code",
   "execution_count": 5,
   "metadata": {},
   "outputs": [],
   "source": [
    "apa['coordinates'] = [[apa[\"longitudes\"][i], apa[\"latitudes\"][i]] for i in range(len(apa))]\n",
    "house['coordinates'] = [[house[\"longitudes\"][i], house[\"latitudes\"][i]] for i in range(len(house))]"
   ]
  },
  {
   "cell_type": "code",
   "execution_count": 6,
   "metadata": {},
   "outputs": [],
   "source": [
    "a = apa['coordinates']\n",
    "h = house['coordinates']"
   ]
  },
  {
   "cell_type": "code",
   "execution_count": 7,
   "metadata": {},
   "outputs": [],
   "source": [
    "df.dropna(inplace=True)\n",
    "df.drop_duplicates(inplace=True)"
   ]
  },
  {
   "cell_type": "code",
   "execution_count": 8,
   "metadata": {},
   "outputs": [],
   "source": [
    "df = df.reset_index(drop=True)\n",
    "df[\"coordinates\"] = range(len(df))"
   ]
  },
  {
   "cell_type": "code",
   "execution_count": 9,
   "metadata": {},
   "outputs": [],
   "source": [
    "df[\"coordinates\"] = [[df[\"Longitude\"][i], df[\"Latitude\"][i]] for i in range(len(df))]\n",
    "distance = []\n",
    "coordinates = []\n",
    "d = df[\"coordinates\"]\n",
    "dis = []"
   ]
  },
  {
   "cell_type": "code",
   "execution_count": 75,
   "metadata": {
    "tags": []
   },
   "outputs": [
    {
     "name": "stdout",
     "output_type": "stream",
     "text": [
      "0\n",
      "1\n",
      "2\n",
      "3\n",
      "4\n",
      "5\n",
      "6\n",
      "7\n",
      "8\n",
      "9\n",
      "10\n",
      "11\n",
      "12\n",
      "13\n",
      "14\n",
      "15\n",
      "16\n",
      "17\n",
      "18\n",
      "19\n",
      "20\n",
      "21\n",
      "22\n",
      "23\n",
      "24\n",
      "25\n",
      "26\n",
      "27\n",
      "28\n",
      "29\n",
      "30\n",
      "31\n",
      "32\n",
      "33\n",
      "34\n",
      "35\n",
      "36\n",
      "37\n",
      "38\n",
      "39\n",
      "40\n",
      "41\n",
      "42\n",
      "43\n",
      "44\n",
      "45\n",
      "10201.7\n"
     ]
    }
   ],
   "source": [
    "for i in range(28, 29):\n",
    "    coor = a[i]\n",
    "    distance = []\n",
    "    client = ors.Client(key='5b3ce3597851110001cf62489d78244f47534f2fa5776b3084165e6e')\n",
    "    for i in range(len(df)):\n",
    "        coordinates = [coor, d[i]]\n",
    "        route = client.directions(\n",
    "            coordinates=coordinates,\n",
    "            profile='driving-car',\n",
    "            format='geojson',\n",
    "            validate=False,\n",
    "            radiuses=-1\n",
    "        )\n",
    "        print(i)\n",
    "        distance.append(route['features'][0]['properties']['segments'][0]['distance'])\n",
    "    dis.append(min(distance))\n",
    "    print(min(distance))"
   ]
  },
  {
   "cell_type": "code",
   "execution_count": 76,
   "metadata": {},
   "outputs": [
    {
     "data": {
      "text/plain": [
       "29"
      ]
     },
     "execution_count": 76,
     "metadata": {},
     "output_type": "execute_result"
    }
   ],
   "source": [
    "len(dis)"
   ]
  },
  {
   "cell_type": "code",
   "execution_count": 78,
   "metadata": {},
   "outputs": [
    {
     "data": {
      "text/plain": [
       "[8137.6,\n",
       " 2985.3,\n",
       " 4644.8,\n",
       " 8801.2,\n",
       " 7600.5,\n",
       " 2004.8,\n",
       " 8137.6,\n",
       " 7823.1,\n",
       " 8137.6,\n",
       " 9149.8,\n",
       " 9582.7,\n",
       " 7642.3,\n",
       " 8922.0,\n",
       " 10934.5,\n",
       " 7423.9,\n",
       " 7642.3,\n",
       " 6795.0,\n",
       " 5831.5,\n",
       " 6733.7,\n",
       " 5304.8,\n",
       " 9149.8,\n",
       " 5506.1,\n",
       " 3724.0,\n",
       " 11174.5,\n",
       " 8490.3,\n",
       " 9582.7,\n",
       " 8922.0,\n",
       " 8922.0,\n",
       " 10201.7]"
      ]
     },
     "execution_count": 78,
     "metadata": {},
     "output_type": "execute_result"
    }
   ],
   "source": [
    "dis"
   ]
  },
  {
   "cell_type": "code",
   "execution_count": null,
   "metadata": {},
   "outputs": [],
   "source": []
  }
 ],
 "metadata": {
  "kernelspec": {
   "display_name": "Python 3 (ipykernel)",
   "language": "python",
   "name": "python3"
  },
  "language_info": {
   "codemirror_mode": {
    "name": "ipython",
    "version": 3
   },
   "file_extension": ".py",
   "mimetype": "text/x-python",
   "name": "python",
   "nbconvert_exporter": "python",
   "pygments_lexer": "ipython3",
   "version": "3.9.7"
  }
 },
 "nbformat": 4,
 "nbformat_minor": 4
}
