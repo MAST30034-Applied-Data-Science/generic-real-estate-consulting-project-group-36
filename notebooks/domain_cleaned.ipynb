{
 "cells": [
  {
   "cell_type": "code",
   "execution_count": 11,
   "id": "d197d8fe-f1d7-4bfa-b149-44563c2c1e6f",
   "metadata": {},
   "outputs": [],
   "source": [
    "import pandas as pd\n",
    "  \n",
    "df_apa = pd.DataFrame(pd.read_csv(\"domain_apartment.csv\"))\n",
    "df_hou = pd.DataFrame(pd.read_csv(\"domain_house.csv\"))\n"
   ]
  },
  {
   "cell_type": "code",
   "execution_count": 12,
   "id": "3ad69a97-53a9-4dda-9404-2400f5e57e96",
   "metadata": {},
   "outputs": [],
   "source": [
    "# Removal of parking rental\n",
    "df_apa = df_apa[(df_apa['beds'] != 0) & (df_apa['baths'] != 0)]\n",
    "df_hou = df_hou[(df_hou['beds'] != 0) & (df_hou['baths'] != 0)]"
   ]
  },
  {
   "cell_type": "code",
   "execution_count": 13,
   "id": "892c8c5a-1fbf-4e77-b75e-0b0e113c9edf",
   "metadata": {},
   "outputs": [],
   "source": [
    "# remove comma in price\n",
    "df_apa[\"price\"] = [df_apa[\"price\"][i].replace(',', '') for i in range(len(df_apa))]\n",
    "df_hou[\"price\"] = [df_hou[\"price\"][i].replace(',', '') for i in range(len(df_hou))]"
   ]
  },
  {
   "cell_type": "code",
   "execution_count": 14,
   "id": "3dca2a56-404d-441e-a898-59edd81f7271",
   "metadata": {},
   "outputs": [],
   "source": [
    "# find the pw price\n",
    "df_apa[\"price\"] = df_apa.price.astype(str).str.slice(1,6)\n",
    "df_hou[\"price\"] = df_hou.price.astype(str).str.slice(1,6)"
   ]
  },
  {
   "cell_type": "code",
   "execution_count": 15,
   "id": "f1d65669-6eda-4060-81e9-602cefb25b8d",
   "metadata": {},
   "outputs": [],
   "source": [
    "# Only keep the digits\n",
    "df_apa[\"price\"] = df_apa[\"price\"].str.extract('(\\d+)')\n",
    "df_hou[\"price\"] = df_hou[\"price\"].str.extract('(\\d+)')"
   ]
  },
  {
   "cell_type": "code",
   "execution_count": 16,
   "id": "fc982269-04fc-46f0-a7a3-152cf67eb2e0",
   "metadata": {},
   "outputs": [],
   "source": [
    "# remove other types\n",
    "apartment = df_apa.query('propertyTypeFormatted==[\"Apartment / Unit / Flat\"]')\n",
    "house = df_hou.query('propertyTypeFormatted==[\"House\"]')\n"
   ]
  },
  {
   "cell_type": "code",
   "execution_count": 17,
   "id": "69e4c579-e1de-4fd5-8ada-522f950fe44c",
   "metadata": {},
   "outputs": [],
   "source": [
    "# remove missing values\n",
    "cleaned_apa = apartment.dropna()\n",
    "cleaned_hou = house.dropna()"
   ]
  },
  {
   "cell_type": "code",
   "execution_count": 18,
   "id": "cf31d227-ff62-4d05-a68a-2edba157b8b5",
   "metadata": {},
   "outputs": [],
   "source": [
    "# save \n",
    "cleaned_apa.to_csv('apartment.csv', index=False)\n",
    "cleaned_hou.to_csv('house.csv', index=False)"
   ]
  },
  {
   "cell_type": "code",
   "execution_count": null,
   "id": "24f2806d-4b0d-461b-944e-622dfef177c3",
   "metadata": {},
   "outputs": [],
   "source": []
  },
  {
   "cell_type": "code",
   "execution_count": null,
   "id": "1b9e9116-1809-469d-95a8-411d4a577e37",
   "metadata": {},
   "outputs": [],
   "source": []
  }
 ],
 "metadata": {
  "kernelspec": {
   "display_name": "Python 3 (ipykernel)",
   "language": "python",
   "name": "python3"
  },
  "language_info": {
   "codemirror_mode": {
    "name": "ipython",
    "version": 3
   },
   "file_extension": ".py",
   "mimetype": "text/x-python",
   "name": "python",
   "nbconvert_exporter": "python",
   "pygments_lexer": "ipython3",
   "version": "3.8.13"
  }
 },
 "nbformat": 4,
 "nbformat_minor": 5
}
