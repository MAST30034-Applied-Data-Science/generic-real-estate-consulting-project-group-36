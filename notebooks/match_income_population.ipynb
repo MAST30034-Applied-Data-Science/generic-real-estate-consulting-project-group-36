{
 "cells": [
  {
   "cell_type": "code",
   "execution_count": 1,
   "metadata": {
    "tags": []
   },
   "outputs": [],
   "source": [
    "import pandas as pd\n",
    "from pandas import Series,DataFrame"
   ]
  },
  {
   "cell_type": "code",
   "execution_count": 2,
   "metadata": {
    "collapsed": false,
    "jupyter": {
     "outputs_hidden": false
    },
    "pycharm": {
     "name": "#%%\n"
    }
   },
   "outputs": [],
   "source": [
    "# read datafiles\n",
    "dfapart = pd.read_csv(\"../data/curated/apartment_facilities.csv\")\n",
    "dfhouse = pd.read_csv('../data/curated/house_facilities.csv')\n",
    "income = pd.read_csv('../data/curated/income_person.csv')"
   ]
  },
  {
   "cell_type": "code",
   "execution_count": 3,
   "metadata": {
    "tags": []
   },
   "outputs": [],
   "source": [
    "population = pd.read_csv(\"../data/raw/population_2021.csv\")\n",
    "population = population.rename(columns={'sa2_name_2016':'suburb'})\n",
    "income = income.rename(columns={'SA2 NAME':'suburb', '2014-15':'2014income', \\\n",
    "                                '2015-16':'2015income', '2016-17':'2016income', \\\n",
    "                                '2017-18':'2017income', '2018-19':'2018income'})\n",
    "income['suburb'] = income['suburb'].str.upper()\n",
    "population['suburb'] = population['suburb'].str.upper()"
   ]
  },
  {
   "cell_type": "code",
   "execution_count": 4,
   "metadata": {},
   "outputs": [
    {
     "ename": "FileNotFoundError",
     "evalue": "[Errno 2] No such file or directory: '../data/raw/Suburb_Unit_price.csv'",
     "output_type": "error",
     "traceback": [
      "\u001b[0;31m---------------------------------------------------------------------------\u001b[0m",
      "\u001b[0;31mFileNotFoundError\u001b[0m                         Traceback (most recent call last)",
      "\u001b[0;32m/var/folders/cl/q32rv40s0rvd64wt83gbgf2m0000gn/T/ipykernel_1916/163067516.py\u001b[0m in \u001b[0;36m<module>\u001b[0;34m\u001b[0m\n\u001b[0;32m----> 1\u001b[0;31m \u001b[0mhouseprice\u001b[0m \u001b[0;34m=\u001b[0m \u001b[0mpd\u001b[0m\u001b[0;34m.\u001b[0m\u001b[0mread_csv\u001b[0m\u001b[0;34m(\u001b[0m\u001b[0;34m'../data/raw/Suburb_Unit_price.csv'\u001b[0m\u001b[0;34m)\u001b[0m\u001b[0;34m\u001b[0m\u001b[0;34m\u001b[0m\u001b[0m\n\u001b[0m\u001b[1;32m      2\u001b[0m \u001b[0mhouseprice\u001b[0m \u001b[0;34m=\u001b[0m \u001b[0mhouseprice\u001b[0m\u001b[0;34m.\u001b[0m\u001b[0mrename\u001b[0m\u001b[0;34m(\u001b[0m\u001b[0mcolumns\u001b[0m\u001b[0;34m=\u001b[0m\u001b[0;34m{\u001b[0m\u001b[0;34m'Unnamed: 0'\u001b[0m\u001b[0;34m:\u001b[0m\u001b[0;34m'suburb'\u001b[0m\u001b[0;34m}\u001b[0m\u001b[0;34m)\u001b[0m\u001b[0;34m\u001b[0m\u001b[0;34m\u001b[0m\u001b[0m\n",
      "\u001b[0;32m/opt/anaconda3/lib/python3.9/site-packages/pandas/util/_decorators.py\u001b[0m in \u001b[0;36mwrapper\u001b[0;34m(*args, **kwargs)\u001b[0m\n\u001b[1;32m    309\u001b[0m                     \u001b[0mstacklevel\u001b[0m\u001b[0;34m=\u001b[0m\u001b[0mstacklevel\u001b[0m\u001b[0;34m,\u001b[0m\u001b[0;34m\u001b[0m\u001b[0;34m\u001b[0m\u001b[0m\n\u001b[1;32m    310\u001b[0m                 )\n\u001b[0;32m--> 311\u001b[0;31m             \u001b[0;32mreturn\u001b[0m \u001b[0mfunc\u001b[0m\u001b[0;34m(\u001b[0m\u001b[0;34m*\u001b[0m\u001b[0margs\u001b[0m\u001b[0;34m,\u001b[0m \u001b[0;34m**\u001b[0m\u001b[0mkwargs\u001b[0m\u001b[0;34m)\u001b[0m\u001b[0;34m\u001b[0m\u001b[0;34m\u001b[0m\u001b[0m\n\u001b[0m\u001b[1;32m    312\u001b[0m \u001b[0;34m\u001b[0m\u001b[0m\n\u001b[1;32m    313\u001b[0m         \u001b[0;32mreturn\u001b[0m \u001b[0mwrapper\u001b[0m\u001b[0;34m\u001b[0m\u001b[0;34m\u001b[0m\u001b[0m\n",
      "\u001b[0;32m/opt/anaconda3/lib/python3.9/site-packages/pandas/io/parsers/readers.py\u001b[0m in \u001b[0;36mread_csv\u001b[0;34m(filepath_or_buffer, sep, delimiter, header, names, index_col, usecols, squeeze, prefix, mangle_dupe_cols, dtype, engine, converters, true_values, false_values, skipinitialspace, skiprows, skipfooter, nrows, na_values, keep_default_na, na_filter, verbose, skip_blank_lines, parse_dates, infer_datetime_format, keep_date_col, date_parser, dayfirst, cache_dates, iterator, chunksize, compression, thousands, decimal, lineterminator, quotechar, quoting, doublequote, escapechar, comment, encoding, encoding_errors, dialect, error_bad_lines, warn_bad_lines, on_bad_lines, delim_whitespace, low_memory, memory_map, float_precision, storage_options)\u001b[0m\n\u001b[1;32m    584\u001b[0m     \u001b[0mkwds\u001b[0m\u001b[0;34m.\u001b[0m\u001b[0mupdate\u001b[0m\u001b[0;34m(\u001b[0m\u001b[0mkwds_defaults\u001b[0m\u001b[0;34m)\u001b[0m\u001b[0;34m\u001b[0m\u001b[0;34m\u001b[0m\u001b[0m\n\u001b[1;32m    585\u001b[0m \u001b[0;34m\u001b[0m\u001b[0m\n\u001b[0;32m--> 586\u001b[0;31m     \u001b[0;32mreturn\u001b[0m \u001b[0m_read\u001b[0m\u001b[0;34m(\u001b[0m\u001b[0mfilepath_or_buffer\u001b[0m\u001b[0;34m,\u001b[0m \u001b[0mkwds\u001b[0m\u001b[0;34m)\u001b[0m\u001b[0;34m\u001b[0m\u001b[0;34m\u001b[0m\u001b[0m\n\u001b[0m\u001b[1;32m    587\u001b[0m \u001b[0;34m\u001b[0m\u001b[0m\n\u001b[1;32m    588\u001b[0m \u001b[0;34m\u001b[0m\u001b[0m\n",
      "\u001b[0;32m/opt/anaconda3/lib/python3.9/site-packages/pandas/io/parsers/readers.py\u001b[0m in \u001b[0;36m_read\u001b[0;34m(filepath_or_buffer, kwds)\u001b[0m\n\u001b[1;32m    480\u001b[0m \u001b[0;34m\u001b[0m\u001b[0m\n\u001b[1;32m    481\u001b[0m     \u001b[0;31m# Create the parser.\u001b[0m\u001b[0;34m\u001b[0m\u001b[0;34m\u001b[0m\u001b[0m\n\u001b[0;32m--> 482\u001b[0;31m     \u001b[0mparser\u001b[0m \u001b[0;34m=\u001b[0m \u001b[0mTextFileReader\u001b[0m\u001b[0;34m(\u001b[0m\u001b[0mfilepath_or_buffer\u001b[0m\u001b[0;34m,\u001b[0m \u001b[0;34m**\u001b[0m\u001b[0mkwds\u001b[0m\u001b[0;34m)\u001b[0m\u001b[0;34m\u001b[0m\u001b[0;34m\u001b[0m\u001b[0m\n\u001b[0m\u001b[1;32m    483\u001b[0m \u001b[0;34m\u001b[0m\u001b[0m\n\u001b[1;32m    484\u001b[0m     \u001b[0;32mif\u001b[0m \u001b[0mchunksize\u001b[0m \u001b[0;32mor\u001b[0m \u001b[0miterator\u001b[0m\u001b[0;34m:\u001b[0m\u001b[0;34m\u001b[0m\u001b[0;34m\u001b[0m\u001b[0m\n",
      "\u001b[0;32m/opt/anaconda3/lib/python3.9/site-packages/pandas/io/parsers/readers.py\u001b[0m in \u001b[0;36m__init__\u001b[0;34m(self, f, engine, **kwds)\u001b[0m\n\u001b[1;32m    809\u001b[0m             \u001b[0mself\u001b[0m\u001b[0;34m.\u001b[0m\u001b[0moptions\u001b[0m\u001b[0;34m[\u001b[0m\u001b[0;34m\"has_index_names\"\u001b[0m\u001b[0;34m]\u001b[0m \u001b[0;34m=\u001b[0m \u001b[0mkwds\u001b[0m\u001b[0;34m[\u001b[0m\u001b[0;34m\"has_index_names\"\u001b[0m\u001b[0;34m]\u001b[0m\u001b[0;34m\u001b[0m\u001b[0;34m\u001b[0m\u001b[0m\n\u001b[1;32m    810\u001b[0m \u001b[0;34m\u001b[0m\u001b[0m\n\u001b[0;32m--> 811\u001b[0;31m         \u001b[0mself\u001b[0m\u001b[0;34m.\u001b[0m\u001b[0m_engine\u001b[0m \u001b[0;34m=\u001b[0m \u001b[0mself\u001b[0m\u001b[0;34m.\u001b[0m\u001b[0m_make_engine\u001b[0m\u001b[0;34m(\u001b[0m\u001b[0mself\u001b[0m\u001b[0;34m.\u001b[0m\u001b[0mengine\u001b[0m\u001b[0;34m)\u001b[0m\u001b[0;34m\u001b[0m\u001b[0;34m\u001b[0m\u001b[0m\n\u001b[0m\u001b[1;32m    812\u001b[0m \u001b[0;34m\u001b[0m\u001b[0m\n\u001b[1;32m    813\u001b[0m     \u001b[0;32mdef\u001b[0m \u001b[0mclose\u001b[0m\u001b[0;34m(\u001b[0m\u001b[0mself\u001b[0m\u001b[0;34m)\u001b[0m\u001b[0;34m:\u001b[0m\u001b[0;34m\u001b[0m\u001b[0;34m\u001b[0m\u001b[0m\n",
      "\u001b[0;32m/opt/anaconda3/lib/python3.9/site-packages/pandas/io/parsers/readers.py\u001b[0m in \u001b[0;36m_make_engine\u001b[0;34m(self, engine)\u001b[0m\n\u001b[1;32m   1038\u001b[0m             )\n\u001b[1;32m   1039\u001b[0m         \u001b[0;31m# error: Too many arguments for \"ParserBase\"\u001b[0m\u001b[0;34m\u001b[0m\u001b[0;34m\u001b[0m\u001b[0m\n\u001b[0;32m-> 1040\u001b[0;31m         \u001b[0;32mreturn\u001b[0m \u001b[0mmapping\u001b[0m\u001b[0;34m[\u001b[0m\u001b[0mengine\u001b[0m\u001b[0;34m]\u001b[0m\u001b[0;34m(\u001b[0m\u001b[0mself\u001b[0m\u001b[0;34m.\u001b[0m\u001b[0mf\u001b[0m\u001b[0;34m,\u001b[0m \u001b[0;34m**\u001b[0m\u001b[0mself\u001b[0m\u001b[0;34m.\u001b[0m\u001b[0moptions\u001b[0m\u001b[0;34m)\u001b[0m  \u001b[0;31m# type: ignore[call-arg]\u001b[0m\u001b[0;34m\u001b[0m\u001b[0;34m\u001b[0m\u001b[0m\n\u001b[0m\u001b[1;32m   1041\u001b[0m \u001b[0;34m\u001b[0m\u001b[0m\n\u001b[1;32m   1042\u001b[0m     \u001b[0;32mdef\u001b[0m \u001b[0m_failover_to_python\u001b[0m\u001b[0;34m(\u001b[0m\u001b[0mself\u001b[0m\u001b[0;34m)\u001b[0m\u001b[0;34m:\u001b[0m\u001b[0;34m\u001b[0m\u001b[0;34m\u001b[0m\u001b[0m\n",
      "\u001b[0;32m/opt/anaconda3/lib/python3.9/site-packages/pandas/io/parsers/c_parser_wrapper.py\u001b[0m in \u001b[0;36m__init__\u001b[0;34m(self, src, **kwds)\u001b[0m\n\u001b[1;32m     49\u001b[0m \u001b[0;34m\u001b[0m\u001b[0m\n\u001b[1;32m     50\u001b[0m         \u001b[0;31m# open handles\u001b[0m\u001b[0;34m\u001b[0m\u001b[0;34m\u001b[0m\u001b[0m\n\u001b[0;32m---> 51\u001b[0;31m         \u001b[0mself\u001b[0m\u001b[0;34m.\u001b[0m\u001b[0m_open_handles\u001b[0m\u001b[0;34m(\u001b[0m\u001b[0msrc\u001b[0m\u001b[0;34m,\u001b[0m \u001b[0mkwds\u001b[0m\u001b[0;34m)\u001b[0m\u001b[0;34m\u001b[0m\u001b[0;34m\u001b[0m\u001b[0m\n\u001b[0m\u001b[1;32m     52\u001b[0m         \u001b[0;32massert\u001b[0m \u001b[0mself\u001b[0m\u001b[0;34m.\u001b[0m\u001b[0mhandles\u001b[0m \u001b[0;32mis\u001b[0m \u001b[0;32mnot\u001b[0m \u001b[0;32mNone\u001b[0m\u001b[0;34m\u001b[0m\u001b[0;34m\u001b[0m\u001b[0m\n\u001b[1;32m     53\u001b[0m \u001b[0;34m\u001b[0m\u001b[0m\n",
      "\u001b[0;32m/opt/anaconda3/lib/python3.9/site-packages/pandas/io/parsers/base_parser.py\u001b[0m in \u001b[0;36m_open_handles\u001b[0;34m(self, src, kwds)\u001b[0m\n\u001b[1;32m    220\u001b[0m         \u001b[0mLet\u001b[0m \u001b[0mthe\u001b[0m \u001b[0mreaders\u001b[0m \u001b[0mopen\u001b[0m \u001b[0mIOHandles\u001b[0m \u001b[0mafter\u001b[0m \u001b[0mthey\u001b[0m \u001b[0mare\u001b[0m \u001b[0mdone\u001b[0m \u001b[0;32mwith\u001b[0m \u001b[0mtheir\u001b[0m \u001b[0mpotential\u001b[0m \u001b[0mraises\u001b[0m\u001b[0;34m.\u001b[0m\u001b[0;34m\u001b[0m\u001b[0;34m\u001b[0m\u001b[0m\n\u001b[1;32m    221\u001b[0m         \"\"\"\n\u001b[0;32m--> 222\u001b[0;31m         self.handles = get_handle(\n\u001b[0m\u001b[1;32m    223\u001b[0m             \u001b[0msrc\u001b[0m\u001b[0;34m,\u001b[0m\u001b[0;34m\u001b[0m\u001b[0;34m\u001b[0m\u001b[0m\n\u001b[1;32m    224\u001b[0m             \u001b[0;34m\"r\"\u001b[0m\u001b[0;34m,\u001b[0m\u001b[0;34m\u001b[0m\u001b[0;34m\u001b[0m\u001b[0m\n",
      "\u001b[0;32m/opt/anaconda3/lib/python3.9/site-packages/pandas/io/common.py\u001b[0m in \u001b[0;36mget_handle\u001b[0;34m(path_or_buf, mode, encoding, compression, memory_map, is_text, errors, storage_options)\u001b[0m\n\u001b[1;32m    700\u001b[0m         \u001b[0;32mif\u001b[0m \u001b[0mioargs\u001b[0m\u001b[0;34m.\u001b[0m\u001b[0mencoding\u001b[0m \u001b[0;32mand\u001b[0m \u001b[0;34m\"b\"\u001b[0m \u001b[0;32mnot\u001b[0m \u001b[0;32min\u001b[0m \u001b[0mioargs\u001b[0m\u001b[0;34m.\u001b[0m\u001b[0mmode\u001b[0m\u001b[0;34m:\u001b[0m\u001b[0;34m\u001b[0m\u001b[0;34m\u001b[0m\u001b[0m\n\u001b[1;32m    701\u001b[0m             \u001b[0;31m# Encoding\u001b[0m\u001b[0;34m\u001b[0m\u001b[0;34m\u001b[0m\u001b[0m\n\u001b[0;32m--> 702\u001b[0;31m             handle = open(\n\u001b[0m\u001b[1;32m    703\u001b[0m                 \u001b[0mhandle\u001b[0m\u001b[0;34m,\u001b[0m\u001b[0;34m\u001b[0m\u001b[0;34m\u001b[0m\u001b[0m\n\u001b[1;32m    704\u001b[0m                 \u001b[0mioargs\u001b[0m\u001b[0;34m.\u001b[0m\u001b[0mmode\u001b[0m\u001b[0;34m,\u001b[0m\u001b[0;34m\u001b[0m\u001b[0;34m\u001b[0m\u001b[0m\n",
      "\u001b[0;31mFileNotFoundError\u001b[0m: [Errno 2] No such file or directory: '../data/raw/Suburb_Unit_price.csv'"
     ]
    }
   ],
   "source": [
    "houseprice = pd.read_csv('../data/raw/Suburb_Unit_price.csv')\n",
    "houseprice = houseprice.rename(columns={'Unnamed: 0':'suburb'})"
   ]
  },
  {
   "cell_type": "code",
   "execution_count": 11,
   "metadata": {
    "tags": []
   },
   "outputs": [],
   "source": [
    "price20 = houseprice.loc[:, [\"suburb\", \"prelim 2020\"]]"
   ]
  },
  {
   "cell_type": "code",
   "execution_count": 5,
   "metadata": {},
   "outputs": [],
   "source": [
    "# separate years\n",
    "pop16 = population.loc[:,['suburb', 'erp_2016', 'natural_increase_2016_17', \\\n",
    "                       'net_internal_migration_2016_17', 'net_overseas_migration_2016_17']]\n",
    "pop17 = population.loc[:,['suburb', 'erp_2017', 'natural_increase_2017_18', \\\n",
    "                       'net_internal_migration_2017_18', 'net_overseas_migration_2017_18']]\n",
    "pop18 = population.loc[:,['suburb', 'erp_2018', 'natural_increase_2018_19', \\\n",
    "                       'net_internal_migration_2018_19', 'net_overseas_migration_2018_19']]\n",
    "pop19 = population.loc[:,['suburb', 'erp_2019', 'natural_increase_2019_20', \\\n",
    "                       'net_internal_migration_2019_20', 'net_overseas_migration_2019_20']]\n",
    "pop20 = population.loc[:,['suburb', 'erp_2020', 'natural_increase_2020_21', \\\n",
    "                       'net_internal_migration_2020_21', 'net_overseas_migration_2020_21']]"
   ]
  },
  {
   "cell_type": "code",
   "execution_count": 6,
   "metadata": {
    "pycharm": {
     "name": "#%% extract the suburb from whole address, form a new column. prepare for matching\n"
    },
    "tags": []
   },
   "outputs": [],
   "source": [
    "# find the suburb of each address\n",
    "dfapart[\"suburb\"] = dfapart[\"address\"].str.extract(\"(.+?)\\d\")\n",
    "dfapart[\"suburb\"] = dfapart[\"suburb\"].str.strip().str.upper()\n",
    "\n",
    "dfhouse[\"suburb\"] = dfhouse[\"address\"].str.extract(\"(.+?)\\d\")\n",
    "dfhouse[\"suburb\"] = dfhouse[\"suburb\"].str.strip().str.upper()\n",
    "\n",
    "apa = dfapart.loc[:,[\"price\", \"suburb\", \"beds\", \"baths\", \\\n",
    "                 \"parking\", \"latitudes\", \"longitudes\", \\\n",
    "                 \"school\", \"train_station\", \"fitness_gym\", \\\n",
    "                 \"hospital\", \"shopping_center\", \"park\"]]\n",
    "house = dfhouse.loc[:,[\"price\", \"suburb\", \"beds\", \"baths\", \\\n",
    "                 \"parking\", \"latitudes\", \"longitudes\", \\\n",
    "                 \"school\", \"train_station\", \"fitness_gym\", \\\n",
    "                 \"hospital\", \"shopping_center\", \"park\"]]"
   ]
  },
  {
   "cell_type": "code",
   "execution_count": 7,
   "metadata": {},
   "outputs": [],
   "source": [
    "house[\"suburb\"] = house[\"suburb\"].apply(str)\n",
    "apa[\"suburb\"] = apa[\"suburb\"].apply(str)"
   ]
  },
  {
   "cell_type": "code",
   "execution_count": 8,
   "metadata": {
    "tags": []
   },
   "outputs": [],
   "source": [
    "# list SA2 names\n",
    "sub = population[\"suburb\"]\n",
    "sub = sub.dropna(how =\"any\")\n",
    "sub = sub.str.upper().to_list()"
   ]
  },
  {
   "cell_type": "code",
   "execution_count": 9,
   "metadata": {
    "tags": []
   },
   "outputs": [
    {
     "name": "stderr",
     "output_type": "stream",
     "text": [
      "/var/folders/cl/q32rv40s0rvd64wt83gbgf2m0000gn/T/ipykernel_1916/2992223561.py:6: SettingWithCopyWarning: \n",
      "A value is trying to be set on a copy of a slice from a DataFrame\n",
      "\n",
      "See the caveats in the documentation: https://pandas.pydata.org/pandas-docs/stable/user_guide/indexing.html#returning-a-view-versus-a-copy\n",
      "  house[\"suburb\"][i] = s\n",
      "/var/folders/cl/q32rv40s0rvd64wt83gbgf2m0000gn/T/ipykernel_1916/2992223561.py:10: SettingWithCopyWarning: \n",
      "A value is trying to be set on a copy of a slice from a DataFrame\n",
      "\n",
      "See the caveats in the documentation: https://pandas.pydata.org/pandas-docs/stable/user_guide/indexing.html#returning-a-view-versus-a-copy\n",
      "  house[\"suburb\"][i] = house[\"suburb\"][i][0]\n",
      "/var/folders/cl/q32rv40s0rvd64wt83gbgf2m0000gn/T/ipykernel_1916/2992223561.py:8: SettingWithCopyWarning: \n",
      "A value is trying to be set on a copy of a slice from a DataFrame\n",
      "\n",
      "See the caveats in the documentation: https://pandas.pydata.org/pandas-docs/stable/user_guide/indexing.html#returning-a-view-versus-a-copy\n",
      "  house[\"suburb\"][i] = ''\n"
     ]
    }
   ],
   "source": [
    "# match the corresponding area of house\n",
    "from difflib import get_close_matches\n",
    "for i in range(len(house)):\n",
    "    area = house[\"suburb\"][i]\n",
    "    s = get_close_matches(area, sub, n=1)\n",
    "    house[\"suburb\"][i] = s\n",
    "    if len(house[\"suburb\"][i])==0:\n",
    "        house[\"suburb\"][i] = ''\n",
    "    else:\n",
    "        house[\"suburb\"][i] = house[\"suburb\"][i][0]    \n",
    "        "
   ]
  },
  {
   "cell_type": "code",
   "execution_count": 10,
   "metadata": {
    "tags": []
   },
   "outputs": [
    {
     "name": "stderr",
     "output_type": "stream",
     "text": [
      "/var/folders/cl/q32rv40s0rvd64wt83gbgf2m0000gn/T/ipykernel_1916/2133456505.py:5: SettingWithCopyWarning: \n",
      "A value is trying to be set on a copy of a slice from a DataFrame\n",
      "\n",
      "See the caveats in the documentation: https://pandas.pydata.org/pandas-docs/stable/user_guide/indexing.html#returning-a-view-versus-a-copy\n",
      "  apa[\"suburb\"][i] = s\n",
      "/var/folders/cl/q32rv40s0rvd64wt83gbgf2m0000gn/T/ipykernel_1916/2133456505.py:9: SettingWithCopyWarning: \n",
      "A value is trying to be set on a copy of a slice from a DataFrame\n",
      "\n",
      "See the caveats in the documentation: https://pandas.pydata.org/pandas-docs/stable/user_guide/indexing.html#returning-a-view-versus-a-copy\n",
      "  apa[\"suburb\"][i] = apa[\"suburb\"][i][0]\n",
      "/var/folders/cl/q32rv40s0rvd64wt83gbgf2m0000gn/T/ipykernel_1916/2133456505.py:7: SettingWithCopyWarning: \n",
      "A value is trying to be set on a copy of a slice from a DataFrame\n",
      "\n",
      "See the caveats in the documentation: https://pandas.pydata.org/pandas-docs/stable/user_guide/indexing.html#returning-a-view-versus-a-copy\n",
      "  apa[\"suburb\"][i] = ''\n"
     ]
    }
   ],
   "source": [
    "# match the corresponding area of apartment\n",
    "for i in range(len(apa)):\n",
    "    area = apa[\"suburb\"][i]\n",
    "    s = get_close_matches(area, sub, n=1)\n",
    "    apa[\"suburb\"][i] = s\n",
    "    if len(apa[\"suburb\"][i])==0:\n",
    "        apa[\"suburb\"][i] = ''\n",
    "    else:\n",
    "        apa[\"suburb\"][i] = apa[\"suburb\"][i][0]   \n",
    "        "
   ]
  },
  {
   "cell_type": "code",
   "execution_count": 11,
   "metadata": {},
   "outputs": [],
   "source": [
    "# separate years\n",
    "income16 = income.loc[:,[\"suburb\", \"2016income\"]]\n",
    "income17 = income.loc[:,[\"suburb\", \"2017income\"]]\n",
    "income18 = income.loc[:,[\"suburb\", \"2018income\"]]"
   ]
  },
  {
   "cell_type": "code",
   "execution_count": 12,
   "metadata": {
    "tags": []
   },
   "outputs": [
    {
     "data": {
      "text/plain": [
       "836"
      ]
     },
     "execution_count": 12,
     "metadata": {},
     "output_type": "execute_result"
    }
   ],
   "source": [
    "# match domain and population and income\n",
    "matchapart1 = pd.merge(apa,pop16, on = ['suburb'])\n",
    "matchapart2 = pd.merge(matchapart1,income16, on = ['suburb'])\n",
    "len(matchapart2)"
   ]
  },
  {
   "cell_type": "code",
   "execution_count": 13,
   "metadata": {},
   "outputs": [
    {
     "data": {
      "text/plain": [
       "487"
      ]
     },
     "execution_count": 13,
     "metadata": {},
     "output_type": "execute_result"
    }
   ],
   "source": [
    "matchhouse1 = pd.merge(dfhouse,pop16, on = ['suburb'])\n",
    "matchhouse2 = pd.merge(matchhouse1,income16, on = ['suburb'])\n",
    "len(matchhouse2)"
   ]
  },
  {
   "cell_type": "code",
   "execution_count": 14,
   "metadata": {},
   "outputs": [],
   "source": [
    "# keep useful features\n",
    "features = [\"price\", \"suburb\", \"beds\", \"baths\", \\\n",
    "                 \"parking\", \"latitudes\", \"longitudes\", \\\n",
    "                 \"school\", \"train_station\", \"fitness_gym\", \\\n",
    "                 \"hospital\", \"shopping_center\", \"park\", 'erp_2016', 'natural_increase_2016_17',\n",
    "       'net_internal_migration_2016_17', 'net_overseas_migration_2016_17', '2016income']"
   ]
  },
  {
   "cell_type": "code",
   "execution_count": 15,
   "metadata": {
    "collapsed": false,
    "jupyter": {
     "outputs_hidden": false
    },
    "pycharm": {
     "name": "#%%\n"
    }
   },
   "outputs": [],
   "source": [
    "matchhouse2 = matchhouse2.loc[:,features]"
   ]
  },
  {
   "cell_type": "code",
   "execution_count": 16,
   "metadata": {},
   "outputs": [],
   "source": [
    "matchapart2 = matchapart2.loc[:,features]"
   ]
  },
  {
   "cell_type": "code",
   "execution_count": 17,
   "metadata": {
    "collapsed": false,
    "jupyter": {
     "outputs_hidden": false
    },
    "pycharm": {
     "name": "#%%\n"
    }
   },
   "outputs": [],
   "source": [
    "matchapart2.to_csv('../data/curated/match_apartment16.csv')\n",
    "matchhouse2.to_csv('../data/curated/match_house16.csv')"
   ]
  },
  {
   "cell_type": "code",
   "execution_count": 18,
   "metadata": {},
   "outputs": [],
   "source": [
    "pop_list = ['suburb', 'erp_2016', 'erp_2017', 'erp_2018', 'erp_2019', 'erp_2020',\\\n",
    "            'natural_increase_2016_17', 'net_internal_migration_2016_17','net_overseas_migration_2016_17', \\\n",
    "                 'natural_increase_2017_18', 'net_internal_migration_2017_18', 'net_overseas_migration_2017_18',\\\n",
    "       'natural_increase_2018_19', 'net_internal_migration_2018_19', 'net_overseas_migration_2018_19',\\\n",
    "            'natural_increase_2019_20', 'net_internal_migration_2019_20', 'net_overseas_migration_2019_20', \\\n",
    "            'natural_increase_2020_21', 'net_internal_migration_2020_21', 'net_overseas_migration_2020_21', ]\n",
    "population = population.loc[:,pop_list]"
   ]
  },
  {
   "cell_type": "code",
   "execution_count": 19,
   "metadata": {},
   "outputs": [],
   "source": [
    "population.to_csv('../data/curated/population16-20.csv')"
   ]
  },
  {
   "cell_type": "code",
   "execution_count": 20,
   "metadata": {},
   "outputs": [],
   "source": [
    "list_income = [\"suburb\", \"2014income\", \"2015income\", \"2016income\", \"2017income\", \"2018income\"]\n",
    "income = income.loc[:, list_income]"
   ]
  },
  {
   "cell_type": "code",
   "execution_count": 21,
   "metadata": {},
   "outputs": [],
   "source": [
    "income.to_csv(\"../data/curated/income14-18.csv\")"
   ]
  },
  {
   "cell_type": "code",
   "execution_count": 22,
   "metadata": {},
   "outputs": [
    {
     "data": {
      "text/html": [
       "<div>\n",
       "<style scoped>\n",
       "    .dataframe tbody tr th:only-of-type {\n",
       "        vertical-align: middle;\n",
       "    }\n",
       "\n",
       "    .dataframe tbody tr th {\n",
       "        vertical-align: top;\n",
       "    }\n",
       "\n",
       "    .dataframe thead th {\n",
       "        text-align: right;\n",
       "    }\n",
       "</style>\n",
       "<table border=\"1\" class=\"dataframe\">\n",
       "  <thead>\n",
       "    <tr style=\"text-align: right;\">\n",
       "      <th></th>\n",
       "      <th>suburb</th>\n",
       "      <th>erp_2016</th>\n",
       "      <th>erp_2017</th>\n",
       "      <th>erp_2018</th>\n",
       "      <th>erp_2019</th>\n",
       "      <th>erp_2020</th>\n",
       "      <th>natural_increase_2016_17</th>\n",
       "      <th>net_internal_migration_2016_17</th>\n",
       "      <th>net_overseas_migration_2016_17</th>\n",
       "      <th>natural_increase_2017_18</th>\n",
       "      <th>...</th>\n",
       "      <th>net_overseas_migration_2017_18</th>\n",
       "      <th>natural_increase_2018_19</th>\n",
       "      <th>net_internal_migration_2018_19</th>\n",
       "      <th>net_overseas_migration_2018_19</th>\n",
       "      <th>natural_increase_2019_20</th>\n",
       "      <th>net_internal_migration_2019_20</th>\n",
       "      <th>net_overseas_migration_2019_20</th>\n",
       "      <th>natural_increase_2020_21</th>\n",
       "      <th>net_internal_migration_2020_21</th>\n",
       "      <th>net_overseas_migration_2020_21</th>\n",
       "    </tr>\n",
       "  </thead>\n",
       "  <tbody>\n",
       "    <tr>\n",
       "      <th>0</th>\n",
       "      <td>GORDON (VIC.)</td>\n",
       "      <td>5761</td>\n",
       "      <td>5824</td>\n",
       "      <td>5899</td>\n",
       "      <td>5999</td>\n",
       "      <td>6075</td>\n",
       "      <td>17.0</td>\n",
       "      <td>39.0</td>\n",
       "      <td>7.0</td>\n",
       "      <td>37.0</td>\n",
       "      <td>...</td>\n",
       "      <td>7.0</td>\n",
       "      <td>24.0</td>\n",
       "      <td>70.0</td>\n",
       "      <td>6.0</td>\n",
       "      <td>8.0</td>\n",
       "      <td>63.0</td>\n",
       "      <td>5.0</td>\n",
       "      <td>23.0</td>\n",
       "      <td>16.0</td>\n",
       "      <td>0.0</td>\n",
       "    </tr>\n",
       "    <tr>\n",
       "      <th>1</th>\n",
       "      <td>AVOCA</td>\n",
       "      <td>3323</td>\n",
       "      <td>3330</td>\n",
       "      <td>3352</td>\n",
       "      <td>3364</td>\n",
       "      <td>3370</td>\n",
       "      <td>3.0</td>\n",
       "      <td>-1.0</td>\n",
       "      <td>5.0</td>\n",
       "      <td>5.0</td>\n",
       "      <td>...</td>\n",
       "      <td>4.0</td>\n",
       "      <td>-1.0</td>\n",
       "      <td>9.0</td>\n",
       "      <td>4.0</td>\n",
       "      <td>-4.0</td>\n",
       "      <td>7.0</td>\n",
       "      <td>3.0</td>\n",
       "      <td>-9.0</td>\n",
       "      <td>49.0</td>\n",
       "      <td>-1.0</td>\n",
       "    </tr>\n",
       "    <tr>\n",
       "      <th>2</th>\n",
       "      <td>BEAUFORT</td>\n",
       "      <td>4454</td>\n",
       "      <td>4485</td>\n",
       "      <td>4450</td>\n",
       "      <td>4547</td>\n",
       "      <td>4615</td>\n",
       "      <td>-17.0</td>\n",
       "      <td>42.0</td>\n",
       "      <td>6.0</td>\n",
       "      <td>0.0</td>\n",
       "      <td>...</td>\n",
       "      <td>6.0</td>\n",
       "      <td>-5.0</td>\n",
       "      <td>96.0</td>\n",
       "      <td>6.0</td>\n",
       "      <td>-12.0</td>\n",
       "      <td>76.0</td>\n",
       "      <td>4.0</td>\n",
       "      <td>-8.0</td>\n",
       "      <td>30.0</td>\n",
       "      <td>0.0</td>\n",
       "    </tr>\n",
       "    <tr>\n",
       "      <th>3</th>\n",
       "      <td>GOLDEN PLAINS - NORTH</td>\n",
       "      <td>4540</td>\n",
       "      <td>4635</td>\n",
       "      <td>4742</td>\n",
       "      <td>4862</td>\n",
       "      <td>4938</td>\n",
       "      <td>24.0</td>\n",
       "      <td>66.0</td>\n",
       "      <td>5.0</td>\n",
       "      <td>32.0</td>\n",
       "      <td>...</td>\n",
       "      <td>5.0</td>\n",
       "      <td>35.0</td>\n",
       "      <td>79.0</td>\n",
       "      <td>6.0</td>\n",
       "      <td>17.0</td>\n",
       "      <td>55.0</td>\n",
       "      <td>4.0</td>\n",
       "      <td>23.0</td>\n",
       "      <td>48.0</td>\n",
       "      <td>-1.0</td>\n",
       "    </tr>\n",
       "    <tr>\n",
       "      <th>4</th>\n",
       "      <td>YACKANDANDAH</td>\n",
       "      <td>4578</td>\n",
       "      <td>4586</td>\n",
       "      <td>4627</td>\n",
       "      <td>4683</td>\n",
       "      <td>4756</td>\n",
       "      <td>12.0</td>\n",
       "      <td>-13.0</td>\n",
       "      <td>9.0</td>\n",
       "      <td>24.0</td>\n",
       "      <td>...</td>\n",
       "      <td>9.0</td>\n",
       "      <td>0.0</td>\n",
       "      <td>48.0</td>\n",
       "      <td>8.0</td>\n",
       "      <td>10.0</td>\n",
       "      <td>55.0</td>\n",
       "      <td>8.0</td>\n",
       "      <td>9.0</td>\n",
       "      <td>63.0</td>\n",
       "      <td>-2.0</td>\n",
       "    </tr>\n",
       "    <tr>\n",
       "      <th>...</th>\n",
       "      <td>...</td>\n",
       "      <td>...</td>\n",
       "      <td>...</td>\n",
       "      <td>...</td>\n",
       "      <td>...</td>\n",
       "      <td>...</td>\n",
       "      <td>...</td>\n",
       "      <td>...</td>\n",
       "      <td>...</td>\n",
       "      <td>...</td>\n",
       "      <td>...</td>\n",
       "      <td>...</td>\n",
       "      <td>...</td>\n",
       "      <td>...</td>\n",
       "      <td>...</td>\n",
       "      <td>...</td>\n",
       "      <td>...</td>\n",
       "      <td>...</td>\n",
       "      <td>...</td>\n",
       "      <td>...</td>\n",
       "      <td>...</td>\n",
       "    </tr>\n",
       "    <tr>\n",
       "      <th>457</th>\n",
       "      <td>SOUTHERN GRAMPIANS</td>\n",
       "      <td>6143</td>\n",
       "      <td>6111</td>\n",
       "      <td>6093</td>\n",
       "      <td>6048</td>\n",
       "      <td>6021</td>\n",
       "      <td>13.0</td>\n",
       "      <td>-63.0</td>\n",
       "      <td>18.0</td>\n",
       "      <td>18.0</td>\n",
       "      <td>...</td>\n",
       "      <td>18.0</td>\n",
       "      <td>8.0</td>\n",
       "      <td>-77.0</td>\n",
       "      <td>24.0</td>\n",
       "      <td>-12.0</td>\n",
       "      <td>-28.0</td>\n",
       "      <td>13.0</td>\n",
       "      <td>-15.0</td>\n",
       "      <td>23.0</td>\n",
       "      <td>-3.0</td>\n",
       "    </tr>\n",
       "    <tr>\n",
       "      <th>458</th>\n",
       "      <td>COLAC</td>\n",
       "      <td>12450</td>\n",
       "      <td>12498</td>\n",
       "      <td>12546</td>\n",
       "      <td>12571</td>\n",
       "      <td>12582</td>\n",
       "      <td>-9.0</td>\n",
       "      <td>13.0</td>\n",
       "      <td>44.0</td>\n",
       "      <td>35.0</td>\n",
       "      <td>...</td>\n",
       "      <td>34.0</td>\n",
       "      <td>9.0</td>\n",
       "      <td>-23.0</td>\n",
       "      <td>39.0</td>\n",
       "      <td>-22.0</td>\n",
       "      <td>7.0</td>\n",
       "      <td>26.0</td>\n",
       "      <td>-16.0</td>\n",
       "      <td>-86.0</td>\n",
       "      <td>-6.0</td>\n",
       "    </tr>\n",
       "    <tr>\n",
       "      <th>459</th>\n",
       "      <td>CAMPERDOWN</td>\n",
       "      <td>3526</td>\n",
       "      <td>3532</td>\n",
       "      <td>3537</td>\n",
       "      <td>3504</td>\n",
       "      <td>3451</td>\n",
       "      <td>-18.0</td>\n",
       "      <td>19.0</td>\n",
       "      <td>5.0</td>\n",
       "      <td>-8.0</td>\n",
       "      <td>...</td>\n",
       "      <td>5.0</td>\n",
       "      <td>-34.0</td>\n",
       "      <td>-5.0</td>\n",
       "      <td>6.0</td>\n",
       "      <td>-16.0</td>\n",
       "      <td>-41.0</td>\n",
       "      <td>4.0</td>\n",
       "      <td>-18.0</td>\n",
       "      <td>-13.0</td>\n",
       "      <td>-1.0</td>\n",
       "    </tr>\n",
       "    <tr>\n",
       "      <th>460</th>\n",
       "      <td>WARRNAMBOOL - NORTH</td>\n",
       "      <td>21442</td>\n",
       "      <td>21693</td>\n",
       "      <td>21976</td>\n",
       "      <td>22229</td>\n",
       "      <td>22487</td>\n",
       "      <td>104.0</td>\n",
       "      <td>-9.0</td>\n",
       "      <td>156.0</td>\n",
       "      <td>84.0</td>\n",
       "      <td>...</td>\n",
       "      <td>158.0</td>\n",
       "      <td>91.0</td>\n",
       "      <td>1.0</td>\n",
       "      <td>161.0</td>\n",
       "      <td>69.0</td>\n",
       "      <td>77.0</td>\n",
       "      <td>112.0</td>\n",
       "      <td>103.0</td>\n",
       "      <td>24.0</td>\n",
       "      <td>-28.0</td>\n",
       "    </tr>\n",
       "    <tr>\n",
       "      <th>461</th>\n",
       "      <td>WARRNAMBOOL - SOUTH</td>\n",
       "      <td>13173</td>\n",
       "      <td>13203</td>\n",
       "      <td>13241</td>\n",
       "      <td>13293</td>\n",
       "      <td>13391</td>\n",
       "      <td>-13.0</td>\n",
       "      <td>-103.0</td>\n",
       "      <td>146.0</td>\n",
       "      <td>-18.0</td>\n",
       "      <td>...</td>\n",
       "      <td>147.0</td>\n",
       "      <td>-17.0</td>\n",
       "      <td>-80.0</td>\n",
       "      <td>149.0</td>\n",
       "      <td>0.0</td>\n",
       "      <td>-6.0</td>\n",
       "      <td>104.0</td>\n",
       "      <td>-25.0</td>\n",
       "      <td>31.0</td>\n",
       "      <td>-26.0</td>\n",
       "    </tr>\n",
       "  </tbody>\n",
       "</table>\n",
       "<p>462 rows × 21 columns</p>\n",
       "</div>"
      ],
      "text/plain": [
       "                    suburb  erp_2016  erp_2017  erp_2018  erp_2019  erp_2020  \\\n",
       "0            GORDON (VIC.)      5761      5824      5899      5999      6075   \n",
       "1                    AVOCA      3323      3330      3352      3364      3370   \n",
       "2                 BEAUFORT      4454      4485      4450      4547      4615   \n",
       "3    GOLDEN PLAINS - NORTH      4540      4635      4742      4862      4938   \n",
       "4             YACKANDANDAH      4578      4586      4627      4683      4756   \n",
       "..                     ...       ...       ...       ...       ...       ...   \n",
       "457     SOUTHERN GRAMPIANS      6143      6111      6093      6048      6021   \n",
       "458                  COLAC     12450     12498     12546     12571     12582   \n",
       "459             CAMPERDOWN      3526      3532      3537      3504      3451   \n",
       "460    WARRNAMBOOL - NORTH     21442     21693     21976     22229     22487   \n",
       "461    WARRNAMBOOL - SOUTH     13173     13203     13241     13293     13391   \n",
       "\n",
       "     natural_increase_2016_17  net_internal_migration_2016_17  \\\n",
       "0                        17.0                            39.0   \n",
       "1                         3.0                            -1.0   \n",
       "2                       -17.0                            42.0   \n",
       "3                        24.0                            66.0   \n",
       "4                        12.0                           -13.0   \n",
       "..                        ...                             ...   \n",
       "457                      13.0                           -63.0   \n",
       "458                      -9.0                            13.0   \n",
       "459                     -18.0                            19.0   \n",
       "460                     104.0                            -9.0   \n",
       "461                     -13.0                          -103.0   \n",
       "\n",
       "     net_overseas_migration_2016_17  natural_increase_2017_18  ...  \\\n",
       "0                               7.0                      37.0  ...   \n",
       "1                               5.0                       5.0  ...   \n",
       "2                               6.0                       0.0  ...   \n",
       "3                               5.0                      32.0  ...   \n",
       "4                               9.0                      24.0  ...   \n",
       "..                              ...                       ...  ...   \n",
       "457                            18.0                      18.0  ...   \n",
       "458                            44.0                      35.0  ...   \n",
       "459                             5.0                      -8.0  ...   \n",
       "460                           156.0                      84.0  ...   \n",
       "461                           146.0                     -18.0  ...   \n",
       "\n",
       "     net_overseas_migration_2017_18  natural_increase_2018_19  \\\n",
       "0                               7.0                      24.0   \n",
       "1                               4.0                      -1.0   \n",
       "2                               6.0                      -5.0   \n",
       "3                               5.0                      35.0   \n",
       "4                               9.0                       0.0   \n",
       "..                              ...                       ...   \n",
       "457                            18.0                       8.0   \n",
       "458                            34.0                       9.0   \n",
       "459                             5.0                     -34.0   \n",
       "460                           158.0                      91.0   \n",
       "461                           147.0                     -17.0   \n",
       "\n",
       "     net_internal_migration_2018_19  net_overseas_migration_2018_19  \\\n",
       "0                              70.0                             6.0   \n",
       "1                               9.0                             4.0   \n",
       "2                              96.0                             6.0   \n",
       "3                              79.0                             6.0   \n",
       "4                              48.0                             8.0   \n",
       "..                              ...                             ...   \n",
       "457                           -77.0                            24.0   \n",
       "458                           -23.0                            39.0   \n",
       "459                            -5.0                             6.0   \n",
       "460                             1.0                           161.0   \n",
       "461                           -80.0                           149.0   \n",
       "\n",
       "     natural_increase_2019_20  net_internal_migration_2019_20  \\\n",
       "0                         8.0                            63.0   \n",
       "1                        -4.0                             7.0   \n",
       "2                       -12.0                            76.0   \n",
       "3                        17.0                            55.0   \n",
       "4                        10.0                            55.0   \n",
       "..                        ...                             ...   \n",
       "457                     -12.0                           -28.0   \n",
       "458                     -22.0                             7.0   \n",
       "459                     -16.0                           -41.0   \n",
       "460                      69.0                            77.0   \n",
       "461                       0.0                            -6.0   \n",
       "\n",
       "     net_overseas_migration_2019_20  natural_increase_2020_21  \\\n",
       "0                               5.0                      23.0   \n",
       "1                               3.0                      -9.0   \n",
       "2                               4.0                      -8.0   \n",
       "3                               4.0                      23.0   \n",
       "4                               8.0                       9.0   \n",
       "..                              ...                       ...   \n",
       "457                            13.0                     -15.0   \n",
       "458                            26.0                     -16.0   \n",
       "459                             4.0                     -18.0   \n",
       "460                           112.0                     103.0   \n",
       "461                           104.0                     -25.0   \n",
       "\n",
       "     net_internal_migration_2020_21  net_overseas_migration_2020_21  \n",
       "0                              16.0                             0.0  \n",
       "1                              49.0                            -1.0  \n",
       "2                              30.0                             0.0  \n",
       "3                              48.0                            -1.0  \n",
       "4                              63.0                            -2.0  \n",
       "..                              ...                             ...  \n",
       "457                            23.0                            -3.0  \n",
       "458                           -86.0                            -6.0  \n",
       "459                           -13.0                            -1.0  \n",
       "460                            24.0                           -28.0  \n",
       "461                            31.0                           -26.0  \n",
       "\n",
       "[462 rows x 21 columns]"
      ]
     },
     "execution_count": 22,
     "metadata": {},
     "output_type": "execute_result"
    }
   ],
   "source": [
    "population"
   ]
  },
  {
   "cell_type": "code",
   "execution_count": null,
   "metadata": {},
   "outputs": [],
   "source": []
  }
 ],
 "metadata": {
  "kernelspec": {
   "display_name": "Python 3 (ipykernel)",
   "language": "python",
   "name": "python3"
  },
  "language_info": {
   "codemirror_mode": {
    "name": "ipython",
    "version": 3
   },
   "file_extension": ".py",
   "mimetype": "text/x-python",
   "name": "python",
   "nbconvert_exporter": "python",
   "pygments_lexer": "ipython3",
   "version": "3.9.7"
  }
 },
 "nbformat": 4,
 "nbformat_minor": 4
}
