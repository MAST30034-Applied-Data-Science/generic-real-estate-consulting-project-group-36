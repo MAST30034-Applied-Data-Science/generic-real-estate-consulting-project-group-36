{
 "cells": [
  {
   "cell_type": "code",
   "execution_count": 17,
   "metadata": {
    "tags": []
   },
   "outputs": [],
   "source": [
    "import pandas as pd\n"
   ]
  },
  {
   "cell_type": "code",
   "execution_count": 18,
   "metadata": {
    "collapsed": false,
    "jupyter": {
     "outputs_hidden": false
    },
    "pycharm": {
     "name": "#%% read facilities csv\n"
    }
   },
   "outputs": [],
   "source": [
    "df = pd.read_csv(\"../data/raw/srv_ifmd_all-facilities.csv\")"
   ]
  },
  {
   "cell_type": "code",
   "execution_count": 30,
   "metadata": {
    "collapsed": false,
    "jupyter": {
     "outputs_hidden": false
    },
    "pycharm": {
     "name": "#%%\n"
    }
   },
   "outputs": [
    {
     "data": {
      "text/html": [
       "<div>\n",
       "<style scoped>\n",
       "    .dataframe tbody tr th:only-of-type {\n",
       "        vertical-align: middle;\n",
       "    }\n",
       "\n",
       "    .dataframe tbody tr th {\n",
       "        vertical-align: top;\n",
       "    }\n",
       "\n",
       "    .dataframe thead th {\n",
       "        text-align: right;\n",
       "    }\n",
       "</style>\n",
       "<table border=\"1\" class=\"dataframe\">\n",
       "  <thead>\n",
       "    <tr style=\"text-align: right;\">\n",
       "      <th></th>\n",
       "      <th>Facility ID</th>\n",
       "      <th>Facility Name</th>\n",
       "      <th>Street Name</th>\n",
       "      <th>Suburb/Town</th>\n",
       "      <th>Pcode</th>\n",
       "      <th>Latitude</th>\n",
       "      <th>Longitude</th>\n",
       "      <th>Field/Surface Type</th>\n",
       "      <th>FullAddress</th>\n",
       "      <th>MelwaysVicRoadsRef</th>\n",
       "    </tr>\n",
       "  </thead>\n",
       "  <tbody>\n",
       "    <tr>\n",
       "      <th>0</th>\n",
       "      <td>MITCHE3674</td>\n",
       "      <td>Vermont South Club</td>\n",
       "      <td>Coronation</td>\n",
       "      <td>BRIGHT</td>\n",
       "      <td>3741.0</td>\n",
       "      <td>-37.851683</td>\n",
       "      <td>145.180228</td>\n",
       "      <td>NaN</td>\n",
       "      <td>Coronation Avenue, BRIGHT 3741</td>\n",
       "      <td>661 P4</td>\n",
       "    </tr>\n",
       "    <tr>\n",
       "      <th>1</th>\n",
       "      <td>MITCHE3674</td>\n",
       "      <td>Vermont South Club</td>\n",
       "      <td>Coronation</td>\n",
       "      <td>BRIGHT</td>\n",
       "      <td>3741.0</td>\n",
       "      <td>-37.851683</td>\n",
       "      <td>145.180228</td>\n",
       "      <td>Grass</td>\n",
       "      <td>Coronation Avenue, BRIGHT 3741</td>\n",
       "      <td>661 P4</td>\n",
       "    </tr>\n",
       "    <tr>\n",
       "      <th>2</th>\n",
       "      <td>MITCHE3674</td>\n",
       "      <td>Vermont South Club</td>\n",
       "      <td>Coronation</td>\n",
       "      <td>BRIGHT</td>\n",
       "      <td>3741.0</td>\n",
       "      <td>-37.851683</td>\n",
       "      <td>145.180228</td>\n",
       "      <td>Synthetic Pitch</td>\n",
       "      <td>Coronation Avenue, BRIGHT 3741</td>\n",
       "      <td>661 P4</td>\n",
       "    </tr>\n",
       "    <tr>\n",
       "      <th>3</th>\n",
       "      <td>MITCHE3674</td>\n",
       "      <td>Vermont South Club</td>\n",
       "      <td>Coronation</td>\n",
       "      <td>BRIGHT</td>\n",
       "      <td>3741.0</td>\n",
       "      <td>-37.851683</td>\n",
       "      <td>145.180228</td>\n",
       "      <td>Asphalt</td>\n",
       "      <td>Coronation Avenue, BRIGHT 3741</td>\n",
       "      <td>661 P4</td>\n",
       "    </tr>\n",
       "    <tr>\n",
       "      <th>4</th>\n",
       "      <td>MITCHE3674</td>\n",
       "      <td>Vermont South Club</td>\n",
       "      <td>Coronation</td>\n",
       "      <td>BRIGHT</td>\n",
       "      <td>3741.0</td>\n",
       "      <td>-37.851683</td>\n",
       "      <td>145.180228</td>\n",
       "      <td>Artificial Turf</td>\n",
       "      <td>Coronation Avenue, BRIGHT 3741</td>\n",
       "      <td>661 P4</td>\n",
       "    </tr>\n",
       "  </tbody>\n",
       "</table>\n",
       "</div>"
      ],
      "text/plain": [
       "  Facility ID       Facility Name Street Name Suburb/Town   Pcode   Latitude  \\\n",
       "0  MITCHE3674  Vermont South Club  Coronation      BRIGHT  3741.0 -37.851683   \n",
       "1  MITCHE3674  Vermont South Club  Coronation      BRIGHT  3741.0 -37.851683   \n",
       "2  MITCHE3674  Vermont South Club  Coronation      BRIGHT  3741.0 -37.851683   \n",
       "3  MITCHE3674  Vermont South Club  Coronation      BRIGHT  3741.0 -37.851683   \n",
       "4  MITCHE3674  Vermont South Club  Coronation      BRIGHT  3741.0 -37.851683   \n",
       "\n",
       "    Longitude Field/Surface Type                      FullAddress  \\\n",
       "0  145.180228                NaN   Coronation Avenue, BRIGHT 3741   \n",
       "1  145.180228              Grass   Coronation Avenue, BRIGHT 3741   \n",
       "2  145.180228    Synthetic Pitch   Coronation Avenue, BRIGHT 3741   \n",
       "3  145.180228            Asphalt   Coronation Avenue, BRIGHT 3741   \n",
       "4  145.180228    Artificial Turf   Coronation Avenue, BRIGHT 3741   \n",
       "\n",
       "  MelwaysVicRoadsRef  \n",
       "0             661 P4  \n",
       "1             661 P4  \n",
       "2             661 P4  \n",
       "3             661 P4  \n",
       "4             661 P4  "
      ]
     },
     "execution_count": 30,
     "metadata": {},
     "output_type": "execute_result"
    }
   ],
   "source": [
    "df.head()"
   ]
  },
  {
   "cell_type": "code",
   "execution_count": 20,
   "metadata": {
    "collapsed": false,
    "jupyter": {
     "outputs_hidden": false
    },
    "pycharm": {
     "name": "#%% choose columns we want\n"
    }
   },
   "outputs": [],
   "source": [
    "df = df.loc[:,['Facility ID','Facility Name','Street Name','Suburb/Town','Pcode','Latitude',\n",
    "                'Longitude','Field/Surface Type','FullAddress','MelwaysVicRoadsRef']]"
   ]
  },
  {
   "cell_type": "code",
   "execution_count": 21,
   "metadata": {
    "collapsed": false,
    "jupyter": {
     "outputs_hidden": false
    },
    "pycharm": {
     "name": "#%%\n"
    }
   },
   "outputs": [
    {
     "data": {
      "text/plain": [
       "(9590, 10)"
      ]
     },
     "execution_count": 21,
     "metadata": {},
     "output_type": "execute_result"
    }
   ],
   "source": [
    "df.head()\n",
    "df.shape"
   ]
  },
  {
   "cell_type": "code",
   "execution_count": 22,
   "metadata": {
    "collapsed": false,
    "jupyter": {
     "outputs_hidden": false
    },
    "pycharm": {
     "name": "#%% look up for some duplicated address, log and lat\n"
    }
   },
   "outputs": [
    {
     "data": {
      "text/plain": [
       "0     False\n",
       "1      True\n",
       "2      True\n",
       "3      True\n",
       "4      True\n",
       "5     False\n",
       "6     False\n",
       "7     False\n",
       "8     False\n",
       "9      True\n",
       "10     True\n",
       "11    False\n",
       "12     True\n",
       "13    False\n",
       "14    False\n",
       "15     True\n",
       "16    False\n",
       "17     True\n",
       "18    False\n",
       "19    False\n",
       "20    False\n",
       "21     True\n",
       "22    False\n",
       "23    False\n",
       "24     True\n",
       "25    False\n",
       "26     True\n",
       "27    False\n",
       "28     True\n",
       "29     True\n",
       "dtype: bool"
      ]
     },
     "execution_count": 22,
     "metadata": {},
     "output_type": "execute_result"
    }
   ],
   "source": [
    "df.duplicated(subset=['FullAddress','Latitude','Longitude']).head(30)"
   ]
  },
  {
   "cell_type": "code",
   "execution_count": 23,
   "metadata": {
    "collapsed": false,
    "jupyter": {
     "outputs_hidden": false
    },
    "pycharm": {
     "name": "#%% drop all duplicated row\n"
    }
   },
   "outputs": [],
   "source": [
    "new = df.drop_duplicates(subset=['FullAddress','Latitude','Longitude'], keep='first')"
   ]
  },
  {
   "cell_type": "code",
   "execution_count": 24,
   "metadata": {
    "collapsed": false,
    "jupyter": {
     "outputs_hidden": false
    },
    "pycharm": {
     "name": "#%%\n"
    }
   },
   "outputs": [
    {
     "data": {
      "text/plain": [
       "(4898, 10)"
      ]
     },
     "execution_count": 24,
     "metadata": {},
     "output_type": "execute_result"
    }
   ],
   "source": [
    "new.shape"
   ]
  },
  {
   "cell_type": "code",
   "execution_count": 25,
   "metadata": {
    "collapsed": false,
    "jupyter": {
     "outputs_hidden": false
    },
    "pycharm": {
     "name": "#%%\n"
    }
   },
   "outputs": [
    {
     "name": "stdout",
     "output_type": "stream",
     "text": [
      "0       False\n",
      "5        True\n",
      "6       False\n",
      "7        True\n",
      "8        True\n",
      "        ...  \n",
      "9569    False\n",
      "9570    False\n",
      "9571    False\n",
      "9572    False\n",
      "9581     True\n",
      "Name: Facility Name, Length: 4898, dtype: bool\n"
     ]
    }
   ],
   "source": [
    "print(new['Facility Name'].str.contains('park|reserve', case=False))"
   ]
  },
  {
   "cell_type": "code",
   "execution_count": 41,
   "metadata": {
    "collapsed": false,
    "jupyter": {
     "outputs_hidden": false
    },
    "pycharm": {
     "name": "#%% separate different types of facilities into different dataframe\n"
    }
   },
   "outputs": [],
   "source": [
    "park_reserve = new[new['Facility Name'].str.contains('park|reserve', case=False)]\n",
    "\n",
    "gym_fitness = new[new['Facility Name'].str.contains('gym|fitness', case=False)]\n",
    "\n",
    "swimming_sport = new[new['Facility Name'].str.contains('swimming', case=False)]\n",
    "\n",
    "school = new[new['Facility Name'].str.contains('college|university', case=False)]"
   ]
  },
  {
   "cell_type": "code",
   "execution_count": 27,
   "metadata": {
    "collapsed": false,
    "jupyter": {
     "outputs_hidden": false
    },
    "pycharm": {
     "name": "#%%\n"
    }
   },
   "outputs": [
    {
     "data": {
      "text/html": [
       "<div>\n",
       "<style scoped>\n",
       "    .dataframe tbody tr th:only-of-type {\n",
       "        vertical-align: middle;\n",
       "    }\n",
       "\n",
       "    .dataframe tbody tr th {\n",
       "        vertical-align: top;\n",
       "    }\n",
       "\n",
       "    .dataframe thead th {\n",
       "        text-align: right;\n",
       "    }\n",
       "</style>\n",
       "<table border=\"1\" class=\"dataframe\">\n",
       "  <thead>\n",
       "    <tr style=\"text-align: right;\">\n",
       "      <th></th>\n",
       "      <th>Facility ID</th>\n",
       "      <th>Facility Name</th>\n",
       "      <th>Street Name</th>\n",
       "      <th>Suburb/Town</th>\n",
       "      <th>Pcode</th>\n",
       "      <th>Latitude</th>\n",
       "      <th>Longitude</th>\n",
       "      <th>Field/Surface Type</th>\n",
       "      <th>FullAddress</th>\n",
       "      <th>MelwaysVicRoadsRef</th>\n",
       "    </tr>\n",
       "  </thead>\n",
       "  <tbody>\n",
       "    <tr>\n",
       "      <th>5</th>\n",
       "      <td>ALPINE5519</td>\n",
       "      <td>Pioneer Park Recreation Reserve</td>\n",
       "      <td>Coronation</td>\n",
       "      <td>BRIGHT</td>\n",
       "      <td>3741.0</td>\n",
       "      <td>-36.737199</td>\n",
       "      <td>146.973353</td>\n",
       "      <td>NaN</td>\n",
       "      <td>Coronation Avenue, BRIGHT 3741</td>\n",
       "      <td>661 P4</td>\n",
       "    </tr>\n",
       "    <tr>\n",
       "      <th>7</th>\n",
       "      <td>ALPINE10928</td>\n",
       "      <td>Mount Beauty recreation Reserve</td>\n",
       "      <td>Lakeside</td>\n",
       "      <td>MOUNT BEAUTY</td>\n",
       "      <td>3699.0</td>\n",
       "      <td>-36.739256</td>\n",
       "      <td>147.172162</td>\n",
       "      <td>Grass Running Track</td>\n",
       "      <td>Lakeside  Avenue, MOUNT BEAUTY 3699</td>\n",
       "      <td>660 H10</td>\n",
       "    </tr>\n",
       "    <tr>\n",
       "      <th>8</th>\n",
       "      <td>ALPINE10924</td>\n",
       "      <td>Dederang Recreation reserve</td>\n",
       "      <td>Kiewa-Valley</td>\n",
       "      <td>DEDERANG</td>\n",
       "      <td>3691.0</td>\n",
       "      <td>-36.475264</td>\n",
       "      <td>147.020525</td>\n",
       "      <td>Grass</td>\n",
       "      <td>Kiewa-Valley Hwy, DEDERANG 3691</td>\n",
       "      <td>36 B9</td>\n",
       "    </tr>\n",
       "    <tr>\n",
       "      <th>11</th>\n",
       "      <td>ALPINE10932</td>\n",
       "      <td>RC McNamara Reserve</td>\n",
       "      <td>Lewis</td>\n",
       "      <td>MYRTLEFORD</td>\n",
       "      <td>3737.0</td>\n",
       "      <td>-36.567524</td>\n",
       "      <td>146.723777</td>\n",
       "      <td>Grass</td>\n",
       "      <td>Lewis  Avenue, MYRTLEFORD 3737</td>\n",
       "      <td>660 B7</td>\n",
       "    </tr>\n",
       "    <tr>\n",
       "      <th>13</th>\n",
       "      <td>ALPINE10942</td>\n",
       "      <td>Porepunkah Recreation Reserve</td>\n",
       "      <td>Martley</td>\n",
       "      <td>POREPUNKAH</td>\n",
       "      <td>3740.0</td>\n",
       "      <td>-36.698109</td>\n",
       "      <td>146.910729</td>\n",
       "      <td>Grass</td>\n",
       "      <td>Martley Street, POREPUNKAH 3740</td>\n",
       "      <td>661 M11</td>\n",
       "    </tr>\n",
       "  </tbody>\n",
       "</table>\n",
       "</div>"
      ],
      "text/plain": [
       "    Facility ID                    Facility Name   Street Name   Suburb/Town  \\\n",
       "5    ALPINE5519  Pioneer Park Recreation Reserve    Coronation        BRIGHT   \n",
       "7   ALPINE10928  Mount Beauty recreation Reserve     Lakeside   MOUNT BEAUTY   \n",
       "8   ALPINE10924      Dederang Recreation reserve  Kiewa-Valley      DEDERANG   \n",
       "11  ALPINE10932              RC McNamara Reserve        Lewis     MYRTLEFORD   \n",
       "13  ALPINE10942    Porepunkah Recreation Reserve       Martley    POREPUNKAH   \n",
       "\n",
       "     Pcode   Latitude   Longitude   Field/Surface Type  \\\n",
       "5   3741.0 -36.737199  146.973353                  NaN   \n",
       "7   3699.0 -36.739256  147.172162  Grass Running Track   \n",
       "8   3691.0 -36.475264  147.020525                Grass   \n",
       "11  3737.0 -36.567524  146.723777                Grass   \n",
       "13  3740.0 -36.698109  146.910729                Grass   \n",
       "\n",
       "                             FullAddress MelwaysVicRoadsRef  \n",
       "5         Coronation Avenue, BRIGHT 3741             661 P4  \n",
       "7    Lakeside  Avenue, MOUNT BEAUTY 3699            660 H10  \n",
       "8        Kiewa-Valley Hwy, DEDERANG 3691              36 B9  \n",
       "11        Lewis  Avenue, MYRTLEFORD 3737             660 B7  \n",
       "13       Martley Street, POREPUNKAH 3740            661 M11  "
      ]
     },
     "execution_count": 27,
     "metadata": {},
     "output_type": "execute_result"
    }
   ],
   "source": [
    "park_reserve.head()"
   ]
  },
  {
   "cell_type": "code",
   "execution_count": 42,
   "metadata": {
    "collapsed": false,
    "jupyter": {
     "outputs_hidden": false
    },
    "pycharm": {
     "name": "#%%\n"
    }
   },
   "outputs": [
    {
     "data": {
      "text/html": [
       "<div>\n",
       "<style scoped>\n",
       "    .dataframe tbody tr th:only-of-type {\n",
       "        vertical-align: middle;\n",
       "    }\n",
       "\n",
       "    .dataframe tbody tr th {\n",
       "        vertical-align: top;\n",
       "    }\n",
       "\n",
       "    .dataframe thead th {\n",
       "        text-align: right;\n",
       "    }\n",
       "</style>\n",
       "<table border=\"1\" class=\"dataframe\">\n",
       "  <thead>\n",
       "    <tr style=\"text-align: right;\">\n",
       "      <th></th>\n",
       "      <th>Facility ID</th>\n",
       "      <th>Facility Name</th>\n",
       "      <th>Street Name</th>\n",
       "      <th>Suburb/Town</th>\n",
       "      <th>Pcode</th>\n",
       "      <th>Latitude</th>\n",
       "      <th>Longitude</th>\n",
       "      <th>Field/Surface Type</th>\n",
       "      <th>FullAddress</th>\n",
       "      <th>MelwaysVicRoadsRef</th>\n",
       "    </tr>\n",
       "  </thead>\n",
       "  <tbody>\n",
       "    <tr>\n",
       "      <th>0</th>\n",
       "      <td>ALPINE5519</td>\n",
       "      <td>Pioneer Park Recreation Reserve</td>\n",
       "      <td>Coronation</td>\n",
       "      <td>BRIGHT</td>\n",
       "      <td>3741.0</td>\n",
       "      <td>-36.737199</td>\n",
       "      <td>146.973353</td>\n",
       "      <td>NaN</td>\n",
       "      <td>Coronation Avenue, BRIGHT 3741</td>\n",
       "      <td>661 P4</td>\n",
       "    </tr>\n",
       "    <tr>\n",
       "      <th>1</th>\n",
       "      <td>ALPINE10928</td>\n",
       "      <td>Mount Beauty recreation Reserve</td>\n",
       "      <td>Lakeside</td>\n",
       "      <td>MOUNT BEAUTY</td>\n",
       "      <td>3699.0</td>\n",
       "      <td>-36.739256</td>\n",
       "      <td>147.172162</td>\n",
       "      <td>Grass Running Track</td>\n",
       "      <td>Lakeside  Avenue, MOUNT BEAUTY 3699</td>\n",
       "      <td>660 H10</td>\n",
       "    </tr>\n",
       "    <tr>\n",
       "      <th>2</th>\n",
       "      <td>ALPINE10924</td>\n",
       "      <td>Dederang Recreation reserve</td>\n",
       "      <td>Kiewa-Valley</td>\n",
       "      <td>DEDERANG</td>\n",
       "      <td>3691.0</td>\n",
       "      <td>-36.475264</td>\n",
       "      <td>147.020525</td>\n",
       "      <td>Grass</td>\n",
       "      <td>Kiewa-Valley Hwy, DEDERANG 3691</td>\n",
       "      <td>36 B9</td>\n",
       "    </tr>\n",
       "    <tr>\n",
       "      <th>3</th>\n",
       "      <td>ALPINE10932</td>\n",
       "      <td>RC McNamara Reserve</td>\n",
       "      <td>Lewis</td>\n",
       "      <td>MYRTLEFORD</td>\n",
       "      <td>3737.0</td>\n",
       "      <td>-36.567524</td>\n",
       "      <td>146.723777</td>\n",
       "      <td>Grass</td>\n",
       "      <td>Lewis  Avenue, MYRTLEFORD 3737</td>\n",
       "      <td>660 B7</td>\n",
       "    </tr>\n",
       "    <tr>\n",
       "      <th>4</th>\n",
       "      <td>ALPINE10942</td>\n",
       "      <td>Porepunkah Recreation Reserve</td>\n",
       "      <td>Martley</td>\n",
       "      <td>POREPUNKAH</td>\n",
       "      <td>3740.0</td>\n",
       "      <td>-36.698109</td>\n",
       "      <td>146.910729</td>\n",
       "      <td>Grass</td>\n",
       "      <td>Martley Street, POREPUNKAH 3740</td>\n",
       "      <td>661 M11</td>\n",
       "    </tr>\n",
       "  </tbody>\n",
       "</table>\n",
       "</div>"
      ],
      "text/plain": [
       "   Facility ID                    Facility Name   Street Name   Suburb/Town  \\\n",
       "0   ALPINE5519  Pioneer Park Recreation Reserve    Coronation        BRIGHT   \n",
       "1  ALPINE10928  Mount Beauty recreation Reserve     Lakeside   MOUNT BEAUTY   \n",
       "2  ALPINE10924      Dederang Recreation reserve  Kiewa-Valley      DEDERANG   \n",
       "3  ALPINE10932              RC McNamara Reserve        Lewis     MYRTLEFORD   \n",
       "4  ALPINE10942    Porepunkah Recreation Reserve       Martley    POREPUNKAH   \n",
       "\n",
       "    Pcode   Latitude   Longitude   Field/Surface Type  \\\n",
       "0  3741.0 -36.737199  146.973353                  NaN   \n",
       "1  3699.0 -36.739256  147.172162  Grass Running Track   \n",
       "2  3691.0 -36.475264  147.020525                Grass   \n",
       "3  3737.0 -36.567524  146.723777                Grass   \n",
       "4  3740.0 -36.698109  146.910729                Grass   \n",
       "\n",
       "                            FullAddress MelwaysVicRoadsRef  \n",
       "0        Coronation Avenue, BRIGHT 3741             661 P4  \n",
       "1   Lakeside  Avenue, MOUNT BEAUTY 3699            660 H10  \n",
       "2       Kiewa-Valley Hwy, DEDERANG 3691              36 B9  \n",
       "3        Lewis  Avenue, MYRTLEFORD 3737             660 B7  \n",
       "4       Martley Street, POREPUNKAH 3740            661 M11  "
      ]
     },
     "execution_count": 42,
     "metadata": {},
     "output_type": "execute_result"
    }
   ],
   "source": [
    "park_reserve.reset_index(drop=True, inplace=True)\n",
    "\n",
    "gym_fitness.reset_index(drop=True, inplace=True)\n",
    "\n",
    "swimming_sport.reset_index(drop=True, inplace=True)\n",
    "\n",
    "school.reset_index(drop=True, inplace=True)\n",
    "\n",
    "park_reserve.head()"
   ]
  },
  {
   "cell_type": "code",
   "execution_count": 44,
   "metadata": {
    "collapsed": false,
    "jupyter": {
     "outputs_hidden": false
    },
    "pycharm": {
     "name": "#%% save three types of facilities into different csv for later useing\n"
    }
   },
   "outputs": [],
   "source": [
    "park_reserve.to_csv(\"../data/curated/park_reserve.csv\")\n",
    "\n",
    "gym_fitness.to_csv(\"../data/curated/gym_fitness.csv\")\n",
    "\n",
    "swimming_sport.to_csv(\"../data/curated/swimming.csv\")\n",
    "\n",
    "school.to_csv(\"../data/curated/school.csv\")"
   ]
  },
  {
   "cell_type": "code",
   "execution_count": null,
   "metadata": {
    "collapsed": false,
    "jupyter": {
     "outputs_hidden": false
    },
    "pycharm": {
     "name": "#%%\n"
    }
   },
   "outputs": [],
   "source": []
  }
 ],
 "metadata": {
  "kernelspec": {
   "display_name": "Python 3 (ipykernel)",
   "language": "python",
   "name": "python3"
  },
  "language_info": {
   "codemirror_mode": {
    "name": "ipython",
    "version": 3
   },
   "file_extension": ".py",
   "mimetype": "text/x-python",
   "name": "python",
   "nbconvert_exporter": "python",
   "pygments_lexer": "ipython3",
   "version": "3.8.13"
  }
 },
 "nbformat": 4,
 "nbformat_minor": 4
}
