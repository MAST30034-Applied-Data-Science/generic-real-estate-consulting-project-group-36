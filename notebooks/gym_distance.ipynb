{
 "cells": [
  {
   "cell_type": "code",
   "execution_count": 95,
   "metadata": {},
   "outputs": [],
   "source": [
    "import pandas as pd\n",
    "import openrouteservice as ors\n",
    "import folium"
   ]
  },
  {
   "cell_type": "code",
   "execution_count": 96,
   "metadata": {},
   "outputs": [
    {
     "data": {
      "text/plain": [
       "372"
      ]
     },
     "execution_count": 96,
     "metadata": {},
     "output_type": "execute_result"
    }
   ],
   "source": [
    "df = pd.read_csv(\"../data/curated/gym_fitness.csv\")\n",
    "len(df)"
   ]
  },
  {
   "cell_type": "code",
   "execution_count": 97,
   "metadata": {},
   "outputs": [],
   "source": [
    "df[\"coordinates\"] = [[df[\"Longitude\"][i], df[\"Latitude\"][i]] for i in range(len(df))]"
   ]
  },
  {
   "cell_type": "code",
   "execution_count": 98,
   "metadata": {},
   "outputs": [
    {
     "data": {
      "text/plain": [
       "Unnamed: 0            False\n",
       "Facility ID           False\n",
       "Facility Name         False\n",
       "Street Name           False\n",
       "Suburb/Town           False\n",
       "Pcode                  True\n",
       "Latitude               True\n",
       "Longitude              True\n",
       "Field/Surface Type     True\n",
       "FullAddress           False\n",
       "MelwaysVicRoadsRef     True\n",
       "coordinates           False\n",
       "dtype: bool"
      ]
     },
     "execution_count": 98,
     "metadata": {},
     "output_type": "execute_result"
    }
   ],
   "source": [
    "df.isnull().any() "
   ]
  },
  {
   "cell_type": "code",
   "execution_count": 99,
   "metadata": {},
   "outputs": [
    {
     "data": {
      "text/html": [
       "<div>\n",
       "<style scoped>\n",
       "    .dataframe tbody tr th:only-of-type {\n",
       "        vertical-align: middle;\n",
       "    }\n",
       "\n",
       "    .dataframe tbody tr th {\n",
       "        vertical-align: top;\n",
       "    }\n",
       "\n",
       "    .dataframe thead th {\n",
       "        text-align: right;\n",
       "    }\n",
       "</style>\n",
       "<table border=\"1\" class=\"dataframe\">\n",
       "  <thead>\n",
       "    <tr style=\"text-align: right;\">\n",
       "      <th></th>\n",
       "      <th>Unnamed: 0</th>\n",
       "      <th>Facility ID</th>\n",
       "      <th>Facility Name</th>\n",
       "      <th>Street Name</th>\n",
       "      <th>Suburb/Town</th>\n",
       "      <th>Pcode</th>\n",
       "      <th>Latitude</th>\n",
       "      <th>Longitude</th>\n",
       "      <th>Field/Surface Type</th>\n",
       "      <th>FullAddress</th>\n",
       "      <th>MelwaysVicRoadsRef</th>\n",
       "      <th>coordinates</th>\n",
       "    </tr>\n",
       "  </thead>\n",
       "  <tbody>\n",
       "    <tr>\n",
       "      <th>0</th>\n",
       "      <td>0</td>\n",
       "      <td>BALLAR12461</td>\n",
       "      <td>Anytime Fitness Ballarat</td>\n",
       "      <td>La Trobe</td>\n",
       "      <td>BALLARAT</td>\n",
       "      <td>3350.0</td>\n",
       "      <td>-37.573219</td>\n",
       "      <td>143.835744</td>\n",
       "      <td>NaN</td>\n",
       "      <td>601-603 La Trobe Street, BALLARAT 3350</td>\n",
       "      <td>565 U10</td>\n",
       "      <td>[143.835744, -37.573219]</td>\n",
       "    </tr>\n",
       "    <tr>\n",
       "      <th>1</th>\n",
       "      <td>1</td>\n",
       "      <td>BALLAR12462</td>\n",
       "      <td>Anytime Fitness Mount Clear</td>\n",
       "      <td>Geelong</td>\n",
       "      <td>MOUNT CLEAR</td>\n",
       "      <td>3350.0</td>\n",
       "      <td>-37.602661</td>\n",
       "      <td>143.867711</td>\n",
       "      <td>NaN</td>\n",
       "      <td>5/1174 Geelong Road, MOUNT CLEAR 3350</td>\n",
       "      <td>572 F6</td>\n",
       "      <td>[143.867711, -37.602661]</td>\n",
       "    </tr>\n",
       "    <tr>\n",
       "      <th>2</th>\n",
       "      <td>2</td>\n",
       "      <td>BALLAR12516</td>\n",
       "      <td>O'Briens Kickboxing &amp; Boxing Gym</td>\n",
       "      <td>Howitt</td>\n",
       "      <td>BALLARAT NORTH</td>\n",
       "      <td>3350.0</td>\n",
       "      <td>-37.542919</td>\n",
       "      <td>143.857592</td>\n",
       "      <td>NaN</td>\n",
       "      <td>502 Howitt Street, BALLARAT NORTH 3350</td>\n",
       "      <td>566 D4</td>\n",
       "      <td>[143.857592, -37.542919]</td>\n",
       "    </tr>\n",
       "  </tbody>\n",
       "</table>\n",
       "</div>"
      ],
      "text/plain": [
       "   Unnamed: 0  Facility ID                     Facility Name Street Name  \\\n",
       "0           0  BALLAR12461          Anytime Fitness Ballarat    La Trobe   \n",
       "1           1  BALLAR12462       Anytime Fitness Mount Clear     Geelong   \n",
       "2           2  BALLAR12516  O'Briens Kickboxing & Boxing Gym      Howitt   \n",
       "\n",
       "      Suburb/Town   Pcode   Latitude   Longitude Field/Surface Type  \\\n",
       "0        BALLARAT  3350.0 -37.573219  143.835744                NaN   \n",
       "1     MOUNT CLEAR  3350.0 -37.602661  143.867711                NaN   \n",
       "2  BALLARAT NORTH  3350.0 -37.542919  143.857592                NaN   \n",
       "\n",
       "                              FullAddress MelwaysVicRoadsRef  \\\n",
       "0  601-603 La Trobe Street, BALLARAT 3350            565 U10   \n",
       "1   5/1174 Geelong Road, MOUNT CLEAR 3350             572 F6   \n",
       "2  502 Howitt Street, BALLARAT NORTH 3350             566 D4   \n",
       "\n",
       "                coordinates  \n",
       "0  [143.835744, -37.573219]  \n",
       "1  [143.867711, -37.602661]  \n",
       "2  [143.857592, -37.542919]  "
      ]
     },
     "execution_count": 99,
     "metadata": {},
     "output_type": "execute_result"
    }
   ],
   "source": [
    "df.head(3)"
   ]
  },
  {
   "cell_type": "code",
   "execution_count": 100,
   "metadata": {},
   "outputs": [],
   "source": [
    "clean_df = df.dropna(axis=0, subset = ['FullAddress','Longitude','Latitude'])"
   ]
  },
  {
   "cell_type": "code",
   "execution_count": 101,
   "metadata": {},
   "outputs": [
    {
     "data": {
      "text/plain": [
       "Unnamed: 0            False\n",
       "Facility ID           False\n",
       "Facility Name         False\n",
       "Street Name           False\n",
       "Suburb/Town           False\n",
       "Pcode                  True\n",
       "Latitude              False\n",
       "Longitude             False\n",
       "Field/Surface Type     True\n",
       "FullAddress           False\n",
       "MelwaysVicRoadsRef     True\n",
       "coordinates           False\n",
       "dtype: bool"
      ]
     },
     "execution_count": 101,
     "metadata": {},
     "output_type": "execute_result"
    }
   ],
   "source": [
    "clean_df.isnull().any()"
   ]
  },
  {
   "cell_type": "code",
   "execution_count": 102,
   "metadata": {},
   "outputs": [
    {
     "data": {
      "text/html": [
       "<div>\n",
       "<style scoped>\n",
       "    .dataframe tbody tr th:only-of-type {\n",
       "        vertical-align: middle;\n",
       "    }\n",
       "\n",
       "    .dataframe tbody tr th {\n",
       "        vertical-align: top;\n",
       "    }\n",
       "\n",
       "    .dataframe thead th {\n",
       "        text-align: right;\n",
       "    }\n",
       "</style>\n",
       "<table border=\"1\" class=\"dataframe\">\n",
       "  <thead>\n",
       "    <tr style=\"text-align: right;\">\n",
       "      <th></th>\n",
       "      <th>Unnamed: 0</th>\n",
       "      <th>Facility ID</th>\n",
       "      <th>Facility Name</th>\n",
       "      <th>Street Name</th>\n",
       "      <th>Suburb/Town</th>\n",
       "      <th>Pcode</th>\n",
       "      <th>Latitude</th>\n",
       "      <th>Longitude</th>\n",
       "      <th>Field/Surface Type</th>\n",
       "      <th>FullAddress</th>\n",
       "      <th>MelwaysVicRoadsRef</th>\n",
       "      <th>coordinates</th>\n",
       "    </tr>\n",
       "  </thead>\n",
       "  <tbody>\n",
       "    <tr>\n",
       "      <th>0</th>\n",
       "      <td>0</td>\n",
       "      <td>BALLAR12461</td>\n",
       "      <td>Anytime Fitness Ballarat</td>\n",
       "      <td>La Trobe</td>\n",
       "      <td>BALLARAT</td>\n",
       "      <td>3350.0</td>\n",
       "      <td>-37.573219</td>\n",
       "      <td>143.835744</td>\n",
       "      <td>NaN</td>\n",
       "      <td>601-603 La Trobe Street, BALLARAT 3350</td>\n",
       "      <td>565 U10</td>\n",
       "      <td>[143.835744, -37.573219]</td>\n",
       "    </tr>\n",
       "    <tr>\n",
       "      <th>1</th>\n",
       "      <td>1</td>\n",
       "      <td>BALLAR12462</td>\n",
       "      <td>Anytime Fitness Mount Clear</td>\n",
       "      <td>Geelong</td>\n",
       "      <td>MOUNT CLEAR</td>\n",
       "      <td>3350.0</td>\n",
       "      <td>-37.602661</td>\n",
       "      <td>143.867711</td>\n",
       "      <td>NaN</td>\n",
       "      <td>5/1174 Geelong Road, MOUNT CLEAR 3350</td>\n",
       "      <td>572 F6</td>\n",
       "      <td>[143.867711, -37.602661]</td>\n",
       "    </tr>\n",
       "    <tr>\n",
       "      <th>2</th>\n",
       "      <td>2</td>\n",
       "      <td>BALLAR12516</td>\n",
       "      <td>O'Briens Kickboxing &amp; Boxing Gym</td>\n",
       "      <td>Howitt</td>\n",
       "      <td>BALLARAT NORTH</td>\n",
       "      <td>3350.0</td>\n",
       "      <td>-37.542919</td>\n",
       "      <td>143.857592</td>\n",
       "      <td>NaN</td>\n",
       "      <td>502 Howitt Street, BALLARAT NORTH 3350</td>\n",
       "      <td>566 D4</td>\n",
       "      <td>[143.857592, -37.542919]</td>\n",
       "    </tr>\n",
       "    <tr>\n",
       "      <th>3</th>\n",
       "      <td>3</td>\n",
       "      <td>BALLAR12517</td>\n",
       "      <td>On Track Personal Fitness</td>\n",
       "      <td>Sturt</td>\n",
       "      <td>BALLARAT</td>\n",
       "      <td>3350.0</td>\n",
       "      <td>-37.562484</td>\n",
       "      <td>143.859425</td>\n",
       "      <td>NaN</td>\n",
       "      <td>37 Sturt Street, BALLARAT 3350</td>\n",
       "      <td>566 D8</td>\n",
       "      <td>[143.859425, -37.562484]</td>\n",
       "    </tr>\n",
       "    <tr>\n",
       "      <th>4</th>\n",
       "      <td>4</td>\n",
       "      <td>BALLAR12525</td>\n",
       "      <td>Spartans Gym and Supplements</td>\n",
       "      <td>Howitt</td>\n",
       "      <td>BALLARAT NORTH</td>\n",
       "      <td>3350.0</td>\n",
       "      <td>-37.542901</td>\n",
       "      <td>143.857062</td>\n",
       "      <td>NaN</td>\n",
       "      <td>502 Howitt Street, BALLARAT NORTH 3350</td>\n",
       "      <td>566 D4</td>\n",
       "      <td>[143.857062, -37.542901]</td>\n",
       "    </tr>\n",
       "  </tbody>\n",
       "</table>\n",
       "</div>"
      ],
      "text/plain": [
       "   Unnamed: 0  Facility ID                     Facility Name Street Name  \\\n",
       "0           0  BALLAR12461          Anytime Fitness Ballarat    La Trobe   \n",
       "1           1  BALLAR12462       Anytime Fitness Mount Clear     Geelong   \n",
       "2           2  BALLAR12516  O'Briens Kickboxing & Boxing Gym      Howitt   \n",
       "3           3  BALLAR12517         On Track Personal Fitness       Sturt   \n",
       "4           4  BALLAR12525      Spartans Gym and Supplements      Howitt   \n",
       "\n",
       "      Suburb/Town   Pcode   Latitude   Longitude Field/Surface Type  \\\n",
       "0        BALLARAT  3350.0 -37.573219  143.835744                NaN   \n",
       "1     MOUNT CLEAR  3350.0 -37.602661  143.867711                NaN   \n",
       "2  BALLARAT NORTH  3350.0 -37.542919  143.857592                NaN   \n",
       "3        BALLARAT  3350.0 -37.562484  143.859425                NaN   \n",
       "4  BALLARAT NORTH  3350.0 -37.542901  143.857062                NaN   \n",
       "\n",
       "                              FullAddress MelwaysVicRoadsRef  \\\n",
       "0  601-603 La Trobe Street, BALLARAT 3350            565 U10   \n",
       "1   5/1174 Geelong Road, MOUNT CLEAR 3350             572 F6   \n",
       "2  502 Howitt Street, BALLARAT NORTH 3350             566 D4   \n",
       "3          37 Sturt Street, BALLARAT 3350             566 D8   \n",
       "4  502 Howitt Street, BALLARAT NORTH 3350             566 D4   \n",
       "\n",
       "                coordinates  \n",
       "0  [143.835744, -37.573219]  \n",
       "1  [143.867711, -37.602661]  \n",
       "2  [143.857592, -37.542919]  \n",
       "3  [143.859425, -37.562484]  \n",
       "4  [143.857062, -37.542901]  "
      ]
     },
     "execution_count": 102,
     "metadata": {},
     "output_type": "execute_result"
    }
   ],
   "source": [
    "clean_df.head()"
   ]
  },
  {
   "cell_type": "code",
   "execution_count": 103,
   "metadata": {},
   "outputs": [],
   "source": [
    "client = ors.Client(key=\"5b3ce3597851110001cf62485a596fd9eb21422bafe1a2046e88f5f3\")"
   ]
  },
  {
   "cell_type": "code",
   "execution_count": 104,
   "metadata": {},
   "outputs": [
    {
     "name": "stdout",
     "output_type": "stream",
     "text": [
      "Distances in m: [[0.0, 4043.55, 18363.22, 14011.67], [4073.78, 0.0, 19734.54, 15885.54], [18328.84, 19785.72, 0.0, 32678.79], [13861.79, 15626.38, 32666.33, 0.0]]\n"
     ]
    }
   ],
   "source": [
    "# Some coordinates\n",
    "coordinates = [[13.384116, 52.533558], [13.428726, 52.519355], [13.268726, 52.419355], [13.41726, 52.619355]]\n",
    "\n",
    "matrix = client.distance_matrix(\n",
    "    locations=coordinates,\n",
    "    profile='driving-car',\n",
    "    metrics=['distance'],\n",
    "    validate=False,\n",
    ")\n",
    "print(\"Distances in m: {}\".format(matrix['distances']))"
   ]
  },
  {
   "cell_type": "code",
   "execution_count": 105,
   "metadata": {},
   "outputs": [
    {
     "data": {
      "text/html": [
       "<div>\n",
       "<style scoped>\n",
       "    .dataframe tbody tr th:only-of-type {\n",
       "        vertical-align: middle;\n",
       "    }\n",
       "\n",
       "    .dataframe tbody tr th {\n",
       "        vertical-align: top;\n",
       "    }\n",
       "\n",
       "    .dataframe thead th {\n",
       "        text-align: right;\n",
       "    }\n",
       "</style>\n",
       "<table border=\"1\" class=\"dataframe\">\n",
       "  <thead>\n",
       "    <tr style=\"text-align: right;\">\n",
       "      <th></th>\n",
       "      <th>Facility Name</th>\n",
       "      <th>FullAddress</th>\n",
       "      <th>Latitude</th>\n",
       "      <th>Longitude</th>\n",
       "      <th>coordinates</th>\n",
       "    </tr>\n",
       "  </thead>\n",
       "  <tbody>\n",
       "    <tr>\n",
       "      <th>0</th>\n",
       "      <td>Anytime Fitness Ballarat</td>\n",
       "      <td>601-603 La Trobe Street, BALLARAT 3350</td>\n",
       "      <td>-37.573219</td>\n",
       "      <td>143.835744</td>\n",
       "      <td>[143.835744, -37.573219]</td>\n",
       "    </tr>\n",
       "    <tr>\n",
       "      <th>1</th>\n",
       "      <td>Anytime Fitness Mount Clear</td>\n",
       "      <td>5/1174 Geelong Road, MOUNT CLEAR 3350</td>\n",
       "      <td>-37.602661</td>\n",
       "      <td>143.867711</td>\n",
       "      <td>[143.867711, -37.602661]</td>\n",
       "    </tr>\n",
       "    <tr>\n",
       "      <th>2</th>\n",
       "      <td>O'Briens Kickboxing &amp; Boxing Gym</td>\n",
       "      <td>502 Howitt Street, BALLARAT NORTH 3350</td>\n",
       "      <td>-37.542919</td>\n",
       "      <td>143.857592</td>\n",
       "      <td>[143.857592, -37.542919]</td>\n",
       "    </tr>\n",
       "    <tr>\n",
       "      <th>3</th>\n",
       "      <td>On Track Personal Fitness</td>\n",
       "      <td>37 Sturt Street, BALLARAT 3350</td>\n",
       "      <td>-37.562484</td>\n",
       "      <td>143.859425</td>\n",
       "      <td>[143.859425, -37.562484]</td>\n",
       "    </tr>\n",
       "    <tr>\n",
       "      <th>4</th>\n",
       "      <td>Spartans Gym and Supplements</td>\n",
       "      <td>502 Howitt Street, BALLARAT NORTH 3350</td>\n",
       "      <td>-37.542901</td>\n",
       "      <td>143.857062</td>\n",
       "      <td>[143.857062, -37.542901]</td>\n",
       "    </tr>\n",
       "    <tr>\n",
       "      <th>...</th>\n",
       "      <td>...</td>\n",
       "      <td>...</td>\n",
       "      <td>...</td>\n",
       "      <td>...</td>\n",
       "      <td>...</td>\n",
       "    </tr>\n",
       "    <tr>\n",
       "      <th>348</th>\n",
       "      <td>Fitness 24 Hours</td>\n",
       "      <td>133 Johnston Street, FITZROY  3065</td>\n",
       "      <td>-37.798090</td>\n",
       "      <td>144.979215</td>\n",
       "      <td>[144.979215, -37.79809]</td>\n",
       "    </tr>\n",
       "    <tr>\n",
       "      <th>349</th>\n",
       "      <td>Fitness First</td>\n",
       "      <td>560 Church Street, RICHMOND 3121</td>\n",
       "      <td>-37.829370</td>\n",
       "      <td>144.996400</td>\n",
       "      <td>[144.9964, -37.82937]</td>\n",
       "    </tr>\n",
       "    <tr>\n",
       "      <th>363</th>\n",
       "      <td>Zap Fitness Richmond</td>\n",
       "      <td>509-511 Bridge Road, RICHMOND 3121</td>\n",
       "      <td>-37.819201</td>\n",
       "      <td>145.007592</td>\n",
       "      <td>[145.007592, -37.819201]</td>\n",
       "    </tr>\n",
       "    <tr>\n",
       "      <th>364</th>\n",
       "      <td>Female Gym Chirnside Park</td>\n",
       "      <td>286 Maroondah Hwy, CHIRNSIDE PARK 3116</td>\n",
       "      <td>-37.767272</td>\n",
       "      <td>145.302566</td>\n",
       "      <td>[145.302566, -37.767272]</td>\n",
       "    </tr>\n",
       "    <tr>\n",
       "      <th>365</th>\n",
       "      <td>Fit Gym</td>\n",
       "      <td>17 Wray Crescent, MOUNT EVELYN 3796</td>\n",
       "      <td>-37.786307</td>\n",
       "      <td>145.378829</td>\n",
       "      <td>[145.378829, -37.786307]</td>\n",
       "    </tr>\n",
       "  </tbody>\n",
       "</table>\n",
       "<p>214 rows × 5 columns</p>\n",
       "</div>"
      ],
      "text/plain": [
       "                        Facility Name                             FullAddress  \\\n",
       "0            Anytime Fitness Ballarat  601-603 La Trobe Street, BALLARAT 3350   \n",
       "1         Anytime Fitness Mount Clear   5/1174 Geelong Road, MOUNT CLEAR 3350   \n",
       "2    O'Briens Kickboxing & Boxing Gym  502 Howitt Street, BALLARAT NORTH 3350   \n",
       "3           On Track Personal Fitness          37 Sturt Street, BALLARAT 3350   \n",
       "4        Spartans Gym and Supplements  502 Howitt Street, BALLARAT NORTH 3350   \n",
       "..                                ...                                     ...   \n",
       "348                  Fitness 24 Hours      133 Johnston Street, FITZROY  3065   \n",
       "349                     Fitness First        560 Church Street, RICHMOND 3121   \n",
       "363              Zap Fitness Richmond      509-511 Bridge Road, RICHMOND 3121   \n",
       "364         Female Gym Chirnside Park  286 Maroondah Hwy, CHIRNSIDE PARK 3116   \n",
       "365                          Fit Gym      17 Wray Crescent, MOUNT EVELYN 3796   \n",
       "\n",
       "      Latitude   Longitude               coordinates  \n",
       "0   -37.573219  143.835744  [143.835744, -37.573219]  \n",
       "1   -37.602661  143.867711  [143.867711, -37.602661]  \n",
       "2   -37.542919  143.857592  [143.857592, -37.542919]  \n",
       "3   -37.562484  143.859425  [143.859425, -37.562484]  \n",
       "4   -37.542901  143.857062  [143.857062, -37.542901]  \n",
       "..         ...         ...                       ...  \n",
       "348 -37.798090  144.979215   [144.979215, -37.79809]  \n",
       "349 -37.829370  144.996400     [144.9964, -37.82937]  \n",
       "363 -37.819201  145.007592  [145.007592, -37.819201]  \n",
       "364 -37.767272  145.302566  [145.302566, -37.767272]  \n",
       "365 -37.786307  145.378829  [145.378829, -37.786307]  \n",
       "\n",
       "[214 rows x 5 columns]"
      ]
     },
     "execution_count": 105,
     "metadata": {},
     "output_type": "execute_result"
    }
   ],
   "source": [
    "df = clean_df.loc[:, ['Facility Name', 'FullAddress', 'Latitude', 'Longitude','coordinates']]\n",
    "df"
   ]
  },
  {
   "cell_type": "code",
   "execution_count": 106,
   "metadata": {},
   "outputs": [],
   "source": [
    "distance = []\n",
    "domain = [144.9879, -37.8167]"
   ]
  },
  {
   "cell_type": "code",
   "execution_count": 108,
   "metadata": {},
   "outputs": [],
   "source": [
    "df = df.reset_index(drop=True)"
   ]
  },
  {
   "cell_type": "code",
   "execution_count": 111,
   "metadata": {},
   "outputs": [
    {
     "name": "stdout",
     "output_type": "stream",
     "text": [
      "0\n",
      "1\n",
      "2\n",
      "3\n",
      "4\n",
      "5\n",
      "6\n",
      "7\n",
      "8\n",
      "9\n",
      "10\n",
      "11\n"
     ]
    },
    {
     "ename": "Timeout",
     "evalue": "",
     "output_type": "error",
     "traceback": [
      "\u001b[0;31m---------------------------------------------------------------------------\u001b[0m",
      "\u001b[0;31mtimeout\u001b[0m                                   Traceback (most recent call last)",
      "File \u001b[0;32m/opt/anaconda3/envs/adss/lib/python3.8/site-packages/urllib3/connectionpool.py:449\u001b[0m, in \u001b[0;36mHTTPConnectionPool._make_request\u001b[0;34m(self, conn, method, url, timeout, chunked, **httplib_request_kw)\u001b[0m\n\u001b[1;32m    445\u001b[0m         \u001b[39mexcept\u001b[39;00m \u001b[39mBaseException\u001b[39;00m \u001b[39mas\u001b[39;00m e:\n\u001b[1;32m    446\u001b[0m             \u001b[39m# Remove the TypeError from the exception chain in\u001b[39;00m\n\u001b[1;32m    447\u001b[0m             \u001b[39m# Python 3 (including for exceptions like SystemExit).\u001b[39;00m\n\u001b[1;32m    448\u001b[0m             \u001b[39m# Otherwise it looks like a bug in the code.\u001b[39;00m\n\u001b[0;32m--> 449\u001b[0m             six\u001b[39m.\u001b[39;49mraise_from(e, \u001b[39mNone\u001b[39;49;00m)\n\u001b[1;32m    450\u001b[0m \u001b[39mexcept\u001b[39;00m (SocketTimeout, BaseSSLError, SocketError) \u001b[39mas\u001b[39;00m e:\n",
      "File \u001b[0;32m<string>:3\u001b[0m, in \u001b[0;36mraise_from\u001b[0;34m(value, from_value)\u001b[0m\n",
      "File \u001b[0;32m/opt/anaconda3/envs/adss/lib/python3.8/site-packages/urllib3/connectionpool.py:444\u001b[0m, in \u001b[0;36mHTTPConnectionPool._make_request\u001b[0;34m(self, conn, method, url, timeout, chunked, **httplib_request_kw)\u001b[0m\n\u001b[1;32m    443\u001b[0m \u001b[39mtry\u001b[39;00m:\n\u001b[0;32m--> 444\u001b[0m     httplib_response \u001b[39m=\u001b[39m conn\u001b[39m.\u001b[39;49mgetresponse()\n\u001b[1;32m    445\u001b[0m \u001b[39mexcept\u001b[39;00m \u001b[39mBaseException\u001b[39;00m \u001b[39mas\u001b[39;00m e:\n\u001b[1;32m    446\u001b[0m     \u001b[39m# Remove the TypeError from the exception chain in\u001b[39;00m\n\u001b[1;32m    447\u001b[0m     \u001b[39m# Python 3 (including for exceptions like SystemExit).\u001b[39;00m\n\u001b[1;32m    448\u001b[0m     \u001b[39m# Otherwise it looks like a bug in the code.\u001b[39;00m\n",
      "File \u001b[0;32m/opt/anaconda3/envs/adss/lib/python3.8/http/client.py:1348\u001b[0m, in \u001b[0;36mHTTPConnection.getresponse\u001b[0;34m(self)\u001b[0m\n\u001b[1;32m   1347\u001b[0m \u001b[39mtry\u001b[39;00m:\n\u001b[0;32m-> 1348\u001b[0m     response\u001b[39m.\u001b[39;49mbegin()\n\u001b[1;32m   1349\u001b[0m \u001b[39mexcept\u001b[39;00m \u001b[39mConnectionError\u001b[39;00m:\n",
      "File \u001b[0;32m/opt/anaconda3/envs/adss/lib/python3.8/http/client.py:316\u001b[0m, in \u001b[0;36mHTTPResponse.begin\u001b[0;34m(self)\u001b[0m\n\u001b[1;32m    315\u001b[0m \u001b[39mwhile\u001b[39;00m \u001b[39mTrue\u001b[39;00m:\n\u001b[0;32m--> 316\u001b[0m     version, status, reason \u001b[39m=\u001b[39m \u001b[39mself\u001b[39;49m\u001b[39m.\u001b[39;49m_read_status()\n\u001b[1;32m    317\u001b[0m     \u001b[39mif\u001b[39;00m status \u001b[39m!=\u001b[39m CONTINUE:\n",
      "File \u001b[0;32m/opt/anaconda3/envs/adss/lib/python3.8/http/client.py:277\u001b[0m, in \u001b[0;36mHTTPResponse._read_status\u001b[0;34m(self)\u001b[0m\n\u001b[1;32m    276\u001b[0m \u001b[39mdef\u001b[39;00m \u001b[39m_read_status\u001b[39m(\u001b[39mself\u001b[39m):\n\u001b[0;32m--> 277\u001b[0m     line \u001b[39m=\u001b[39m \u001b[39mstr\u001b[39m(\u001b[39mself\u001b[39;49m\u001b[39m.\u001b[39;49mfp\u001b[39m.\u001b[39;49mreadline(_MAXLINE \u001b[39m+\u001b[39;49m \u001b[39m1\u001b[39;49m), \u001b[39m\"\u001b[39m\u001b[39miso-8859-1\u001b[39m\u001b[39m\"\u001b[39m)\n\u001b[1;32m    278\u001b[0m     \u001b[39mif\u001b[39;00m \u001b[39mlen\u001b[39m(line) \u001b[39m>\u001b[39m _MAXLINE:\n",
      "File \u001b[0;32m/opt/anaconda3/envs/adss/lib/python3.8/socket.py:669\u001b[0m, in \u001b[0;36mSocketIO.readinto\u001b[0;34m(self, b)\u001b[0m\n\u001b[1;32m    668\u001b[0m \u001b[39mtry\u001b[39;00m:\n\u001b[0;32m--> 669\u001b[0m     \u001b[39mreturn\u001b[39;00m \u001b[39mself\u001b[39;49m\u001b[39m.\u001b[39;49m_sock\u001b[39m.\u001b[39;49mrecv_into(b)\n\u001b[1;32m    670\u001b[0m \u001b[39mexcept\u001b[39;00m timeout:\n",
      "File \u001b[0;32m/opt/anaconda3/envs/adss/lib/python3.8/ssl.py:1241\u001b[0m, in \u001b[0;36mSSLSocket.recv_into\u001b[0;34m(self, buffer, nbytes, flags)\u001b[0m\n\u001b[1;32m   1238\u001b[0m         \u001b[39mraise\u001b[39;00m \u001b[39mValueError\u001b[39;00m(\n\u001b[1;32m   1239\u001b[0m           \u001b[39m\"\u001b[39m\u001b[39mnon-zero flags not allowed in calls to recv_into() on \u001b[39m\u001b[39m%s\u001b[39;00m\u001b[39m\"\u001b[39m \u001b[39m%\u001b[39m\n\u001b[1;32m   1240\u001b[0m           \u001b[39mself\u001b[39m\u001b[39m.\u001b[39m\u001b[39m__class__\u001b[39m)\n\u001b[0;32m-> 1241\u001b[0m     \u001b[39mreturn\u001b[39;00m \u001b[39mself\u001b[39;49m\u001b[39m.\u001b[39;49mread(nbytes, buffer)\n\u001b[1;32m   1242\u001b[0m \u001b[39melse\u001b[39;00m:\n",
      "File \u001b[0;32m/opt/anaconda3/envs/adss/lib/python3.8/ssl.py:1099\u001b[0m, in \u001b[0;36mSSLSocket.read\u001b[0;34m(self, len, buffer)\u001b[0m\n\u001b[1;32m   1098\u001b[0m \u001b[39mif\u001b[39;00m buffer \u001b[39mis\u001b[39;00m \u001b[39mnot\u001b[39;00m \u001b[39mNone\u001b[39;00m:\n\u001b[0;32m-> 1099\u001b[0m     \u001b[39mreturn\u001b[39;00m \u001b[39mself\u001b[39;49m\u001b[39m.\u001b[39;49m_sslobj\u001b[39m.\u001b[39;49mread(\u001b[39mlen\u001b[39;49m, buffer)\n\u001b[1;32m   1100\u001b[0m \u001b[39melse\u001b[39;00m:\n",
      "\u001b[0;31mtimeout\u001b[0m: The read operation timed out",
      "\nDuring handling of the above exception, another exception occurred:\n",
      "\u001b[0;31mReadTimeoutError\u001b[0m                          Traceback (most recent call last)",
      "File \u001b[0;32m/opt/anaconda3/envs/adss/lib/python3.8/site-packages/requests/adapters.py:489\u001b[0m, in \u001b[0;36mHTTPAdapter.send\u001b[0;34m(self, request, stream, timeout, verify, cert, proxies)\u001b[0m\n\u001b[1;32m    488\u001b[0m \u001b[39mif\u001b[39;00m \u001b[39mnot\u001b[39;00m chunked:\n\u001b[0;32m--> 489\u001b[0m     resp \u001b[39m=\u001b[39m conn\u001b[39m.\u001b[39;49murlopen(\n\u001b[1;32m    490\u001b[0m         method\u001b[39m=\u001b[39;49mrequest\u001b[39m.\u001b[39;49mmethod,\n\u001b[1;32m    491\u001b[0m         url\u001b[39m=\u001b[39;49murl,\n\u001b[1;32m    492\u001b[0m         body\u001b[39m=\u001b[39;49mrequest\u001b[39m.\u001b[39;49mbody,\n\u001b[1;32m    493\u001b[0m         headers\u001b[39m=\u001b[39;49mrequest\u001b[39m.\u001b[39;49mheaders,\n\u001b[1;32m    494\u001b[0m         redirect\u001b[39m=\u001b[39;49m\u001b[39mFalse\u001b[39;49;00m,\n\u001b[1;32m    495\u001b[0m         assert_same_host\u001b[39m=\u001b[39;49m\u001b[39mFalse\u001b[39;49;00m,\n\u001b[1;32m    496\u001b[0m         preload_content\u001b[39m=\u001b[39;49m\u001b[39mFalse\u001b[39;49;00m,\n\u001b[1;32m    497\u001b[0m         decode_content\u001b[39m=\u001b[39;49m\u001b[39mFalse\u001b[39;49;00m,\n\u001b[1;32m    498\u001b[0m         retries\u001b[39m=\u001b[39;49m\u001b[39mself\u001b[39;49m\u001b[39m.\u001b[39;49mmax_retries,\n\u001b[1;32m    499\u001b[0m         timeout\u001b[39m=\u001b[39;49mtimeout,\n\u001b[1;32m    500\u001b[0m     )\n\u001b[1;32m    502\u001b[0m \u001b[39m# Send the request.\u001b[39;00m\n\u001b[1;32m    503\u001b[0m \u001b[39melse\u001b[39;00m:\n",
      "File \u001b[0;32m/opt/anaconda3/envs/adss/lib/python3.8/site-packages/urllib3/connectionpool.py:787\u001b[0m, in \u001b[0;36mHTTPConnectionPool.urlopen\u001b[0;34m(self, method, url, body, headers, retries, redirect, assert_same_host, timeout, pool_timeout, release_conn, chunked, body_pos, **response_kw)\u001b[0m\n\u001b[1;32m    785\u001b[0m     e \u001b[39m=\u001b[39m ProtocolError(\u001b[39m\"\u001b[39m\u001b[39mConnection aborted.\u001b[39m\u001b[39m\"\u001b[39m, e)\n\u001b[0;32m--> 787\u001b[0m retries \u001b[39m=\u001b[39m retries\u001b[39m.\u001b[39;49mincrement(\n\u001b[1;32m    788\u001b[0m     method, url, error\u001b[39m=\u001b[39;49me, _pool\u001b[39m=\u001b[39;49m\u001b[39mself\u001b[39;49m, _stacktrace\u001b[39m=\u001b[39;49msys\u001b[39m.\u001b[39;49mexc_info()[\u001b[39m2\u001b[39;49m]\n\u001b[1;32m    789\u001b[0m )\n\u001b[1;32m    790\u001b[0m retries\u001b[39m.\u001b[39msleep()\n",
      "File \u001b[0;32m/opt/anaconda3/envs/adss/lib/python3.8/site-packages/urllib3/util/retry.py:550\u001b[0m, in \u001b[0;36mRetry.increment\u001b[0;34m(self, method, url, response, error, _pool, _stacktrace)\u001b[0m\n\u001b[1;32m    549\u001b[0m \u001b[39mif\u001b[39;00m read \u001b[39mis\u001b[39;00m \u001b[39mFalse\u001b[39;00m \u001b[39mor\u001b[39;00m \u001b[39mnot\u001b[39;00m \u001b[39mself\u001b[39m\u001b[39m.\u001b[39m_is_method_retryable(method):\n\u001b[0;32m--> 550\u001b[0m     \u001b[39mraise\u001b[39;00m six\u001b[39m.\u001b[39;49mreraise(\u001b[39mtype\u001b[39;49m(error), error, _stacktrace)\n\u001b[1;32m    551\u001b[0m \u001b[39melif\u001b[39;00m read \u001b[39mis\u001b[39;00m \u001b[39mnot\u001b[39;00m \u001b[39mNone\u001b[39;00m:\n",
      "File \u001b[0;32m/opt/anaconda3/envs/adss/lib/python3.8/site-packages/urllib3/packages/six.py:770\u001b[0m, in \u001b[0;36mreraise\u001b[0;34m(tp, value, tb)\u001b[0m\n\u001b[1;32m    769\u001b[0m         \u001b[39mraise\u001b[39;00m value\u001b[39m.\u001b[39mwith_traceback(tb)\n\u001b[0;32m--> 770\u001b[0m     \u001b[39mraise\u001b[39;00m value\n\u001b[1;32m    771\u001b[0m \u001b[39mfinally\u001b[39;00m:\n",
      "File \u001b[0;32m/opt/anaconda3/envs/adss/lib/python3.8/site-packages/urllib3/connectionpool.py:703\u001b[0m, in \u001b[0;36mHTTPConnectionPool.urlopen\u001b[0;34m(self, method, url, body, headers, retries, redirect, assert_same_host, timeout, pool_timeout, release_conn, chunked, body_pos, **response_kw)\u001b[0m\n\u001b[1;32m    702\u001b[0m \u001b[39m# Make the request on the httplib connection object.\u001b[39;00m\n\u001b[0;32m--> 703\u001b[0m httplib_response \u001b[39m=\u001b[39m \u001b[39mself\u001b[39;49m\u001b[39m.\u001b[39;49m_make_request(\n\u001b[1;32m    704\u001b[0m     conn,\n\u001b[1;32m    705\u001b[0m     method,\n\u001b[1;32m    706\u001b[0m     url,\n\u001b[1;32m    707\u001b[0m     timeout\u001b[39m=\u001b[39;49mtimeout_obj,\n\u001b[1;32m    708\u001b[0m     body\u001b[39m=\u001b[39;49mbody,\n\u001b[1;32m    709\u001b[0m     headers\u001b[39m=\u001b[39;49mheaders,\n\u001b[1;32m    710\u001b[0m     chunked\u001b[39m=\u001b[39;49mchunked,\n\u001b[1;32m    711\u001b[0m )\n\u001b[1;32m    713\u001b[0m \u001b[39m# If we're going to release the connection in ``finally:``, then\u001b[39;00m\n\u001b[1;32m    714\u001b[0m \u001b[39m# the response doesn't need to know about the connection. Otherwise\u001b[39;00m\n\u001b[1;32m    715\u001b[0m \u001b[39m# it will also try to release it and we'll have a double-release\u001b[39;00m\n\u001b[1;32m    716\u001b[0m \u001b[39m# mess.\u001b[39;00m\n",
      "File \u001b[0;32m/opt/anaconda3/envs/adss/lib/python3.8/site-packages/urllib3/connectionpool.py:451\u001b[0m, in \u001b[0;36mHTTPConnectionPool._make_request\u001b[0;34m(self, conn, method, url, timeout, chunked, **httplib_request_kw)\u001b[0m\n\u001b[1;32m    450\u001b[0m \u001b[39mexcept\u001b[39;00m (SocketTimeout, BaseSSLError, SocketError) \u001b[39mas\u001b[39;00m e:\n\u001b[0;32m--> 451\u001b[0m     \u001b[39mself\u001b[39;49m\u001b[39m.\u001b[39;49m_raise_timeout(err\u001b[39m=\u001b[39;49me, url\u001b[39m=\u001b[39;49murl, timeout_value\u001b[39m=\u001b[39;49mread_timeout)\n\u001b[1;32m    452\u001b[0m     \u001b[39mraise\u001b[39;00m\n",
      "File \u001b[0;32m/opt/anaconda3/envs/adss/lib/python3.8/site-packages/urllib3/connectionpool.py:340\u001b[0m, in \u001b[0;36mHTTPConnectionPool._raise_timeout\u001b[0;34m(self, err, url, timeout_value)\u001b[0m\n\u001b[1;32m    339\u001b[0m \u001b[39mif\u001b[39;00m \u001b[39misinstance\u001b[39m(err, SocketTimeout):\n\u001b[0;32m--> 340\u001b[0m     \u001b[39mraise\u001b[39;00m ReadTimeoutError(\n\u001b[1;32m    341\u001b[0m         \u001b[39mself\u001b[39m, url, \u001b[39m\"\u001b[39m\u001b[39mRead timed out. (read timeout=\u001b[39m\u001b[39m%s\u001b[39;00m\u001b[39m)\u001b[39m\u001b[39m\"\u001b[39m \u001b[39m%\u001b[39m timeout_value\n\u001b[1;32m    342\u001b[0m     )\n\u001b[1;32m    344\u001b[0m \u001b[39m# See the above comment about EAGAIN in Python 3. In Python 2 we have\u001b[39;00m\n\u001b[1;32m    345\u001b[0m \u001b[39m# to specifically catch it and throw the timeout error\u001b[39;00m\n",
      "\u001b[0;31mReadTimeoutError\u001b[0m: HTTPSConnectionPool(host='api.openrouteservice.org', port=443): Read timed out. (read timeout=60)",
      "\nDuring handling of the above exception, another exception occurred:\n",
      "\u001b[0;31mReadTimeout\u001b[0m                               Traceback (most recent call last)",
      "File \u001b[0;32m/opt/anaconda3/envs/adss/lib/python3.8/site-packages/openrouteservice/client.py:186\u001b[0m, in \u001b[0;36mClient.request\u001b[0;34m(self, url, get_params, first_request_time, retry_counter, requests_kwargs, post_json, dry_run)\u001b[0m\n\u001b[1;32m    185\u001b[0m \u001b[39mtry\u001b[39;00m:\n\u001b[0;32m--> 186\u001b[0m     response \u001b[39m=\u001b[39m requests_method(\u001b[39mself\u001b[39;49m\u001b[39m.\u001b[39;49m_base_url \u001b[39m+\u001b[39;49m authed_url,\n\u001b[1;32m    187\u001b[0m                                \u001b[39m*\u001b[39;49m\u001b[39m*\u001b[39;49mfinal_requests_kwargs)\n\u001b[1;32m    188\u001b[0m     \u001b[39mself\u001b[39m\u001b[39m.\u001b[39m_req \u001b[39m=\u001b[39m response\u001b[39m.\u001b[39mrequest\n",
      "File \u001b[0;32m/opt/anaconda3/envs/adss/lib/python3.8/site-packages/requests/sessions.py:635\u001b[0m, in \u001b[0;36mSession.post\u001b[0;34m(self, url, data, json, **kwargs)\u001b[0m\n\u001b[1;32m    625\u001b[0m \u001b[39mr\u001b[39m\u001b[39m\"\"\"Sends a POST request. Returns :class:`Response` object.\u001b[39;00m\n\u001b[1;32m    626\u001b[0m \n\u001b[1;32m    627\u001b[0m \u001b[39m:param url: URL for the new :class:`Request` object.\u001b[39;00m\n\u001b[0;32m   (...)\u001b[0m\n\u001b[1;32m    632\u001b[0m \u001b[39m:rtype: requests.Response\u001b[39;00m\n\u001b[1;32m    633\u001b[0m \u001b[39m\"\"\"\u001b[39;00m\n\u001b[0;32m--> 635\u001b[0m \u001b[39mreturn\u001b[39;00m \u001b[39mself\u001b[39;49m\u001b[39m.\u001b[39;49mrequest(\u001b[39m\"\u001b[39;49m\u001b[39mPOST\u001b[39;49m\u001b[39m\"\u001b[39;49m, url, data\u001b[39m=\u001b[39;49mdata, json\u001b[39m=\u001b[39;49mjson, \u001b[39m*\u001b[39;49m\u001b[39m*\u001b[39;49mkwargs)\n",
      "File \u001b[0;32m/opt/anaconda3/envs/adss/lib/python3.8/site-packages/requests/sessions.py:587\u001b[0m, in \u001b[0;36mSession.request\u001b[0;34m(self, method, url, params, data, headers, cookies, files, auth, timeout, allow_redirects, proxies, hooks, stream, verify, cert, json)\u001b[0m\n\u001b[1;32m    586\u001b[0m send_kwargs\u001b[39m.\u001b[39mupdate(settings)\n\u001b[0;32m--> 587\u001b[0m resp \u001b[39m=\u001b[39m \u001b[39mself\u001b[39;49m\u001b[39m.\u001b[39;49msend(prep, \u001b[39m*\u001b[39;49m\u001b[39m*\u001b[39;49msend_kwargs)\n\u001b[1;32m    589\u001b[0m \u001b[39mreturn\u001b[39;00m resp\n",
      "File \u001b[0;32m/opt/anaconda3/envs/adss/lib/python3.8/site-packages/requests/sessions.py:701\u001b[0m, in \u001b[0;36mSession.send\u001b[0;34m(self, request, **kwargs)\u001b[0m\n\u001b[1;32m    700\u001b[0m \u001b[39m# Send the request\u001b[39;00m\n\u001b[0;32m--> 701\u001b[0m r \u001b[39m=\u001b[39m adapter\u001b[39m.\u001b[39;49msend(request, \u001b[39m*\u001b[39;49m\u001b[39m*\u001b[39;49mkwargs)\n\u001b[1;32m    703\u001b[0m \u001b[39m# Total elapsed time of the request (approximately)\u001b[39;00m\n",
      "File \u001b[0;32m/opt/anaconda3/envs/adss/lib/python3.8/site-packages/requests/adapters.py:578\u001b[0m, in \u001b[0;36mHTTPAdapter.send\u001b[0;34m(self, request, stream, timeout, verify, cert, proxies)\u001b[0m\n\u001b[1;32m    577\u001b[0m \u001b[39melif\u001b[39;00m \u001b[39misinstance\u001b[39m(e, ReadTimeoutError):\n\u001b[0;32m--> 578\u001b[0m     \u001b[39mraise\u001b[39;00m ReadTimeout(e, request\u001b[39m=\u001b[39mrequest)\n\u001b[1;32m    579\u001b[0m \u001b[39melif\u001b[39;00m \u001b[39misinstance\u001b[39m(e, _InvalidHeader):\n",
      "\u001b[0;31mReadTimeout\u001b[0m: HTTPSConnectionPool(host='api.openrouteservice.org', port=443): Read timed out. (read timeout=60)",
      "\nDuring handling of the above exception, another exception occurred:\n",
      "\u001b[0;31mTimeout\u001b[0m                                   Traceback (most recent call last)",
      "\u001b[1;32m/Users/liuxuan/Desktop/Code/ADS/group36/notebooks/gym_diatace.ipynb Cell 14\u001b[0m in \u001b[0;36m<cell line: 1>\u001b[0;34m()\u001b[0m\n\u001b[1;32m      <a href='vscode-notebook-cell:/Users/liuxuan/Desktop/Code/ADS/group36/notebooks/gym_diatace.ipynb#X24sZmlsZQ%3D%3D?line=1'>2</a>\u001b[0m coor \u001b[39m=\u001b[39m [domain, df[\u001b[39m\"\u001b[39m\u001b[39mcoordinates\u001b[39m\u001b[39m\"\u001b[39m][i]]\n\u001b[1;32m      <a href='vscode-notebook-cell:/Users/liuxuan/Desktop/Code/ADS/group36/notebooks/gym_diatace.ipynb#X24sZmlsZQ%3D%3D?line=2'>3</a>\u001b[0m client \u001b[39m=\u001b[39m ors\u001b[39m.\u001b[39mClient(key\u001b[39m=\u001b[39m\u001b[39m'\u001b[39m\u001b[39m5b3ce3597851110001cf62485a596fd9eb21422bafe1a2046e88f5f3\u001b[39m\u001b[39m'\u001b[39m)\n\u001b[0;32m----> <a href='vscode-notebook-cell:/Users/liuxuan/Desktop/Code/ADS/group36/notebooks/gym_diatace.ipynb#X24sZmlsZQ%3D%3D?line=3'>4</a>\u001b[0m matrix \u001b[39m=\u001b[39m client\u001b[39m.\u001b[39;49mdistance_matrix(\n\u001b[1;32m      <a href='vscode-notebook-cell:/Users/liuxuan/Desktop/Code/ADS/group36/notebooks/gym_diatace.ipynb#X24sZmlsZQ%3D%3D?line=4'>5</a>\u001b[0m     locations\u001b[39m=\u001b[39;49mcoor,\n\u001b[1;32m      <a href='vscode-notebook-cell:/Users/liuxuan/Desktop/Code/ADS/group36/notebooks/gym_diatace.ipynb#X24sZmlsZQ%3D%3D?line=5'>6</a>\u001b[0m     profile\u001b[39m=\u001b[39;49m\u001b[39m'\u001b[39;49m\u001b[39mdriving-car\u001b[39;49m\u001b[39m'\u001b[39;49m,\n\u001b[1;32m      <a href='vscode-notebook-cell:/Users/liuxuan/Desktop/Code/ADS/group36/notebooks/gym_diatace.ipynb#X24sZmlsZQ%3D%3D?line=6'>7</a>\u001b[0m     metrics\u001b[39m=\u001b[39;49m[\u001b[39m'\u001b[39;49m\u001b[39mdistance\u001b[39;49m\u001b[39m'\u001b[39;49m],\n\u001b[1;32m      <a href='vscode-notebook-cell:/Users/liuxuan/Desktop/Code/ADS/group36/notebooks/gym_diatace.ipynb#X24sZmlsZQ%3D%3D?line=7'>8</a>\u001b[0m     validate\u001b[39m=\u001b[39;49m\u001b[39mFalse\u001b[39;49;00m,\n\u001b[1;32m      <a href='vscode-notebook-cell:/Users/liuxuan/Desktop/Code/ADS/group36/notebooks/gym_diatace.ipynb#X24sZmlsZQ%3D%3D?line=8'>9</a>\u001b[0m )\n\u001b[1;32m     <a href='vscode-notebook-cell:/Users/liuxuan/Desktop/Code/ADS/group36/notebooks/gym_diatace.ipynb#X24sZmlsZQ%3D%3D?line=9'>10</a>\u001b[0m \u001b[39mprint\u001b[39m(i)\n\u001b[1;32m     <a href='vscode-notebook-cell:/Users/liuxuan/Desktop/Code/ADS/group36/notebooks/gym_diatace.ipynb#X24sZmlsZQ%3D%3D?line=10'>11</a>\u001b[0m distance\u001b[39m.\u001b[39mappend(matrix[\u001b[39m'\u001b[39m\u001b[39mdistances\u001b[39m\u001b[39m'\u001b[39m][\u001b[39m0\u001b[39m][\u001b[39m-\u001b[39m\u001b[39m1\u001b[39m])\n",
      "File \u001b[0;32m/opt/anaconda3/envs/adss/lib/python3.8/site-packages/openrouteservice/client.py:299\u001b[0m, in \u001b[0;36m_make_api_method.<locals>.wrapper\u001b[0;34m(*args, **kwargs)\u001b[0m\n\u001b[1;32m    296\u001b[0m \u001b[39m@functools\u001b[39m\u001b[39m.\u001b[39mwraps(func)\n\u001b[1;32m    297\u001b[0m \u001b[39mdef\u001b[39;00m \u001b[39mwrapper\u001b[39m(\u001b[39m*\u001b[39margs, \u001b[39m*\u001b[39m\u001b[39m*\u001b[39mkwargs):\n\u001b[1;32m    298\u001b[0m     args[\u001b[39m0\u001b[39m]\u001b[39m.\u001b[39m_extra_params \u001b[39m=\u001b[39m kwargs\u001b[39m.\u001b[39mpop(\u001b[39m\"\u001b[39m\u001b[39mextra_params\u001b[39m\u001b[39m\"\u001b[39m, \u001b[39mNone\u001b[39;00m)\n\u001b[0;32m--> 299\u001b[0m     result \u001b[39m=\u001b[39m func(\u001b[39m*\u001b[39;49margs, \u001b[39m*\u001b[39;49m\u001b[39m*\u001b[39;49mkwargs)\n\u001b[1;32m    300\u001b[0m     \u001b[39mtry\u001b[39;00m:\n\u001b[1;32m    301\u001b[0m         \u001b[39mdel\u001b[39;00m args[\u001b[39m0\u001b[39m]\u001b[39m.\u001b[39m_extra_params\n",
      "File \u001b[0;32m/opt/anaconda3/envs/adss/lib/python3.8/site-packages/openrouteservice/distance_matrix.py:116\u001b[0m, in \u001b[0;36mdistance_matrix\u001b[0;34m(client, locations, profile, sources, destinations, metrics, resolve_locations, units, optimized, validate, dry_run)\u001b[0m\n\u001b[1;32m    113\u001b[0m \u001b[39mif\u001b[39;00m optimized \u001b[39mis\u001b[39;00m \u001b[39mnot\u001b[39;00m \u001b[39mNone\u001b[39;00m:\n\u001b[1;32m    114\u001b[0m     params[\u001b[39m\"\u001b[39m\u001b[39moptimized\u001b[39m\u001b[39m\"\u001b[39m] \u001b[39m=\u001b[39m optimized\n\u001b[0;32m--> 116\u001b[0m \u001b[39mreturn\u001b[39;00m client\u001b[39m.\u001b[39;49mrequest(\u001b[39m\"\u001b[39;49m\u001b[39m/v2/matrix/\u001b[39;49m\u001b[39m\"\u001b[39;49m \u001b[39m+\u001b[39;49m profile \u001b[39m+\u001b[39;49m \u001b[39m'\u001b[39;49m\u001b[39m/json\u001b[39;49m\u001b[39m'\u001b[39;49m, {}, post_json\u001b[39m=\u001b[39;49mparams, dry_run\u001b[39m=\u001b[39;49mdry_run)\n",
      "File \u001b[0;32m/opt/anaconda3/envs/adss/lib/python3.8/site-packages/openrouteservice/client.py:191\u001b[0m, in \u001b[0;36mClient.request\u001b[0;34m(self, url, get_params, first_request_time, retry_counter, requests_kwargs, post_json, dry_run)\u001b[0m\n\u001b[1;32m    188\u001b[0m     \u001b[39mself\u001b[39m\u001b[39m.\u001b[39m_req \u001b[39m=\u001b[39m response\u001b[39m.\u001b[39mrequest\n\u001b[1;32m    190\u001b[0m \u001b[39mexcept\u001b[39;00m requests\u001b[39m.\u001b[39mexceptions\u001b[39m.\u001b[39mTimeout:\n\u001b[0;32m--> 191\u001b[0m     \u001b[39mraise\u001b[39;00m exceptions\u001b[39m.\u001b[39mTimeout()\n\u001b[1;32m    193\u001b[0m \u001b[39mif\u001b[39;00m response\u001b[39m.\u001b[39mstatus_code \u001b[39min\u001b[39;00m _RETRIABLE_STATUSES:\n\u001b[1;32m    194\u001b[0m     \u001b[39m# Retry request.\u001b[39;00m\n\u001b[1;32m    195\u001b[0m     warnings\u001b[39m.\u001b[39mwarn(\u001b[39m'\u001b[39m\u001b[39mServer down.\u001b[39m\u001b[39m\\n\u001b[39;00m\u001b[39mRetrying for the \u001b[39m\u001b[39m{0}\u001b[39;00m\u001b[39m{1}\u001b[39;00m\u001b[39m time.\u001b[39m\u001b[39m'\u001b[39m\u001b[39m.\u001b[39mformat(retry_counter \u001b[39m+\u001b[39m \u001b[39m1\u001b[39m,\n\u001b[1;32m    196\u001b[0m                                                                        get_ordinal(retry_counter \u001b[39m+\u001b[39m \u001b[39m1\u001b[39m)),\n\u001b[1;32m    197\u001b[0m                   \u001b[39mUserWarning\u001b[39;00m,\n\u001b[1;32m    198\u001b[0m                   stacklevel\u001b[39m=\u001b[39m\u001b[39m1\u001b[39m)\n",
      "\u001b[0;31mTimeout\u001b[0m: "
     ]
    }
   ],
   "source": [
    "for i in range(20):\n",
    "    coor = [domain, df[\"coordinates\"][i]]\n",
    "    client = ors.Client(key='5b3ce3597851110001cf62485a596fd9eb21422bafe1a2046e88f5f3')\n",
    "    matrix = client.distance_matrix(\n",
    "        locations=coor,\n",
    "        profile='driving-car',\n",
    "        metrics=['distance'],\n",
    "        validate=False,\n",
    "    )\n",
    "    print(i)\n",
    "    distance.append(matrix['distances'][0][-1])"
   ]
  },
  {
   "cell_type": "code",
   "execution_count": 110,
   "metadata": {},
   "outputs": [
    {
     "ename": "ValueError",
     "evalue": "min() arg is an empty sequence",
     "output_type": "error",
     "traceback": [
      "\u001b[0;31m---------------------------------------------------------------------------\u001b[0m",
      "\u001b[0;31mValueError\u001b[0m                                Traceback (most recent call last)",
      "\u001b[1;32m/Users/liuxuan/Desktop/Code/ADS/group36/notebooks/gym_diatace.ipynb Cell 15\u001b[0m in \u001b[0;36m<cell line: 2>\u001b[0;34m()\u001b[0m\n\u001b[1;32m      <a href='vscode-notebook-cell:/Users/liuxuan/Desktop/Code/ADS/group36/notebooks/gym_diatace.ipynb#X26sZmlsZQ%3D%3D?line=0'>1</a>\u001b[0m \u001b[39m# find index of the cloest location\u001b[39;00m\n\u001b[0;32m----> <a href='vscode-notebook-cell:/Users/liuxuan/Desktop/Code/ADS/group36/notebooks/gym_diatace.ipynb#X26sZmlsZQ%3D%3D?line=1'>2</a>\u001b[0m loc \u001b[39m=\u001b[39m df[\u001b[39m\"\u001b[39m\u001b[39mFacility Name\u001b[39m\u001b[39m\"\u001b[39m][distance\u001b[39m.\u001b[39mindex(\u001b[39mmin\u001b[39;49m(distance))]\n\u001b[1;32m      <a href='vscode-notebook-cell:/Users/liuxuan/Desktop/Code/ADS/group36/notebooks/gym_diatace.ipynb#X26sZmlsZQ%3D%3D?line=2'>3</a>\u001b[0m loc\n",
      "\u001b[0;31mValueError\u001b[0m: min() arg is an empty sequence"
     ]
    }
   ],
   "source": [
    "# find index of the cloest location\n",
    "loc = df[\"Facility Name\"][distance.index(min(distance))]\n",
    "loc"
   ]
  }
 ],
 "metadata": {
  "kernelspec": {
   "display_name": "Python 3.8.13 ('adss')",
   "language": "python",
   "name": "python3"
  },
  "language_info": {
   "codemirror_mode": {
    "name": "ipython",
    "version": 3
   },
   "file_extension": ".py",
   "mimetype": "text/x-python",
   "name": "python",
   "nbconvert_exporter": "python",
   "pygments_lexer": "ipython3",
   "version": "3.8.13"
  },
  "orig_nbformat": 4,
  "vscode": {
   "interpreter": {
    "hash": "9ae05aae0fdd6049fb1512c736406548a6ffb59938935de13e474ca5147b5f3e"
   }
  }
 },
 "nbformat": 4,
 "nbformat_minor": 2
}
