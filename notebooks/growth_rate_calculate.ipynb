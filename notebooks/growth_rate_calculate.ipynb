{
 "cells": [
  {
   "cell_type": "code",
   "execution_count": 1,
   "metadata": {
    "collapsed": true
   },
   "outputs": [],
   "source": [
    "import matplotlib.pyplot as plt\n",
    "import pandas as pd\n",
    "import numpy as np"
   ]
  },
  {
   "cell_type": "code",
   "execution_count": 2,
   "outputs": [],
   "source": [
    "price = pd.read_csv(\"../data/curated/prediction_house.csv\")\n",
    "price_apart = pd.read_csv(\"../data/curated/prediction_apartment.csv\")"
   ],
   "metadata": {
    "collapsed": false,
    "pycharm": {
     "name": "#%%\n"
    }
   }
  },
  {
   "cell_type": "code",
   "execution_count": 3,
   "outputs": [
    {
     "data": {
      "text/plain": "   Unnamed: 0          suburb  price2022  price2023  price2024  price2025\n0           0  EAST MELBOURNE        495   554.3626   553.3934   552.9421\n1           1  EAST MELBOURNE        495   554.3626   553.3934   552.9421\n2           2  EAST MELBOURNE        420   531.5913   538.4018   543.0511\n3           3  EAST MELBOURNE        420   531.5913   538.4018   543.0511\n4           4  EAST MELBOURNE        550   554.3626   553.3934   552.9421",
      "text/html": "<div>\n<style scoped>\n    .dataframe tbody tr th:only-of-type {\n        vertical-align: middle;\n    }\n\n    .dataframe tbody tr th {\n        vertical-align: top;\n    }\n\n    .dataframe thead th {\n        text-align: right;\n    }\n</style>\n<table border=\"1\" class=\"dataframe\">\n  <thead>\n    <tr style=\"text-align: right;\">\n      <th></th>\n      <th>Unnamed: 0</th>\n      <th>suburb</th>\n      <th>price2022</th>\n      <th>price2023</th>\n      <th>price2024</th>\n      <th>price2025</th>\n    </tr>\n  </thead>\n  <tbody>\n    <tr>\n      <th>0</th>\n      <td>0</td>\n      <td>EAST MELBOURNE</td>\n      <td>495</td>\n      <td>554.3626</td>\n      <td>553.3934</td>\n      <td>552.9421</td>\n    </tr>\n    <tr>\n      <th>1</th>\n      <td>1</td>\n      <td>EAST MELBOURNE</td>\n      <td>495</td>\n      <td>554.3626</td>\n      <td>553.3934</td>\n      <td>552.9421</td>\n    </tr>\n    <tr>\n      <th>2</th>\n      <td>2</td>\n      <td>EAST MELBOURNE</td>\n      <td>420</td>\n      <td>531.5913</td>\n      <td>538.4018</td>\n      <td>543.0511</td>\n    </tr>\n    <tr>\n      <th>3</th>\n      <td>3</td>\n      <td>EAST MELBOURNE</td>\n      <td>420</td>\n      <td>531.5913</td>\n      <td>538.4018</td>\n      <td>543.0511</td>\n    </tr>\n    <tr>\n      <th>4</th>\n      <td>4</td>\n      <td>EAST MELBOURNE</td>\n      <td>550</td>\n      <td>554.3626</td>\n      <td>553.3934</td>\n      <td>552.9421</td>\n    </tr>\n  </tbody>\n</table>\n</div>"
     },
     "execution_count": 3,
     "metadata": {},
     "output_type": "execute_result"
    }
   ],
   "source": [
    "price.head()\n",
    "price_apart.head()"
   ],
   "metadata": {
    "collapsed": false,
    "pycharm": {
     "name": "#%%\n"
    }
   }
  },
  {
   "cell_type": "markdown",
   "source": [
    "House in Top10 growth rate suburbs\n"
   ],
   "metadata": {
    "collapsed": false,
    "pycharm": {
     "name": "#%% md\n"
    }
   }
  },
  {
   "cell_type": "code",
   "execution_count": 4,
   "outputs": [
    {
     "data": {
      "text/plain": "           suburb  price2022   price2023\n0      ABBOTSFORD      644.0  648.538290\n1    AIRPORT WEST      420.0  428.844600\n2       ALFREDTON      480.0  472.238070\n3          ALTONA      440.0  432.842680\n4  ALTONA MEADOWS      630.0  611.753295",
      "text/html": "<div>\n<style scoped>\n    .dataframe tbody tr th:only-of-type {\n        vertical-align: middle;\n    }\n\n    .dataframe tbody tr th {\n        vertical-align: top;\n    }\n\n    .dataframe thead th {\n        text-align: right;\n    }\n</style>\n<table border=\"1\" class=\"dataframe\">\n  <thead>\n    <tr style=\"text-align: right;\">\n      <th></th>\n      <th>suburb</th>\n      <th>price2022</th>\n      <th>price2023</th>\n    </tr>\n  </thead>\n  <tbody>\n    <tr>\n      <th>0</th>\n      <td>ABBOTSFORD</td>\n      <td>644.0</td>\n      <td>648.538290</td>\n    </tr>\n    <tr>\n      <th>1</th>\n      <td>AIRPORT WEST</td>\n      <td>420.0</td>\n      <td>428.844600</td>\n    </tr>\n    <tr>\n      <th>2</th>\n      <td>ALFREDTON</td>\n      <td>480.0</td>\n      <td>472.238070</td>\n    </tr>\n    <tr>\n      <th>3</th>\n      <td>ALTONA</td>\n      <td>440.0</td>\n      <td>432.842680</td>\n    </tr>\n    <tr>\n      <th>4</th>\n      <td>ALTONA MEADOWS</td>\n      <td>630.0</td>\n      <td>611.753295</td>\n    </tr>\n  </tbody>\n</table>\n</div>"
     },
     "execution_count": 4,
     "metadata": {},
     "output_type": "execute_result"
    }
   ],
   "source": [
    "price = price.drop_duplicates(keep= 'first')\n",
    "\n",
    "a= pd.DataFrame(price['price2022'].groupby(price['suburb']).mean().reset_index())\n",
    "b = pd.DataFrame(price['price2023'].groupby(price['suburb']).mean().reset_index())\n",
    "\n",
    "\n",
    "newprice = pd.merge(a,b, how='left')\n",
    "\n",
    "newprice.head()"
   ],
   "metadata": {
    "collapsed": false,
    "pycharm": {
     "name": "#%% calculate the mean price of 2022 and 2023\n"
    }
   }
  },
  {
   "cell_type": "markdown",
   "source": [
    "Formula\n"
   ],
   "metadata": {
    "collapsed": false,
    "pycharm": {
     "name": "#%% md\n"
    }
   }
  },
  {
   "cell_type": "code",
   "execution_count": 5,
   "outputs": [],
   "source": [
    "newprice['growth rate(%)'] = ((newprice['price2023']- (newprice['price2022'])) / newprice['price2022']) *100"
   ],
   "metadata": {
    "collapsed": false,
    "pycharm": {
     "name": "#%%\n"
    }
   }
  },
  {
   "cell_type": "code",
   "execution_count": 6,
   "outputs": [],
   "source": [
    "newprice = newprice.sort_values(by=\"growth rate(%)\" , ascending=False)"
   ],
   "metadata": {
    "collapsed": false,
    "pycharm": {
     "name": "#%%rearrange the order from the highest growth rate to the lowest\n"
    }
   }
  },
  {
   "cell_type": "code",
   "execution_count": 7,
   "outputs": [
    {
     "data": {
      "text/plain": "                suburb    price2022    price2023  growth rate(%)\n136   WERRIBEE - SOUTH   280.000000   544.153900       94.340679\n127          TRUGANINA   441.428571   729.033004       65.153108\n80               LALOR   500.000000   781.878100       56.375620\n118     SUNSHINE NORTH   350.000000   541.305850       54.658814\n32   CAULFIELD - NORTH   680.000000  1009.464050       48.450596\n131             WALLAN   390.000000   541.305850       38.796372\n133     WANTIRNA SOUTH   472.500000   593.825455       25.677345\n109      RINGWOOD EAST   550.000000   689.321200       25.331127\n123         THOMASTOWN   388.333333   481.405063       23.966969\n10           BAYSWATER   520.000000   641.003850       23.269971\n112         SPRINGVALE   455.625000   534.442535       17.298773\n69            HAWTHORN  1220.000000  1415.408835       16.017118\n24             BULLEEN   550.000000   629.754870       14.500885\n63             GEELONG   560.000000   640.572700       14.387982\n40    CRANBOURNE NORTH   503.750000   575.551175       14.253335\n71     HEIDELBERG WEST   281.666667   312.725560       11.026826\n87         MELTON WEST   430.000000   474.522000       10.353953\n82            LAVERTON   390.000000   424.884980        8.944867\n26        BURWOOD EAST   575.000000   623.976715        8.517690\n111         SOMERVILLE   500.000000   541.287600        8.257520\n134           WARRAGUL   635.111111   683.832427        7.671306\n85      MEADOW HEIGHTS   410.000000   440.896970        7.535846\n91         MOOROOLBARK   485.000000   521.047800        7.432536\n129            VERMONT   437.500000   468.866837        7.169563\n99    NOBLE PARK NORTH   562.500000   601.361420        6.908697\n74          HUGHESDALE   661.000000   705.173880        6.682887\n28          CAMBERWELL  1040.833333  1108.621828        6.512906\n142       WYNDHAM VALE   384.500000   409.226362        6.430783\n89              MERNDA   450.000000   474.564297        5.458733\n19       BRIGHTON EAST   903.384615   951.258208        5.299359",
      "text/html": "<div>\n<style scoped>\n    .dataframe tbody tr th:only-of-type {\n        vertical-align: middle;\n    }\n\n    .dataframe tbody tr th {\n        vertical-align: top;\n    }\n\n    .dataframe thead th {\n        text-align: right;\n    }\n</style>\n<table border=\"1\" class=\"dataframe\">\n  <thead>\n    <tr style=\"text-align: right;\">\n      <th></th>\n      <th>suburb</th>\n      <th>price2022</th>\n      <th>price2023</th>\n      <th>growth rate(%)</th>\n    </tr>\n  </thead>\n  <tbody>\n    <tr>\n      <th>136</th>\n      <td>WERRIBEE - SOUTH</td>\n      <td>280.000000</td>\n      <td>544.153900</td>\n      <td>94.340679</td>\n    </tr>\n    <tr>\n      <th>127</th>\n      <td>TRUGANINA</td>\n      <td>441.428571</td>\n      <td>729.033004</td>\n      <td>65.153108</td>\n    </tr>\n    <tr>\n      <th>80</th>\n      <td>LALOR</td>\n      <td>500.000000</td>\n      <td>781.878100</td>\n      <td>56.375620</td>\n    </tr>\n    <tr>\n      <th>118</th>\n      <td>SUNSHINE NORTH</td>\n      <td>350.000000</td>\n      <td>541.305850</td>\n      <td>54.658814</td>\n    </tr>\n    <tr>\n      <th>32</th>\n      <td>CAULFIELD - NORTH</td>\n      <td>680.000000</td>\n      <td>1009.464050</td>\n      <td>48.450596</td>\n    </tr>\n    <tr>\n      <th>131</th>\n      <td>WALLAN</td>\n      <td>390.000000</td>\n      <td>541.305850</td>\n      <td>38.796372</td>\n    </tr>\n    <tr>\n      <th>133</th>\n      <td>WANTIRNA SOUTH</td>\n      <td>472.500000</td>\n      <td>593.825455</td>\n      <td>25.677345</td>\n    </tr>\n    <tr>\n      <th>109</th>\n      <td>RINGWOOD EAST</td>\n      <td>550.000000</td>\n      <td>689.321200</td>\n      <td>25.331127</td>\n    </tr>\n    <tr>\n      <th>123</th>\n      <td>THOMASTOWN</td>\n      <td>388.333333</td>\n      <td>481.405063</td>\n      <td>23.966969</td>\n    </tr>\n    <tr>\n      <th>10</th>\n      <td>BAYSWATER</td>\n      <td>520.000000</td>\n      <td>641.003850</td>\n      <td>23.269971</td>\n    </tr>\n    <tr>\n      <th>112</th>\n      <td>SPRINGVALE</td>\n      <td>455.625000</td>\n      <td>534.442535</td>\n      <td>17.298773</td>\n    </tr>\n    <tr>\n      <th>69</th>\n      <td>HAWTHORN</td>\n      <td>1220.000000</td>\n      <td>1415.408835</td>\n      <td>16.017118</td>\n    </tr>\n    <tr>\n      <th>24</th>\n      <td>BULLEEN</td>\n      <td>550.000000</td>\n      <td>629.754870</td>\n      <td>14.500885</td>\n    </tr>\n    <tr>\n      <th>63</th>\n      <td>GEELONG</td>\n      <td>560.000000</td>\n      <td>640.572700</td>\n      <td>14.387982</td>\n    </tr>\n    <tr>\n      <th>40</th>\n      <td>CRANBOURNE NORTH</td>\n      <td>503.750000</td>\n      <td>575.551175</td>\n      <td>14.253335</td>\n    </tr>\n    <tr>\n      <th>71</th>\n      <td>HEIDELBERG WEST</td>\n      <td>281.666667</td>\n      <td>312.725560</td>\n      <td>11.026826</td>\n    </tr>\n    <tr>\n      <th>87</th>\n      <td>MELTON WEST</td>\n      <td>430.000000</td>\n      <td>474.522000</td>\n      <td>10.353953</td>\n    </tr>\n    <tr>\n      <th>82</th>\n      <td>LAVERTON</td>\n      <td>390.000000</td>\n      <td>424.884980</td>\n      <td>8.944867</td>\n    </tr>\n    <tr>\n      <th>26</th>\n      <td>BURWOOD EAST</td>\n      <td>575.000000</td>\n      <td>623.976715</td>\n      <td>8.517690</td>\n    </tr>\n    <tr>\n      <th>111</th>\n      <td>SOMERVILLE</td>\n      <td>500.000000</td>\n      <td>541.287600</td>\n      <td>8.257520</td>\n    </tr>\n    <tr>\n      <th>134</th>\n      <td>WARRAGUL</td>\n      <td>635.111111</td>\n      <td>683.832427</td>\n      <td>7.671306</td>\n    </tr>\n    <tr>\n      <th>85</th>\n      <td>MEADOW HEIGHTS</td>\n      <td>410.000000</td>\n      <td>440.896970</td>\n      <td>7.535846</td>\n    </tr>\n    <tr>\n      <th>91</th>\n      <td>MOOROOLBARK</td>\n      <td>485.000000</td>\n      <td>521.047800</td>\n      <td>7.432536</td>\n    </tr>\n    <tr>\n      <th>129</th>\n      <td>VERMONT</td>\n      <td>437.500000</td>\n      <td>468.866837</td>\n      <td>7.169563</td>\n    </tr>\n    <tr>\n      <th>99</th>\n      <td>NOBLE PARK NORTH</td>\n      <td>562.500000</td>\n      <td>601.361420</td>\n      <td>6.908697</td>\n    </tr>\n    <tr>\n      <th>74</th>\n      <td>HUGHESDALE</td>\n      <td>661.000000</td>\n      <td>705.173880</td>\n      <td>6.682887</td>\n    </tr>\n    <tr>\n      <th>28</th>\n      <td>CAMBERWELL</td>\n      <td>1040.833333</td>\n      <td>1108.621828</td>\n      <td>6.512906</td>\n    </tr>\n    <tr>\n      <th>142</th>\n      <td>WYNDHAM VALE</td>\n      <td>384.500000</td>\n      <td>409.226362</td>\n      <td>6.430783</td>\n    </tr>\n    <tr>\n      <th>89</th>\n      <td>MERNDA</td>\n      <td>450.000000</td>\n      <td>474.564297</td>\n      <td>5.458733</td>\n    </tr>\n    <tr>\n      <th>19</th>\n      <td>BRIGHTON EAST</td>\n      <td>903.384615</td>\n      <td>951.258208</td>\n      <td>5.299359</td>\n    </tr>\n  </tbody>\n</table>\n</div>"
     },
     "execution_count": 7,
     "metadata": {},
     "output_type": "execute_result"
    }
   ],
   "source": [
    "\n",
    "newprice.head(30)"
   ],
   "metadata": {
    "collapsed": false,
    "pycharm": {
     "name": "#%%\n"
    }
   }
  },
  {
   "cell_type": "markdown",
   "source": [
    "Remove outliers"
   ],
   "metadata": {
    "collapsed": false,
    "pycharm": {
     "name": "#%% md\n"
    }
   }
  },
  {
   "cell_type": "code",
   "execution_count": 8,
   "outputs": [
    {
     "data": {
      "text/plain": "{'whiskers': [<matplotlib.lines.Line2D at 0x10686b250>,\n  <matplotlib.lines.Line2D at 0x10686b520>],\n 'caps': [<matplotlib.lines.Line2D at 0x10686b7f0>,\n  <matplotlib.lines.Line2D at 0x10686bac0>],\n 'boxes': [<matplotlib.lines.Line2D at 0x106852f40>],\n 'medians': [<matplotlib.lines.Line2D at 0x10686bd90>],\n 'fliers': [<matplotlib.lines.Line2D at 0x1249770a0>],\n 'means': []}"
     },
     "execution_count": 8,
     "metadata": {},
     "output_type": "execute_result"
    },
    {
     "data": {
      "text/plain": "<Figure size 432x288 with 1 Axes>",
      "image/png": "[encoded data removed]"
     },
     "metadata": {
      "needs_background": "light"
     },
     "output_type": "display_data"
    }
   ],
   "source": [
    "plt.boxplot(newprice['growth rate(%)'])\n"
   ],
   "metadata": {
    "collapsed": false,
    "pycharm": {
     "name": "#%%\n"
    }
   }
  },
  {
   "cell_type": "code",
   "source": [
    "newprice = newprice[newprice['growth rate(%)']<=100]"
   ],
   "metadata": {
    "collapsed": false,
    "pycharm": {
     "name": "#%%\n"
    }
   },
   "execution_count": 9,
   "outputs": []
  },
  {
   "cell_type": "code",
   "execution_count": 10,
   "outputs": [
    {
     "data": {
      "text/plain": "{'whiskers': [<matplotlib.lines.Line2D at 0x124af7040>,\n  <matplotlib.lines.Line2D at 0x124af7310>],\n 'caps': [<matplotlib.lines.Line2D at 0x124af75e0>,\n  <matplotlib.lines.Line2D at 0x124af78b0>],\n 'boxes': [<matplotlib.lines.Line2D at 0x124ae7d30>],\n 'medians': [<matplotlib.lines.Line2D at 0x124af7b80>],\n 'fliers': [<matplotlib.lines.Line2D at 0x124af7e50>],\n 'means': []}"
     },
     "execution_count": 10,
     "metadata": {},
     "output_type": "execute_result"
    },
    {
     "data": {
      "text/plain": "<Figure size 432x288 with 1 Axes>",
      "image/png": "[encoded data removed]"
     },
     "metadata": {
      "needs_background": "light"
     },
     "output_type": "display_data"
    }
   ],
   "source": [
    "plt.boxplot(newprice['growth rate(%)'])"
   ],
   "metadata": {
    "collapsed": false,
    "pycharm": {
     "name": "#%%\n"
    }
   }
  },
  {
   "cell_type": "markdown",
   "source": [
    "Bar plot show top 10 suburb"
   ],
   "metadata": {
    "collapsed": false,
    "pycharm": {
     "name": "#%% md\n"
    }
   }
  },
  {
   "cell_type": "code",
   "execution_count": 11,
   "outputs": [
    {
     "data": {
      "text/plain": "<Figure size 1080x504 with 1 Axes>",
      "image/png": "[encoded data removed]"
     },
     "metadata": {
      "needs_background": "light"
     },
     "output_type": "display_data"
    }
   ],
   "source": [
    "# plot the relationship between income growth rate and top10 suburb\n",
    "df1 = newprice[['suburb','growth rate(%)']]\n",
    "y = df1['growth rate(%)'][:10]\n",
    "x = df1['suburb'][:10]\n",
    "\n",
    "fig = plt.figure(figsize =(15, 7))\n",
    "plt.bar(x, y, alpha=0.5, width = 0.5, linewidth = 2, color = 'purple')\n",
    "plt.title('Top 10 suburbs with the highest growth rate', fontsize= 18)\n",
    "for a,b in zip(x,y):\n",
    " plt.text(a, b+0.05, '%.0f' % b, ha='center', va= 'bottom',fontsize=11)\n",
    "plt.xlabel('suburbs', fontsize = 15)\n",
    "plt.ylabel('growth rate', fontsize = 15)\n",
    "plt.show()\n",
    "#plt.savefig(\"../plots/house growth rate.png\")"
   ],
   "metadata": {
    "collapsed": false,
    "pycharm": {
     "name": "#%%\n"
    }
   }
  },
  {
   "cell_type": "code",
   "execution_count": 12,
   "outputs": [
    {
     "name": "stdout",
     "output_type": "stream",
     "text": [
      "Top10suburb is WERRIBEE - SOUTH\n",
      "Top10suburb is TRUGANINA\n",
      "Top10suburb is LALOR\n",
      "Top10suburb is SUNSHINE NORTH\n",
      "Top10suburb is CAULFIELD - NORTH\n",
      "Top10suburb is WALLAN\n",
      "Top10suburb is WANTIRNA SOUTH\n",
      "Top10suburb is RINGWOOD EAST\n",
      "Top10suburb is THOMASTOWN\n",
      "Top10suburb is BAYSWATER\n"
     ]
    }
   ],
   "source": [
    "for i in df1['suburb'][:10]:\n",
    "    print('Top10suburb is %s' % i)\n"
   ],
   "metadata": {
    "collapsed": false,
    "pycharm": {
     "name": "#%%\n"
    }
   }
  },
  {
   "cell_type": "markdown",
   "source": [
    "Apartment in Top10 Growth Rate suburbs"
   ],
   "metadata": {
    "collapsed": false,
    "pycharm": {
     "name": "#%% md\n"
    }
   }
  },
  {
   "cell_type": "code",
   "execution_count": 13,
   "outputs": [
    {
     "data": {
      "text/plain": "           suburb   price2022   price2023\n0      ABBOTSFORD  482.916667  490.106685\n1          ALTONA  280.000000  461.229640\n2  ALTONA MEADOWS  320.000000  391.024750\n3    ALTONA NORTH  525.000000  505.205595\n4        ARMADALE  539.583333  565.463316",
      "text/html": "<div>\n<style scoped>\n    .dataframe tbody tr th:only-of-type {\n        vertical-align: middle;\n    }\n\n    .dataframe tbody tr th {\n        vertical-align: top;\n    }\n\n    .dataframe thead th {\n        text-align: right;\n    }\n</style>\n<table border=\"1\" class=\"dataframe\">\n  <thead>\n    <tr style=\"text-align: right;\">\n      <th></th>\n      <th>suburb</th>\n      <th>price2022</th>\n      <th>price2023</th>\n    </tr>\n  </thead>\n  <tbody>\n    <tr>\n      <th>0</th>\n      <td>ABBOTSFORD</td>\n      <td>482.916667</td>\n      <td>490.106685</td>\n    </tr>\n    <tr>\n      <th>1</th>\n      <td>ALTONA</td>\n      <td>280.000000</td>\n      <td>461.229640</td>\n    </tr>\n    <tr>\n      <th>2</th>\n      <td>ALTONA MEADOWS</td>\n      <td>320.000000</td>\n      <td>391.024750</td>\n    </tr>\n    <tr>\n      <th>3</th>\n      <td>ALTONA NORTH</td>\n      <td>525.000000</td>\n      <td>505.205595</td>\n    </tr>\n    <tr>\n      <th>4</th>\n      <td>ARMADALE</td>\n      <td>539.583333</td>\n      <td>565.463316</td>\n    </tr>\n  </tbody>\n</table>\n</div>"
     },
     "execution_count": 13,
     "metadata": {},
     "output_type": "execute_result"
    }
   ],
   "source": [
    "price_apart = price_apart.drop_duplicates(keep= 'first')\n",
    "\n",
    "c = pd.DataFrame(price_apart['price2022'].groupby(price_apart['suburb']).mean().reset_index())\n",
    "d = pd.DataFrame(price_apart['price2023'].groupby(price_apart['suburb']).mean().reset_index())\n",
    "\n",
    "\n",
    "newprice_apart = pd.merge(c,d, how='left')\n",
    "\n",
    "newprice_apart.head()"
   ],
   "metadata": {
    "collapsed": false,
    "pycharm": {
     "name": "#%%\n"
    }
   }
  },
  {
   "cell_type": "code",
   "execution_count": 14,
   "outputs": [],
   "source": [
    "newprice_apart['growth rate(%)'] = ((newprice_apart['price2023']- (newprice_apart['price2022'])) / newprice_apart['price2022']) *100"
   ],
   "metadata": {
    "collapsed": false,
    "pycharm": {
     "name": "#%%\n"
    }
   }
  },
  {
   "cell_type": "code",
   "execution_count": 15,
   "outputs": [],
   "source": [
    "newprice_apart = newprice_apart.sort_values(by=\"growth rate(%)\" , ascending=False)"
   ],
   "metadata": {
    "collapsed": false,
    "pycharm": {
     "name": "#%%\n"
    }
   }
  },
  {
   "cell_type": "code",
   "execution_count": 16,
   "outputs": [
    {
     "data": {
      "text/plain": "{'whiskers': [<matplotlib.lines.Line2D at 0x124ee8a30>,\n  <matplotlib.lines.Line2D at 0x124ee8d00>],\n 'caps': [<matplotlib.lines.Line2D at 0x124ee8fd0>,\n  <matplotlib.lines.Line2D at 0x1252042e0>],\n 'boxes': [<matplotlib.lines.Line2D at 0x124ee8760>],\n 'medians': [<matplotlib.lines.Line2D at 0x1252045b0>],\n 'fliers': [<matplotlib.lines.Line2D at 0x125204880>],\n 'means': []}"
     },
     "execution_count": 16,
     "metadata": {},
     "output_type": "execute_result"
    },
    {
     "data": {
      "text/plain": "<Figure size 432x288 with 1 Axes>",
      "image/png": "[encoded data removed]"
     },
     "metadata": {
      "needs_background": "light"
     },
     "output_type": "display_data"
    }
   ],
   "source": [
    "plt.boxplot(newprice_apart['growth rate(%)'])"
   ],
   "metadata": {
    "collapsed": false,
    "pycharm": {
     "name": "#%%\n"
    }
   }
  },
  {
   "cell_type": "code",
   "execution_count": 17,
   "outputs": [],
   "source": [
    "newprice_apart = newprice_apart[newprice_apart['growth rate(%)']<=100]"
   ],
   "metadata": {
    "collapsed": false,
    "pycharm": {
     "name": "#%%\n"
    }
   }
  },
  {
   "cell_type": "code",
   "execution_count": 18,
   "outputs": [
    {
     "data": {
      "text/plain": "{'whiskers': [<matplotlib.lines.Line2D at 0x1253365b0>,\n  <matplotlib.lines.Line2D at 0x125336880>],\n 'caps': [<matplotlib.lines.Line2D at 0x125336b50>,\n  <matplotlib.lines.Line2D at 0x125336e20>],\n 'boxes': [<matplotlib.lines.Line2D at 0x1253362e0>],\n 'medians': [<matplotlib.lines.Line2D at 0x125344130>],\n 'fliers': [<matplotlib.lines.Line2D at 0x125344400>],\n 'means': []}"
     },
     "execution_count": 18,
     "metadata": {},
     "output_type": "execute_result"
    },
    {
     "data": {
      "text/plain": "<Figure size 432x288 with 1 Axes>",
      "image/png": "[encoded data removed]"
     },
     "metadata": {
      "needs_background": "light"
     },
     "output_type": "display_data"
    }
   ],
   "source": [
    "plt.boxplot(newprice_apart['growth rate(%)'])"
   ],
   "metadata": {
    "collapsed": false,
    "pycharm": {
     "name": "#%%\n"
    }
   }
  },
  {
   "cell_type": "code",
   "execution_count": 19,
   "outputs": [
    {
     "data": {
      "text/plain": "<Figure size 1080x504 with 1 Axes>",
      "image/png": "[encoded data removed]"
     },
     "metadata": {
      "needs_background": "light"
     },
     "output_type": "display_data"
    }
   ],
   "source": [
    "# plot the relationship between income growth rate and top10 suburb\n",
    "df2 = newprice_apart[['suburb','growth rate(%)']]\n",
    "y = df2['growth rate(%)'][:10]\n",
    "x = df2['suburb'][:10]\n",
    "\n",
    "fig = plt.figure(figsize =(15, 7))\n",
    "plt.bar(x, y, alpha=0.5, width = 0.5, linewidth = 2, color = 'orange')\n",
    "plt.title('Top 10 suburbs with the highest growth rate', fontsize= 18)\n",
    "for a,b in zip(x,y):\n",
    " plt.text(a, b+0.05, '%.0f' % b, ha='center', va= 'bottom',fontsize=11)\n",
    "plt.xlabel('suburbs', fontsize = 15)\n",
    "plt.ylabel('growth rate', fontsize = 15)\n",
    "plt.show()\n",
    "#plt.savefig(\"../plots/apartment growth rate.png\")"
   ],
   "metadata": {
    "collapsed": false,
    "pycharm": {
     "name": "#%%\n"
    }
   }
  },
  {
   "cell_type": "code",
   "execution_count": 20,
   "outputs": [
    {
     "name": "stdout",
     "output_type": "stream",
     "text": [
      "Top10suburb is SUNSHINE NORTH\n",
      "Top10suburb is ALTONA\n",
      "Top10suburb is NEWPORT\n",
      "Top10suburb is DOREEN\n",
      "Top10suburb is WHEELERS HILL\n",
      "Top10suburb is HOPPERS CROSSING - SOUTH\n",
      "Top10suburb is THOMASTOWN\n",
      "Top10suburb is BURWOOD EAST\n",
      "Top10suburb is BLACKBURN SOUTH\n",
      "Top10suburb is ALTONA MEADOWS\n"
     ]
    }
   ],
   "source": [
    "for i in df2['suburb'][:10]:\n",
    "    print('Top10suburb is %s' % i)\n"
   ],
   "metadata": {
    "collapsed": false,
    "pycharm": {
     "name": "#%%\n"
    }
   }
  }
 ],
 "metadata": {
  "kernelspec": {
   "display_name": "Python 3",
   "language": "python",
   "name": "python3"
  },
  "language_info": {
   "codemirror_mode": {
    "name": "ipython",
    "version": 2
   },
   "file_extension": ".py",
   "mimetype": "text/x-python",
   "name": "python",
   "nbconvert_exporter": "python",
   "pygments_lexer": "ipython2",
   "version": "2.7.6"
  }
 },
 "nbformat": 4,
 "nbformat_minor": 0
}