{
 "cells": [
  {
   "cell_type": "code",
   "execution_count": 1,
   "metadata": {
    "tags": []
   },
   "outputs": [],
   "source": [
    "import pandas as pd\n",
    "from pandas import Series,DataFrame"
   ]
  },
  {
   "cell_type": "code",
   "execution_count": 2,
   "metadata": {
    "collapsed": false,
    "jupyter": {
     "outputs_hidden": false
    },
    "pycharm": {
     "name": "#%%\n"
    }
   },
   "outputs": [],
   "source": [
    "# read datafiles\n",
    "dfapart = pd.read_csv(\"../data/curated/apartment_facilities.csv\")\n",
    "dfhouse = pd.read_csv('../data/curated/house_facilities.csv')\n",
    "income = pd.read_csv('../data/curated/predictions/pred_income.csv')\n",
    "erp = pd.read_csv(\"../data/curated/predictions/erp.csv\")\n",
    "internal = pd.read_csv(\"../data/curated/predictions/net_internal_migration.csv\")\n",
    "oversea = pd.read_csv(\"../data/curated/predictions/net_overseas_migration.csv\")\n",
    "natural_inc = pd.read_csv(\"../data/curated/predictions/natural_increase.csv\")\n",
    "houseprice = pd.read_csv(\"../data/curated/predictions/pred_house_price.csv\")"
   ]
  },
  {
   "cell_type": "code",
   "execution_count": 3,
   "metadata": {},
   "outputs": [
    {
     "data": {
      "text/plain": [
       "Index(['suburb', 'erp_2016', 'erp_2017', 'erp_2018', 'erp_2019', 'erp_2020',\n",
       "       'erp_2021', 'erp_2022', 'erp_2023', 'erp_2024', 'erp_2025'],\n",
       "      dtype='object')"
      ]
     },
     "execution_count": 3,
     "metadata": {},
     "output_type": "execute_result"
    }
   ],
   "source": [
    "erp.columns"
   ]
  },
  {
   "cell_type": "code",
   "execution_count": 4,
   "metadata": {},
   "outputs": [],
   "source": [
    "# select useful columns\n",
    "income = income.loc[:,['suburb','2022income', '2023income', '2024income', '2025income']]\n",
    "erp = erp.loc[:,['suburb', 'erp_2022', 'erp_2023', 'erp_2024', 'erp_2025']]\n",
    "internal = internal.loc[:,['suburb', 'net_internal_migration_2021_22', 'net_internal_migration_2022_23',\\\n",
    "                           'net_internal_migration_2023_24', 'net_internal_migration_2024_25']]\n",
    "oversea = oversea.loc[:,['suburb', 'net_overseas_migration_2021_22', 'net_overseas_migration_2022_23', \\\n",
    "                         'net_overseas_migration_2023_24', 'net_overseas_migration_2024_25']]\n",
    "natural_inc = natural_inc.loc[:,['suburb', 'natural_increase_2021_22','natural_increase_2022_23', \\\n",
    "                                 'natural_increase_2023_24','natural_increase_2024_25']]\n",
    "houseprice = houseprice.loc[:,['suburb', '2022house_price', '2023house_price', '2024house_price', '2025house_price']]"
   ]
  },
  {
   "cell_type": "code",
   "execution_count": 5,
   "metadata": {},
   "outputs": [],
   "source": [
    "# separate years\n",
    "for i in range(1, len(erp.columns)):\n",
    "    erp1 = erp.iloc[:,[0,i]]\n",
    "    internal1 = internal.iloc[:,[0,i]]\n",
    "    oversea1 = oversea.iloc[:,[0,i]]\n",
    "    natural_inc1 = natural_inc.iloc[:,[0,i]]\n",
    "    df_merged = pd.merge(erp1, internal1, on=['suburb'])\n",
    "    df_merged2 = pd.merge(df_merged, oversea1, on=['suburb'])\n",
    "    df_merged3 = pd.merge(df_merged2, natural_inc1, on=['suburb'])\n",
    "    df_merged3.to_csv(f\"../data/curated/predictions/{i}population_prediction.csv\")"
   ]
  },
  {
   "cell_type": "code",
   "execution_count": 6,
   "metadata": {},
   "outputs": [],
   "source": [
    "pop1 = pd.read_csv(\"../data/curated/predictions/1population_prediction.csv\")\n",
    "pop2 = pd.read_csv(\"../data/curated/predictions/2population_prediction.csv\")\n",
    "pop3 = pd.read_csv(\"../data/curated/predictions/3population_prediction.csv\")\n",
    "pop4 = pd.read_csv(\"../data/curated/predictions/4population_prediction.csv\")"
   ]
  },
  {
   "cell_type": "code",
   "execution_count": 7,
   "metadata": {
    "pycharm": {
     "name": "#%% extract the suburb from whole address, form a new column. prepare for matching\n"
    },
    "tags": []
   },
   "outputs": [],
   "source": [
    "# find the suburb of each address\n",
    "dfapart[\"suburb\"] = dfapart[\"address\"].str.extract(\"(.+?)\\d\")\n",
    "dfapart[\"suburb\"] = dfapart[\"suburb\"].str.strip().str.upper()\n",
    "\n",
    "dfhouse[\"suburb\"] = dfhouse[\"address\"].str.extract(\"(.+?)\\d\")\n",
    "dfhouse[\"suburb\"] = dfhouse[\"suburb\"].str.strip().str.upper()\n",
    "\n",
    "apa = dfapart.loc[:,[\"price\", \"suburb\", \"beds\", \"baths\", \\\n",
    "                 \"parking\", \"latitudes\", \"longitudes\", \\\n",
    "                 \"school\", \"train_station\", \"fitness_gym\", \\\n",
    "                 \"hospital\", \"shopping_center\", \"park\"]]\n",
    "house = dfhouse.loc[:,[\"price\", \"suburb\", \"beds\", \"baths\", \\\n",
    "                 \"parking\", \"latitudes\", \"longitudes\", \\\n",
    "                 \"school\", \"train_station\", \"fitness_gym\", \\\n",
    "                 \"hospital\", \"shopping_center\", \"park\"]]"
   ]
  },
  {
   "cell_type": "code",
   "execution_count": 8,
   "metadata": {},
   "outputs": [],
   "source": [
    "house[\"suburb\"] = house[\"suburb\"].apply(str)\n",
    "apa[\"suburb\"] = apa[\"suburb\"].apply(str)"
   ]
  },
  {
   "cell_type": "code",
   "execution_count": 9,
   "metadata": {
    "tags": []
   },
   "outputs": [],
   "source": [
    "# list SA2 names\n",
    "sub = pop1[\"suburb\"]\n",
    "sub = sub.dropna(how =\"any\")\n",
    "sub = sub.str.upper().to_list()\n",
    "income[\"suburb\"] = income[\"suburb\"].str.upper()"
   ]
  },
  {
   "cell_type": "code",
   "execution_count": 10,
   "metadata": {
    "collapsed": true,
    "jupyter": {
     "outputs_hidden": true
    },
    "tags": []
   },
   "outputs": [
    {
     "name": "stderr",
     "output_type": "stream",
     "text": [
      "/var/folders/hc/bk1ztr7n3735c7xpl5j8qqvr0000gn/T/ipykernel_31959/2828767052.py:6: SettingWithCopyWarning: \n",
      "A value is trying to be set on a copy of a slice from a DataFrame\n",
      "\n",
      "See the caveats in the documentation: https://pandas.pydata.org/pandas-docs/stable/user_guide/indexing.html#returning-a-view-versus-a-copy\n",
      "  houseprice[\"suburb\"][i] = s\n",
      "/var/folders/hc/bk1ztr7n3735c7xpl5j8qqvr0000gn/T/ipykernel_31959/2828767052.py:10: SettingWithCopyWarning: \n",
      "A value is trying to be set on a copy of a slice from a DataFrame\n",
      "\n",
      "See the caveats in the documentation: https://pandas.pydata.org/pandas-docs/stable/user_guide/indexing.html#returning-a-view-versus-a-copy\n",
      "  houseprice[\"suburb\"][i] = houseprice[\"suburb\"][i][0]\n",
      "/var/folders/hc/bk1ztr7n3735c7xpl5j8qqvr0000gn/T/ipykernel_31959/2828767052.py:8: SettingWithCopyWarning: \n",
      "A value is trying to be set on a copy of a slice from a DataFrame\n",
      "\n",
      "See the caveats in the documentation: https://pandas.pydata.org/pandas-docs/stable/user_guide/indexing.html#returning-a-view-versus-a-copy\n",
      "  houseprice[\"suburb\"][i] = ''\n"
     ]
    }
   ],
   "source": [
    "# match the corresponding area of houseprice\n",
    "from difflib import get_close_matches\n",
    "for i in range(len(houseprice)):\n",
    "    area = houseprice[\"suburb\"][i]\n",
    "    s = get_close_matches(area, sub, n=1, cutoff=0.8)\n",
    "    houseprice[\"suburb\"][i] = s\n",
    "    if len(houseprice[\"suburb\"][i])==0:\n",
    "        houseprice[\"suburb\"][i] = ''\n",
    "    else:\n",
    "        houseprice[\"suburb\"][i] = houseprice[\"suburb\"][i][0]    \n",
    "      "
   ]
  },
  {
   "cell_type": "code",
   "execution_count": 11,
   "metadata": {
    "collapsed": true,
    "jupyter": {
     "outputs_hidden": true
    },
    "tags": []
   },
   "outputs": [
    {
     "name": "stderr",
     "output_type": "stream",
     "text": [
      "/var/folders/hc/bk1ztr7n3735c7xpl5j8qqvr0000gn/T/ipykernel_31959/1816560431.py:6: SettingWithCopyWarning: \n",
      "A value is trying to be set on a copy of a slice from a DataFrame\n",
      "\n",
      "See the caveats in the documentation: https://pandas.pydata.org/pandas-docs/stable/user_guide/indexing.html#returning-a-view-versus-a-copy\n",
      "  income[\"suburb\"][i] = s\n",
      "/var/folders/hc/bk1ztr7n3735c7xpl5j8qqvr0000gn/T/ipykernel_31959/1816560431.py:10: SettingWithCopyWarning: \n",
      "A value is trying to be set on a copy of a slice from a DataFrame\n",
      "\n",
      "See the caveats in the documentation: https://pandas.pydata.org/pandas-docs/stable/user_guide/indexing.html#returning-a-view-versus-a-copy\n",
      "  income[\"suburb\"][i] = income[\"suburb\"][i][0]\n"
     ]
    }
   ],
   "source": [
    "from difflib import get_close_matches\n",
    "# match the corresponding area of income\n",
    "for i in range(len(income)):\n",
    "    area = income[\"suburb\"][i]\n",
    "    s = get_close_matches(area, sub, n=1, cutoff=0.7)\n",
    "    income[\"suburb\"][i] = s\n",
    "    if len(income[\"suburb\"][i])==0:\n",
    "        income[\"suburb\"][i] = ''\n",
    "    else:\n",
    "        income[\"suburb\"][i] = income[\"suburb\"][i][0]    \n",
    "      "
   ]
  },
  {
   "cell_type": "code",
   "execution_count": 12,
   "metadata": {
    "collapsed": true,
    "jupyter": {
     "outputs_hidden": true
    },
    "tags": []
   },
   "outputs": [
    {
     "name": "stderr",
     "output_type": "stream",
     "text": [
      "/var/folders/hc/bk1ztr7n3735c7xpl5j8qqvr0000gn/T/ipykernel_31959/2992223561.py:6: SettingWithCopyWarning: \n",
      "A value is trying to be set on a copy of a slice from a DataFrame\n",
      "\n",
      "See the caveats in the documentation: https://pandas.pydata.org/pandas-docs/stable/user_guide/indexing.html#returning-a-view-versus-a-copy\n",
      "  house[\"suburb\"][i] = s\n",
      "/var/folders/hc/bk1ztr7n3735c7xpl5j8qqvr0000gn/T/ipykernel_31959/2992223561.py:10: SettingWithCopyWarning: \n",
      "A value is trying to be set on a copy of a slice from a DataFrame\n",
      "\n",
      "See the caveats in the documentation: https://pandas.pydata.org/pandas-docs/stable/user_guide/indexing.html#returning-a-view-versus-a-copy\n",
      "  house[\"suburb\"][i] = house[\"suburb\"][i][0]\n",
      "/var/folders/hc/bk1ztr7n3735c7xpl5j8qqvr0000gn/T/ipykernel_31959/2992223561.py:8: SettingWithCopyWarning: \n",
      "A value is trying to be set on a copy of a slice from a DataFrame\n",
      "\n",
      "See the caveats in the documentation: https://pandas.pydata.org/pandas-docs/stable/user_guide/indexing.html#returning-a-view-versus-a-copy\n",
      "  house[\"suburb\"][i] = ''\n"
     ]
    }
   ],
   "source": [
    "# match the corresponding area of house\n",
    "from difflib import get_close_matches\n",
    "for i in range(len(house)):\n",
    "    area = house[\"suburb\"][i]\n",
    "    s = get_close_matches(area, sub, n=1)\n",
    "    house[\"suburb\"][i] = s\n",
    "    if len(house[\"suburb\"][i])==0:\n",
    "        house[\"suburb\"][i] = ''\n",
    "    else:\n",
    "        house[\"suburb\"][i] = house[\"suburb\"][i][0]    \n",
    "        "
   ]
  },
  {
   "cell_type": "code",
   "execution_count": 13,
   "metadata": {
    "collapsed": true,
    "jupyter": {
     "outputs_hidden": true
    },
    "tags": []
   },
   "outputs": [
    {
     "name": "stderr",
     "output_type": "stream",
     "text": [
      "/var/folders/hc/bk1ztr7n3735c7xpl5j8qqvr0000gn/T/ipykernel_31959/2133456505.py:5: SettingWithCopyWarning: \n",
      "A value is trying to be set on a copy of a slice from a DataFrame\n",
      "\n",
      "See the caveats in the documentation: https://pandas.pydata.org/pandas-docs/stable/user_guide/indexing.html#returning-a-view-versus-a-copy\n",
      "  apa[\"suburb\"][i] = s\n",
      "/var/folders/hc/bk1ztr7n3735c7xpl5j8qqvr0000gn/T/ipykernel_31959/2133456505.py:9: SettingWithCopyWarning: \n",
      "A value is trying to be set on a copy of a slice from a DataFrame\n",
      "\n",
      "See the caveats in the documentation: https://pandas.pydata.org/pandas-docs/stable/user_guide/indexing.html#returning-a-view-versus-a-copy\n",
      "  apa[\"suburb\"][i] = apa[\"suburb\"][i][0]\n",
      "/var/folders/hc/bk1ztr7n3735c7xpl5j8qqvr0000gn/T/ipykernel_31959/2133456505.py:7: SettingWithCopyWarning: \n",
      "A value is trying to be set on a copy of a slice from a DataFrame\n",
      "\n",
      "See the caveats in the documentation: https://pandas.pydata.org/pandas-docs/stable/user_guide/indexing.html#returning-a-view-versus-a-copy\n",
      "  apa[\"suburb\"][i] = ''\n"
     ]
    }
   ],
   "source": [
    "# match the corresponding area of apartment\n",
    "for i in range(len(apa)):\n",
    "    area = apa[\"suburb\"][i]\n",
    "    s = get_close_matches(area, sub, n=1)\n",
    "    apa[\"suburb\"][i] = s\n",
    "    if len(apa[\"suburb\"][i])==0:\n",
    "        apa[\"suburb\"][i] = ''\n",
    "    else:\n",
    "        apa[\"suburb\"][i] = apa[\"suburb\"][i][0]   \n",
    "        "
   ]
  },
  {
   "cell_type": "code",
   "execution_count": 14,
   "metadata": {},
   "outputs": [],
   "source": [
    "list_pop = [pop1, pop2, pop3, pop4]"
   ]
  },
  {
   "cell_type": "code",
   "execution_count": 15,
   "metadata": {
    "tags": []
   },
   "outputs": [
    {
     "name": "stdout",
     "output_type": "stream",
     "text": [
      "22\n",
      "717\n",
      "747\n",
      "23\n",
      "716\n",
      "746\n",
      "24\n",
      "717\n",
      "747\n",
      "25\n",
      "717\n",
      "747\n"
     ]
    }
   ],
   "source": [
    "# match population and population and income\n",
    "for i in range(1, len(erp.columns)):\n",
    "    income1 = income.iloc[:,[0,i]]\n",
    "    houseprice1 = houseprice.iloc[:,[0,i]]\n",
    "    pop = list_pop[i-1]\n",
    "    df_merged = pd.merge(income1, houseprice1, on=['suburb'])\n",
    "    df_merged2 = pd.merge(df_merged, pop, on=['suburb'])\n",
    "    matchhouse = pd.merge(house, df_merged2, how = 'inner', on = ['suburb'])\n",
    "    matchapart = pd.merge(apa, df_merged2, how = 'inner', on = ['suburb'])\n",
    "    matchhouse = matchhouse.drop_duplicates()\n",
    "    matchapart = matchapart.drop_duplicates()\n",
    "    print(f'{i+21}')\n",
    "    print(len(matchhouse))\n",
    "    print(len(matchapart))\n",
    "    matchapart.to_csv(f'../data/curated/match_apartment{i+21}.csv')\n",
    "    matchhouse.to_csv(f'../data/curated/match_house{i+21}.csv')"
   ]
  }
 ],
 "metadata": {
  "kernelspec": {
   "display_name": "Python 3 (ipykernel)",
   "language": "python",
   "name": "python3"
  },
  "language_info": {
   "codemirror_mode": {
    "name": "ipython",
    "version": 3
   },
   "file_extension": ".py",
   "mimetype": "text/x-python",
   "name": "python",
   "nbconvert_exporter": "python",
   "pygments_lexer": "ipython3",
   "version": "3.9.7"
  }
 },
 "nbformat": 4,
 "nbformat_minor": 4
}
