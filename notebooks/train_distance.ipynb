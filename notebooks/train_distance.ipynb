{
 "cells": [
  {
   "cell_type": "code",
   "execution_count": 1,
   "id": "12a5c772-8994-44fb-832d-69fb5cc94ef2",
   "metadata": {},
   "outputs": [],
   "source": [
    "import openrouteservice as ors\n",
    "import folium\n",
    "client = ors.Client(key='5b3ce3597851110001cf62489d78244f47534f2fa5776b3084165e6e')"
   ]
  },
  {
   "cell_type": "code",
   "execution_count": 2,
   "id": "3113839f-364a-4b54-90f5-5733edb6d497",
   "metadata": {},
   "outputs": [
    {
     "name": "stdout",
     "output_type": "stream",
     "text": [
      "Collecting haversine\n",
      "  Downloading haversine-2.7.0-py2.py3-none-any.whl (6.9 kB)\n",
      "Installing collected packages: haversine\n",
      "Successfully installed haversine-2.7.0\n",
      "Note: you may need to restart the kernel to use updated packages.\n"
     ]
    }
   ],
   "source": [
    "pip install haversine"
   ]
  },
  {
   "cell_type": "code",
   "execution_count": 3,
   "id": "062e05da-7e69-4a32-b683-0fd652b7fd90",
   "metadata": {},
   "outputs": [],
   "source": [
    "import haversine as hs"
   ]
  },
  {
   "cell_type": "code",
   "execution_count": 5,
   "id": "10840bc8-3d45-40f5-a43b-6874c911aed4",
   "metadata": {},
   "outputs": [
    {
     "data": {
      "text/html": [
       "<div>\n",
       "<style scoped>\n",
       "    .dataframe tbody tr th:only-of-type {\n",
       "        vertical-align: middle;\n",
       "    }\n",
       "\n",
       "    .dataframe tbody tr th {\n",
       "        vertical-align: top;\n",
       "    }\n",
       "\n",
       "    .dataframe thead th {\n",
       "        text-align: right;\n",
       "    }\n",
       "</style>\n",
       "<table border=\"1\" class=\"dataframe\">\n",
       "  <thead>\n",
       "    <tr style=\"text-align: right;\">\n",
       "      <th></th>\n",
       "      <th>station</th>\n",
       "      <th>the_geom</th>\n",
       "      <th>pids</th>\n",
       "      <th>he_loop</th>\n",
       "      <th>lift</th>\n",
       "    </tr>\n",
       "  </thead>\n",
       "  <tbody>\n",
       "    <tr>\n",
       "      <th>0</th>\n",
       "      <td>Alamein</td>\n",
       "      <td>POINT (145.07955800000002 -37.86884299999997)</td>\n",
       "      <td>No</td>\n",
       "      <td>No</td>\n",
       "      <td>No</td>\n",
       "    </tr>\n",
       "    <tr>\n",
       "      <th>1</th>\n",
       "      <td>Albion</td>\n",
       "      <td>POINT (144.82470999999998 -37.77765599999998)</td>\n",
       "      <td>Dot Matrix</td>\n",
       "      <td>No</td>\n",
       "      <td>No</td>\n",
       "    </tr>\n",
       "    <tr>\n",
       "      <th>2</th>\n",
       "      <td>Alphington</td>\n",
       "      <td>POINT (145.031251 -37.77839599999999)</td>\n",
       "      <td>Dot Matrix</td>\n",
       "      <td>No</td>\n",
       "      <td>No</td>\n",
       "    </tr>\n",
       "    <tr>\n",
       "      <th>3</th>\n",
       "      <td>Altona</td>\n",
       "      <td>POINT (144.830604 -37.86724899999996)</td>\n",
       "      <td>LCD</td>\n",
       "      <td>No</td>\n",
       "      <td>No</td>\n",
       "    </tr>\n",
       "    <tr>\n",
       "      <th>4</th>\n",
       "      <td>Anstey</td>\n",
       "      <td>POINT (144.96056099999998 -37.761897999999974)</td>\n",
       "      <td>No</td>\n",
       "      <td>No</td>\n",
       "      <td>No</td>\n",
       "    </tr>\n",
       "  </tbody>\n",
       "</table>\n",
       "</div>"
      ],
      "text/plain": [
       "      station                                        the_geom        pids  \\\n",
       "0     Alamein   POINT (145.07955800000002 -37.86884299999997)          No   \n",
       "1      Albion   POINT (144.82470999999998 -37.77765599999998)  Dot Matrix   \n",
       "2  Alphington           POINT (145.031251 -37.77839599999999)  Dot Matrix   \n",
       "3      Altona           POINT (144.830604 -37.86724899999996)         LCD   \n",
       "4      Anstey  POINT (144.96056099999998 -37.761897999999974)          No   \n",
       "\n",
       "  he_loop lift  \n",
       "0      No   No  \n",
       "1      No   No  \n",
       "2      No   No  \n",
       "3      No   No  \n",
       "4      No   No  "
      ]
     },
     "execution_count": 5,
     "metadata": {},
     "output_type": "execute_result"
    }
   ],
   "source": [
    "import pandas as pd\n",
    "train = pd.read_csv(\"../data/curated/metro_stations.csv\")\n",
    "train.head()"
   ]
  },
  {
   "cell_type": "code",
   "execution_count": 6,
   "id": "45925012-f804-404a-b5c7-f4ac46202df0",
   "metadata": {},
   "outputs": [],
   "source": [
    "train_list = train['the_geom'].to_list()"
   ]
  },
  {
   "cell_type": "code",
   "execution_count": 49,
   "id": "d2657a2f-f91d-442a-b731-ce02d10c3039",
   "metadata": {},
   "outputs": [],
   "source": [
    "train_x = []\n",
    "train_y = []\n",
    "for i in train_list:\n",
    "    new = i.split()\n",
    "    train_x.append(new[1][1:])\n",
    "    train_y.append(new[2][:-1])"
   ]
  },
  {
   "cell_type": "code",
   "execution_count": 53,
   "id": "e1003aee-d7f0-49f6-9662-1ec788a62858",
   "metadata": {},
   "outputs": [
    {
     "data": {
      "text/html": [
       "<div>\n",
       "<style scoped>\n",
       "    .dataframe tbody tr th:only-of-type {\n",
       "        vertical-align: middle;\n",
       "    }\n",
       "\n",
       "    .dataframe tbody tr th {\n",
       "        vertical-align: top;\n",
       "    }\n",
       "\n",
       "    .dataframe thead th {\n",
       "        text-align: right;\n",
       "    }\n",
       "</style>\n",
       "<table border=\"1\" class=\"dataframe\">\n",
       "  <thead>\n",
       "    <tr style=\"text-align: right;\">\n",
       "      <th></th>\n",
       "      <th>Unnamed: 0</th>\n",
       "      <th>address</th>\n",
       "      <th>price</th>\n",
       "      <th>beds</th>\n",
       "      <th>baths</th>\n",
       "      <th>parking</th>\n",
       "      <th>propertyTypeFormatted</th>\n",
       "      <th>latitudes</th>\n",
       "      <th>longitudes</th>\n",
       "    </tr>\n",
       "  </thead>\n",
       "  <tbody>\n",
       "    <tr>\n",
       "      <th>0</th>\n",
       "      <td>0</td>\n",
       "      <td>SOUTH YARRA 12 MacFarlan Street VIC 3141</td>\n",
       "      <td>625</td>\n",
       "      <td>2</td>\n",
       "      <td>1</td>\n",
       "      <td>0</td>\n",
       "      <td>House</td>\n",
       "      <td>-37.8333</td>\n",
       "      <td>144.9833</td>\n",
       "    </tr>\n",
       "    <tr>\n",
       "      <th>1</th>\n",
       "      <td>1</td>\n",
       "      <td>RICHMOND 104 Somerset Street VIC 3121</td>\n",
       "      <td>695</td>\n",
       "      <td>2</td>\n",
       "      <td>1</td>\n",
       "      <td>0</td>\n",
       "      <td>House</td>\n",
       "      <td>-37.8271</td>\n",
       "      <td>145.0064</td>\n",
       "    </tr>\n",
       "    <tr>\n",
       "      <th>2</th>\n",
       "      <td>2</td>\n",
       "      <td>WEST MELBOURNE 78 Hawke Street VIC 3003</td>\n",
       "      <td>1100</td>\n",
       "      <td>4</td>\n",
       "      <td>2</td>\n",
       "      <td>1</td>\n",
       "      <td>House</td>\n",
       "      <td>-37.8101</td>\n",
       "      <td>144.9500</td>\n",
       "    </tr>\n",
       "    <tr>\n",
       "      <th>3</th>\n",
       "      <td>3</td>\n",
       "      <td>ST KILDA EAST 2 Kurrajong Avenue VIC 3183</td>\n",
       "      <td>720</td>\n",
       "      <td>3</td>\n",
       "      <td>2</td>\n",
       "      <td>1</td>\n",
       "      <td>House</td>\n",
       "      <td>-37.8692</td>\n",
       "      <td>144.9977</td>\n",
       "    </tr>\n",
       "    <tr>\n",
       "      <th>4</th>\n",
       "      <td>4</td>\n",
       "      <td>CAULFIELD NORTH 38 Park Crescent VIC 3161</td>\n",
       "      <td>920</td>\n",
       "      <td>3</td>\n",
       "      <td>3</td>\n",
       "      <td>2</td>\n",
       "      <td>House</td>\n",
       "      <td>-37.0000</td>\n",
       "      <td>145.0000</td>\n",
       "    </tr>\n",
       "  </tbody>\n",
       "</table>\n",
       "</div>"
      ],
      "text/plain": [
       "   Unnamed: 0                                    address  price  beds  baths  \\\n",
       "0           0   SOUTH YARRA 12 MacFarlan Street VIC 3141    625     2      1   \n",
       "1           1      RICHMOND 104 Somerset Street VIC 3121    695     2      1   \n",
       "2           2    WEST MELBOURNE 78 Hawke Street VIC 3003   1100     4      2   \n",
       "3           3  ST KILDA EAST 2 Kurrajong Avenue VIC 3183    720     3      2   \n",
       "4           4  CAULFIELD NORTH 38 Park Crescent VIC 3161    920     3      3   \n",
       "\n",
       "   parking propertyTypeFormatted  latitudes  longitudes  \n",
       "0        0                 House   -37.8333    144.9833  \n",
       "1        0                 House   -37.8271    145.0064  \n",
       "2        1                 House   -37.8101    144.9500  \n",
       "3        1                 House   -37.8692    144.9977  \n",
       "4        2                 House   -37.0000    145.0000  "
      ]
     },
     "execution_count": 53,
     "metadata": {},
     "output_type": "execute_result"
    }
   ],
   "source": [
    "house = pd.read_csv(\"../data/curated/house_geocoded.csv\")\n",
    "house.head()"
   ]
  },
  {
   "cell_type": "code",
   "execution_count": 54,
   "id": "18a828ee-ef7f-4695-b590-d0d27cf7255c",
   "metadata": {},
   "outputs": [],
   "source": [
    "house_x = house['latitudes']\n",
    "house_y = house['longitudes']"
   ]
  },
  {
   "cell_type": "code",
   "execution_count": 56,
   "id": "149a55a2-f720-49c0-a77f-b40fe260cbfc",
   "metadata": {},
   "outputs": [],
   "source": [
    "def distance(loc1, loc2):\n",
    "    d = hs.haversine(loc1,loc2)\n",
    "    return d"
   ]
  },
  {
   "cell_type": "code",
   "execution_count": 59,
   "id": "aa1e5444-c7d3-4c84-85a8-e1302eac250a",
   "metadata": {},
   "outputs": [],
   "source": [
    "d_lst = []\n",
    "l1 = list(zip(house_x, house_y))\n",
    "l2 = list(zip(train_x, train_y))"
   ]
  },
  {
   "cell_type": "code",
   "execution_count": null,
   "id": "c7ed7558-e6ca-4913-a15d-6dc99b4727a7",
   "metadata": {},
   "outputs": [],
   "source": []
  }
 ],
 "metadata": {
  "kernelspec": {
   "display_name": "Python 3 (ipykernel)",
   "language": "python",
   "name": "python3"
  },
  "language_info": {
   "codemirror_mode": {
    "name": "ipython",
    "version": 3
   },
   "file_extension": ".py",
   "mimetype": "text/x-python",
   "name": "python",
   "nbconvert_exporter": "python",
   "pygments_lexer": "ipython3",
   "version": "3.9.7"
  }
 },
 "nbformat": 4,
 "nbformat_minor": 5
}
