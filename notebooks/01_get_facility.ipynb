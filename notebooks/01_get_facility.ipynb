{
 "cells": [
  {
   "cell_type": "code",
   "execution_count": 1,
   "metadata": {
    "tags": []
   },
   "outputs": [],
   "source": [
    "import pandas as pd\n"
   ]
  },
  {
   "cell_type": "code",
   "execution_count": 2,
   "metadata": {
    "collapsed": false,
    "jupyter": {
     "outputs_hidden": false
    },
    "pycharm": {
     "name": "#%% read facilities csv\n"
    }
   },
   "outputs": [],
   "source": [
    "df = pd.read_csv(\"../data/raw/srv_ifmd_all-facilities.csv\")"
   ]
  },
  {
   "cell_type": "code",
   "execution_count": 3,
   "metadata": {
    "collapsed": false,
    "jupyter": {
     "outputs_hidden": false
    },
    "pycharm": {
     "name": "#%%\n"
    }
   },
   "outputs": [
    {
     "data": {
      "text/html": [
       "<div>\n",
       "<style scoped>\n",
       "    .dataframe tbody tr th:only-of-type {\n",
       "        vertical-align: middle;\n",
       "    }\n",
       "\n",
       "    .dataframe tbody tr th {\n",
       "        vertical-align: top;\n",
       "    }\n",
       "\n",
       "    .dataframe thead th {\n",
       "        text-align: right;\n",
       "    }\n",
       "</style>\n",
       "<table border=\"1\" class=\"dataframe\">\n",
       "  <thead>\n",
       "    <tr style=\"text-align: right;\">\n",
       "      <th></th>\n",
       "      <th>Facility ID</th>\n",
       "      <th>LGA Name</th>\n",
       "      <th>Facility Name</th>\n",
       "      <th>Facility_AutoNumber</th>\n",
       "      <th>Street #</th>\n",
       "      <th>Street Name</th>\n",
       "      <th>Street Type</th>\n",
       "      <th>Suburb/Town</th>\n",
       "      <th>Pcode</th>\n",
       "      <th>Melway Ref</th>\n",
       "      <th>...</th>\n",
       "      <th>Number of Field/Courts</th>\n",
       "      <th>Field/Surface Type</th>\n",
       "      <th>Age of Facility</th>\n",
       "      <th>Condition of Facility</th>\n",
       "      <th>Facility Upgrade Age</th>\n",
       "      <th>Changerooms</th>\n",
       "      <th>Facility Features</th>\n",
       "      <th>Spectator numbers for seating/shelter</th>\n",
       "      <th>FullAddress</th>\n",
       "      <th>MelwaysVicRoadsRef</th>\n",
       "    </tr>\n",
       "  </thead>\n",
       "  <tbody>\n",
       "    <tr>\n",
       "      <th>0</th>\n",
       "      <td>MITCHE3674</td>\n",
       "      <td>NaN</td>\n",
       "      <td>Vermont South Club</td>\n",
       "      <td>3674</td>\n",
       "      <td>NaN</td>\n",
       "      <td>Coronation</td>\n",
       "      <td>Avenue</td>\n",
       "      <td>BRIGHT</td>\n",
       "      <td>3741.0</td>\n",
       "      <td>NaN</td>\n",
       "      <td>...</td>\n",
       "      <td>NaN</td>\n",
       "      <td>NaN</td>\n",
       "      <td>NaN</td>\n",
       "      <td>NaN</td>\n",
       "      <td>NaN</td>\n",
       "      <td>NaN</td>\n",
       "      <td>NaN</td>\n",
       "      <td>NaN</td>\n",
       "      <td>Coronation Avenue, BRIGHT 3741</td>\n",
       "      <td>661 P4</td>\n",
       "    </tr>\n",
       "    <tr>\n",
       "      <th>1</th>\n",
       "      <td>MITCHE3674</td>\n",
       "      <td>NaN</td>\n",
       "      <td>Vermont South Club</td>\n",
       "      <td>3674</td>\n",
       "      <td>NaN</td>\n",
       "      <td>Coronation</td>\n",
       "      <td>Avenue</td>\n",
       "      <td>BRIGHT</td>\n",
       "      <td>3741.0</td>\n",
       "      <td>NaN</td>\n",
       "      <td>...</td>\n",
       "      <td>1.0</td>\n",
       "      <td>Grass</td>\n",
       "      <td>NaN</td>\n",
       "      <td>NaN</td>\n",
       "      <td>NaN</td>\n",
       "      <td>NaN</td>\n",
       "      <td>NaN</td>\n",
       "      <td>NaN</td>\n",
       "      <td>Coronation Avenue, BRIGHT 3741</td>\n",
       "      <td>661 P4</td>\n",
       "    </tr>\n",
       "    <tr>\n",
       "      <th>2</th>\n",
       "      <td>MITCHE3674</td>\n",
       "      <td>NaN</td>\n",
       "      <td>Vermont South Club</td>\n",
       "      <td>3674</td>\n",
       "      <td>NaN</td>\n",
       "      <td>Coronation</td>\n",
       "      <td>Avenue</td>\n",
       "      <td>BRIGHT</td>\n",
       "      <td>3741.0</td>\n",
       "      <td>NaN</td>\n",
       "      <td>...</td>\n",
       "      <td>1.0</td>\n",
       "      <td>Synthetic Pitch</td>\n",
       "      <td>NaN</td>\n",
       "      <td>NaN</td>\n",
       "      <td>NaN</td>\n",
       "      <td>NaN</td>\n",
       "      <td>NaN</td>\n",
       "      <td>NaN</td>\n",
       "      <td>Coronation Avenue, BRIGHT 3741</td>\n",
       "      <td>661 P4</td>\n",
       "    </tr>\n",
       "    <tr>\n",
       "      <th>3</th>\n",
       "      <td>MITCHE3674</td>\n",
       "      <td>NaN</td>\n",
       "      <td>Vermont South Club</td>\n",
       "      <td>3674</td>\n",
       "      <td>NaN</td>\n",
       "      <td>Coronation</td>\n",
       "      <td>Avenue</td>\n",
       "      <td>BRIGHT</td>\n",
       "      <td>3741.0</td>\n",
       "      <td>NaN</td>\n",
       "      <td>...</td>\n",
       "      <td>1.0</td>\n",
       "      <td>Asphalt</td>\n",
       "      <td>NaN</td>\n",
       "      <td>NaN</td>\n",
       "      <td>NaN</td>\n",
       "      <td>NaN</td>\n",
       "      <td>NaN</td>\n",
       "      <td>NaN</td>\n",
       "      <td>Coronation Avenue, BRIGHT 3741</td>\n",
       "      <td>661 P4</td>\n",
       "    </tr>\n",
       "    <tr>\n",
       "      <th>4</th>\n",
       "      <td>MITCHE3674</td>\n",
       "      <td>NaN</td>\n",
       "      <td>Vermont South Club</td>\n",
       "      <td>3674</td>\n",
       "      <td>NaN</td>\n",
       "      <td>Coronation</td>\n",
       "      <td>Avenue</td>\n",
       "      <td>BRIGHT</td>\n",
       "      <td>3741.0</td>\n",
       "      <td>NaN</td>\n",
       "      <td>...</td>\n",
       "      <td>4.0</td>\n",
       "      <td>Artificial Turf</td>\n",
       "      <td>NaN</td>\n",
       "      <td>NaN</td>\n",
       "      <td>NaN</td>\n",
       "      <td>NaN</td>\n",
       "      <td>NaN</td>\n",
       "      <td>NaN</td>\n",
       "      <td>Coronation Avenue, BRIGHT 3741</td>\n",
       "      <td>661 P4</td>\n",
       "    </tr>\n",
       "  </tbody>\n",
       "</table>\n",
       "<p>5 rows × 31 columns</p>\n",
       "</div>"
      ],
      "text/plain": [
       "  Facility ID LGA Name       Facility Name  Facility_AutoNumber Street #  \\\n",
       "0  MITCHE3674      NaN  Vermont South Club                 3674      NaN   \n",
       "1  MITCHE3674      NaN  Vermont South Club                 3674      NaN   \n",
       "2  MITCHE3674      NaN  Vermont South Club                 3674      NaN   \n",
       "3  MITCHE3674      NaN  Vermont South Club                 3674      NaN   \n",
       "4  MITCHE3674      NaN  Vermont South Club                 3674      NaN   \n",
       "\n",
       "  Street Name Street Type Suburb/Town   Pcode Melway Ref  ...  \\\n",
       "0  Coronation      Avenue      BRIGHT  3741.0        NaN  ...   \n",
       "1  Coronation      Avenue      BRIGHT  3741.0        NaN  ...   \n",
       "2  Coronation      Avenue      BRIGHT  3741.0        NaN  ...   \n",
       "3  Coronation      Avenue      BRIGHT  3741.0        NaN  ...   \n",
       "4  Coronation      Avenue      BRIGHT  3741.0        NaN  ...   \n",
       "\n",
       "  Number of Field/Courts  Field/Surface Type  Age of Facility  \\\n",
       "0                    NaN                 NaN              NaN   \n",
       "1                    1.0               Grass              NaN   \n",
       "2                    1.0     Synthetic Pitch              NaN   \n",
       "3                    1.0             Asphalt              NaN   \n",
       "4                    4.0     Artificial Turf              NaN   \n",
       "\n",
       "  Condition of Facility Facility Upgrade Age Changerooms  Facility Features  \\\n",
       "0                   NaN                  NaN         NaN                NaN   \n",
       "1                   NaN                  NaN         NaN                NaN   \n",
       "2                   NaN                  NaN         NaN                NaN   \n",
       "3                   NaN                  NaN         NaN                NaN   \n",
       "4                   NaN                  NaN         NaN                NaN   \n",
       "\n",
       "  Spectator numbers for seating/shelter                      FullAddress  \\\n",
       "0                                   NaN   Coronation Avenue, BRIGHT 3741   \n",
       "1                                   NaN   Coronation Avenue, BRIGHT 3741   \n",
       "2                                   NaN   Coronation Avenue, BRIGHT 3741   \n",
       "3                                   NaN   Coronation Avenue, BRIGHT 3741   \n",
       "4                                   NaN   Coronation Avenue, BRIGHT 3741   \n",
       "\n",
       "  MelwaysVicRoadsRef  \n",
       "0             661 P4  \n",
       "1             661 P4  \n",
       "2             661 P4  \n",
       "3             661 P4  \n",
       "4             661 P4  \n",
       "\n",
       "[5 rows x 31 columns]"
      ]
     },
     "execution_count": 3,
     "metadata": {},
     "output_type": "execute_result"
    }
   ],
   "source": [
    "df.head()"
   ]
  },
  {
   "cell_type": "code",
   "execution_count": 4,
   "metadata": {
    "collapsed": false,
    "jupyter": {
     "outputs_hidden": false
    },
    "pycharm": {
     "name": "#%% choose columns we want\n"
    }
   },
   "outputs": [],
   "source": [
    "# extract columns about facilities\n",
    "df = df.loc[:,['Facility ID','Facility Name','Street Name','Suburb/Town','Pcode','Latitude',\n",
    "                'Longitude','Field/Surface Type','FullAddress','MelwaysVicRoadsRef']]"
   ]
  },
  {
   "cell_type": "code",
   "execution_count": 5,
   "metadata": {
    "collapsed": false,
    "jupyter": {
     "outputs_hidden": false
    },
    "pycharm": {
     "name": "#%%\n"
    }
   },
   "outputs": [
    {
     "data": {
      "text/plain": [
       "(9590, 10)"
      ]
     },
     "execution_count": 5,
     "metadata": {},
     "output_type": "execute_result"
    }
   ],
   "source": [
    "df.head()\n",
    "df.shape"
   ]
  },
  {
   "cell_type": "code",
   "execution_count": 8,
   "metadata": {
    "collapsed": false,
    "jupyter": {
     "outputs_hidden": false
    },
    "pycharm": {
     "name": "#%% drop all duplicated row\n"
    }
   },
   "outputs": [],
   "source": [
    "# remove duplications\n",
    "new = df.drop_duplicates(subset=['FullAddress','Latitude','Longitude'], keep='first')"
   ]
  },
  {
   "cell_type": "code",
   "execution_count": 9,
   "metadata": {
    "collapsed": false,
    "jupyter": {
     "outputs_hidden": false
    },
    "pycharm": {
     "name": "#%%\n"
    }
   },
   "outputs": [
    {
     "data": {
      "text/plain": [
       "(4898, 10)"
      ]
     },
     "execution_count": 9,
     "metadata": {},
     "output_type": "execute_result"
    }
   ],
   "source": [
    "new.shape"
   ]
  },
  {
   "cell_type": "code",
   "execution_count": 10,
   "metadata": {
    "collapsed": false,
    "jupyter": {
     "outputs_hidden": false
    },
    "pycharm": {
     "name": "#%%\n"
    }
   },
   "outputs": [
    {
     "name": "stdout",
     "output_type": "stream",
     "text": [
      "0       False\n",
      "5        True\n",
      "6       False\n",
      "7        True\n",
      "8        True\n",
      "        ...  \n",
      "9569    False\n",
      "9570    False\n",
      "9571    False\n",
      "9572    False\n",
      "9581     True\n",
      "Name: Facility Name, Length: 4898, dtype: bool\n"
     ]
    }
   ],
   "source": [
    "# distinguish different types of facility\n",
    "print(new['Facility Name'].str.contains('park|reserve', case=False))"
   ]
  },
  {
   "cell_type": "code",
   "execution_count": 11,
   "metadata": {
    "collapsed": false,
    "jupyter": {
     "outputs_hidden": false
    },
    "pycharm": {
     "name": "#%% separate different types of facilities into different dataframe\n"
    }
   },
   "outputs": [],
   "source": [
    "# add each type of facility to the dataframe\n",
    "park_reserve = new[new['Facility Name'].str.contains('park|reserve', case=False)]\n",
    "\n",
    "gym_fitness = new[new['Facility Name'].str.contains('gym|fitness', case=False)]\n",
    "\n",
    "swimming_sport = new[new['Facility Name'].str.contains('swimming', case=False)]\n",
    "\n",
    "school = new[new['Facility Name'].str.contains('college|university', case=False)]"
   ]
  },
  {
   "cell_type": "code",
   "execution_count": 12,
   "metadata": {
    "collapsed": false,
    "jupyter": {
     "outputs_hidden": false
    },
    "pycharm": {
     "name": "#%%\n"
    }
   },
   "outputs": [
    {
     "data": {
      "text/html": [
       "<div>\n",
       "<style scoped>\n",
       "    .dataframe tbody tr th:only-of-type {\n",
       "        vertical-align: middle;\n",
       "    }\n",
       "\n",
       "    .dataframe tbody tr th {\n",
       "        vertical-align: top;\n",
       "    }\n",
       "\n",
       "    .dataframe thead th {\n",
       "        text-align: right;\n",
       "    }\n",
       "</style>\n",
       "<table border=\"1\" class=\"dataframe\">\n",
       "  <thead>\n",
       "    <tr style=\"text-align: right;\">\n",
       "      <th></th>\n",
       "      <th>Facility ID</th>\n",
       "      <th>Facility Name</th>\n",
       "      <th>Street Name</th>\n",
       "      <th>Suburb/Town</th>\n",
       "      <th>Pcode</th>\n",
       "      <th>Latitude</th>\n",
       "      <th>Longitude</th>\n",
       "      <th>Field/Surface Type</th>\n",
       "      <th>FullAddress</th>\n",
       "      <th>MelwaysVicRoadsRef</th>\n",
       "    </tr>\n",
       "  </thead>\n",
       "  <tbody>\n",
       "    <tr>\n",
       "      <th>0</th>\n",
       "      <td>ALPINE5519</td>\n",
       "      <td>Pioneer Park Recreation Reserve</td>\n",
       "      <td>Coronation</td>\n",
       "      <td>BRIGHT</td>\n",
       "      <td>3741.0</td>\n",
       "      <td>-36.737199</td>\n",
       "      <td>146.973353</td>\n",
       "      <td>NaN</td>\n",
       "      <td>Coronation Avenue, BRIGHT 3741</td>\n",
       "      <td>661 P4</td>\n",
       "    </tr>\n",
       "    <tr>\n",
       "      <th>1</th>\n",
       "      <td>ALPINE10928</td>\n",
       "      <td>Mount Beauty recreation Reserve</td>\n",
       "      <td>Lakeside</td>\n",
       "      <td>MOUNT BEAUTY</td>\n",
       "      <td>3699.0</td>\n",
       "      <td>-36.739256</td>\n",
       "      <td>147.172162</td>\n",
       "      <td>Grass Running Track</td>\n",
       "      <td>Lakeside  Avenue, MOUNT BEAUTY 3699</td>\n",
       "      <td>660 H10</td>\n",
       "    </tr>\n",
       "    <tr>\n",
       "      <th>2</th>\n",
       "      <td>ALPINE10924</td>\n",
       "      <td>Dederang Recreation reserve</td>\n",
       "      <td>Kiewa-Valley</td>\n",
       "      <td>DEDERANG</td>\n",
       "      <td>3691.0</td>\n",
       "      <td>-36.475264</td>\n",
       "      <td>147.020525</td>\n",
       "      <td>Grass</td>\n",
       "      <td>Kiewa-Valley Hwy, DEDERANG 3691</td>\n",
       "      <td>36 B9</td>\n",
       "    </tr>\n",
       "    <tr>\n",
       "      <th>3</th>\n",
       "      <td>ALPINE10932</td>\n",
       "      <td>RC McNamara Reserve</td>\n",
       "      <td>Lewis</td>\n",
       "      <td>MYRTLEFORD</td>\n",
       "      <td>3737.0</td>\n",
       "      <td>-36.567524</td>\n",
       "      <td>146.723777</td>\n",
       "      <td>Grass</td>\n",
       "      <td>Lewis  Avenue, MYRTLEFORD 3737</td>\n",
       "      <td>660 B7</td>\n",
       "    </tr>\n",
       "    <tr>\n",
       "      <th>4</th>\n",
       "      <td>ALPINE10942</td>\n",
       "      <td>Porepunkah Recreation Reserve</td>\n",
       "      <td>Martley</td>\n",
       "      <td>POREPUNKAH</td>\n",
       "      <td>3740.0</td>\n",
       "      <td>-36.698109</td>\n",
       "      <td>146.910729</td>\n",
       "      <td>Grass</td>\n",
       "      <td>Martley Street, POREPUNKAH 3740</td>\n",
       "      <td>661 M11</td>\n",
       "    </tr>\n",
       "  </tbody>\n",
       "</table>\n",
       "</div>"
      ],
      "text/plain": [
       "   Facility ID                    Facility Name   Street Name   Suburb/Town  \\\n",
       "0   ALPINE5519  Pioneer Park Recreation Reserve    Coronation        BRIGHT   \n",
       "1  ALPINE10928  Mount Beauty recreation Reserve     Lakeside   MOUNT BEAUTY   \n",
       "2  ALPINE10924      Dederang Recreation reserve  Kiewa-Valley      DEDERANG   \n",
       "3  ALPINE10932              RC McNamara Reserve        Lewis     MYRTLEFORD   \n",
       "4  ALPINE10942    Porepunkah Recreation Reserve       Martley    POREPUNKAH   \n",
       "\n",
       "    Pcode   Latitude   Longitude   Field/Surface Type  \\\n",
       "0  3741.0 -36.737199  146.973353                  NaN   \n",
       "1  3699.0 -36.739256  147.172162  Grass Running Track   \n",
       "2  3691.0 -36.475264  147.020525                Grass   \n",
       "3  3737.0 -36.567524  146.723777                Grass   \n",
       "4  3740.0 -36.698109  146.910729                Grass   \n",
       "\n",
       "                            FullAddress MelwaysVicRoadsRef  \n",
       "0        Coronation Avenue, BRIGHT 3741             661 P4  \n",
       "1   Lakeside  Avenue, MOUNT BEAUTY 3699            660 H10  \n",
       "2       Kiewa-Valley Hwy, DEDERANG 3691              36 B9  \n",
       "3        Lewis  Avenue, MYRTLEFORD 3737             660 B7  \n",
       "4       Martley Street, POREPUNKAH 3740            661 M11  "
      ]
     },
     "execution_count": 12,
     "metadata": {},
     "output_type": "execute_result"
    }
   ],
   "source": [
    "# reset index and put each row in order\n",
    "park_reserve.reset_index(drop=True, inplace=True)\n",
    "\n",
    "gym_fitness.reset_index(drop=True, inplace=True)\n",
    "\n",
    "swimming_sport.reset_index(drop=True, inplace=True)\n",
    "\n",
    "school.reset_index(drop=True, inplace=True)\n",
    "\n",
    "park_reserve.head()"
   ]
  },
  {
   "cell_type": "code",
   "execution_count": 13,
   "metadata": {
    "collapsed": false,
    "jupyter": {
     "outputs_hidden": false
    },
    "pycharm": {
     "name": "#%% save three types of facilities into different csv for later useing\n"
    }
   },
   "outputs": [],
   "source": [
    "park_reserve.to_csv(\"../data/curated/park_reserve.csv\")\n",
    "\n",
    "gym_fitness.to_csv(\"../data/curated/gym_fitness.csv\")\n",
    "\n",
    "swimming_sport.to_csv(\"../data/curated/swimming.csv\")\n",
    "\n",
    "school.to_csv(\"../data/curated/school.csv\")"
   ]
  },
  {
   "cell_type": "code",
   "execution_count": null,
   "metadata": {
    "collapsed": false,
    "jupyter": {
     "outputs_hidden": false
    },
    "pycharm": {
     "name": "#%%\n"
    }
   },
   "outputs": [],
   "source": []
  }
 ],
 "metadata": {
  "kernelspec": {
   "display_name": "Python 3 (ipykernel)",
   "language": "python",
   "name": "python3"
  },
  "language_info": {
   "codemirror_mode": {
    "name": "ipython",
    "version": 3
   },
   "file_extension": ".py",
   "mimetype": "text/x-python",
   "name": "python",
   "nbconvert_exporter": "python",
   "pygments_lexer": "ipython3",
   "version": "3.8.13"
  }
 },
 "nbformat": 4,
 "nbformat_minor": 4
}
