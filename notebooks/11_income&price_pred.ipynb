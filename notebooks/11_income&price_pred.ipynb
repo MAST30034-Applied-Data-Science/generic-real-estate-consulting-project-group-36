{
 "cells": [
  {
   "cell_type": "code",
   "execution_count": 20,
   "id": "a024173a-4543-454d-9740-8b334fa0d57c",
   "metadata": {},
   "outputs": [],
   "source": [
    "import pandas as pd\n",
    "from sklearn.linear_model import LinearRegression\n",
    "import matplotlib.pyplot as plt"
   ]
  },
  {
   "cell_type": "markdown",
   "id": "6174c732-c9fb-419c-a79c-24875acd84bd",
   "metadata": {},
   "source": [
    "Preprocessing"
   ]
  },
  {
   "cell_type": "code",
   "execution_count": 2,
   "id": "af829809-b434-4b64-9e9a-b8bf494eff29",
   "metadata": {},
   "outputs": [],
   "source": [
    "df = pd.read_csv(\"../data/curated/income_person.csv\")\n",
    "df = df.iloc[1: , :]\n",
    "\n",
    "df2 = pd.read_csv(\"../data/curated/houseprice.csv\")\n",
    "df2.iloc[1: , :]\n",
    "df2 = df2.iloc[1: , :]\n",
    "df2.reset_index(drop=True, inplace=True)"
   ]
  },
  {
   "cell_type": "code",
   "execution_count": 3,
   "id": "2cc58d43-9333-4e11-b6ac-fe84c87ed10b",
   "metadata": {
    "tags": []
   },
   "outputs": [
    {
     "name": "stdout",
     "output_type": "stream",
     "text": [
      "83\n",
      "83\n",
      "83\n",
      "80\n",
      "83\n",
      "92\n",
      "127\n",
      "194\n",
      "236\n",
      "80\n",
      "83\n",
      "92\n",
      "127\n",
      "194\n",
      "236\n"
     ]
    }
   ],
   "source": [
    "# check noisy data\n",
    "for i in range(1, len(df)):\n",
    "    if df[\"2018income\"][i] == ' np ':\n",
    "        print(i)\n",
    "for i in range(1, len(df)):\n",
    "    if df[\"2017income\"][i] == ' np ':\n",
    "        print(i)\n",
    "for i in range(1, len(df)):\n",
    "    if df[\"2016income\"][i] == ' np ':\n",
    "        print(i)\n",
    "for i in range(1, len(df)):\n",
    "    if df[\"2015income\"][i] == ' np ':\n",
    "        print(i)\n",
    "for i in range(1, len(df)):\n",
    "    if df[\"2014income\"][i] == ' np ':\n",
    "        print(i)"
   ]
  },
  {
   "cell_type": "code",
   "execution_count": 4,
   "id": "2829c9db-4d0a-4233-bb5a-b62ede6e3f01",
   "metadata": {},
   "outputs": [],
   "source": [
    "# remove noises in income\n",
    "update_df = df.drop([df.index[80], df.index[83], df.index[92], df.index[127], df.index[194], df.index[236]])"
   ]
  },
  {
   "cell_type": "code",
   "execution_count": 5,
   "id": "4d227f54-9843-47e6-bc49-048514be2762",
   "metadata": {},
   "outputs": [],
   "source": [
    "update_df.reset_index(drop=True, inplace=True)"
   ]
  },
  {
   "cell_type": "code",
   "execution_count": 6,
   "id": "f0a785bb-7a79-4033-ac6f-e99921b6f02b",
   "metadata": {
    "tags": []
   },
   "outputs": [
    {
     "name": "stdout",
     "output_type": "stream",
     "text": [
      "81\n",
      "81\n",
      "81\n",
      "79\n",
      "81\n",
      "89\n",
      "123\n",
      "189\n",
      "230\n",
      "79\n",
      "81\n",
      "89\n",
      "123\n",
      "189\n",
      "230\n"
     ]
    }
   ],
   "source": [
    "for i in range(len(update_df)):\n",
    "    if update_df[\"2018income\"][i] == ' np ':\n",
    "        print(i)\n",
    "for i in range(len(update_df)):\n",
    "    if update_df[\"2017income\"][i] == ' np ':\n",
    "        print(i)\n",
    "for i in range(len(update_df)):\n",
    "    if update_df[\"2016income\"][i] == ' np ':\n",
    "        print(i)\n",
    "for i in range(len(update_df)):\n",
    "    if update_df[\"2015income\"][i] == ' np ':\n",
    "        print(i)\n",
    "for i in range(len(update_df)):\n",
    "    if update_df[\"2014income\"][i] == ' np ':\n",
    "        print(i)"
   ]
  },
  {
   "cell_type": "code",
   "execution_count": 7,
   "id": "5cdb51c5-ac9d-4579-898b-a65fd8046690",
   "metadata": {},
   "outputs": [],
   "source": [
    "update_df = update_df.drop([update_df.index[81], update_df.index[79], update_df.index[89], update_df.index[123], update_df.index[189], update_df.index[230]])"
   ]
  },
  {
   "cell_type": "code",
   "execution_count": 8,
   "id": "a3f46988-8312-472d-bc62-03da27621bea",
   "metadata": {},
   "outputs": [],
   "source": [
    "update_df.reset_index(drop=True, inplace=True)"
   ]
  },
  {
   "cell_type": "code",
   "execution_count": 10,
   "id": "a102a618-5a11-4ed3-9c7a-440c03657cc4",
   "metadata": {
    "tags": []
   },
   "outputs": [
    {
     "name": "stderr",
     "output_type": "stream",
     "text": [
      "/var/folders/hc/bk1ztr7n3735c7xpl5j8qqvr0000gn/T/ipykernel_31990/412664951.py:6: SettingWithCopyWarning: \n",
      "A value is trying to be set on a copy of a slice from a DataFrame\n",
      "\n",
      "See the caveats in the documentation: https://pandas.pydata.org/pandas-docs/stable/user_guide/indexing.html#returning-a-view-versus-a-copy\n",
      "  update_df[\"2014income\"][i] = new\n",
      "/var/folders/hc/bk1ztr7n3735c7xpl5j8qqvr0000gn/T/ipykernel_31990/412664951.py:11: SettingWithCopyWarning: \n",
      "A value is trying to be set on a copy of a slice from a DataFrame\n",
      "\n",
      "See the caveats in the documentation: https://pandas.pydata.org/pandas-docs/stable/user_guide/indexing.html#returning-a-view-versus-a-copy\n",
      "  update_df[\"2015income\"][i] = new\n",
      "/var/folders/hc/bk1ztr7n3735c7xpl5j8qqvr0000gn/T/ipykernel_31990/412664951.py:16: SettingWithCopyWarning: \n",
      "A value is trying to be set on a copy of a slice from a DataFrame\n",
      "\n",
      "See the caveats in the documentation: https://pandas.pydata.org/pandas-docs/stable/user_guide/indexing.html#returning-a-view-versus-a-copy\n",
      "  update_df[\"2016income\"][i] = new\n",
      "/var/folders/hc/bk1ztr7n3735c7xpl5j8qqvr0000gn/T/ipykernel_31990/412664951.py:21: SettingWithCopyWarning: \n",
      "A value is trying to be set on a copy of a slice from a DataFrame\n",
      "\n",
      "See the caveats in the documentation: https://pandas.pydata.org/pandas-docs/stable/user_guide/indexing.html#returning-a-view-versus-a-copy\n",
      "  update_df[\"2017income\"][i] = new\n",
      "/var/folders/hc/bk1ztr7n3735c7xpl5j8qqvr0000gn/T/ipykernel_31990/412664951.py:26: SettingWithCopyWarning: \n",
      "A value is trying to be set on a copy of a slice from a DataFrame\n",
      "\n",
      "See the caveats in the documentation: https://pandas.pydata.org/pandas-docs/stable/user_guide/indexing.html#returning-a-view-versus-a-copy\n",
      "  update_df[\"2018income\"][i] = new\n"
     ]
    }
   ],
   "source": [
    "# remove character in string\n",
    "for i in range(0, len(update_df)):\n",
    "    s = update_df[\"2014income\"][i]\n",
    "    new = s.replace(',', '')\n",
    "    new = new.replace(' ', '')\n",
    "    update_df[\"2014income\"][i] = new\n",
    "for i in range(0, len(update_df)):\n",
    "    s = update_df[\"2015income\"][i]\n",
    "    new = s.replace(',', '')\n",
    "    new = new.replace(' ', '')\n",
    "    update_df[\"2015income\"][i] = new\n",
    "for i in range(0, len(update_df)):\n",
    "    s = update_df[\"2016income\"][i]\n",
    "    new = s.replace(',', '')\n",
    "    new = new.replace(' ', '')\n",
    "    update_df[\"2016income\"][i] = new\n",
    "for i in range(0, len(update_df)):\n",
    "    s = update_df[\"2017income\"][i]\n",
    "    new = s.replace(',', '')\n",
    "    new = new.replace(' ', '')\n",
    "    update_df[\"2017income\"][i] = new\n",
    "for i in range(0, len(update_df)):\n",
    "    s = update_df[\"2018income\"][i]\n",
    "    new = s.replace(',', '')\n",
    "    new = new.replace(' ', '')\n",
    "    update_df[\"2018income\"][i] = new"
   ]
  },
  {
   "cell_type": "code",
   "execution_count": 11,
   "id": "2404ab19-8db2-472f-bbd9-9e313f95c719",
   "metadata": {},
   "outputs": [],
   "source": [
    "# convert string to numeric data for income and house price\n",
    "update_df['2017income'] = pd.to_numeric(update_df['2017income'])\n",
    "update_df['2018income'] = pd.to_numeric(update_df['2018income'])\n",
    "update_df['2016income'] = pd.to_numeric(update_df['2016income'])\n",
    "update_df['2015income'] = pd.to_numeric(update_df['2015income'])\n",
    "update_df['2014income'] = pd.to_numeric(update_df['2014income'])\n",
    "\n",
    "df2['2017'] = pd.to_numeric(df2['2017'])\n",
    "df2['2018'] = pd.to_numeric(df2['2018'])\n",
    "df2['2016'] = pd.to_numeric(df2['2016'])\n",
    "df2['2015'] = pd.to_numeric(df2['2015'])\n",
    "df2['2019'] = pd.to_numeric(df2['2019'])"
   ]
  },
  {
   "cell_type": "code",
   "execution_count": 12,
   "id": "71e0e246-9b42-4791-81a8-c3e97c20c287",
   "metadata": {
    "tags": []
   },
   "outputs": [],
   "source": [
    "df2.dropna(how='any', axis=1, inplace=True)"
   ]
  },
  {
   "cell_type": "markdown",
   "id": "70f9dc7e-7157-421c-9d82-39fbdf2a2030",
   "metadata": {},
   "source": [
    "Prediction"
   ]
  },
  {
   "cell_type": "code",
   "execution_count": 13,
   "id": "06a08bc7-3b82-4fea-bce4-da8a379a5ee0",
   "metadata": {},
   "outputs": [],
   "source": [
    "# create empty list to store predicted values for income\n",
    "l19 = []\n",
    "l20 = []\n",
    "l21 = []\n",
    "l22 = []\n",
    "l23 = []\n",
    "l24 = []\n",
    "l25 = []\n",
    "\n",
    "# create empty list to store predicted values for house price\n",
    "ll20 = []\n",
    "ll21 = []\n",
    "ll22 = []\n",
    "ll23 = []\n",
    "ll24 = []\n",
    "ll25 = []"
   ]
  },
  {
   "cell_type": "code",
   "execution_count": 15,
   "id": "aa6b375b-6ba5-4255-a9fc-fb6fa2c4e3ed",
   "metadata": {},
   "outputs": [
    {
     "data": {
      "image/png": "[encoded data removed]",
      "text/plain": [
       "<Figure size 640x480 with 1 Axes>"
      ]
     },
     "metadata": {},
     "output_type": "display_data"
    }
   ],
   "source": [
    "# plot the relationship between income and year\n",
    "for i in range(10):\n",
    "    df1 = pd.DataFrame(data=[['2014', update_df.iloc[i,2]],\n",
    "                        ['2015', update_df.iloc[i,3]],\n",
    "                        ['2016', update_df.iloc[i,4]],\n",
    "                        ['2017', update_df.iloc[i,5]],\n",
    "                        ['2018', update_df.iloc[i,6]]],\n",
    "                 columns = ['year','income'],\n",
    "                 )\n",
    "    y = df1['income']\n",
    "    x = df1['year']\n",
    "    plt.scatter(x, y, alpha=0.5)\n",
    "plt.xlabel('year')\n",
    "plt.ylabel('income')\n",
    "plt.savefig(\"../plots/income vs. year.png\")\n",
    "plt.show()"
   ]
  },
  {
   "cell_type": "markdown",
   "id": "dedb8024-ad6d-48bc-9e6c-74edd0d85491",
   "metadata": {},
   "source": [
    "From above scatter plots, it is evidence that as the year increases, the income increases."
   ]
  },
  {
   "cell_type": "code",
   "execution_count": 16,
   "id": "ff54e09d-ae7f-4f2c-b2e5-dcf65c1c31ad",
   "metadata": {},
   "outputs": [],
   "source": [
    "# iterate over all suburb's income according to year\n",
    "for i in range(len(update_df)):\n",
    "    df1 = pd.DataFrame(data=[['2014', update_df.iloc[i,2]],\n",
    "                        ['2015', update_df.iloc[i,3]],\n",
    "                        ['2016', update_df.iloc[i,4]],\n",
    "                        ['2017', update_df.iloc[i,5]],\n",
    "                        ['2018', update_df.iloc[i,6]]],\n",
    "                 columns = ['year','income'],\n",
    "                 )\n",
    "    y = df1['income']\n",
    "    x = df1['year']\n",
    "    x = x.values.reshape(-1,1)\n",
    "    y = y.values.reshape(-1,1)\n",
    "    \n",
    "    # perform linear regression to predict future year's income for each suburb\n",
    "    model = LinearRegression()\n",
    "    model.fit(x, y)\n",
    "    predict_y = model.predict(x)\n",
    "    X2 = [[2019],[2020],[2021],[2022],[2023],[2024],[2025]]\n",
    "    Y2 = model.predict(X2)\n",
    "    \n",
    "    # append values to each list\n",
    "    l19.append(Y2[0][0])\n",
    "    l20.append(Y2[1][0])\n",
    "    l21.append(Y2[2][0])\n",
    "    l22.append(Y2[3][0])\n",
    "    l23.append(Y2[4][0])\n",
    "    l24.append(Y2[5][0])\n",
    "    l25.append(Y2[6][0])\n",
    "\n",
    "# iterate over all suburb's unit house price according to year\n",
    "for i in range(len(df2)):\n",
    "    df1 = pd.DataFrame(data=[['2015', df2.iloc[i,2]],\n",
    "                        ['2016', df2.iloc[i,3]],\n",
    "                        ['2017', df2.iloc[i,4]],\n",
    "                        ['2018', df2.iloc[i,5]],\n",
    "                        ['2019', df2.iloc[i,6]]],\n",
    "                 columns = ['year','price'],\n",
    "                 )\n",
    "    y = df1['price']\n",
    "    x = df1['year']\n",
    "    x = x.values.reshape(-1,1)\n",
    "    y = y.values.reshape(-1,1)\n",
    "    \n",
    "    # perform linear regression to predict future year's price for each suburb\n",
    "    model = LinearRegression()\n",
    "    model.fit(x, y)\n",
    "    predict_y = model.predict(x)\n",
    "    X2 = [[2020],[2021],[2022],[2023],[2024],[2025]]\n",
    "    Y2 = model.predict(X2)\n",
    "    \n",
    "    # append values to each list\n",
    "    ll20.append(Y2[0][0])\n",
    "    ll21.append(Y2[1][0])\n",
    "    ll22.append(Y2[2][0])\n",
    "    ll23.append(Y2[3][0])\n",
    "    ll24.append(Y2[4][0])\n",
    "    ll25.append(Y2[5][0])"
   ]
  },
  {
   "cell_type": "code",
   "execution_count": 17,
   "id": "ffc3daec-d2b1-48be-9201-2d02abf695e5",
   "metadata": {},
   "outputs": [],
   "source": [
    "# update income dataframe with predicted income values\n",
    "update_df[\"2019income\"] = l19\n",
    "update_df[\"2020income\"] = l20\n",
    "update_df[\"2021income\"] = l21\n",
    "update_df[\"2022income\"] = l22\n",
    "update_df[\"2023income\"] = l23\n",
    "update_df[\"2024income\"] = l24\n",
    "update_df[\"2025income\"] = l25\n",
    "\n",
    "# update house price dataframe with predicted price values\n",
    "df2[\"2020house_price\"] = ll20\n",
    "df2[\"2021house_price\"] = ll21\n",
    "df2[\"2022house_price\"] = ll22\n",
    "df2[\"2023house_price\"] = ll23\n",
    "df2[\"2024house_price\"] = ll24\n",
    "df2[\"2025house_price\"] = ll25"
   ]
  },
  {
   "cell_type": "code",
   "execution_count": 16,
   "id": "3fad845d-0a6e-4721-9985-ed0b8fd267a9",
   "metadata": {
    "tags": []
   },
   "outputs": [
    {
     "ename": "FileExistsError",
     "evalue": "[Errno 17] File exists: '../data/curated/predictions'",
     "output_type": "error",
     "traceback": [
      "\u001b[0;31m---------------------------------------------------------------------------\u001b[0m",
      "\u001b[0;31mFileExistsError\u001b[0m                           Traceback (most recent call last)",
      "Input \u001b[0;32mIn [16]\u001b[0m, in \u001b[0;36m<cell line: 3>\u001b[0;34m()\u001b[0m\n\u001b[1;32m      1\u001b[0m \u001b[38;5;28;01mimport\u001b[39;00m \u001b[38;5;21;01mos\u001b[39;00m\n\u001b[1;32m      2\u001b[0m \u001b[38;5;66;03m# ignore it if exists\u001b[39;00m\n\u001b[0;32m----> 3\u001b[0m \u001b[43mos\u001b[49m\u001b[38;5;241;43m.\u001b[39;49m\u001b[43mmkdir\u001b[49m\u001b[43m(\u001b[49m\u001b[38;5;124;43mr\u001b[39;49m\u001b[38;5;124;43m'\u001b[39;49m\u001b[38;5;124;43m../data/curated/predictions\u001b[39;49m\u001b[38;5;124;43m'\u001b[39;49m\u001b[43m)\u001b[49m\n",
      "\u001b[0;31mFileExistsError\u001b[0m: [Errno 17] File exists: '../data/curated/predictions'"
     ]
    }
   ],
   "source": [
    "import os\n",
    "# ignore it if exists\n",
    "os.mkdir(r'../data/curated/predictions')\n"
   ]
  },
  {
   "cell_type": "code",
   "execution_count": 18,
   "id": "f1101f10-326e-4e08-99bb-787fa64154eb",
   "metadata": {},
   "outputs": [],
   "source": [
    "update_df.to_csv(\"../data/curated/predictions/pred_income.csv\")"
   ]
  },
  {
   "cell_type": "code",
   "execution_count": 19,
   "id": "7eab8b1a-b158-4e3e-89ba-459fa54bef62",
   "metadata": {},
   "outputs": [],
   "source": [
    "df2.to_csv(\"../data/curated/predictions/pred_house_price.csv\")"
   ]
  },
  {
   "cell_type": "code",
   "execution_count": null,
   "id": "f726198d-5859-485f-ac21-5b5b5d654c9d",
   "metadata": {},
   "outputs": [],
   "source": []
  }
 ],
 "metadata": {
  "kernelspec": {
   "display_name": "Python 3 (ipykernel)",
   "language": "python",
   "name": "python3"
  },
  "language_info": {
   "codemirror_mode": {
    "name": "ipython",
    "version": 3
   },
   "file_extension": ".py",
   "mimetype": "text/x-python",
   "name": "python",
   "nbconvert_exporter": "python",
   "pygments_lexer": "ipython3",
   "version": "3.8.13"
  }
 },
 "nbformat": 4,
 "nbformat_minor": 5
}
