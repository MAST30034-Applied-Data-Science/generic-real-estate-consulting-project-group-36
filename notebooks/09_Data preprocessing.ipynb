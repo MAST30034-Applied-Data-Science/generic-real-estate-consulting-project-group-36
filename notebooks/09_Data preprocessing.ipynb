{
 "cells": [
  {
   "cell_type": "code",
   "execution_count": 1,
   "metadata": {
    "tags": []
   },
   "outputs": [],
   "source": [
    "import pandas as pd\n",
    "from pandas import Series,DataFrame"
   ]
  },
  {
   "cell_type": "code",
   "execution_count": 2,
   "metadata": {
    "collapsed": false,
    "jupyter": {
     "outputs_hidden": false
    },
    "pycharm": {
     "name": "#%%\n"
    }
   },
   "outputs": [],
   "source": [
    "# read datafiles\n",
    "dfapart = pd.read_csv(\"../data/curated/apartment_facilities.csv\")\n",
    "dfhouse = pd.read_csv('../data/curated/house_facilities.csv')\n",
    "income = pd.read_csv('../data/curated/income_person.csv')"
   ]
  },
  {
   "cell_type": "code",
   "execution_count": 3,
   "metadata": {
    "tags": []
   },
   "outputs": [],
   "source": [
    "population = pd.read_csv(\"../data/raw/population_2021.csv\")\n",
    "population = population.rename(columns={'sa2_name_2016':'suburb'})\n",
    "# convert all string into upper form\n",
    "income['suburb'] = income['suburb'].str.upper()\n",
    "population['suburb'] = population['suburb'].str.upper()"
   ]
  },
  {
   "cell_type": "code",
   "execution_count": 4,
   "metadata": {},
   "outputs": [],
   "source": [
    "houseprice = pd.read_csv('../data/raw/Suburb_Unit_price.csv')\n",
    "houseprice = houseprice.rename(columns={'Unnamed: 0':'suburb'})"
   ]
  },
  {
   "cell_type": "code",
   "execution_count": 5,
   "metadata": {
    "pycharm": {
     "name": "#%% extract the suburb from whole address, form a new column. prepare for matching\n"
    },
    "tags": []
   },
   "outputs": [],
   "source": [
    "# find the suburb of each address\n",
    "dfapart[\"suburb\"] = dfapart[\"address\"].str.extract(\"(.+?)\\d\")\n",
    "dfapart[\"suburb\"] = dfapart[\"suburb\"].str.strip().str.upper()\n",
    "\n",
    "dfhouse[\"suburb\"] = dfhouse[\"address\"].str.extract(\"(.+?)\\d\")\n",
    "dfhouse[\"suburb\"] = dfhouse[\"suburb\"].str.strip().str.upper()\n",
    "\n",
    "apa = dfapart.loc[:,[\"price\", \"suburb\", \"beds\", \"baths\", \\\n",
    "                 \"parking\", \"latitudes\", \"longitudes\", \\\n",
    "                 \"school\", \"train_station\", \"fitness_gym\", \\\n",
    "                 \"hospital\", \"shopping_center\", \"park\"]]\n",
    "house = dfhouse.loc[:,[\"price\", \"suburb\", \"beds\", \"baths\", \\\n",
    "                 \"parking\", \"latitudes\", \"longitudes\", \\\n",
    "                 \"school\", \"train_station\", \"fitness_gym\", \\\n",
    "                 \"hospital\", \"shopping_center\", \"park\"]]"
   ]
  },
  {
   "cell_type": "code",
   "execution_count": 6,
   "metadata": {},
   "outputs": [],
   "source": [
    "# convert to string type\n",
    "house[\"suburb\"] = house[\"suburb\"].apply(str)\n",
    "apa[\"suburb\"] = apa[\"suburb\"].apply(str)"
   ]
  },
  {
   "cell_type": "code",
   "execution_count": 7,
   "metadata": {},
   "outputs": [],
   "source": [
    "list_income = [\"suburb\", \"2014income\", \"2015income\", \"2016income\", \"2017income\", \"2018income\"]\n",
    "income = income.loc[:, list_income]"
   ]
  },
  {
   "cell_type": "code",
   "execution_count": 8,
   "metadata": {},
   "outputs": [],
   "source": [
    "# create dataframe of useful information for population\n",
    "pop_list = ['suburb', 'erp_2016', 'erp_2017', 'erp_2018', 'erp_2019', 'erp_2020',\\\n",
    "            'natural_increase_2016_17', 'net_internal_migration_2016_17','net_overseas_migration_2016_17', \\\n",
    "                 'natural_increase_2017_18', 'net_internal_migration_2017_18', 'net_overseas_migration_2017_18',\\\n",
    "       'natural_increase_2018_19', 'net_internal_migration_2018_19', 'net_overseas_migration_2018_19',\\\n",
    "            'natural_increase_2019_20', 'net_internal_migration_2019_20', 'net_overseas_migration_2019_20', \\\n",
    "            'natural_increase_2020_21', 'net_internal_migration_2020_21', 'net_overseas_migration_2020_21', ]\n",
    "population = population.loc[:,pop_list]"
   ]
  },
  {
   "cell_type": "code",
   "execution_count": 9,
   "metadata": {},
   "outputs": [],
   "source": [
    "population.to_csv('../data/curated/population16-20.csv')"
   ]
  },
  {
   "cell_type": "code",
   "execution_count": 10,
   "metadata": {},
   "outputs": [],
   "source": [
    "houseprice.to_csv('../data/curated/houseprice.csv')"
   ]
  },
  {
   "cell_type": "code",
   "execution_count": null,
   "metadata": {},
   "outputs": [],
   "source": []
  }
 ],
 "metadata": {
  "kernelspec": {
   "display_name": "Python 3 (ipykernel)",
   "language": "python",
   "name": "python3"
  },
  "language_info": {
   "codemirror_mode": {
    "name": "ipython",
    "version": 3
   },
   "file_extension": ".py",
   "mimetype": "text/x-python",
   "name": "python",
   "nbconvert_exporter": "python",
   "pygments_lexer": "ipython3",
   "version": "3.8.13"
  }
 },
 "nbformat": 4,
 "nbformat_minor": 4
}
