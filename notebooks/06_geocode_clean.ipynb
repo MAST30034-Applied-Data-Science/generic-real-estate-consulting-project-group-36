{
 "cells": [
  {
   "cell_type": "code",
   "execution_count": 1,
   "metadata": {
    "tags": []
   },
   "outputs": [],
   "source": [
    "import pandas as pd"
   ]
  },
  {
   "cell_type": "code",
   "execution_count": 2,
   "metadata": {
    "collapsed": false,
    "jupyter": {
     "outputs_hidden": false
    },
    "pycharm": {
     "name": "#%%\n"
    }
   },
   "outputs": [],
   "source": [
    "df1 = pd.read_csv('../data/curated/apartment_geocoded.csv')\n",
    "df2 = pd.read_csv('../data/curated/house_geocoded.csv')"
   ]
  },
  {
   "cell_type": "code",
   "execution_count": 3,
   "metadata": {
    "collapsed": false,
    "jupyter": {
     "outputs_hidden": false
    },
    "pycharm": {
     "name": "#%%\n"
    }
   },
   "outputs": [
    {
     "data": {
      "text/html": [
       "<div>\n",
       "<style scoped>\n",
       "    .dataframe tbody tr th:only-of-type {\n",
       "        vertical-align: middle;\n",
       "    }\n",
       "\n",
       "    .dataframe tbody tr th {\n",
       "        vertical-align: top;\n",
       "    }\n",
       "\n",
       "    .dataframe thead th {\n",
       "        text-align: right;\n",
       "    }\n",
       "</style>\n",
       "<table border=\"1\" class=\"dataframe\">\n",
       "  <thead>\n",
       "    <tr style=\"text-align: right;\">\n",
       "      <th></th>\n",
       "      <th>Unnamed: 0</th>\n",
       "      <th>address</th>\n",
       "      <th>price</th>\n",
       "      <th>beds</th>\n",
       "      <th>baths</th>\n",
       "      <th>parking</th>\n",
       "      <th>propertyTypeFormatted</th>\n",
       "      <th>latitudes</th>\n",
       "      <th>longitudes</th>\n",
       "    </tr>\n",
       "  </thead>\n",
       "  <tbody>\n",
       "    <tr>\n",
       "      <th>0</th>\n",
       "      <td>0</td>\n",
       "      <td>EAST MELBOURNE 12/174 George Street VIC 3002</td>\n",
       "      <td>495</td>\n",
       "      <td>1</td>\n",
       "      <td>1</td>\n",
       "      <td>1</td>\n",
       "      <td>Apartment / Unit / Flat</td>\n",
       "      <td>-37.8167</td>\n",
       "      <td>144.9879</td>\n",
       "    </tr>\n",
       "    <tr>\n",
       "      <th>1</th>\n",
       "      <td>1</td>\n",
       "      <td>BRIGHTON 210/26 Warleigh Grove VIC 3186</td>\n",
       "      <td>595</td>\n",
       "      <td>2</td>\n",
       "      <td>2</td>\n",
       "      <td>1</td>\n",
       "      <td>Apartment / Unit / Flat</td>\n",
       "      <td>-37.9057</td>\n",
       "      <td>145.0067</td>\n",
       "    </tr>\n",
       "    <tr>\n",
       "      <th>2</th>\n",
       "      <td>2</td>\n",
       "      <td>MELBOURNE 605/455 Elizabeth Street VIC 3000</td>\n",
       "      <td>500</td>\n",
       "      <td>2</td>\n",
       "      <td>1</td>\n",
       "      <td>0</td>\n",
       "      <td>Apartment / Unit / Flat</td>\n",
       "      <td>45.5916</td>\n",
       "      <td>14.1546</td>\n",
       "    </tr>\n",
       "    <tr>\n",
       "      <th>3</th>\n",
       "      <td>3</td>\n",
       "      <td>MELBOURNE 3510/500 Elizabeth Street VIC 3000</td>\n",
       "      <td>580</td>\n",
       "      <td>2</td>\n",
       "      <td>2</td>\n",
       "      <td>0</td>\n",
       "      <td>Apartment / Unit / Flat</td>\n",
       "      <td>45.5916</td>\n",
       "      <td>14.1546</td>\n",
       "    </tr>\n",
       "    <tr>\n",
       "      <th>4</th>\n",
       "      <td>4</td>\n",
       "      <td>MELBOURNE 309/402-408 La Trobe Street VIC 3000</td>\n",
       "      <td>450</td>\n",
       "      <td>2</td>\n",
       "      <td>1</td>\n",
       "      <td>0</td>\n",
       "      <td>Apartment / Unit / Flat</td>\n",
       "      <td>45.5916</td>\n",
       "      <td>14.1546</td>\n",
       "    </tr>\n",
       "  </tbody>\n",
       "</table>\n",
       "</div>"
      ],
      "text/plain": [
       "   Unnamed: 0                                         address  price  beds  \\\n",
       "0           0    EAST MELBOURNE 12/174 George Street VIC 3002    495     1   \n",
       "1           1         BRIGHTON 210/26 Warleigh Grove VIC 3186    595     2   \n",
       "2           2     MELBOURNE 605/455 Elizabeth Street VIC 3000    500     2   \n",
       "3           3    MELBOURNE 3510/500 Elizabeth Street VIC 3000    580     2   \n",
       "4           4  MELBOURNE 309/402-408 La Trobe Street VIC 3000    450     2   \n",
       "\n",
       "   baths  parking    propertyTypeFormatted  latitudes  longitudes  \n",
       "0      1        1  Apartment / Unit / Flat   -37.8167    144.9879  \n",
       "1      2        1  Apartment / Unit / Flat   -37.9057    145.0067  \n",
       "2      1        0  Apartment / Unit / Flat    45.5916     14.1546  \n",
       "3      2        0  Apartment / Unit / Flat    45.5916     14.1546  \n",
       "4      1        0  Apartment / Unit / Flat    45.5916     14.1546  "
      ]
     },
     "execution_count": 3,
     "metadata": {},
     "output_type": "execute_result"
    }
   ],
   "source": [
    "df1.head()"
   ]
  },
  {
   "cell_type": "code",
   "execution_count": 4,
   "metadata": {
    "collapsed": false,
    "jupyter": {
     "outputs_hidden": false
    },
    "pycharm": {
     "name": "#%%\n"
    }
   },
   "outputs": [],
   "source": [
    "#apartment\n",
    "df_clear1 = df1.drop(df1[df1['latitudes']>0].index)\n",
    "\n",
    "#house\n",
    "df_clear2 = df2.drop(df2[df2['latitudes']>0].index)"
   ]
  },
  {
   "cell_type": "code",
   "execution_count": 5,
   "metadata": {
    "collapsed": true,
    "jupyter": {
     "outputs_hidden": true
    },
    "tags": []
   },
   "outputs": [
    {
     "data": {
      "text/html": [
       "<div>\n",
       "<style scoped>\n",
       "    .dataframe tbody tr th:only-of-type {\n",
       "        vertical-align: middle;\n",
       "    }\n",
       "\n",
       "    .dataframe tbody tr th {\n",
       "        vertical-align: top;\n",
       "    }\n",
       "\n",
       "    .dataframe thead th {\n",
       "        text-align: right;\n",
       "    }\n",
       "</style>\n",
       "<table border=\"1\" class=\"dataframe\">\n",
       "  <thead>\n",
       "    <tr style=\"text-align: right;\">\n",
       "      <th></th>\n",
       "      <th>Unnamed: 0</th>\n",
       "      <th>address</th>\n",
       "      <th>price</th>\n",
       "      <th>beds</th>\n",
       "      <th>baths</th>\n",
       "      <th>parking</th>\n",
       "      <th>propertyTypeFormatted</th>\n",
       "      <th>latitudes</th>\n",
       "      <th>longitudes</th>\n",
       "    </tr>\n",
       "  </thead>\n",
       "  <tbody>\n",
       "    <tr>\n",
       "      <th>0</th>\n",
       "      <td>0</td>\n",
       "      <td>EAST MELBOURNE 12/174 George Street VIC 3002</td>\n",
       "      <td>495</td>\n",
       "      <td>1</td>\n",
       "      <td>1</td>\n",
       "      <td>1</td>\n",
       "      <td>Apartment / Unit / Flat</td>\n",
       "      <td>-37.8167</td>\n",
       "      <td>144.9879</td>\n",
       "    </tr>\n",
       "    <tr>\n",
       "      <th>1</th>\n",
       "      <td>1</td>\n",
       "      <td>BRIGHTON 210/26 Warleigh Grove VIC 3186</td>\n",
       "      <td>595</td>\n",
       "      <td>2</td>\n",
       "      <td>2</td>\n",
       "      <td>1</td>\n",
       "      <td>Apartment / Unit / Flat</td>\n",
       "      <td>-37.9057</td>\n",
       "      <td>145.0067</td>\n",
       "    </tr>\n",
       "    <tr>\n",
       "      <th>5</th>\n",
       "      <td>5</td>\n",
       "      <td>CARLTON G06/81 Cemetery Road VIC 3053</td>\n",
       "      <td>375</td>\n",
       "      <td>1</td>\n",
       "      <td>1</td>\n",
       "      <td>0</td>\n",
       "      <td>Apartment / Unit / Flat</td>\n",
       "      <td>-37.8004</td>\n",
       "      <td>144.9684</td>\n",
       "    </tr>\n",
       "    <tr>\n",
       "      <th>6</th>\n",
       "      <td>6</td>\n",
       "      <td>ST KILDA EAST 7/1A Hughenden Road VIC 3183</td>\n",
       "      <td>340</td>\n",
       "      <td>1</td>\n",
       "      <td>1</td>\n",
       "      <td>1</td>\n",
       "      <td>Apartment / Unit / Flat</td>\n",
       "      <td>-37.8692</td>\n",
       "      <td>144.9977</td>\n",
       "    </tr>\n",
       "    <tr>\n",
       "      <th>7</th>\n",
       "      <td>7</td>\n",
       "      <td>ABBOTSFORD EG07/11 Flockhart Street VIC 3067</td>\n",
       "      <td>375</td>\n",
       "      <td>2</td>\n",
       "      <td>1</td>\n",
       "      <td>0</td>\n",
       "      <td>Apartment / Unit / Flat</td>\n",
       "      <td>-37.8046</td>\n",
       "      <td>144.9998</td>\n",
       "    </tr>\n",
       "    <tr>\n",
       "      <th>...</th>\n",
       "      <td>...</td>\n",
       "      <td>...</td>\n",
       "      <td>...</td>\n",
       "      <td>...</td>\n",
       "      <td>...</td>\n",
       "      <td>...</td>\n",
       "      <td>...</td>\n",
       "      <td>...</td>\n",
       "      <td>...</td>\n",
       "    </tr>\n",
       "    <tr>\n",
       "      <th>972</th>\n",
       "      <td>972</td>\n",
       "      <td>ST KILDA 22/19 Robe Street VIC 3182</td>\n",
       "      <td>450</td>\n",
       "      <td>2</td>\n",
       "      <td>1</td>\n",
       "      <td>1</td>\n",
       "      <td>Apartment / Unit / Flat</td>\n",
       "      <td>-37.8633</td>\n",
       "      <td>144.9802</td>\n",
       "    </tr>\n",
       "    <tr>\n",
       "      <th>973</th>\n",
       "      <td>973</td>\n",
       "      <td>MALVERN 9/12 Irving Street VIC 3144</td>\n",
       "      <td>400</td>\n",
       "      <td>1</td>\n",
       "      <td>1</td>\n",
       "      <td>1</td>\n",
       "      <td>Apartment / Unit / Flat</td>\n",
       "      <td>-37.8512</td>\n",
       "      <td>145.0317</td>\n",
       "    </tr>\n",
       "    <tr>\n",
       "      <th>974</th>\n",
       "      <td>974</td>\n",
       "      <td>COBURG 5/144 Nicholson Street VIC 3058</td>\n",
       "      <td>300</td>\n",
       "      <td>2</td>\n",
       "      <td>1</td>\n",
       "      <td>1</td>\n",
       "      <td>Apartment / Unit / Flat</td>\n",
       "      <td>-37.7500</td>\n",
       "      <td>144.9667</td>\n",
       "    </tr>\n",
       "    <tr>\n",
       "      <th>975</th>\n",
       "      <td>975</td>\n",
       "      <td>TAWONGA SOUTH 1 Heberles Road VIC 3698</td>\n",
       "      <td>320</td>\n",
       "      <td>1</td>\n",
       "      <td>1</td>\n",
       "      <td>0</td>\n",
       "      <td>Apartment / Unit / Flat</td>\n",
       "      <td>-36.7359</td>\n",
       "      <td>147.1521</td>\n",
       "    </tr>\n",
       "    <tr>\n",
       "      <th>976</th>\n",
       "      <td>976</td>\n",
       "      <td>THORNBURY 4/97 Gooch Street VIC 3071</td>\n",
       "      <td>395</td>\n",
       "      <td>2</td>\n",
       "      <td>1</td>\n",
       "      <td>1</td>\n",
       "      <td>Apartment / Unit / Flat</td>\n",
       "      <td>-37.7583</td>\n",
       "      <td>145.0051</td>\n",
       "    </tr>\n",
       "  </tbody>\n",
       "</table>\n",
       "<p>888 rows × 9 columns</p>\n",
       "</div>"
      ],
      "text/plain": [
       "     Unnamed: 0                                       address  price  beds  \\\n",
       "0             0  EAST MELBOURNE 12/174 George Street VIC 3002    495     1   \n",
       "1             1       BRIGHTON 210/26 Warleigh Grove VIC 3186    595     2   \n",
       "5             5         CARLTON G06/81 Cemetery Road VIC 3053    375     1   \n",
       "6             6    ST KILDA EAST 7/1A Hughenden Road VIC 3183    340     1   \n",
       "7             7  ABBOTSFORD EG07/11 Flockhart Street VIC 3067    375     2   \n",
       "..          ...                                           ...    ...   ...   \n",
       "972         972           ST KILDA 22/19 Robe Street VIC 3182    450     2   \n",
       "973         973           MALVERN 9/12 Irving Street VIC 3144    400     1   \n",
       "974         974        COBURG 5/144 Nicholson Street VIC 3058    300     2   \n",
       "975         975        TAWONGA SOUTH 1 Heberles Road VIC 3698    320     1   \n",
       "976         976          THORNBURY 4/97 Gooch Street VIC 3071    395     2   \n",
       "\n",
       "     baths  parking    propertyTypeFormatted  latitudes  longitudes  \n",
       "0        1        1  Apartment / Unit / Flat   -37.8167    144.9879  \n",
       "1        2        1  Apartment / Unit / Flat   -37.9057    145.0067  \n",
       "5        1        0  Apartment / Unit / Flat   -37.8004    144.9684  \n",
       "6        1        1  Apartment / Unit / Flat   -37.8692    144.9977  \n",
       "7        1        0  Apartment / Unit / Flat   -37.8046    144.9998  \n",
       "..     ...      ...                      ...        ...         ...  \n",
       "972      1        1  Apartment / Unit / Flat   -37.8633    144.9802  \n",
       "973      1        1  Apartment / Unit / Flat   -37.8512    145.0317  \n",
       "974      1        1  Apartment / Unit / Flat   -37.7500    144.9667  \n",
       "975      1        0  Apartment / Unit / Flat   -36.7359    147.1521  \n",
       "976      1        1  Apartment / Unit / Flat   -37.7583    145.0051  \n",
       "\n",
       "[888 rows x 9 columns]"
      ]
     },
     "execution_count": 5,
     "metadata": {},
     "output_type": "execute_result"
    }
   ],
   "source": [
    "df_clear1"
   ]
  },
  {
   "cell_type": "code",
   "execution_count": 6,
   "metadata": {
    "collapsed": false,
    "jupyter": {
     "outputs_hidden": false
    },
    "pycharm": {
     "name": "#%%\n"
    }
   },
   "outputs": [],
   "source": [
    "df_clear1.reset_index(drop=True, inplace=True)\n",
    "df_clear2.reset_index(drop=True, inplace=True)"
   ]
  },
  {
   "cell_type": "code",
   "execution_count": 7,
   "metadata": {
    "collapsed": false,
    "jupyter": {
     "outputs_hidden": false
    },
    "pycharm": {
     "name": "#%%\n"
    }
   },
   "outputs": [
    {
     "data": {
      "text/html": [
       "<div>\n",
       "<style scoped>\n",
       "    .dataframe tbody tr th:only-of-type {\n",
       "        vertical-align: middle;\n",
       "    }\n",
       "\n",
       "    .dataframe tbody tr th {\n",
       "        vertical-align: top;\n",
       "    }\n",
       "\n",
       "    .dataframe thead th {\n",
       "        text-align: right;\n",
       "    }\n",
       "</style>\n",
       "<table border=\"1\" class=\"dataframe\">\n",
       "  <thead>\n",
       "    <tr style=\"text-align: right;\">\n",
       "      <th></th>\n",
       "      <th>Unnamed: 0</th>\n",
       "      <th>address</th>\n",
       "      <th>price</th>\n",
       "      <th>beds</th>\n",
       "      <th>baths</th>\n",
       "      <th>parking</th>\n",
       "      <th>propertyTypeFormatted</th>\n",
       "      <th>latitudes</th>\n",
       "      <th>longitudes</th>\n",
       "      <th>coordinates</th>\n",
       "    </tr>\n",
       "  </thead>\n",
       "  <tbody>\n",
       "    <tr>\n",
       "      <th>0</th>\n",
       "      <td>0</td>\n",
       "      <td>EAST MELBOURNE 12/174 George Street VIC 3002</td>\n",
       "      <td>495</td>\n",
       "      <td>1</td>\n",
       "      <td>1</td>\n",
       "      <td>1</td>\n",
       "      <td>Apartment / Unit / Flat</td>\n",
       "      <td>-37.8167</td>\n",
       "      <td>144.9879</td>\n",
       "      <td>[144.9879, -37.8167]</td>\n",
       "    </tr>\n",
       "    <tr>\n",
       "      <th>1</th>\n",
       "      <td>1</td>\n",
       "      <td>BRIGHTON 210/26 Warleigh Grove VIC 3186</td>\n",
       "      <td>595</td>\n",
       "      <td>2</td>\n",
       "      <td>2</td>\n",
       "      <td>1</td>\n",
       "      <td>Apartment / Unit / Flat</td>\n",
       "      <td>-37.9057</td>\n",
       "      <td>145.0067</td>\n",
       "      <td>[145.0067, -37.9057]</td>\n",
       "    </tr>\n",
       "    <tr>\n",
       "      <th>2</th>\n",
       "      <td>5</td>\n",
       "      <td>CARLTON G06/81 Cemetery Road VIC 3053</td>\n",
       "      <td>375</td>\n",
       "      <td>1</td>\n",
       "      <td>1</td>\n",
       "      <td>0</td>\n",
       "      <td>Apartment / Unit / Flat</td>\n",
       "      <td>-37.8004</td>\n",
       "      <td>144.9684</td>\n",
       "      <td>[144.9684, -37.8004]</td>\n",
       "    </tr>\n",
       "    <tr>\n",
       "      <th>3</th>\n",
       "      <td>6</td>\n",
       "      <td>ST KILDA EAST 7/1A Hughenden Road VIC 3183</td>\n",
       "      <td>340</td>\n",
       "      <td>1</td>\n",
       "      <td>1</td>\n",
       "      <td>1</td>\n",
       "      <td>Apartment / Unit / Flat</td>\n",
       "      <td>-37.8692</td>\n",
       "      <td>144.9977</td>\n",
       "      <td>[144.9977, -37.8692]</td>\n",
       "    </tr>\n",
       "    <tr>\n",
       "      <th>4</th>\n",
       "      <td>7</td>\n",
       "      <td>ABBOTSFORD EG07/11 Flockhart Street VIC 3067</td>\n",
       "      <td>375</td>\n",
       "      <td>2</td>\n",
       "      <td>1</td>\n",
       "      <td>0</td>\n",
       "      <td>Apartment / Unit / Flat</td>\n",
       "      <td>-37.8046</td>\n",
       "      <td>144.9998</td>\n",
       "      <td>[144.9998, -37.8046]</td>\n",
       "    </tr>\n",
       "  </tbody>\n",
       "</table>\n",
       "</div>"
      ],
      "text/plain": [
       "   Unnamed: 0                                       address  price  beds  \\\n",
       "0           0  EAST MELBOURNE 12/174 George Street VIC 3002    495     1   \n",
       "1           1       BRIGHTON 210/26 Warleigh Grove VIC 3186    595     2   \n",
       "2           5         CARLTON G06/81 Cemetery Road VIC 3053    375     1   \n",
       "3           6    ST KILDA EAST 7/1A Hughenden Road VIC 3183    340     1   \n",
       "4           7  ABBOTSFORD EG07/11 Flockhart Street VIC 3067    375     2   \n",
       "\n",
       "   baths  parking    propertyTypeFormatted  latitudes  longitudes  \\\n",
       "0      1        1  Apartment / Unit / Flat   -37.8167    144.9879   \n",
       "1      2        1  Apartment / Unit / Flat   -37.9057    145.0067   \n",
       "2      1        0  Apartment / Unit / Flat   -37.8004    144.9684   \n",
       "3      1        1  Apartment / Unit / Flat   -37.8692    144.9977   \n",
       "4      1        0  Apartment / Unit / Flat   -37.8046    144.9998   \n",
       "\n",
       "            coordinates  \n",
       "0  [144.9879, -37.8167]  \n",
       "1  [145.0067, -37.9057]  \n",
       "2  [144.9684, -37.8004]  \n",
       "3  [144.9977, -37.8692]  \n",
       "4  [144.9998, -37.8046]  "
      ]
     },
     "execution_count": 7,
     "metadata": {},
     "output_type": "execute_result"
    }
   ],
   "source": [
    "df_clear1[\"coordinates\"] = [[df_clear1[\"longitudes\"][i], df_clear1[\"latitudes\"][i]] for i in range(len(df_clear1))]\n",
    "\n",
    "df_clear1.head()"
   ]
  },
  {
   "cell_type": "code",
   "execution_count": 8,
   "metadata": {
    "collapsed": false,
    "jupyter": {
     "outputs_hidden": false
    },
    "pycharm": {
     "name": "#%%\n"
    }
   },
   "outputs": [],
   "source": [
    "df_clear2[\"coordinates\"] = [[df_clear2[\"longitudes\"][i], df_clear2[\"latitudes\"][i]] for i in range(len(df_clear2))]"
   ]
  },
  {
   "cell_type": "code",
   "execution_count": 9,
   "metadata": {
    "collapsed": false,
    "jupyter": {
     "outputs_hidden": false
    },
    "pycharm": {
     "name": "#%%\n"
    }
   },
   "outputs": [],
   "source": [
    "df_clear1.to_csv('../data/curated/clean_apartment_geo.csv')\n",
    "df_clear2.to_csv('../data/curated/clean_house_geo.csv')"
   ]
  },
  {
   "cell_type": "code",
   "execution_count": null,
   "metadata": {},
   "outputs": [],
   "source": []
  }
 ],
 "metadata": {
  "kernelspec": {
   "display_name": "Python 3 (ipykernel)",
   "language": "python",
   "name": "python3"
  },
  "language_info": {
   "codemirror_mode": {
    "name": "ipython",
    "version": 3
   },
   "file_extension": ".py",
   "mimetype": "text/x-python",
   "name": "python",
   "nbconvert_exporter": "python",
   "pygments_lexer": "ipython3",
   "version": "3.8.13"
  }
 },
 "nbformat": 4,
 "nbformat_minor": 4
}
