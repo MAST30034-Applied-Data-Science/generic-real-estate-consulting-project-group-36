{
 "cells": [
  {
   "cell_type": "code",
   "execution_count": 20,
   "metadata": {},
   "outputs": [],
   "source": [
    "import folium\n",
    "import geopandas as gpd\n",
    "import pandas as pd\n",
    "import numpy as np\n",
    "import json"
   ]
  },
  {
   "cell_type": "code",
   "execution_count": 21,
   "metadata": {},
   "outputs": [
    {
     "data": {
      "text/html": [
       "<div>\n",
       "<style scoped>\n",
       "    .dataframe tbody tr th:only-of-type {\n",
       "        vertical-align: middle;\n",
       "    }\n",
       "\n",
       "    .dataframe tbody tr th {\n",
       "        vertical-align: top;\n",
       "    }\n",
       "\n",
       "    .dataframe thead th {\n",
       "        text-align: right;\n",
       "    }\n",
       "</style>\n",
       "<table border=\"1\" class=\"dataframe\">\n",
       "  <thead>\n",
       "    <tr style=\"text-align: right;\">\n",
       "      <th></th>\n",
       "      <th>LC_PLY_PID</th>\n",
       "      <th>LOC_PID</th>\n",
       "      <th>DT_CREATE</th>\n",
       "      <th>LOC_NAME</th>\n",
       "      <th>LOC_CLASS</th>\n",
       "      <th>STATE</th>\n",
       "      <th>geometry</th>\n",
       "    </tr>\n",
       "  </thead>\n",
       "  <tbody>\n",
       "    <tr>\n",
       "      <th>0</th>\n",
       "      <td>lcp6229215ba53f</td>\n",
       "      <td>locb0dcb52a6b55</td>\n",
       "      <td>2021-06-24</td>\n",
       "      <td>Abbeyard</td>\n",
       "      <td>Gazetted Locality</td>\n",
       "      <td>VIC</td>\n",
       "      <td>POLYGON ((146.81721 -37.09735, 146.81729 -37.0...</td>\n",
       "    </tr>\n",
       "    <tr>\n",
       "      <th>1</th>\n",
       "      <td>lcp386f2bcf9bce</td>\n",
       "      <td>locb9872f35df41</td>\n",
       "      <td>2021-06-24</td>\n",
       "      <td>Abbotsford</td>\n",
       "      <td>Gazetted Locality</td>\n",
       "      <td>VIC</td>\n",
       "      <td>POLYGON ((145.00235 -37.80723, 145.00350 -37.8...</td>\n",
       "    </tr>\n",
       "    <tr>\n",
       "      <th>2</th>\n",
       "      <td>lcp122c942a8fc9</td>\n",
       "      <td>loc8123ed12ea8d</td>\n",
       "      <td>2021-06-24</td>\n",
       "      <td>Aberfeldie</td>\n",
       "      <td>Gazetted Locality</td>\n",
       "      <td>VIC</td>\n",
       "      <td>POLYGON ((144.89830 -37.76465, 144.89790 -37.7...</td>\n",
       "    </tr>\n",
       "    <tr>\n",
       "      <th>3</th>\n",
       "      <td>lcp9f50bd795d16</td>\n",
       "      <td>loc1eb4a229104a</td>\n",
       "      <td>2021-06-24</td>\n",
       "      <td>Aberfeldy</td>\n",
       "      <td>Gazetted Locality</td>\n",
       "      <td>VIC</td>\n",
       "      <td>POLYGON ((146.39447 -37.71008, 146.39405 -37.7...</td>\n",
       "    </tr>\n",
       "    <tr>\n",
       "      <th>4</th>\n",
       "      <td>lcp59bf69caacb0</td>\n",
       "      <td>locb17be87767e1</td>\n",
       "      <td>2021-06-24</td>\n",
       "      <td>Acheron</td>\n",
       "      <td>Gazetted Locality</td>\n",
       "      <td>VIC</td>\n",
       "      <td>POLYGON ((145.75030 -37.24313, 145.75036 -37.2...</td>\n",
       "    </tr>\n",
       "  </tbody>\n",
       "</table>\n",
       "</div>"
      ],
      "text/plain": [
       "        LC_PLY_PID          LOC_PID   DT_CREATE    LOC_NAME  \\\n",
       "0  lcp6229215ba53f  locb0dcb52a6b55  2021-06-24    Abbeyard   \n",
       "1  lcp386f2bcf9bce  locb9872f35df41  2021-06-24  Abbotsford   \n",
       "2  lcp122c942a8fc9  loc8123ed12ea8d  2021-06-24  Aberfeldie   \n",
       "3  lcp9f50bd795d16  loc1eb4a229104a  2021-06-24   Aberfeldy   \n",
       "4  lcp59bf69caacb0  locb17be87767e1  2021-06-24     Acheron   \n",
       "\n",
       "           LOC_CLASS STATE                                           geometry  \n",
       "0  Gazetted Locality   VIC  POLYGON ((146.81721 -37.09735, 146.81729 -37.0...  \n",
       "1  Gazetted Locality   VIC  POLYGON ((145.00235 -37.80723, 145.00350 -37.8...  \n",
       "2  Gazetted Locality   VIC  POLYGON ((144.89830 -37.76465, 144.89790 -37.7...  \n",
       "3  Gazetted Locality   VIC  POLYGON ((146.39447 -37.71008, 146.39405 -37.7...  \n",
       "4  Gazetted Locality   VIC  POLYGON ((145.75030 -37.24313, 145.75036 -37.2...  "
      ]
     },
     "execution_count": 21,
     "metadata": {},
     "output_type": "execute_result"
    }
   ],
   "source": [
    "zones = gpd.read_file(\"../data/curated/vic_localities/vic_localities.shp\")\n",
    "zones.head()"
   ]
  },
  {
   "cell_type": "code",
   "execution_count": 22,
   "metadata": {},
   "outputs": [],
   "source": [
    "# express location in latitude and longitude and unify the format\n",
    "zones['geometry'] = zones['geometry'].to_crs(\"+proj=longlat +ellps=WGS84 +datum=WGS84 +no_defs\")\n",
    "zones.rename(columns={'LOC_NAME':'suburb'},inplace = True)\n",
    "zones['suburb'] = zones['suburb'].str.upper()"
   ]
  },
  {
   "cell_type": "code",
   "execution_count": 23,
   "metadata": {},
   "outputs": [
    {
     "name": "stdout",
     "output_type": "stream",
     "text": [
      "{\"type\": \"FeatureCollection\", \"features\": [{\"id\": \"0\", \"type\": \"Feature\", \"properties\": {\"suburb\": \"ABBEYARD\"}, \"geometry\": {\"type\": \"Polygon\", \"coordinates\": [[[146.8172166420058, -37.09733585571731], [146.81729332194828, -37.09771416572554], [146.81740626189682, -37.09798946573587], [146.817497691\n"
     ]
    }
   ],
   "source": [
    "#convert to json\n",
    "geoJSON = zones[['suburb', 'geometry']].to_json()\n",
    "print(geoJSON[:300])"
   ]
  },
  {
   "cell_type": "code",
   "execution_count": 24,
   "metadata": {},
   "outputs": [],
   "source": [
    "map_apa = folium.Map(location=[ -37.8136, 144.9631], tiles=\"Stamen Terrain\", zoom_start=10)\n"
   ]
  },
  {
   "cell_type": "code",
   "execution_count": 25,
   "metadata": {},
   "outputs": [],
   "source": [
    "# read data\n",
    "apa = pd.read_csv('../data/curated/match_apartment22_s.csv')\n",
    "house = pd.read_csv('../data/curated/match_house22_s.csv')"
   ]
  },
  {
   "cell_type": "code",
   "execution_count": 26,
   "metadata": {},
   "outputs": [
    {
     "data": {
      "text/html": [
       "<div>\n",
       "<style scoped>\n",
       "    .dataframe tbody tr th:only-of-type {\n",
       "        vertical-align: middle;\n",
       "    }\n",
       "\n",
       "    .dataframe tbody tr th {\n",
       "        vertical-align: top;\n",
       "    }\n",
       "\n",
       "    .dataframe thead th {\n",
       "        text-align: right;\n",
       "    }\n",
       "</style>\n",
       "<table border=\"1\" class=\"dataframe\">\n",
       "  <thead>\n",
       "    <tr style=\"text-align: right;\">\n",
       "      <th></th>\n",
       "      <th>price</th>\n",
       "      <th>suburb</th>\n",
       "    </tr>\n",
       "    <tr>\n",
       "      <th>suburb</th>\n",
       "      <th></th>\n",
       "      <th></th>\n",
       "    </tr>\n",
       "  </thead>\n",
       "  <tbody>\n",
       "    <tr>\n",
       "      <th>WARRAGUL</th>\n",
       "      <td>1434.000000</td>\n",
       "      <td>WARRAGUL</td>\n",
       "    </tr>\n",
       "    <tr>\n",
       "      <th>MELBOURNE</th>\n",
       "      <td>838.571429</td>\n",
       "      <td>MELBOURNE</td>\n",
       "    </tr>\n",
       "    <tr>\n",
       "      <th>ST KILDA</th>\n",
       "      <td>831.805556</td>\n",
       "      <td>ST KILDA</td>\n",
       "    </tr>\n",
       "    <tr>\n",
       "      <th>SOUTH MELBOURNE</th>\n",
       "      <td>720.000000</td>\n",
       "      <td>SOUTH MELBOURNE</td>\n",
       "    </tr>\n",
       "    <tr>\n",
       "      <th>PORT MELBOURNE</th>\n",
       "      <td>713.863636</td>\n",
       "      <td>PORT MELBOURNE</td>\n",
       "    </tr>\n",
       "  </tbody>\n",
       "</table>\n",
       "</div>"
      ],
      "text/plain": [
       "                       price           suburb\n",
       "suburb                                       \n",
       "WARRAGUL         1434.000000         WARRAGUL\n",
       "MELBOURNE         838.571429        MELBOURNE\n",
       "ST KILDA          831.805556         ST KILDA\n",
       "SOUTH MELBOURNE   720.000000  SOUTH MELBOURNE\n",
       "PORT MELBOURNE    713.863636   PORT MELBOURNE"
      ]
     },
     "execution_count": 26,
     "metadata": {},
     "output_type": "execute_result"
    }
   ],
   "source": [
    "#calculate average house and apartment price in each suburb\n",
    "agg_df = apa[['suburb', 'price']].groupby('suburb').mean()\n",
    "agg_df = agg_df.nlargest(50,'price')\n",
    "agg_df['suburb'] = agg_df.index\n",
    "agg_df.head()"
   ]
  },
  {
   "cell_type": "code",
   "execution_count": 27,
   "metadata": {},
   "outputs": [
    {
     "data": {
      "text/html": [
       "<div>\n",
       "<style scoped>\n",
       "    .dataframe tbody tr th:only-of-type {\n",
       "        vertical-align: middle;\n",
       "    }\n",
       "\n",
       "    .dataframe tbody tr th {\n",
       "        vertical-align: top;\n",
       "    }\n",
       "\n",
       "    .dataframe thead th {\n",
       "        text-align: right;\n",
       "    }\n",
       "</style>\n",
       "<table border=\"1\" class=\"dataframe\">\n",
       "  <thead>\n",
       "    <tr style=\"text-align: right;\">\n",
       "      <th></th>\n",
       "      <th>price</th>\n",
       "      <th>suburb</th>\n",
       "    </tr>\n",
       "    <tr>\n",
       "      <th>suburb</th>\n",
       "      <th></th>\n",
       "      <th></th>\n",
       "    </tr>\n",
       "  </thead>\n",
       "  <tbody>\n",
       "    <tr>\n",
       "      <th>SYDENHAM</th>\n",
       "      <td>1746.666667</td>\n",
       "      <td>SYDENHAM</td>\n",
       "    </tr>\n",
       "    <tr>\n",
       "      <th>TOORAK</th>\n",
       "      <td>1543.888889</td>\n",
       "      <td>TOORAK</td>\n",
       "    </tr>\n",
       "    <tr>\n",
       "      <th>KEW</th>\n",
       "      <td>1510.000000</td>\n",
       "      <td>KEW</td>\n",
       "    </tr>\n",
       "    <tr>\n",
       "      <th>HAMPTON</th>\n",
       "      <td>1234.166667</td>\n",
       "      <td>HAMPTON</td>\n",
       "    </tr>\n",
       "    <tr>\n",
       "      <th>HIGHTON</th>\n",
       "      <td>1224.739130</td>\n",
       "      <td>HIGHTON</td>\n",
       "    </tr>\n",
       "  </tbody>\n",
       "</table>\n",
       "</div>"
      ],
      "text/plain": [
       "                price    suburb\n",
       "suburb                         \n",
       "SYDENHAM  1746.666667  SYDENHAM\n",
       "TOORAK    1543.888889    TOORAK\n",
       "KEW       1510.000000       KEW\n",
       "HAMPTON   1234.166667   HAMPTON\n",
       "HIGHTON   1224.739130   HIGHTON"
      ]
     },
     "execution_count": 27,
     "metadata": {},
     "output_type": "execute_result"
    }
   ],
   "source": [
    "house_df = house[['suburb', 'price']].groupby('suburb').mean()\n",
    "house_df = house_df.nlargest(50,'price')\n",
    "house_df['suburb'] = house_df.index\n",
    "house_df.head()"
   ]
  },
  {
   "cell_type": "code",
   "execution_count": 28,
   "metadata": {},
   "outputs": [
    {
     "data": {
      "text/plain": [
       "count      50.000000\n",
       "mean      537.449760\n",
       "std       159.118282\n",
       "min       427.500000\n",
       "25%       456.964286\n",
       "50%       491.277778\n",
       "75%       537.708333\n",
       "max      1434.000000\n",
       "Name: price, dtype: float64"
      ]
     },
     "execution_count": 28,
     "metadata": {},
     "output_type": "execute_result"
    }
   ],
   "source": [
    "agg_df['price'].describe()"
   ]
  },
  {
   "cell_type": "code",
   "execution_count": 29,
   "metadata": {},
   "outputs": [],
   "source": [
    "\n",
    "c = folium.Choropleth(\n",
    "    geo_data=geoJSON, # geoJSON \n",
    "    name='choropleth', # name of plot\n",
    "    data=agg_df, # data source\n",
    "    columns=['suburb','price'], # the columns required\n",
    "    key_on='properties.suburb', # this is from the geoJSON's properties\n",
    "    fill_color='YlOrRd', # color scheme\n",
    "    nan_fill_color = 'silver',\n",
    "    highlight=True,\n",
    "    line_weight= 0.5,\n",
    "    legend_name='mean price'\n",
    ")"
   ]
  },
  {
   "cell_type": "code",
   "execution_count": 30,
   "metadata": {},
   "outputs": [
    {
     "data": {
      "text/plain": [
       "<folium.features.Choropleth at 0x7fd94a5139d0>"
      ]
     },
     "execution_count": 30,
     "metadata": {},
     "output_type": "execute_result"
    }
   ],
   "source": [
    "c.add_to(map_apa)\n"
   ]
  },
  {
   "cell_type": "code",
   "execution_count": 31,
   "metadata": {},
   "outputs": [],
   "source": [
    "map_apa.save('../plots/apa_priceMap.html')"
   ]
  },
  {
   "cell_type": "code",
   "execution_count": 32,
   "metadata": {},
   "outputs": [],
   "source": [
    "map_house = folium.Map(location=[ -37.8136, 144.963], tiles=\"Stamen Terrain\", zoom_start=10)"
   ]
  },
  {
   "cell_type": "code",
   "execution_count": 33,
   "metadata": {},
   "outputs": [],
   "source": [
    "h = folium.Choropleth(\n",
    "    geo_data=geoJSON, # geoJSON \n",
    "    name='choropleth', # name of plot\n",
    "    data=house_df, # data source\n",
    "    columns=['suburb','price'], # the columns required\n",
    "    key_on='properties.suburb', # this is from the geoJSON's properties\n",
    "    fill_color='YlOrRd', # color scheme\n",
    "    nan_fill_color = 'silver',\n",
    "    highlight=True,\n",
    "    line_weight= 0.5,\n",
    "    legend_name='mean price'\n",
    ")"
   ]
  },
  {
   "cell_type": "code",
   "execution_count": 34,
   "metadata": {},
   "outputs": [],
   "source": [
    "h.add_to(map_house)\n",
    "map_house.save('../plots/house_priceMap.html')"
   ]
  }
 ],
 "metadata": {
  "kernelspec": {
   "display_name": "Python 3.8.13 ('adss')",
   "language": "python",
   "name": "python3"
  },
  "language_info": {
   "codemirror_mode": {
    "name": "ipython",
    "version": 3
   },
   "file_extension": ".py",
   "mimetype": "text/x-python",
   "name": "python",
   "nbconvert_exporter": "python",
   "pygments_lexer": "ipython3",
   "version": "3.8.13"
  },
  "orig_nbformat": 4,
  "vscode": {
   "interpreter": {
    "hash": "9ae05aae0fdd6049fb1512c736406548a6ffb59938935de13e474ca5147b5f3e"
   }
  }
 },
 "nbformat": 4,
 "nbformat_minor": 2
}
