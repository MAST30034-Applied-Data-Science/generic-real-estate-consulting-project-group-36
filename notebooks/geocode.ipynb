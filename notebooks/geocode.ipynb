{
 "cells": [
  {
   "cell_type": "code",
   "execution_count": 1,
   "id": "722a530b-9e8f-4978-a4e7-f50978f9134d",
   "metadata": {},
   "outputs": [],
   "source": [
    "import geopy\n",
    "import geopandas\n",
    "import pandas as pd"
   ]
  },
  {
   "cell_type": "code",
   "execution_count": 2,
   "id": "438c5f67-42dc-4704-9c3a-5d5dff5d4f94",
   "metadata": {},
   "outputs": [],
   "source": [
    "from opencage.geocoder import OpenCageGeocode"
   ]
  },
  {
   "cell_type": "code",
   "execution_count": 3,
   "id": "af4254ad-fe1c-4865-8064-638a6c6b65a4",
   "metadata": {},
   "outputs": [],
   "source": [
    "key = \"f38c13c9b04c4e8d8d0ee658d9e89f0f\"\n",
    "geocoder = OpenCageGeocode(key) "
   ]
  },
  {
   "cell_type": "code",
   "execution_count": 4,
   "id": "b574e357-e789-4b3b-8563-05d48d9fa332",
   "metadata": {},
   "outputs": [],
   "source": [
    "df1 = pd.read_csv(\"../data/curated/house.csv\")"
   ]
  },
  {
   "cell_type": "code",
   "execution_count": 5,
   "id": "591694de-1a04-4eae-bc0c-0f25b589926f",
   "metadata": {},
   "outputs": [],
   "source": [
    "df2 = pd.read_csv(\"../data/curated/apartment.csv\")"
   ]
  },
  {
   "cell_type": "code",
   "execution_count": 6,
   "id": "50055799-d932-49f7-ac35-4d7dd4c29eea",
   "metadata": {},
   "outputs": [],
   "source": [
    "addresses = df1[\"address\"].values.tolist()\n",
    "\n",
    "latitudes = []\n",
    "longitudes = []\n",
    "\n",
    "for address in addresses:\n",
    "    result = geocoder.geocode(address, no_annotations=\"1\")\n",
    "\n",
    "    if result and len(result):\n",
    "        longitude = result[0]['geometry']['lng']\n",
    "        latitude = result[0]['geometry']['lat']\n",
    "    else:\n",
    "        longitude = \"N/A\"\n",
    "        latitude = \"N/A\"\n",
    "\n",
    "    latitudes.append(latitude)\n",
    "    longitudes.append(longitude)\n",
    "\n",
    "df1[\"latitudes\"] = latitudes\n",
    "df1[\"longitudes\"] = longitudes\n",
    "\n",
    "df1.to_csv(\"../data/curated/house_geocoded.csv\")"
   ]
  },
  {
   "cell_type": "code",
   "execution_count": 6,
   "id": "7200d2b6-563c-46f0-b7b1-ca33ebf6e78e",
   "metadata": {},
   "outputs": [
    {
     "ename": "RateLimitExceededError",
     "evalue": "Your rate limit has expired. It will reset to 2500 on 2022-09-14T00:00:00",
     "output_type": "error",
     "traceback": [
      "\u001B[0;31m---------------------------------------------------------------------------\u001B[0m",
      "\u001B[0;31mRateLimitExceededError\u001B[0m                    Traceback (most recent call last)",
      "\u001B[0;32m/var/folders/cl/q32rv40s0rvd64wt83gbgf2m0000gn/T/ipykernel_48141/3351826282.py\u001B[0m in \u001B[0;36m<module>\u001B[0;34m\u001B[0m\n\u001B[1;32m      5\u001B[0m \u001B[0;34m\u001B[0m\u001B[0m\n\u001B[1;32m      6\u001B[0m \u001B[0;32mfor\u001B[0m \u001B[0maddress\u001B[0m \u001B[0;32min\u001B[0m \u001B[0maddresses2\u001B[0m\u001B[0;34m:\u001B[0m\u001B[0;34m\u001B[0m\u001B[0;34m\u001B[0m\u001B[0m\n\u001B[0;32m----> 7\u001B[0;31m     \u001B[0mresult\u001B[0m \u001B[0;34m=\u001B[0m \u001B[0mgeocoder\u001B[0m\u001B[0;34m.\u001B[0m\u001B[0mgeocode\u001B[0m\u001B[0;34m(\u001B[0m\u001B[0maddress\u001B[0m\u001B[0;34m,\u001B[0m \u001B[0mno_annotations\u001B[0m\u001B[0;34m=\u001B[0m\u001B[0;34m\"1\"\u001B[0m\u001B[0;34m)\u001B[0m\u001B[0;34m\u001B[0m\u001B[0;34m\u001B[0m\u001B[0m\n\u001B[0m\u001B[1;32m      8\u001B[0m \u001B[0;34m\u001B[0m\u001B[0m\n\u001B[1;32m      9\u001B[0m     \u001B[0;32mif\u001B[0m \u001B[0mresult\u001B[0m \u001B[0;32mand\u001B[0m \u001B[0mlen\u001B[0m\u001B[0;34m(\u001B[0m\u001B[0mresult\u001B[0m\u001B[0;34m)\u001B[0m\u001B[0;34m:\u001B[0m\u001B[0;34m\u001B[0m\u001B[0;34m\u001B[0m\u001B[0m\n",
      "\u001B[0;32m/opt/anaconda3/lib/python3.9/site-packages/opencage/geocoder.py\u001B[0m in \u001B[0;36mgeocode\u001B[0;34m(self, query, **kwargs)\u001B[0m\n\u001B[1;32m    166\u001B[0m \u001B[0;34m\u001B[0m\u001B[0m\n\u001B[1;32m    167\u001B[0m         \u001B[0mrequest\u001B[0m \u001B[0;34m=\u001B[0m \u001B[0mself\u001B[0m\u001B[0;34m.\u001B[0m\u001B[0m_parse_request\u001B[0m\u001B[0;34m(\u001B[0m\u001B[0mquery\u001B[0m\u001B[0;34m,\u001B[0m \u001B[0mkwargs\u001B[0m\u001B[0;34m)\u001B[0m\u001B[0;34m\u001B[0m\u001B[0;34m\u001B[0m\u001B[0m\n\u001B[0;32m--> 168\u001B[0;31m         \u001B[0mresponse\u001B[0m \u001B[0;34m=\u001B[0m \u001B[0mself\u001B[0m\u001B[0;34m.\u001B[0m\u001B[0m_opencage_request\u001B[0m\u001B[0;34m(\u001B[0m\u001B[0mrequest\u001B[0m\u001B[0;34m)\u001B[0m\u001B[0;34m\u001B[0m\u001B[0;34m\u001B[0m\u001B[0m\n\u001B[0m\u001B[1;32m    169\u001B[0m \u001B[0;34m\u001B[0m\u001B[0m\n\u001B[1;32m    170\u001B[0m         \u001B[0;32mreturn\u001B[0m \u001B[0mfloatify_latlng\u001B[0m\u001B[0;34m(\u001B[0m\u001B[0mresponse\u001B[0m\u001B[0;34m[\u001B[0m\u001B[0;34m'results'\u001B[0m\u001B[0;34m]\u001B[0m\u001B[0;34m)\u001B[0m\u001B[0;34m\u001B[0m\u001B[0;34m\u001B[0m\u001B[0m\n",
      "\u001B[0;32m/opt/anaconda3/lib/python3.9/site-packages/backoff/_sync.py\u001B[0m in \u001B[0;36mretry\u001B[0;34m(*args, **kwargs)\u001B[0m\n\u001B[1;32m    103\u001B[0m \u001B[0;34m\u001B[0m\u001B[0m\n\u001B[1;32m    104\u001B[0m             \u001B[0;32mtry\u001B[0m\u001B[0;34m:\u001B[0m\u001B[0;34m\u001B[0m\u001B[0;34m\u001B[0m\u001B[0m\n\u001B[0;32m--> 105\u001B[0;31m                 \u001B[0mret\u001B[0m \u001B[0;34m=\u001B[0m \u001B[0mtarget\u001B[0m\u001B[0;34m(\u001B[0m\u001B[0;34m*\u001B[0m\u001B[0margs\u001B[0m\u001B[0;34m,\u001B[0m \u001B[0;34m**\u001B[0m\u001B[0mkwargs\u001B[0m\u001B[0;34m)\u001B[0m\u001B[0;34m\u001B[0m\u001B[0;34m\u001B[0m\u001B[0m\n\u001B[0m\u001B[1;32m    106\u001B[0m             \u001B[0;32mexcept\u001B[0m \u001B[0mexception\u001B[0m \u001B[0;32mas\u001B[0m \u001B[0me\u001B[0m\u001B[0;34m:\u001B[0m\u001B[0;34m\u001B[0m\u001B[0;34m\u001B[0m\u001B[0m\n\u001B[1;32m    107\u001B[0m                 \u001B[0mmax_tries_exceeded\u001B[0m \u001B[0;34m=\u001B[0m \u001B[0;34m(\u001B[0m\u001B[0mtries\u001B[0m \u001B[0;34m==\u001B[0m \u001B[0mmax_tries_value\u001B[0m\u001B[0;34m)\u001B[0m\u001B[0;34m\u001B[0m\u001B[0;34m\u001B[0m\u001B[0m\n",
      "\u001B[0;32m/opt/anaconda3/lib/python3.9/site-packages/opencage/geocoder.py\u001B[0m in \u001B[0;36m_opencage_request\u001B[0;34m(self, params)\u001B[0m\n\u001B[1;32m    253\u001B[0m             \u001B[0;31m# Rate limit exceeded\u001B[0m\u001B[0;34m\u001B[0m\u001B[0;34m\u001B[0m\u001B[0m\n\u001B[1;32m    254\u001B[0m             \u001B[0mreset_time\u001B[0m \u001B[0;34m=\u001B[0m \u001B[0mdatetime\u001B[0m\u001B[0;34m.\u001B[0m\u001B[0mutcfromtimestamp\u001B[0m\u001B[0;34m(\u001B[0m\u001B[0mresponse_json\u001B[0m\u001B[0;34m[\u001B[0m\u001B[0;34m'rate'\u001B[0m\u001B[0;34m]\u001B[0m\u001B[0;34m[\u001B[0m\u001B[0;34m'reset'\u001B[0m\u001B[0;34m]\u001B[0m\u001B[0;34m)\u001B[0m\u001B[0;34m\u001B[0m\u001B[0;34m\u001B[0m\u001B[0m\n\u001B[0;32m--> 255\u001B[0;31m             \u001B[0;32mraise\u001B[0m \u001B[0mRateLimitExceededError\u001B[0m\u001B[0;34m(\u001B[0m\u001B[0mreset_to\u001B[0m\u001B[0;34m=\u001B[0m\u001B[0mint\u001B[0m\u001B[0;34m(\u001B[0m\u001B[0mresponse_json\u001B[0m\u001B[0;34m[\u001B[0m\u001B[0;34m'rate'\u001B[0m\u001B[0;34m]\u001B[0m\u001B[0;34m[\u001B[0m\u001B[0;34m'limit'\u001B[0m\u001B[0;34m]\u001B[0m\u001B[0;34m)\u001B[0m\u001B[0;34m,\u001B[0m \u001B[0mreset_time\u001B[0m\u001B[0;34m=\u001B[0m\u001B[0mreset_time\u001B[0m\u001B[0;34m)\u001B[0m\u001B[0;34m\u001B[0m\u001B[0;34m\u001B[0m\u001B[0m\n\u001B[0m\u001B[1;32m    256\u001B[0m \u001B[0;34m\u001B[0m\u001B[0m\n\u001B[1;32m    257\u001B[0m         \u001B[0;32mif\u001B[0m \u001B[0mresponse\u001B[0m\u001B[0;34m.\u001B[0m\u001B[0mstatus_code\u001B[0m \u001B[0;34m==\u001B[0m \u001B[0;36m500\u001B[0m\u001B[0;34m:\u001B[0m\u001B[0;34m\u001B[0m\u001B[0;34m\u001B[0m\u001B[0m\n",
      "\u001B[0;31mRateLimitExceededError\u001B[0m: Your rate limit has expired. It will reset to 2500 on 2022-09-14T00:00:00"
     ]
    }
   ],
   "source": [
    "addresses2 = df2[\"address\"].values.tolist()\n",
    "\n",
    "latitudes2 = []\n",
    "longitudes2 = []\n",
    "\n",
    "for address in addresses2:\n",
    "    result = geocoder.geocode(address, no_annotations=\"1\")\n",
    "\n",
    "    if result and len(result):\n",
    "        longitude = result[0]['geometry']['lng']\n",
    "        latitude = result[0]['geometry']['lat']\n",
    "    else:\n",
    "        longitude = \"N/A\"\n",
    "        latitude = \"N/A\"\n",
    "\n",
    "    latitudes2.append(latitude)\n",
    "    longitudes2.append(longitude)\n",
    "\n",
    "df2[\"latitudes\"] = latitudes2\n",
    "df2[\"longitudes\"] = longitudes2\n",
    "\n",
    "df2.to_csv(\"../data/curated/apartment_geocoded.csv\")"
   ]
  },
  {
   "cell_type": "code",
   "execution_count": null,
   "id": "7dda49ff-cf18-4dc9-b77a-e8ef31ae918e",
   "metadata": {},
   "outputs": [],
   "source": []
  }
 ],
 "metadata": {
  "kernelspec": {
   "display_name": "Python 3 (ipykernel)",
   "language": "python",
   "name": "python3"
  },
  "language_info": {
   "codemirror_mode": {
    "name": "ipython",
    "version": 3
   },
   "file_extension": ".py",
   "mimetype": "text/x-python",
   "name": "python",
   "nbconvert_exporter": "python",
   "pygments_lexer": "ipython3",
   "version": "3.9.7"
  }
 },
 "nbformat": 4,
 "nbformat_minor": 5
}