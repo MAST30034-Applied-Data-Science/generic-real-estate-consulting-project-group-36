{
 "cells": [
  {
   "cell_type": "code",
   "execution_count": 286,
   "metadata": {
    "collapsed": true
   },
   "outputs": [],
   "source": [
    "import pandas as pd\n",
    "import numpy as np\n",
    "import matplotlib.pyplot as plt"
   ]
  },
  {
   "cell_type": "code",
   "execution_count": 287,
   "outputs": [],
   "source": [
    "apart2022 = pd.read_csv(\"../final/apart2022.csv\")\n",
    "house2022 = pd.read_csv(\"../final/house2022.csv\")"
   ],
   "metadata": {
    "collapsed": false,
    "pycharm": {
     "name": "#%%\n"
    }
   }
  },
  {
   "cell_type": "code",
   "execution_count": 288,
   "outputs": [
    {
     "name": "stdout",
     "output_type": "stream",
     "text": [
      "   Unnamed: 0  price          suburb  beds  baths  parking  latitudes  \\\n",
      "0           0    495  EAST MELBOURNE     1      1        1   -37.8167   \n",
      "1           1    495  EAST MELBOURNE     1      1        1   -37.8167   \n",
      "2           2    420  EAST MELBOURNE     2      1        1   -37.8167   \n",
      "3           3    420  EAST MELBOURNE     2      1        1   -37.8167   \n",
      "4           4    550  EAST MELBOURNE     1      1        1   -37.8167   \n",
      "\n",
      "   longitudes  school  train_station  fitness_gym  hospital  shopping_center  \\\n",
      "0    144.9879  8137.6          381.0        345.9     620.2           1558.5   \n",
      "1    144.9879  8137.6          381.0        345.9     620.2           1558.5   \n",
      "2    144.9879  8137.6          381.0        345.9     620.2           1558.5   \n",
      "3    144.9879  8137.6          381.0        345.9     620.2           1558.5   \n",
      "4    144.9879  8137.6          381.0        345.9     620.2           1558.5   \n",
      "\n",
      "     park  erp_2022  natural_increase_2021_22  net_internal_migration_2021_22  \\\n",
      "0  1235.1    6335.2                     -12.1                           -63.4   \n",
      "1  1235.1    6335.2                     -12.1                           -63.4   \n",
      "2  1235.1    6335.2                     -12.1                           -63.4   \n",
      "3  1235.1    6335.2                     -12.1                           -63.4   \n",
      "4  1235.1    6335.2                     -12.1                           -63.4   \n",
      "\n",
      "   net_overseas_migration_2021_22  2022income  suburbID  \n",
      "0                          -191.0      4224.0         0  \n",
      "1                          -191.0      4224.0         0  \n",
      "2                          -191.0      4224.0         0  \n",
      "3                          -191.0      4224.0         0  \n",
      "4                          -191.0      4224.0         0  \n",
      "(743, 20)\n",
      "   Unnamed: 0  price          suburb  beds  baths  parking  latitudes  \\\n",
      "0           0   1100  EAST MELBOURNE     4      2        1   -37.8101   \n",
      "1           1   1100  EAST MELBOURNE     4      2        1   -37.8101   \n",
      "2           2   1150  EAST MELBOURNE     4      2        0   -37.8167   \n",
      "3           3   1150  EAST MELBOURNE     4      2        0   -37.8167   \n",
      "4           4    525  EAST MELBOURNE     2      1        1   -37.8101   \n",
      "\n",
      "   longitudes  school  train_station  fitness_gym  hospital  shopping_center  \\\n",
      "0    144.9500  5246.2          843.7        516.0     960.7            737.0   \n",
      "1    144.9500  5246.2          843.7        516.0     960.7            737.0   \n",
      "2    144.9879  8137.6          381.0        345.9     620.2           1558.5   \n",
      "3    144.9879  8137.6          381.0        345.9     620.2           1558.5   \n",
      "4    144.9500  5246.2          843.7        516.0     960.7            737.0   \n",
      "\n",
      "     park  erp_2022  natural_increase_2021_22  net_internal_migration_2021_22  \\\n",
      "0  3319.6    6335.2                     -12.1                           -63.4   \n",
      "1  3319.6    6335.2                     -12.1                           -63.4   \n",
      "2  1235.1    6335.2                     -12.1                           -63.4   \n",
      "3  1235.1    6335.2                     -12.1                           -63.4   \n",
      "4  3319.6    6335.2                     -12.1                           -63.4   \n",
      "\n",
      "   net_overseas_migration_2021_22  2022income  suburbID  \n",
      "0                          -191.0      4224.0         0  \n",
      "1                          -191.0      4224.0         0  \n",
      "2                          -191.0      4224.0         0  \n",
      "3                          -191.0      4224.0         0  \n",
      "4                          -191.0      4224.0         0  \n",
      "(705, 20)\n"
     ]
    }
   ],
   "source": [
    "print(apart2022.head())\n",
    "print(apart2022.shape)\n",
    "print(house2022.head())\n",
    "print(house2022.shape)"
   ],
   "metadata": {
    "collapsed": false,
    "pycharm": {
     "name": "#%%\n"
    }
   }
  },
  {
   "cell_type": "code",
   "execution_count": 289,
   "outputs": [
    {
     "data": {
      "text/plain": "   Unnamed: 0  price          suburb  beds  baths  parking  latitudes  \\\n0           0    495  EAST MELBOURNE     1      1        1   -37.8167   \n1           1    495  EAST MELBOURNE     1      1        1   -37.8167   \n2           2    420  EAST MELBOURNE     2      1        1   -37.8167   \n3           3    420  EAST MELBOURNE     2      1        1   -37.8167   \n4           4    550  EAST MELBOURNE     1      1        1   -37.8167   \n\n   longitudes  school  train_station  ...  hospital  shopping_center    park  \\\n0    144.9879  8137.6          381.0  ...     620.2           1558.5  1235.1   \n1    144.9879  8137.6          381.0  ...     620.2           1558.5  1235.1   \n2    144.9879  8137.6          381.0  ...     620.2           1558.5  1235.1   \n3    144.9879  8137.6          381.0  ...     620.2           1558.5  1235.1   \n4    144.9879  8137.6          381.0  ...     620.2           1558.5  1235.1   \n\n   erp_2022  natural_increase_2021_22  net_internal_migration_2021_22  \\\n0    6335.2                     -12.1                           -63.4   \n1    6335.2                     -12.1                           -63.4   \n2    6335.2                     -12.1                           -63.4   \n3    6335.2                     -12.1                           -63.4   \n4    6335.2                     -12.1                           -63.4   \n\n   net_overseas_migration_2021_22  2022income  suburbID  rooms  \n0                          -191.0      4224.0         0      2  \n1                          -191.0      4224.0         0      2  \n2                          -191.0      4224.0         0      3  \n3                          -191.0      4224.0         0      3  \n4                          -191.0      4224.0         0      2  \n\n[5 rows x 21 columns]",
      "text/html": "<div>\n<style scoped>\n    .dataframe tbody tr th:only-of-type {\n        vertical-align: middle;\n    }\n\n    .dataframe tbody tr th {\n        vertical-align: top;\n    }\n\n    .dataframe thead th {\n        text-align: right;\n    }\n</style>\n<table border=\"1\" class=\"dataframe\">\n  <thead>\n    <tr style=\"text-align: right;\">\n      <th></th>\n      <th>Unnamed: 0</th>\n      <th>price</th>\n      <th>suburb</th>\n      <th>beds</th>\n      <th>baths</th>\n      <th>parking</th>\n      <th>latitudes</th>\n      <th>longitudes</th>\n      <th>school</th>\n      <th>train_station</th>\n      <th>...</th>\n      <th>hospital</th>\n      <th>shopping_center</th>\n      <th>park</th>\n      <th>erp_2022</th>\n      <th>natural_increase_2021_22</th>\n      <th>net_internal_migration_2021_22</th>\n      <th>net_overseas_migration_2021_22</th>\n      <th>2022income</th>\n      <th>suburbID</th>\n      <th>rooms</th>\n    </tr>\n  </thead>\n  <tbody>\n    <tr>\n      <th>0</th>\n      <td>0</td>\n      <td>495</td>\n      <td>EAST MELBOURNE</td>\n      <td>1</td>\n      <td>1</td>\n      <td>1</td>\n      <td>-37.8167</td>\n      <td>144.9879</td>\n      <td>8137.6</td>\n      <td>381.0</td>\n      <td>...</td>\n      <td>620.2</td>\n      <td>1558.5</td>\n      <td>1235.1</td>\n      <td>6335.2</td>\n      <td>-12.1</td>\n      <td>-63.4</td>\n      <td>-191.0</td>\n      <td>4224.0</td>\n      <td>0</td>\n      <td>2</td>\n    </tr>\n    <tr>\n      <th>1</th>\n      <td>1</td>\n      <td>495</td>\n      <td>EAST MELBOURNE</td>\n      <td>1</td>\n      <td>1</td>\n      <td>1</td>\n      <td>-37.8167</td>\n      <td>144.9879</td>\n      <td>8137.6</td>\n      <td>381.0</td>\n      <td>...</td>\n      <td>620.2</td>\n      <td>1558.5</td>\n      <td>1235.1</td>\n      <td>6335.2</td>\n      <td>-12.1</td>\n      <td>-63.4</td>\n      <td>-191.0</td>\n      <td>4224.0</td>\n      <td>0</td>\n      <td>2</td>\n    </tr>\n    <tr>\n      <th>2</th>\n      <td>2</td>\n      <td>420</td>\n      <td>EAST MELBOURNE</td>\n      <td>2</td>\n      <td>1</td>\n      <td>1</td>\n      <td>-37.8167</td>\n      <td>144.9879</td>\n      <td>8137.6</td>\n      <td>381.0</td>\n      <td>...</td>\n      <td>620.2</td>\n      <td>1558.5</td>\n      <td>1235.1</td>\n      <td>6335.2</td>\n      <td>-12.1</td>\n      <td>-63.4</td>\n      <td>-191.0</td>\n      <td>4224.0</td>\n      <td>0</td>\n      <td>3</td>\n    </tr>\n    <tr>\n      <th>3</th>\n      <td>3</td>\n      <td>420</td>\n      <td>EAST MELBOURNE</td>\n      <td>2</td>\n      <td>1</td>\n      <td>1</td>\n      <td>-37.8167</td>\n      <td>144.9879</td>\n      <td>8137.6</td>\n      <td>381.0</td>\n      <td>...</td>\n      <td>620.2</td>\n      <td>1558.5</td>\n      <td>1235.1</td>\n      <td>6335.2</td>\n      <td>-12.1</td>\n      <td>-63.4</td>\n      <td>-191.0</td>\n      <td>4224.0</td>\n      <td>0</td>\n      <td>3</td>\n    </tr>\n    <tr>\n      <th>4</th>\n      <td>4</td>\n      <td>550</td>\n      <td>EAST MELBOURNE</td>\n      <td>1</td>\n      <td>1</td>\n      <td>1</td>\n      <td>-37.8167</td>\n      <td>144.9879</td>\n      <td>8137.6</td>\n      <td>381.0</td>\n      <td>...</td>\n      <td>620.2</td>\n      <td>1558.5</td>\n      <td>1235.1</td>\n      <td>6335.2</td>\n      <td>-12.1</td>\n      <td>-63.4</td>\n      <td>-191.0</td>\n      <td>4224.0</td>\n      <td>0</td>\n      <td>2</td>\n    </tr>\n  </tbody>\n</table>\n<p>5 rows × 21 columns</p>\n</div>"
     },
     "execution_count": 289,
     "metadata": {},
     "output_type": "execute_result"
    }
   ],
   "source": [
    "list = [apart2022, house2022]\n",
    "for i in list:\n",
    "    i['rooms'] = i['beds'] + i['baths']\n",
    "\n",
    "apart2022.head(5)"
   ],
   "metadata": {
    "collapsed": false,
    "pycharm": {
     "name": "#%% calculate the number of rooms\n"
    }
   }
  },
  {
   "cell_type": "code",
   "execution_count": 290,
   "outputs": [],
   "source": [
    "house = house2022[['suburb','price','2022income','rooms']]\n",
    "apart = apart2022[['suburb','price','2022income','rooms']]"
   ],
   "metadata": {
    "collapsed": false,
    "pycharm": {
     "name": "#%% select the useful columns\n"
    }
   }
  },
  {
   "cell_type": "code",
   "execution_count": 291,
   "outputs": [
    {
     "data": {
      "text/plain": "           suburb  price  2022income  rooms\n0  EAST MELBOURNE   1100      4224.0      6\n1  EAST MELBOURNE   1100      4224.0      6\n2  EAST MELBOURNE   1150      4224.0      6\n3  EAST MELBOURNE   1150      4224.0      6\n4  EAST MELBOURNE    525      4224.0      3",
      "text/html": "<div>\n<style scoped>\n    .dataframe tbody tr th:only-of-type {\n        vertical-align: middle;\n    }\n\n    .dataframe tbody tr th {\n        vertical-align: top;\n    }\n\n    .dataframe thead th {\n        text-align: right;\n    }\n</style>\n<table border=\"1\" class=\"dataframe\">\n  <thead>\n    <tr style=\"text-align: right;\">\n      <th></th>\n      <th>suburb</th>\n      <th>price</th>\n      <th>2022income</th>\n      <th>rooms</th>\n    </tr>\n  </thead>\n  <tbody>\n    <tr>\n      <th>0</th>\n      <td>EAST MELBOURNE</td>\n      <td>1100</td>\n      <td>4224.0</td>\n      <td>6</td>\n    </tr>\n    <tr>\n      <th>1</th>\n      <td>EAST MELBOURNE</td>\n      <td>1100</td>\n      <td>4224.0</td>\n      <td>6</td>\n    </tr>\n    <tr>\n      <th>2</th>\n      <td>EAST MELBOURNE</td>\n      <td>1150</td>\n      <td>4224.0</td>\n      <td>6</td>\n    </tr>\n    <tr>\n      <th>3</th>\n      <td>EAST MELBOURNE</td>\n      <td>1150</td>\n      <td>4224.0</td>\n      <td>6</td>\n    </tr>\n    <tr>\n      <th>4</th>\n      <td>EAST MELBOURNE</td>\n      <td>525</td>\n      <td>4224.0</td>\n      <td>3</td>\n    </tr>\n  </tbody>\n</table>\n</div>"
     },
     "execution_count": 291,
     "metadata": {},
     "output_type": "execute_result"
    }
   ],
   "source": [
    "house.head()\n"
   ],
   "metadata": {
    "collapsed": false,
    "pycharm": {
     "name": "#%%\n"
    }
   }
  },
  {
   "cell_type": "code",
   "execution_count": 292,
   "outputs": [
    {
     "name": "stderr",
     "output_type": "stream",
     "text": [
      "/var/folders/mz/ytcv9vg56yqf64xqlxptmkbc0000gn/T/ipykernel_13689/4168669478.py:6: SettingWithCopyWarning: \n",
      "A value is trying to be set on a copy of a slice from a DataFrame.\n",
      "Try using .loc[row_indexer,col_indexer] = value instead\n",
      "\n",
      "See the caveats in the documentation: https://pandas.pydata.org/pandas-docs/stable/user_guide/indexing.html#returning-a-view-versus-a-copy\n",
      "  house.loc[:,money_list] = scaler.fit_transform(house.loc[:,money_list])\n",
      "/var/folders/mz/ytcv9vg56yqf64xqlxptmkbc0000gn/T/ipykernel_13689/4168669478.py:7: SettingWithCopyWarning: \n",
      "A value is trying to be set on a copy of a slice from a DataFrame.\n",
      "Try using .loc[row_indexer,col_indexer] = value instead\n",
      "\n",
      "See the caveats in the documentation: https://pandas.pydata.org/pandas-docs/stable/user_guide/indexing.html#returning-a-view-versus-a-copy\n",
      "  apart.loc[:,money_list] = scaler.fit_transform(apart.loc[:,money_list])\n"
     ]
    }
   ],
   "source": [
    "from sklearn import preprocessing\n",
    "\n",
    "money_list = ['price', '2022income']\n",
    "scaler = preprocessing.MinMaxScaler()\n",
    "names = house.columns\n",
    "house.loc[:,money_list] = scaler.fit_transform(house.loc[:,money_list])\n",
    "apart.loc[:,money_list] = scaler.fit_transform(apart.loc[:,money_list])\n"
   ],
   "metadata": {
    "collapsed": false,
    "pycharm": {
     "name": "#%% normalisation\n"
    }
   }
  },
  {
   "cell_type": "code",
   "execution_count": 293,
   "outputs": [
    {
     "data": {
      "text/plain": "           suburb  price  2022income  rooms\n0  EAST MELBOURNE  0.099     0.03622      2\n1  EAST MELBOURNE  0.099     0.03622      2\n2  EAST MELBOURNE  0.084     0.03622      3\n3  EAST MELBOURNE  0.084     0.03622      3\n4  EAST MELBOURNE  0.110     0.03622      2",
      "text/html": "<div>\n<style scoped>\n    .dataframe tbody tr th:only-of-type {\n        vertical-align: middle;\n    }\n\n    .dataframe tbody tr th {\n        vertical-align: top;\n    }\n\n    .dataframe thead th {\n        text-align: right;\n    }\n</style>\n<table border=\"1\" class=\"dataframe\">\n  <thead>\n    <tr style=\"text-align: right;\">\n      <th></th>\n      <th>suburb</th>\n      <th>price</th>\n      <th>2022income</th>\n      <th>rooms</th>\n    </tr>\n  </thead>\n  <tbody>\n    <tr>\n      <th>0</th>\n      <td>EAST MELBOURNE</td>\n      <td>0.099</td>\n      <td>0.03622</td>\n      <td>2</td>\n    </tr>\n    <tr>\n      <th>1</th>\n      <td>EAST MELBOURNE</td>\n      <td>0.099</td>\n      <td>0.03622</td>\n      <td>2</td>\n    </tr>\n    <tr>\n      <th>2</th>\n      <td>EAST MELBOURNE</td>\n      <td>0.084</td>\n      <td>0.03622</td>\n      <td>3</td>\n    </tr>\n    <tr>\n      <th>3</th>\n      <td>EAST MELBOURNE</td>\n      <td>0.084</td>\n      <td>0.03622</td>\n      <td>3</td>\n    </tr>\n    <tr>\n      <th>4</th>\n      <td>EAST MELBOURNE</td>\n      <td>0.110</td>\n      <td>0.03622</td>\n      <td>2</td>\n    </tr>\n  </tbody>\n</table>\n</div>"
     },
     "execution_count": 293,
     "metadata": {},
     "output_type": "execute_result"
    }
   ],
   "source": [
    "apart.head()"
   ],
   "metadata": {
    "collapsed": false,
    "pycharm": {
     "name": "#%%\n"
    }
   }
  },
  {
   "cell_type": "code",
   "execution_count": 294,
   "outputs": [],
   "source": [
    "house = house.loc[:,money_list].groupby(house['suburb']).mean().reset_index()\n",
    "apart = apart.loc[:,money_list].groupby(house['suburb']).mean().reset_index()"
   ],
   "metadata": {
    "collapsed": false,
    "pycharm": {
     "name": "#%% calculate the mean price for house and apartment by same suburb\n"
    }
   }
  },
  {
   "cell_type": "markdown",
   "source": [
    "Calculate the affordability"
   ],
   "metadata": {
    "collapsed": false,
    "pycharm": {
     "name": "#%% md\n"
    }
   }
  },
  {
   "cell_type": "code",
   "execution_count": 295,
   "outputs": [],
   "source": [
    "house['affordability'] = house[\"2022income\"] / house[\"price\"]\n",
    "apart['affordability'] = apart[\"2022income\"] / apart[\"price\"]"
   ],
   "metadata": {
    "collapsed": false,
    "pycharm": {
     "name": "#%% calculate affordability using income/price\n"
    }
   }
  },
  {
   "cell_type": "code",
   "execution_count": 296,
   "outputs": [
    {
     "data": {
      "text/plain": "           suburb  price  2022income  affordability\n0      ABBOTSFORD  0.099     0.03622       0.365861\n1    AIRPORT WEST  0.099     0.03622       0.365861\n2       ALFREDTON  0.084     0.03622       0.431194\n3          ALTONA  0.084     0.03622       0.431194\n4  ALTONA MEADOWS  0.110     0.03622       0.329275",
      "text/html": "<div>\n<style scoped>\n    .dataframe tbody tr th:only-of-type {\n        vertical-align: middle;\n    }\n\n    .dataframe tbody tr th {\n        vertical-align: top;\n    }\n\n    .dataframe thead th {\n        text-align: right;\n    }\n</style>\n<table border=\"1\" class=\"dataframe\">\n  <thead>\n    <tr style=\"text-align: right;\">\n      <th></th>\n      <th>suburb</th>\n      <th>price</th>\n      <th>2022income</th>\n      <th>affordability</th>\n    </tr>\n  </thead>\n  <tbody>\n    <tr>\n      <th>0</th>\n      <td>ABBOTSFORD</td>\n      <td>0.099</td>\n      <td>0.03622</td>\n      <td>0.365861</td>\n    </tr>\n    <tr>\n      <th>1</th>\n      <td>AIRPORT WEST</td>\n      <td>0.099</td>\n      <td>0.03622</td>\n      <td>0.365861</td>\n    </tr>\n    <tr>\n      <th>2</th>\n      <td>ALFREDTON</td>\n      <td>0.084</td>\n      <td>0.03622</td>\n      <td>0.431194</td>\n    </tr>\n    <tr>\n      <th>3</th>\n      <td>ALTONA</td>\n      <td>0.084</td>\n      <td>0.03622</td>\n      <td>0.431194</td>\n    </tr>\n    <tr>\n      <th>4</th>\n      <td>ALTONA MEADOWS</td>\n      <td>0.110</td>\n      <td>0.03622</td>\n      <td>0.329275</td>\n    </tr>\n  </tbody>\n</table>\n</div>"
     },
     "execution_count": 296,
     "metadata": {},
     "output_type": "execute_result"
    }
   ],
   "source": [
    "apart.head()"
   ],
   "metadata": {
    "collapsed": false,
    "pycharm": {
     "name": "#%%\n"
    }
   }
  },
  {
   "cell_type": "markdown",
   "source": [
    "Bubble plots visualization"
   ],
   "metadata": {
    "collapsed": false,
    "pycharm": {
     "name": "#%% md\n"
    }
   }
  },
  {
   "cell_type": "markdown",
   "source": [
    "House"
   ],
   "metadata": {
    "collapsed": false,
    "pycharm": {
     "name": "#%% md\n"
    }
   }
  },
  {
   "cell_type": "code",
   "execution_count": 297,
   "outputs": [],
   "source": [
    "#transform categorical data to numeric\n",
    "\n",
    "subs = pd.factorize(house[\"suburb\"])[0].astype(np.uint16)\n",
    "house['suburbID'] = subs\n"
   ],
   "metadata": {
    "collapsed": false,
    "pycharm": {
     "name": "#%%\n"
    }
   }
  },
  {
   "cell_type": "code",
   "execution_count": 298,
   "outputs": [
    {
     "data": {
      "text/plain": "<Figure size 720x576 with 2 Axes>",
      "image/png": "[encoded data removed]"
     },
     "metadata": {
      "needs_background": "light"
     },
     "output_type": "display_data"
    }
   ],
   "source": [
    "income = np.array(house['2022income'].tolist())\n",
    "\n",
    "price = np.array(house['price'].tolist())\n",
    "\n",
    "afford = np.array(house['affordability'].tolist())\n",
    "\n",
    "sub =  np.array(house['suburbID'].tolist())\n",
    "\n",
    "\n",
    "plt.figure(figsize=(10, 8))\n",
    "\n",
    "plt.scatter(x=income, y=price, c = afford*100, s=sub, alpha=0.4)\n",
    "\n",
    "plt.colorbar()\n",
    "plt.xlabel(\"2022 income\")\n",
    "plt.ylabel(\"House price\")\n",
    "plt.title(\"Year 2022 Affordability\")\n",
    "plt.ylim(-0.02,0.6)\n",
    "plt.xlim(-0.02,1.1)\n",
    "plt.savefig(\"../plots/house affordability.png\")"
   ],
   "metadata": {
    "collapsed": false,
    "pycharm": {
     "name": "#%%\n"
    }
   }
  },
  {
   "cell_type": "markdown",
   "source": [
    "Apartment"
   ],
   "metadata": {
    "collapsed": false,
    "pycharm": {
     "name": "#%% md\n"
    }
   }
  },
  {
   "cell_type": "code",
   "execution_count": 299,
   "outputs": [],
   "source": [
    "subsapart = pd.factorize(apart[\"suburb\"])[0].astype(np.uint16)\n",
    "apart['suburbID'] = subsapart"
   ],
   "metadata": {
    "collapsed": false,
    "pycharm": {
     "name": "#%%\n"
    }
   }
  },
  {
   "cell_type": "code",
   "execution_count": 300,
   "outputs": [
    {
     "data": {
      "text/plain": "<Figure size 720x576 with 2 Axes>",
      "image/png": "[encoded data removed]"
     },
     "metadata": {
      "needs_background": "light"
     },
     "output_type": "display_data"
    }
   ],
   "source": [
    "incomeapart = np.array(apart['2022income'].tolist())\n",
    "\n",
    "priceapart = np.array(apart['price'].tolist())\n",
    "\n",
    "affordapart = np.array(apart['affordability'].tolist())\n",
    "\n",
    "subapart =  np.array(apart['suburbID'].tolist())\n",
    "plt.figure(figsize=(10, 8))\n",
    "\n",
    "plt.scatter(x=incomeapart, y=priceapart, c = affordapart*100, s=subapart, alpha=0.4)\n",
    "\n",
    "plt.colorbar()\n",
    "plt.xlabel(\"2022 income\")\n",
    "plt.ylabel(\"Apartment price\")\n",
    "plt.title(\"Year 2022 Affordability\")\n",
    "plt.ylim(-0.02,0.8)\n",
    "plt.xlim(-0.02,0.8)\n",
    "plt.savefig(\"../plots/apartment affordability.png\")"
   ],
   "metadata": {
    "collapsed": false,
    "pycharm": {
     "name": "#%% scatter plot for apartment\n"
    }
   }
  },
  {
   "cell_type": "code",
   "execution_count": 301,
   "outputs": [
    {
     "name": "stdout",
     "output_type": "stream",
     "text": [
      "121         TARNEIT\n",
      "127       TRUGANINA\n",
      "86     MELTON SOUTH\n",
      "142    WYNDHAM VALE\n",
      "66        GROVEDALE\n",
      "104     PASCOE VALE\n",
      "77      KEYSBOROUGH\n",
      "140         WODONGA\n",
      "65          GLENROY\n",
      "89           MERNDA\n",
      "Name: suburb, dtype: object\n"
     ]
    }
   ],
   "source": [
    "housetop10 = house.sort_values(by=\"affordability\" , ascending=False)\n",
    "print(housetop10.head(10)['suburb'])"
   ],
   "metadata": {
    "collapsed": false,
    "pycharm": {
     "name": "#%% top 10 suburb of affordability about house\n"
    }
   }
  },
  {
   "cell_type": "code",
   "execution_count": 302,
   "outputs": [
    {
     "name": "stdout",
     "output_type": "stream",
     "text": [
      "86        MELTON SOUTH\n",
      "87         MELTON WEST\n",
      "89              MERNDA\n",
      "88             MENTONE\n",
      "71     HEIDELBERG WEST\n",
      "70       HAWTHORN EAST\n",
      "125             TOORAK\n",
      "124          THORNBURY\n",
      "108           RINGWOOD\n",
      "109      RINGWOOD EAST\n",
      "Name: suburb, dtype: object\n"
     ]
    }
   ],
   "source": [
    "aparttop10 = apart.sort_values(by=\"affordability\" , ascending=False)\n",
    "print(aparttop10.head(10)['suburb'])"
   ],
   "metadata": {
    "collapsed": false,
    "pycharm": {
     "name": "#%% top 10 suburb of affordability about apartment\n"
    }
   }
  },
  {
   "cell_type": "code",
   "execution_count": 302,
   "outputs": [],
   "source": [],
   "metadata": {
    "collapsed": false,
    "pycharm": {
     "name": "#%%\n"
    }
   }
  }
 ],
 "metadata": {
  "kernelspec": {
   "display_name": "Python 3",
   "language": "python",
   "name": "python3"
  },
  "language_info": {
   "codemirror_mode": {
    "name": "ipython",
    "version": 2
   },
   "file_extension": ".py",
   "mimetype": "text/x-python",
   "name": "python",
   "nbconvert_exporter": "python",
   "pygments_lexer": "ipython2",
   "version": "2.7.6"
  }
 },
 "nbformat": 4,
 "nbformat_minor": 0
}