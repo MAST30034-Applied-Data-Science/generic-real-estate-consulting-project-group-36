{
 "cells": [
  {
   "cell_type": "code",
   "execution_count": 24,
   "metadata": {
    "collapsed": true
   },
   "outputs": [],
   "source": [
    "import pandas as pd\n",
    "from opencage.geocoder import OpenCageGeocode"
   ]
  },
  {
   "cell_type": "code",
   "execution_count": 3,
   "outputs": [],
   "source": [
    "df = pd.read_csv(\"../data/raw/MainHospitalList.csv\")"
   ],
   "metadata": {
    "collapsed": false,
    "pycharm": {
     "name": "#%%\n"
    }
   }
  },
  {
   "cell_type": "code",
   "execution_count": 4,
   "outputs": [
    {
     "data": {
      "text/plain": "   Hospital ID                           Formal Name  \\\n0         5488                    Albert Road Clinic   \n1         3485                 Albury Wodonga Health   \n2        12990  Albury Wodonga Health, Albury Campus   \n3         3491             Alexandra District Health   \n4        11519                         Alfred Health   \n\n                             Other Name Emergency Capable   Location Address  \\\n0                    Albert Road Clinic                NO  31-33 Albert Road   \n1                 Albury Wodonga Health               YES  69 Vermont Street   \n2  Albury Wodonga Health, Albury Campus               YES            Borella   \n3             Alexandra District Health                NO   20 Cooper Street   \n4                         Alfred Health                NO    Commercial Road   \n\n            Suburb  Postcode  Access Point Category       Agency Type  \n0  South Melbourne      3205           NaN  PRIVATE  Private Hospital  \n1          Wodonga      3690           NaN   PUBLIC   Public Hospital  \n2           Albury      2640           NaN   PUBLIC   Public Hospital  \n3        Alexandra      3714           NaN   PUBLIC   Public Hospital  \n4        Melbourne      3004           NaN   PUBLIC   Public Hospital  ",
      "text/html": "<div>\n<style scoped>\n    .dataframe tbody tr th:only-of-type {\n        vertical-align: middle;\n    }\n\n    .dataframe tbody tr th {\n        vertical-align: top;\n    }\n\n    .dataframe thead th {\n        text-align: right;\n    }\n</style>\n<table border=\"1\" class=\"dataframe\">\n  <thead>\n    <tr style=\"text-align: right;\">\n      <th></th>\n      <th>Hospital ID</th>\n      <th>Formal Name</th>\n      <th>Other Name</th>\n      <th>Emergency Capable</th>\n      <th>Location Address</th>\n      <th>Suburb</th>\n      <th>Postcode</th>\n      <th>Access Point</th>\n      <th>Category</th>\n      <th>Agency Type</th>\n    </tr>\n  </thead>\n  <tbody>\n    <tr>\n      <th>0</th>\n      <td>5488</td>\n      <td>Albert Road Clinic</td>\n      <td>Albert Road Clinic</td>\n      <td>NO</td>\n      <td>31-33 Albert Road</td>\n      <td>South Melbourne</td>\n      <td>3205</td>\n      <td>NaN</td>\n      <td>PRIVATE</td>\n      <td>Private Hospital</td>\n    </tr>\n    <tr>\n      <th>1</th>\n      <td>3485</td>\n      <td>Albury Wodonga Health</td>\n      <td>Albury Wodonga Health</td>\n      <td>YES</td>\n      <td>69 Vermont Street</td>\n      <td>Wodonga</td>\n      <td>3690</td>\n      <td>NaN</td>\n      <td>PUBLIC</td>\n      <td>Public Hospital</td>\n    </tr>\n    <tr>\n      <th>2</th>\n      <td>12990</td>\n      <td>Albury Wodonga Health, Albury Campus</td>\n      <td>Albury Wodonga Health, Albury Campus</td>\n      <td>YES</td>\n      <td>Borella</td>\n      <td>Albury</td>\n      <td>2640</td>\n      <td>NaN</td>\n      <td>PUBLIC</td>\n      <td>Public Hospital</td>\n    </tr>\n    <tr>\n      <th>3</th>\n      <td>3491</td>\n      <td>Alexandra District Health</td>\n      <td>Alexandra District Health</td>\n      <td>NO</td>\n      <td>20 Cooper Street</td>\n      <td>Alexandra</td>\n      <td>3714</td>\n      <td>NaN</td>\n      <td>PUBLIC</td>\n      <td>Public Hospital</td>\n    </tr>\n    <tr>\n      <th>4</th>\n      <td>11519</td>\n      <td>Alfred Health</td>\n      <td>Alfred Health</td>\n      <td>NO</td>\n      <td>Commercial Road</td>\n      <td>Melbourne</td>\n      <td>3004</td>\n      <td>NaN</td>\n      <td>PUBLIC</td>\n      <td>Public Hospital</td>\n    </tr>\n  </tbody>\n</table>\n</div>"
     },
     "execution_count": 4,
     "metadata": {},
     "output_type": "execute_result"
    }
   ],
   "source": [
    "df.head()"
   ],
   "metadata": {
    "collapsed": false,
    "pycharm": {
     "name": "#%%\n"
    }
   }
  },
  {
   "cell_type": "code",
   "execution_count": 9,
   "outputs": [],
   "source": [
    "df[\"Postcode\"] =[ 'VIC % i' % i for i in df[\"Postcode\"]]"
   ],
   "metadata": {
    "collapsed": false,
    "pycharm": {
     "name": "#%%\n"
    }
   }
  },
  {
   "cell_type": "code",
   "execution_count": 10,
   "outputs": [
    {
     "data": {
      "text/plain": "   Hospital ID                           Formal Name  \\\n0         5488                    Albert Road Clinic   \n1         3485                 Albury Wodonga Health   \n2        12990  Albury Wodonga Health, Albury Campus   \n3         3491             Alexandra District Health   \n4        11519                         Alfred Health   \n\n                             Other Name Emergency Capable   Location Address  \\\n0                    Albert Road Clinic                NO  31-33 Albert Road   \n1                 Albury Wodonga Health               YES  69 Vermont Street   \n2  Albury Wodonga Health, Albury Campus               YES            Borella   \n3             Alexandra District Health                NO   20 Cooper Street   \n4                         Alfred Health                NO    Commercial Road   \n\n            Suburb   Postcode  Access Point Category       Agency Type  \n0  South Melbourne  VIC  3205           NaN  PRIVATE  Private Hospital  \n1          Wodonga  VIC  3690           NaN   PUBLIC   Public Hospital  \n2           Albury  VIC  2640           NaN   PUBLIC   Public Hospital  \n3        Alexandra  VIC  3714           NaN   PUBLIC   Public Hospital  \n4        Melbourne  VIC  3004           NaN   PUBLIC   Public Hospital  ",
      "text/html": "<div>\n<style scoped>\n    .dataframe tbody tr th:only-of-type {\n        vertical-align: middle;\n    }\n\n    .dataframe tbody tr th {\n        vertical-align: top;\n    }\n\n    .dataframe thead th {\n        text-align: right;\n    }\n</style>\n<table border=\"1\" class=\"dataframe\">\n  <thead>\n    <tr style=\"text-align: right;\">\n      <th></th>\n      <th>Hospital ID</th>\n      <th>Formal Name</th>\n      <th>Other Name</th>\n      <th>Emergency Capable</th>\n      <th>Location Address</th>\n      <th>Suburb</th>\n      <th>Postcode</th>\n      <th>Access Point</th>\n      <th>Category</th>\n      <th>Agency Type</th>\n    </tr>\n  </thead>\n  <tbody>\n    <tr>\n      <th>0</th>\n      <td>5488</td>\n      <td>Albert Road Clinic</td>\n      <td>Albert Road Clinic</td>\n      <td>NO</td>\n      <td>31-33 Albert Road</td>\n      <td>South Melbourne</td>\n      <td>VIC  3205</td>\n      <td>NaN</td>\n      <td>PRIVATE</td>\n      <td>Private Hospital</td>\n    </tr>\n    <tr>\n      <th>1</th>\n      <td>3485</td>\n      <td>Albury Wodonga Health</td>\n      <td>Albury Wodonga Health</td>\n      <td>YES</td>\n      <td>69 Vermont Street</td>\n      <td>Wodonga</td>\n      <td>VIC  3690</td>\n      <td>NaN</td>\n      <td>PUBLIC</td>\n      <td>Public Hospital</td>\n    </tr>\n    <tr>\n      <th>2</th>\n      <td>12990</td>\n      <td>Albury Wodonga Health, Albury Campus</td>\n      <td>Albury Wodonga Health, Albury Campus</td>\n      <td>YES</td>\n      <td>Borella</td>\n      <td>Albury</td>\n      <td>VIC  2640</td>\n      <td>NaN</td>\n      <td>PUBLIC</td>\n      <td>Public Hospital</td>\n    </tr>\n    <tr>\n      <th>3</th>\n      <td>3491</td>\n      <td>Alexandra District Health</td>\n      <td>Alexandra District Health</td>\n      <td>NO</td>\n      <td>20 Cooper Street</td>\n      <td>Alexandra</td>\n      <td>VIC  3714</td>\n      <td>NaN</td>\n      <td>PUBLIC</td>\n      <td>Public Hospital</td>\n    </tr>\n    <tr>\n      <th>4</th>\n      <td>11519</td>\n      <td>Alfred Health</td>\n      <td>Alfred Health</td>\n      <td>NO</td>\n      <td>Commercial Road</td>\n      <td>Melbourne</td>\n      <td>VIC  3004</td>\n      <td>NaN</td>\n      <td>PUBLIC</td>\n      <td>Public Hospital</td>\n    </tr>\n  </tbody>\n</table>\n</div>"
     },
     "execution_count": 10,
     "metadata": {},
     "output_type": "execute_result"
    }
   ],
   "source": [
    "df.head()"
   ],
   "metadata": {
    "collapsed": false,
    "pycharm": {
     "name": "#%%\n"
    }
   }
  },
  {
   "cell_type": "code",
   "execution_count": 13,
   "outputs": [],
   "source": [
    "df[\"Location\"] = df['Location Address'] + df['Suburb'] +  df['Postcode']\n"
   ],
   "metadata": {
    "collapsed": false,
    "pycharm": {
     "name": "#%%\n"
    }
   }
  },
  {
   "cell_type": "code",
   "execution_count": 22,
   "outputs": [],
   "source": [
    "df['Location'] = df['Location Address'].str.cat([df['Suburb'], df['Postcode']], sep=',')"
   ],
   "metadata": {
    "collapsed": false,
    "pycharm": {
     "name": "#%%\n"
    }
   }
  },
  {
   "cell_type": "code",
   "execution_count": 23,
   "outputs": [
    {
     "data": {
      "text/plain": "   Hospital ID                           Formal Name  \\\n0         5488                    Albert Road Clinic   \n1         3485                 Albury Wodonga Health   \n2        12990  Albury Wodonga Health, Albury Campus   \n3         3491             Alexandra District Health   \n4        11519                         Alfred Health   \n\n                             Other Name Emergency Capable   Location Address  \\\n0                    Albert Road Clinic                NO  31-33 Albert Road   \n1                 Albury Wodonga Health               YES  69 Vermont Street   \n2  Albury Wodonga Health, Albury Campus               YES            Borella   \n3             Alexandra District Health                NO   20 Cooper Street   \n4                         Alfred Health                NO    Commercial Road   \n\n            Suburb   Postcode  Access Point Category       Agency Type  \\\n0  South Melbourne  VIC  3205           NaN  PRIVATE  Private Hospital   \n1          Wodonga  VIC  3690           NaN   PUBLIC   Public Hospital   \n2           Albury  VIC  2640           NaN   PUBLIC   Public Hospital   \n3        Alexandra  VIC  3714           NaN   PUBLIC   Public Hospital   \n4        Melbourne  VIC  3004           NaN   PUBLIC   Public Hospital   \n\n                                      Location  \n0  31-33 Albert Road,South Melbourne,VIC  3205  \n1          69 Vermont Street,Wodonga,VIC  3690  \n2                     Borella,Albury,VIC  2640  \n3         20 Cooper Street,Alexandra,VIC  3714  \n4          Commercial Road,Melbourne,VIC  3004  ",
      "text/html": "<div>\n<style scoped>\n    .dataframe tbody tr th:only-of-type {\n        vertical-align: middle;\n    }\n\n    .dataframe tbody tr th {\n        vertical-align: top;\n    }\n\n    .dataframe thead th {\n        text-align: right;\n    }\n</style>\n<table border=\"1\" class=\"dataframe\">\n  <thead>\n    <tr style=\"text-align: right;\">\n      <th></th>\n      <th>Hospital ID</th>\n      <th>Formal Name</th>\n      <th>Other Name</th>\n      <th>Emergency Capable</th>\n      <th>Location Address</th>\n      <th>Suburb</th>\n      <th>Postcode</th>\n      <th>Access Point</th>\n      <th>Category</th>\n      <th>Agency Type</th>\n      <th>Location</th>\n    </tr>\n  </thead>\n  <tbody>\n    <tr>\n      <th>0</th>\n      <td>5488</td>\n      <td>Albert Road Clinic</td>\n      <td>Albert Road Clinic</td>\n      <td>NO</td>\n      <td>31-33 Albert Road</td>\n      <td>South Melbourne</td>\n      <td>VIC  3205</td>\n      <td>NaN</td>\n      <td>PRIVATE</td>\n      <td>Private Hospital</td>\n      <td>31-33 Albert Road,South Melbourne,VIC  3205</td>\n    </tr>\n    <tr>\n      <th>1</th>\n      <td>3485</td>\n      <td>Albury Wodonga Health</td>\n      <td>Albury Wodonga Health</td>\n      <td>YES</td>\n      <td>69 Vermont Street</td>\n      <td>Wodonga</td>\n      <td>VIC  3690</td>\n      <td>NaN</td>\n      <td>PUBLIC</td>\n      <td>Public Hospital</td>\n      <td>69 Vermont Street,Wodonga,VIC  3690</td>\n    </tr>\n    <tr>\n      <th>2</th>\n      <td>12990</td>\n      <td>Albury Wodonga Health, Albury Campus</td>\n      <td>Albury Wodonga Health, Albury Campus</td>\n      <td>YES</td>\n      <td>Borella</td>\n      <td>Albury</td>\n      <td>VIC  2640</td>\n      <td>NaN</td>\n      <td>PUBLIC</td>\n      <td>Public Hospital</td>\n      <td>Borella,Albury,VIC  2640</td>\n    </tr>\n    <tr>\n      <th>3</th>\n      <td>3491</td>\n      <td>Alexandra District Health</td>\n      <td>Alexandra District Health</td>\n      <td>NO</td>\n      <td>20 Cooper Street</td>\n      <td>Alexandra</td>\n      <td>VIC  3714</td>\n      <td>NaN</td>\n      <td>PUBLIC</td>\n      <td>Public Hospital</td>\n      <td>20 Cooper Street,Alexandra,VIC  3714</td>\n    </tr>\n    <tr>\n      <th>4</th>\n      <td>11519</td>\n      <td>Alfred Health</td>\n      <td>Alfred Health</td>\n      <td>NO</td>\n      <td>Commercial Road</td>\n      <td>Melbourne</td>\n      <td>VIC  3004</td>\n      <td>NaN</td>\n      <td>PUBLIC</td>\n      <td>Public Hospital</td>\n      <td>Commercial Road,Melbourne,VIC  3004</td>\n    </tr>\n  </tbody>\n</table>\n</div>"
     },
     "execution_count": 23,
     "metadata": {},
     "output_type": "execute_result"
    }
   ],
   "source": [
    "df.head()"
   ],
   "metadata": {
    "collapsed": false,
    "pycharm": {
     "name": "#%%\n"
    }
   }
  },
  {
   "cell_type": "code",
   "execution_count": 23,
   "outputs": [],
   "source": [],
   "metadata": {
    "collapsed": false,
    "pycharm": {
     "name": "#%%\n"
    }
   }
  },
  {
   "cell_type": "code",
   "execution_count": 25,
   "outputs": [],
   "source": [
    "key = \"ed57b11f59404a52819c1eca401bfd2e\"\n",
    "geocoder = OpenCageGeocode(key)"
   ],
   "metadata": {
    "collapsed": false,
    "pycharm": {
     "name": "#%%\n"
    }
   }
  },
  {
   "cell_type": "code",
   "execution_count": 26,
   "outputs": [],
   "source": [
    "addresses = df[\"Location\"].values.tolist()\n",
    "\n",
    "latitudes = []\n",
    "longitudes = []\n",
    "\n",
    "for address in addresses:\n",
    "    result = geocoder.geocode(address, no_annotations=\"1\")\n",
    "\n",
    "    if result and len(result):\n",
    "        longitude = result[0]['geometry']['lng']\n",
    "        latitude = result[0]['geometry']['lat']\n",
    "    else:\n",
    "        longitude = \"N/A\"\n",
    "        latitude = \"N/A\"\n",
    "\n",
    "    latitudes.append(latitude)\n",
    "    longitudes.append(longitude)\n",
    "\n",
    "df[\"latitudes\"] = latitudes\n",
    "df[\"longitudes\"] = longitudes\n",
    "\n",
    "df.to_csv(\"../data/curated/hospital_geocoded.csv\")"
   ],
   "metadata": {
    "collapsed": false,
    "pycharm": {
     "name": "#%%\n"
    }
   }
  }
 ],
 "metadata": {
  "kernelspec": {
   "display_name": "Python 3",
   "language": "python",
   "name": "python3"
  },
  "language_info": {
   "codemirror_mode": {
    "name": "ipython",
    "version": 2
   },
   "file_extension": ".py",
   "mimetype": "text/x-python",
   "name": "python",
   "nbconvert_exporter": "python",
   "pygments_lexer": "ipython2",
   "version": "2.7.6"
  }
 },
 "nbformat": 4,
 "nbformat_minor": 0
}