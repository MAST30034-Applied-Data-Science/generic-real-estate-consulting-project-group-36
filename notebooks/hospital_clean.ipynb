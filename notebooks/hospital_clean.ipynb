{
 "cells": [
  {
   "cell_type": "code",
   "execution_count": 1,
   "metadata": {
    "tags": []
   },
   "outputs": [],
   "source": [
    "#pip install opencage"
   ]
  },
  {
   "cell_type": "code",
   "execution_count": 2,
   "metadata": {
    "tags": []
   },
   "outputs": [],
   "source": [
    "import pandas as pd\n",
    "from opencage.geocoder import OpenCageGeocode"
   ]
  },
  {
   "cell_type": "code",
   "execution_count": 3,
   "metadata": {
    "collapsed": false,
    "jupyter": {
     "outputs_hidden": false
    },
    "pycharm": {
     "name": "#%%\n"
    }
   },
   "outputs": [],
   "source": [
    "df = pd.read_csv(\"../data/raw/MainHospitalList.csv\")"
   ]
  },
  {
   "cell_type": "code",
   "execution_count": 4,
   "metadata": {
    "collapsed": false,
    "jupyter": {
     "outputs_hidden": false
    },
    "pycharm": {
     "name": "#%%\n"
    }
   },
   "outputs": [
    {
     "data": {
      "text/html": [
       "<div>\n",
       "<style scoped>\n",
       "    .dataframe tbody tr th:only-of-type {\n",
       "        vertical-align: middle;\n",
       "    }\n",
       "\n",
       "    .dataframe tbody tr th {\n",
       "        vertical-align: top;\n",
       "    }\n",
       "\n",
       "    .dataframe thead th {\n",
       "        text-align: right;\n",
       "    }\n",
       "</style>\n",
       "<table border=\"1\" class=\"dataframe\">\n",
       "  <thead>\n",
       "    <tr style=\"text-align: right;\">\n",
       "      <th></th>\n",
       "      <th>Hospital ID</th>\n",
       "      <th>Formal Name</th>\n",
       "      <th>Other Name</th>\n",
       "      <th>Emergency Capable</th>\n",
       "      <th>Location Address</th>\n",
       "      <th>Suburb</th>\n",
       "      <th>Postcode</th>\n",
       "      <th>Access Point</th>\n",
       "      <th>Category</th>\n",
       "      <th>Agency Type</th>\n",
       "    </tr>\n",
       "  </thead>\n",
       "  <tbody>\n",
       "    <tr>\n",
       "      <th>0</th>\n",
       "      <td>5488</td>\n",
       "      <td>Albert Road Clinic</td>\n",
       "      <td>Albert Road Clinic</td>\n",
       "      <td>NO</td>\n",
       "      <td>31-33 Albert Road</td>\n",
       "      <td>South Melbourne</td>\n",
       "      <td>3205</td>\n",
       "      <td>NaN</td>\n",
       "      <td>PRIVATE</td>\n",
       "      <td>Private Hospital</td>\n",
       "    </tr>\n",
       "    <tr>\n",
       "      <th>1</th>\n",
       "      <td>3485</td>\n",
       "      <td>Albury Wodonga Health</td>\n",
       "      <td>Albury Wodonga Health</td>\n",
       "      <td>YES</td>\n",
       "      <td>69 Vermont Street</td>\n",
       "      <td>Wodonga</td>\n",
       "      <td>3690</td>\n",
       "      <td>NaN</td>\n",
       "      <td>PUBLIC</td>\n",
       "      <td>Public Hospital</td>\n",
       "    </tr>\n",
       "    <tr>\n",
       "      <th>2</th>\n",
       "      <td>12990</td>\n",
       "      <td>Albury Wodonga Health, Albury Campus</td>\n",
       "      <td>Albury Wodonga Health, Albury Campus</td>\n",
       "      <td>YES</td>\n",
       "      <td>Borella</td>\n",
       "      <td>Albury</td>\n",
       "      <td>2640</td>\n",
       "      <td>NaN</td>\n",
       "      <td>PUBLIC</td>\n",
       "      <td>Public Hospital</td>\n",
       "    </tr>\n",
       "    <tr>\n",
       "      <th>3</th>\n",
       "      <td>3491</td>\n",
       "      <td>Alexandra District Health</td>\n",
       "      <td>Alexandra District Health</td>\n",
       "      <td>NO</td>\n",
       "      <td>20 Cooper Street</td>\n",
       "      <td>Alexandra</td>\n",
       "      <td>3714</td>\n",
       "      <td>NaN</td>\n",
       "      <td>PUBLIC</td>\n",
       "      <td>Public Hospital</td>\n",
       "    </tr>\n",
       "    <tr>\n",
       "      <th>4</th>\n",
       "      <td>11519</td>\n",
       "      <td>Alfred Health</td>\n",
       "      <td>Alfred Health</td>\n",
       "      <td>NO</td>\n",
       "      <td>Commercial Road</td>\n",
       "      <td>Melbourne</td>\n",
       "      <td>3004</td>\n",
       "      <td>NaN</td>\n",
       "      <td>PUBLIC</td>\n",
       "      <td>Public Hospital</td>\n",
       "    </tr>\n",
       "  </tbody>\n",
       "</table>\n",
       "</div>"
      ],
      "text/plain": [
       "   Hospital ID                           Formal Name  \\\n",
       "0         5488                    Albert Road Clinic   \n",
       "1         3485                 Albury Wodonga Health   \n",
       "2        12990  Albury Wodonga Health, Albury Campus   \n",
       "3         3491             Alexandra District Health   \n",
       "4        11519                         Alfred Health   \n",
       "\n",
       "                             Other Name Emergency Capable   Location Address  \\\n",
       "0                    Albert Road Clinic                NO  31-33 Albert Road   \n",
       "1                 Albury Wodonga Health               YES  69 Vermont Street   \n",
       "2  Albury Wodonga Health, Albury Campus               YES            Borella   \n",
       "3             Alexandra District Health                NO   20 Cooper Street   \n",
       "4                         Alfred Health                NO    Commercial Road   \n",
       "\n",
       "            Suburb  Postcode  Access Point Category       Agency Type  \n",
       "0  South Melbourne      3205           NaN  PRIVATE  Private Hospital  \n",
       "1          Wodonga      3690           NaN   PUBLIC   Public Hospital  \n",
       "2           Albury      2640           NaN   PUBLIC   Public Hospital  \n",
       "3        Alexandra      3714           NaN   PUBLIC   Public Hospital  \n",
       "4        Melbourne      3004           NaN   PUBLIC   Public Hospital  "
      ]
     },
     "execution_count": 4,
     "metadata": {},
     "output_type": "execute_result"
    }
   ],
   "source": [
    "df.head()"
   ]
  },
  {
   "cell_type": "code",
   "execution_count": 5,
   "metadata": {
    "collapsed": false,
    "jupyter": {
     "outputs_hidden": false
    },
    "pycharm": {
     "name": "#%%\n"
    }
   },
   "outputs": [],
   "source": [
    "df[\"Postcode\"] =[ 'VIC % i' % i for i in df[\"Postcode\"]]"
   ]
  },
  {
   "cell_type": "code",
   "execution_count": 6,
   "metadata": {
    "collapsed": false,
    "jupyter": {
     "outputs_hidden": false
    },
    "pycharm": {
     "name": "#%%\n"
    }
   },
   "outputs": [
    {
     "data": {
      "text/html": [
       "<div>\n",
       "<style scoped>\n",
       "    .dataframe tbody tr th:only-of-type {\n",
       "        vertical-align: middle;\n",
       "    }\n",
       "\n",
       "    .dataframe tbody tr th {\n",
       "        vertical-align: top;\n",
       "    }\n",
       "\n",
       "    .dataframe thead th {\n",
       "        text-align: right;\n",
       "    }\n",
       "</style>\n",
       "<table border=\"1\" class=\"dataframe\">\n",
       "  <thead>\n",
       "    <tr style=\"text-align: right;\">\n",
       "      <th></th>\n",
       "      <th>Hospital ID</th>\n",
       "      <th>Formal Name</th>\n",
       "      <th>Other Name</th>\n",
       "      <th>Emergency Capable</th>\n",
       "      <th>Location Address</th>\n",
       "      <th>Suburb</th>\n",
       "      <th>Postcode</th>\n",
       "      <th>Access Point</th>\n",
       "      <th>Category</th>\n",
       "      <th>Agency Type</th>\n",
       "    </tr>\n",
       "  </thead>\n",
       "  <tbody>\n",
       "    <tr>\n",
       "      <th>0</th>\n",
       "      <td>5488</td>\n",
       "      <td>Albert Road Clinic</td>\n",
       "      <td>Albert Road Clinic</td>\n",
       "      <td>NO</td>\n",
       "      <td>31-33 Albert Road</td>\n",
       "      <td>South Melbourne</td>\n",
       "      <td>VIC  3205</td>\n",
       "      <td>NaN</td>\n",
       "      <td>PRIVATE</td>\n",
       "      <td>Private Hospital</td>\n",
       "    </tr>\n",
       "    <tr>\n",
       "      <th>1</th>\n",
       "      <td>3485</td>\n",
       "      <td>Albury Wodonga Health</td>\n",
       "      <td>Albury Wodonga Health</td>\n",
       "      <td>YES</td>\n",
       "      <td>69 Vermont Street</td>\n",
       "      <td>Wodonga</td>\n",
       "      <td>VIC  3690</td>\n",
       "      <td>NaN</td>\n",
       "      <td>PUBLIC</td>\n",
       "      <td>Public Hospital</td>\n",
       "    </tr>\n",
       "    <tr>\n",
       "      <th>2</th>\n",
       "      <td>12990</td>\n",
       "      <td>Albury Wodonga Health, Albury Campus</td>\n",
       "      <td>Albury Wodonga Health, Albury Campus</td>\n",
       "      <td>YES</td>\n",
       "      <td>Borella</td>\n",
       "      <td>Albury</td>\n",
       "      <td>VIC  2640</td>\n",
       "      <td>NaN</td>\n",
       "      <td>PUBLIC</td>\n",
       "      <td>Public Hospital</td>\n",
       "    </tr>\n",
       "    <tr>\n",
       "      <th>3</th>\n",
       "      <td>3491</td>\n",
       "      <td>Alexandra District Health</td>\n",
       "      <td>Alexandra District Health</td>\n",
       "      <td>NO</td>\n",
       "      <td>20 Cooper Street</td>\n",
       "      <td>Alexandra</td>\n",
       "      <td>VIC  3714</td>\n",
       "      <td>NaN</td>\n",
       "      <td>PUBLIC</td>\n",
       "      <td>Public Hospital</td>\n",
       "    </tr>\n",
       "    <tr>\n",
       "      <th>4</th>\n",
       "      <td>11519</td>\n",
       "      <td>Alfred Health</td>\n",
       "      <td>Alfred Health</td>\n",
       "      <td>NO</td>\n",
       "      <td>Commercial Road</td>\n",
       "      <td>Melbourne</td>\n",
       "      <td>VIC  3004</td>\n",
       "      <td>NaN</td>\n",
       "      <td>PUBLIC</td>\n",
       "      <td>Public Hospital</td>\n",
       "    </tr>\n",
       "  </tbody>\n",
       "</table>\n",
       "</div>"
      ],
      "text/plain": [
       "   Hospital ID                           Formal Name  \\\n",
       "0         5488                    Albert Road Clinic   \n",
       "1         3485                 Albury Wodonga Health   \n",
       "2        12990  Albury Wodonga Health, Albury Campus   \n",
       "3         3491             Alexandra District Health   \n",
       "4        11519                         Alfred Health   \n",
       "\n",
       "                             Other Name Emergency Capable   Location Address  \\\n",
       "0                    Albert Road Clinic                NO  31-33 Albert Road   \n",
       "1                 Albury Wodonga Health               YES  69 Vermont Street   \n",
       "2  Albury Wodonga Health, Albury Campus               YES            Borella   \n",
       "3             Alexandra District Health                NO   20 Cooper Street   \n",
       "4                         Alfred Health                NO    Commercial Road   \n",
       "\n",
       "            Suburb   Postcode  Access Point Category       Agency Type  \n",
       "0  South Melbourne  VIC  3205           NaN  PRIVATE  Private Hospital  \n",
       "1          Wodonga  VIC  3690           NaN   PUBLIC   Public Hospital  \n",
       "2           Albury  VIC  2640           NaN   PUBLIC   Public Hospital  \n",
       "3        Alexandra  VIC  3714           NaN   PUBLIC   Public Hospital  \n",
       "4        Melbourne  VIC  3004           NaN   PUBLIC   Public Hospital  "
      ]
     },
     "execution_count": 6,
     "metadata": {},
     "output_type": "execute_result"
    }
   ],
   "source": [
    "df.head()"
   ]
  },
  {
   "cell_type": "code",
   "execution_count": 7,
   "metadata": {
    "collapsed": false,
    "jupyter": {
     "outputs_hidden": false
    },
    "pycharm": {
     "name": "#%%\n"
    }
   },
   "outputs": [],
   "source": [
    "df[\"Location\"] = df['Location Address'] + df['Suburb'] +  df['Postcode']\n"
   ]
  },
  {
   "cell_type": "code",
   "execution_count": 8,
   "metadata": {
    "collapsed": false,
    "jupyter": {
     "outputs_hidden": false
    },
    "pycharm": {
     "name": "#%%\n"
    }
   },
   "outputs": [],
   "source": [
    "df['Location'] = df['Location Address'].str.cat([df['Suburb'], df['Postcode']], sep=',')"
   ]
  },
  {
   "cell_type": "code",
   "execution_count": 9,
   "metadata": {
    "collapsed": false,
    "jupyter": {
     "outputs_hidden": false
    },
    "pycharm": {
     "name": "#%%\n"
    }
   },
   "outputs": [
    {
     "data": {
      "text/html": [
       "<div>\n",
       "<style scoped>\n",
       "    .dataframe tbody tr th:only-of-type {\n",
       "        vertical-align: middle;\n",
       "    }\n",
       "\n",
       "    .dataframe tbody tr th {\n",
       "        vertical-align: top;\n",
       "    }\n",
       "\n",
       "    .dataframe thead th {\n",
       "        text-align: right;\n",
       "    }\n",
       "</style>\n",
       "<table border=\"1\" class=\"dataframe\">\n",
       "  <thead>\n",
       "    <tr style=\"text-align: right;\">\n",
       "      <th></th>\n",
       "      <th>Hospital ID</th>\n",
       "      <th>Formal Name</th>\n",
       "      <th>Other Name</th>\n",
       "      <th>Emergency Capable</th>\n",
       "      <th>Location Address</th>\n",
       "      <th>Suburb</th>\n",
       "      <th>Postcode</th>\n",
       "      <th>Access Point</th>\n",
       "      <th>Category</th>\n",
       "      <th>Agency Type</th>\n",
       "      <th>Location</th>\n",
       "    </tr>\n",
       "  </thead>\n",
       "  <tbody>\n",
       "    <tr>\n",
       "      <th>0</th>\n",
       "      <td>5488</td>\n",
       "      <td>Albert Road Clinic</td>\n",
       "      <td>Albert Road Clinic</td>\n",
       "      <td>NO</td>\n",
       "      <td>31-33 Albert Road</td>\n",
       "      <td>South Melbourne</td>\n",
       "      <td>VIC  3205</td>\n",
       "      <td>NaN</td>\n",
       "      <td>PRIVATE</td>\n",
       "      <td>Private Hospital</td>\n",
       "      <td>31-33 Albert Road,South Melbourne,VIC  3205</td>\n",
       "    </tr>\n",
       "    <tr>\n",
       "      <th>1</th>\n",
       "      <td>3485</td>\n",
       "      <td>Albury Wodonga Health</td>\n",
       "      <td>Albury Wodonga Health</td>\n",
       "      <td>YES</td>\n",
       "      <td>69 Vermont Street</td>\n",
       "      <td>Wodonga</td>\n",
       "      <td>VIC  3690</td>\n",
       "      <td>NaN</td>\n",
       "      <td>PUBLIC</td>\n",
       "      <td>Public Hospital</td>\n",
       "      <td>69 Vermont Street,Wodonga,VIC  3690</td>\n",
       "    </tr>\n",
       "    <tr>\n",
       "      <th>2</th>\n",
       "      <td>12990</td>\n",
       "      <td>Albury Wodonga Health, Albury Campus</td>\n",
       "      <td>Albury Wodonga Health, Albury Campus</td>\n",
       "      <td>YES</td>\n",
       "      <td>Borella</td>\n",
       "      <td>Albury</td>\n",
       "      <td>VIC  2640</td>\n",
       "      <td>NaN</td>\n",
       "      <td>PUBLIC</td>\n",
       "      <td>Public Hospital</td>\n",
       "      <td>Borella,Albury,VIC  2640</td>\n",
       "    </tr>\n",
       "    <tr>\n",
       "      <th>3</th>\n",
       "      <td>3491</td>\n",
       "      <td>Alexandra District Health</td>\n",
       "      <td>Alexandra District Health</td>\n",
       "      <td>NO</td>\n",
       "      <td>20 Cooper Street</td>\n",
       "      <td>Alexandra</td>\n",
       "      <td>VIC  3714</td>\n",
       "      <td>NaN</td>\n",
       "      <td>PUBLIC</td>\n",
       "      <td>Public Hospital</td>\n",
       "      <td>20 Cooper Street,Alexandra,VIC  3714</td>\n",
       "    </tr>\n",
       "    <tr>\n",
       "      <th>4</th>\n",
       "      <td>11519</td>\n",
       "      <td>Alfred Health</td>\n",
       "      <td>Alfred Health</td>\n",
       "      <td>NO</td>\n",
       "      <td>Commercial Road</td>\n",
       "      <td>Melbourne</td>\n",
       "      <td>VIC  3004</td>\n",
       "      <td>NaN</td>\n",
       "      <td>PUBLIC</td>\n",
       "      <td>Public Hospital</td>\n",
       "      <td>Commercial Road,Melbourne,VIC  3004</td>\n",
       "    </tr>\n",
       "  </tbody>\n",
       "</table>\n",
       "</div>"
      ],
      "text/plain": [
       "   Hospital ID                           Formal Name  \\\n",
       "0         5488                    Albert Road Clinic   \n",
       "1         3485                 Albury Wodonga Health   \n",
       "2        12990  Albury Wodonga Health, Albury Campus   \n",
       "3         3491             Alexandra District Health   \n",
       "4        11519                         Alfred Health   \n",
       "\n",
       "                             Other Name Emergency Capable   Location Address  \\\n",
       "0                    Albert Road Clinic                NO  31-33 Albert Road   \n",
       "1                 Albury Wodonga Health               YES  69 Vermont Street   \n",
       "2  Albury Wodonga Health, Albury Campus               YES            Borella   \n",
       "3             Alexandra District Health                NO   20 Cooper Street   \n",
       "4                         Alfred Health                NO    Commercial Road   \n",
       "\n",
       "            Suburb   Postcode  Access Point Category       Agency Type  \\\n",
       "0  South Melbourne  VIC  3205           NaN  PRIVATE  Private Hospital   \n",
       "1          Wodonga  VIC  3690           NaN   PUBLIC   Public Hospital   \n",
       "2           Albury  VIC  2640           NaN   PUBLIC   Public Hospital   \n",
       "3        Alexandra  VIC  3714           NaN   PUBLIC   Public Hospital   \n",
       "4        Melbourne  VIC  3004           NaN   PUBLIC   Public Hospital   \n",
       "\n",
       "                                      Location  \n",
       "0  31-33 Albert Road,South Melbourne,VIC  3205  \n",
       "1          69 Vermont Street,Wodonga,VIC  3690  \n",
       "2                     Borella,Albury,VIC  2640  \n",
       "3         20 Cooper Street,Alexandra,VIC  3714  \n",
       "4          Commercial Road,Melbourne,VIC  3004  "
      ]
     },
     "execution_count": 9,
     "metadata": {},
     "output_type": "execute_result"
    }
   ],
   "source": [
    "df.head()"
   ]
  },
  {
   "cell_type": "code",
   "execution_count": 10,
   "metadata": {
    "collapsed": false,
    "jupyter": {
     "outputs_hidden": false
    },
    "pycharm": {
     "name": "#%%\n"
    }
   },
   "outputs": [],
   "source": [
    "key = \"086eb185cf1c4c97bf13a73c1f32b9c1\"\n",
    "geocoder = OpenCageGeocode(key)"
   ]
  },
  {
   "cell_type": "code",
   "execution_count": 11,
   "metadata": {
    "collapsed": false,
    "jupyter": {
     "outputs_hidden": false
    },
    "pycharm": {
     "name": "#%%\n"
    }
   },
   "outputs": [],
   "source": [
    "addresses = df[\"Location\"].values.tolist()\n",
    "\n",
    "latitudes = []\n",
    "longitudes = []\n",
    "\n",
    "for address in addresses:\n",
    "    result = geocoder.geocode(address, no_annotations=\"1\")\n",
    "\n",
    "    if result and len(result):\n",
    "        longitude = result[0]['geometry']['lng']\n",
    "        latitude = result[0]['geometry']['lat']\n",
    "    else:\n",
    "        longitude = \"N/A\"\n",
    "        latitude = \"N/A\"\n",
    "\n",
    "    latitudes.append(latitude)\n",
    "    longitudes.append(longitude)\n",
    "\n",
    "df[\"Latitude\"] = latitudes\n",
    "df[\"Longitude\"] = longitudes\n",
    "\n",
    "df.to_csv(\"../data/curated/hospital_geocoded.csv\")"
   ]
  },
  {
   "cell_type": "code",
   "execution_count": null,
   "metadata": {},
   "outputs": [],
   "source": []
  }
 ],
 "metadata": {
  "kernelspec": {
   "display_name": "Python 3 (ipykernel)",
   "language": "python",
   "name": "python3"
  },
  "language_info": {
   "codemirror_mode": {
    "name": "ipython",
    "version": 3
   },
   "file_extension": ".py",
   "mimetype": "text/x-python",
   "name": "python",
   "nbconvert_exporter": "python",
   "pygments_lexer": "ipython3",
   "version": "3.8.13"
  }
 },
 "nbformat": 4,
 "nbformat_minor": 4
}
