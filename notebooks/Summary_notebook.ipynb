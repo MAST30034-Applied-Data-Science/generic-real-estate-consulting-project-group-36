{
 "cells": [
  {
   "cell_type": "markdown",
   "id": "adf40b8c-9f58-4186-95f2-466b0cd0c1ba",
   "metadata": {},
   "source": [
    "## Summary Notebook"
   ]
  },
  {
   "cell_type": "markdown",
   "id": "dfa78c05-1e3b-4d1b-8413-cf3e46f8f23a",
   "metadata": {},
   "source": [
    "### Overall Approach"
   ]
  },
  {
   "cell_type": "markdown",
   "id": "321bf462-5860-480d-bbb9-c97896b1ed77",
   "metadata": {},
   "source": [
    "1. We performed web scraping on www.domain.com.au to get information about property, including price, beds, baths, parking number.\n",
    "2. For external features, we used web scraping on https://www.australia-shoppings.com to extract address information about shopping centre. Other features are mainly from aurin.org.au and based on SA2 suburb granularity.\n",
    "3. After collecting the data, we used Openrouteservice to convert domain data's address into coordinates and get geocodes for train stations, shopping centers, parks, and gyms to calculate distance between each domain property and them. In this part, we assume all api coordinates are correct and not ambiguous. \n",
    "4. Then we merged all data into one dataset containing all internal and external features. \n",
    "4. We performed data preprocessig and feature selection to explore the most import features which related to Question 1. In data cleaning part, we remove some outliers and missing values which may not be accurate.\n",
    "5. After that, we selected models to predict future three years' property prices. However, the models we selected after model evaluation might be overfit and especially for MLP model that is suitable for large dataset. There might be other potential models which have better performance than the Xgboost model we chose. We also lack of training data that is reducing our reliability of predictions.\n",
    "6. In order to predict future property price, we need to have future income and population data since they are constantly changing. However, it is impossible to get them and we have to predict them first. For this part, we simply did Linear Regression to predict income and population of each SA2 suburb in the next three years. The result is not reliable and accurate and we utilise predicted value to predict.\n",
    "7. Next, with predicted income and population data, we train on 2022 house and apartment dataset to predict 2023 property prices. Then we use predicted 2023 prices to predict 2024's prices and we do the same for 2025. \n",
    "8. Hence, we summarise predicted values and analyse them."
   ]
  },
  {
   "cell_type": "code",
   "execution_count": null,
   "id": "b0998680-b6ea-45d5-9504-80047a8c0cbd",
   "metadata": {},
   "outputs": [],
   "source": []
  }
 ],
 "metadata": {
  "kernelspec": {
   "display_name": "Python 3 (ipykernel)",
   "language": "python",
   "name": "python3"
  },
  "language_info": {
   "codemirror_mode": {
    "name": "ipython",
    "version": 3
   },
   "file_extension": ".py",
   "mimetype": "text/x-python",
   "name": "python",
   "nbconvert_exporter": "python",
   "pygments_lexer": "ipython3",
   "version": "3.9.7"
  }
 },
 "nbformat": 4,
 "nbformat_minor": 5
}
