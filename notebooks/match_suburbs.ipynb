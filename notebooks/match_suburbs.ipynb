{
 "cells": [
  {
   "cell_type": "code",
   "execution_count": 1,
   "metadata": {
    "tags": []
   },
   "outputs": [],
   "source": [
    "import pandas as pd\n",
    "from pandas import Series,DataFrame"
   ]
  },
  {
   "cell_type": "code",
   "execution_count": 2,
   "metadata": {
    "collapsed": false,
    "jupyter": {
     "outputs_hidden": false
    },
    "pycharm": {
     "name": "#%%\n"
    }
   },
   "outputs": [],
   "source": [
    "# read datafiles\n",
    "dfapart = pd.read_csv(\"../data/curated/apartment_facilities.csv\")\n",
    "dfhouse = pd.read_csv('../data/curated/house_facilities.csv')\n",
    "income = pd.read_csv('../data/curated/income_person.csv')"
   ]
  },
  {
   "cell_type": "code",
   "execution_count": 3,
   "metadata": {
    "tags": []
   },
   "outputs": [],
   "source": [
    "population = pd.read_csv(\"../data/raw/population_migration.csv\")\n",
    "population = population.rename(columns={'sa2_name_2016':'suburb'})\n",
    "income = income.rename(columns={'SA2 NAME':'suburb', '2014-15':'2014income', \\\n",
    "                                '2015-16':'2015income', '2016-17':'2016income', \\\n",
    "                                '2017-18':'2017income', '2018-19':'2018income'})\n",
    "income['suburb'] = income['suburb'].str.upper()\n",
    "population['suburb'] = population['suburb'].str.upper()"
   ]
  },
  {
   "cell_type": "code",
   "execution_count": 7,
   "metadata": {},
   "outputs": [],
   "source": [
    "# separate years\n",
    "pop16 = population.loc[:,['suburb', 'erp_2016', 'natural_increase_2016_17', \\\n",
    "                       'net_internal_migration_2016_17', 'net_overseas_migration_2016_17']]\n",
    "pop17 = population.loc[:,['suburb', 'erp_2017', 'natural_increase_2017_18', \\\n",
    "                       'net_internal_migration_2017_18', 'net_overseas_migration_2017_18']]\n",
    "pop18 = population.loc[:,['suburb', 'erp_2018', 'natural_increase_2018_19', \\\n",
    "                       'net_internal_migration_2018_19', 'net_overseas_migration_2018_19']]"
   ]
  },
  {
   "cell_type": "code",
   "execution_count": 6,
   "metadata": {
    "pycharm": {
     "name": "#%% extract the suburb from whole address, form a new column. prepare for matching\n"
    },
    "tags": []
   },
   "outputs": [],
   "source": [
    "# find the suburb of each address\n",
    "dfapart[\"suburb\"] = dfapart[\"address\"].str.extract(\"(.+?)\\d\")\n",
    "dfapart[\"suburb\"] = dfapart[\"suburb\"].str.strip().str.upper()\n",
    "\n",
    "dfhouse[\"suburb\"] = dfhouse[\"address\"].str.extract(\"(.+?)\\d\")\n",
    "dfhouse[\"suburb\"] = dfhouse[\"suburb\"].str.strip().str.upper()\n",
    "\n",
    "apa = dfapart.loc[:,[\"price\", \"suburb\", \"beds\", \"baths\", \\\n",
    "                 \"parking\", \"latitudes\", \"longitudes\", \\\n",
    "                 \"school\", \"train_station\", \"fitness_gym\", \\\n",
    "                 \"hospital\", \"shopping_center\", \"park\"]]\n",
    "house = dfhouse.loc[:,[\"price\", \"suburb\", \"beds\", \"baths\", \\\n",
    "                 \"parking\", \"latitudes\", \"longitudes\", \\\n",
    "                 \"school\", \"train_station\", \"fitness_gym\", \\\n",
    "                 \"hospital\", \"shopping_center\", \"park\"]]"
   ]
  },
  {
   "cell_type": "code",
   "execution_count": 8,
   "metadata": {},
   "outputs": [],
   "source": [
    "house[\"suburb\"] = house[\"suburb\"].apply(str)\n",
    "apa[\"suburb\"] = apa[\"suburb\"].apply(str)"
   ]
  },
  {
   "cell_type": "code",
   "execution_count": 9,
   "metadata": {
    "tags": []
   },
   "outputs": [],
   "source": [
    "# list SA2 names\n",
    "sub = population[\"suburb\"]\n",
    "sub = sub.dropna(how =\"any\")\n",
    "sub = sub.str.upper().to_list()"
   ]
  },
  {
   "cell_type": "code",
   "execution_count": null,
   "metadata": {
    "tags": []
   },
   "outputs": [],
   "source": [
    "# match the corresponding area of house\n",
    "from difflib import get_close_matches\n",
    "for i in range(len(house)):\n",
    "    area = house[\"suburb\"][i]\n",
    "    s = get_close_matches(area, sub, n=1)\n",
    "    house[\"suburb\"][i] = s\n",
    "    if len(house[\"suburb\"][i])==0:\n",
    "        house[\"suburb\"][i] = ''\n",
    "    else:\n",
    "        house[\"suburb\"][i] = house[\"suburb\"][i][0]    \n",
    "        "
   ]
  },
  {
   "cell_type": "code",
   "execution_count": null,
   "metadata": {
    "tags": []
   },
   "outputs": [],
   "source": [
    "# match the corresponding area of apartment\n",
    "for i in range(len(apa)):\n",
    "    area = apa[\"suburb\"][i]\n",
    "    s = get_close_matches(area, sub, n=1)\n",
    "    apa[\"suburb\"][i] = s\n",
    "    if len(apa[\"suburb\"][i])==0:\n",
    "        apa[\"suburb\"][i] = ''\n",
    "    else:\n",
    "        apa[\"suburb\"][i] = apa[\"suburb\"][i][0]   \n",
    "        "
   ]
  },
  {
   "cell_type": "code",
   "execution_count": 12,
   "metadata": {},
   "outputs": [],
   "source": [
    "# separate years\n",
    "income16 = income.loc[:,[\"suburb\", \"2016income\"]]\n",
    "income17 = income.loc[:,[\"suburb\", \"2017income\"]]\n",
    "income18 = income.loc[:,[\"suburb\", \"2018income\"]]"
   ]
  },
  {
   "cell_type": "code",
   "execution_count": 13,
   "metadata": {
    "tags": []
   },
   "outputs": [
    {
     "data": {
      "text/plain": [
       "836"
      ]
     },
     "execution_count": 13,
     "metadata": {},
     "output_type": "execute_result"
    }
   ],
   "source": [
    "# match domain and population and income\n",
    "matchapart1 = pd.merge(apa,pop16, on = ['suburb'])\n",
    "matchapart2 = pd.merge(matchapart1,income16, on = ['suburb'])\n",
    "len(matchapart2)"
   ]
  },
  {
   "cell_type": "code",
   "execution_count": 14,
   "metadata": {},
   "outputs": [
    {
     "data": {
      "text/plain": [
       "487"
      ]
     },
     "execution_count": 14,
     "metadata": {},
     "output_type": "execute_result"
    }
   ],
   "source": [
    "matchhouse1 = pd.merge(dfhouse,pop16, on = ['suburb'])\n",
    "matchhouse2 = pd.merge(matchhouse1,income16, on = ['suburb'])\n",
    "len(matchhouse2)"
   ]
  },
  {
   "cell_type": "code",
   "execution_count": 25,
   "metadata": {},
   "outputs": [],
   "source": [
    "# keep useful features\n",
    "features = [\"price\", \"suburb\", \"beds\", \"baths\", \\\n",
    "                 \"parking\", \"latitudes\", \"longitudes\", \\\n",
    "                 \"school\", \"train_station\", \"fitness_gym\", \\\n",
    "                 \"hospital\", \"shopping_center\", \"park\", 'erp_2016', 'natural_increase_2016_17',\n",
    "       'net_internal_migration_2016_17', 'net_overseas_migration_2016_17', '2016income']"
   ]
  },
  {
   "cell_type": "code",
   "execution_count": 29,
   "metadata": {
    "collapsed": false,
    "jupyter": {
     "outputs_hidden": false
    },
    "pycharm": {
     "name": "#%%\n"
    }
   },
   "outputs": [],
   "source": [
    "matchhouse2 = matchhouse2.loc[:,features]"
   ]
  },
  {
   "cell_type": "code",
   "execution_count": 28,
   "metadata": {},
   "outputs": [],
   "source": [
    "matchapart2 = matchapart2.loc[:,features]"
   ]
  },
  {
   "cell_type": "code",
   "execution_count": 30,
   "metadata": {
    "collapsed": false,
    "jupyter": {
     "outputs_hidden": false
    },
    "pycharm": {
     "name": "#%%\n"
    }
   },
   "outputs": [],
   "source": [
    "matchapart2.to_csv('../data/curated/match_apartment16.csv')\n",
    "matchhouse2.to_csv('../data/curated/match_house16.csv')"
   ]
  },
  {
   "cell_type": "code",
   "execution_count": 37,
   "metadata": {
    "collapsed": false,
    "jupyter": {
     "outputs_hidden": false
    },
    "pycharm": {
     "name": "#%%\n"
    }
   },
   "outputs": [],
   "source": [
    "pop_income = pd.merge(population, income, on = ['suburb'])"
   ]
  },
  {
   "cell_type": "code",
   "execution_count": 42,
   "metadata": {},
   "outputs": [],
   "source": [
    "list_features = ['suburb', 'erp_2016', 'erp_2017', 'erp_2018', 'natural_increase_2016_17', \\\n",
    "                 'net_internal_migration_2016_17','net_overseas_migration_2016_17', \\\n",
    "                 'natural_increase_2017_18', 'net_internal_migration_2017_18', 'net_overseas_migration_2017_18',\\\n",
    "       'natural_increase_2018_19', 'net_internal_migration_2018_19', 'net_overseas_migration_2018_19', \\\n",
    "                 '2016income', '2017income', '2018income']\n",
    "pop_income = pop_income.loc[:, list_features]"
   ]
  },
  {
   "cell_type": "code",
   "execution_count": 46,
   "metadata": {},
   "outputs": [],
   "source": [
    "pop_income.to_csv(\"../data/curated/population & income from 2016-2018\")"
   ]
  },
  {
   "cell_type": "code",
   "execution_count": null,
   "metadata": {},
   "outputs": [],
   "source": []
  }
 ],
 "metadata": {
  "kernelspec": {
   "display_name": "Python 3 (ipykernel)",
   "language": "python",
   "name": "python3"
  },
  "language_info": {
   "codemirror_mode": {
    "name": "ipython",
    "version": 3
   },
   "file_extension": ".py",
   "mimetype": "text/x-python",
   "name": "python",
   "nbconvert_exporter": "python",
   "pygments_lexer": "ipython3",
   "version": "3.8.13"
  }
 },
 "nbformat": 4,
 "nbformat_minor": 4
}
