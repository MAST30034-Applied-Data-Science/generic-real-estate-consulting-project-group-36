{
 "cells": [
  {
   "cell_type": "code",
   "execution_count": 48,
   "metadata": {
    "collapsed": true
   },
   "outputs": [],
   "source": [
    "import pandas as pd"
   ]
  },
  {
   "cell_type": "code",
   "execution_count": 49,
   "outputs": [],
   "source": [
    "box_hill_csv = pd.read_csv(\"../data/raw/region_summary/Region summary_ Box Hill SA2 207031163.csv\")\n",
    "carlton_csv = pd.read_csv(\"../data/raw/region_summary/Region summary_ Carlton SA2 206041117.csv\")\n",
    "colling_csv = pd.read_csv(\"../data/raw/region_summary/Region summary_ Collingwood SA2 206071141.csv\")\n",
    "dock_csv = pd.read_csv(\"../data/raw/region_summary/Region summary_ Docklands SA2 206041118.csv\")\n",
    "east_mel_csv = pd.read_csv(\"../data/raw/region_summary/Region summary_ East Melbourne SA2 206041119.csv\")\n",
    "fle_csv = pd.read_csv(\"../data/raw/region_summary/Region summary_ Flemington Racecourse SA2 206041120.csv\")\n",
    "haw_csv = pd.read_csv(\"../data/raw/region_summary/Region summary_ Hawthorn SA2 207011151.csv\")\n",
    "ken_csv = pd.read_csv(\"../data/raw/region_summary/Region summary_ Kensington (Vic.) SA2 206041121.csv\")\n",
    "mel_csv = pd.read_csv(\"../data/raw/region_summary/Region summary_ Melbourne SA2 206041122.csv\")\n",
    "north_mel_csv = pd.read_csv(\"../data/raw/region_summary/Region summary_ North Melbourne SA2 206041123.csv\")\n",
    "park_csv = pd.read_csv(\"../data/raw/region_summary/Region summary_ Parkville SA2 206041124.csv\")\n",
    "port_mel_csv = pd.read_csv(\"../data/raw/region_summary/Region summary_ Port Melbourne SA2 206051130.csv\")\n",
    "rich_csv = pd.read_csv(\"../data/raw/region_summary/Region summary_ Richmond (Vic.) SA2 206071144.csv\")\n",
    "south_mel_csv = pd.read_csv(\"../data/raw/region_summary/Region summary_ South Melbourne SA2 206051132.csv\")\n",
    "south_yarra_csv = pd.read_csv(\"../data/raw/region_summary/Region summary_ South Yarra - West SA2 206041125.csv\")\n",
    "sbank_csv = pd.read_csv(\"../data/raw/region_summary/Region summary_ Southbank SA2 206041126.csv\")\n",
    "stkida_csv = pd.read_csv(\"../data/raw/region_summary/Region summary_ St Kilda SA2 206051133.csv\")\n",
    "west_mel_csv = pd.read_csv(\"../data/raw/region_summary/Region summary_ West Melbourne SA2 206041127.csv\")"
   ],
   "metadata": {
    "collapsed": false,
    "pycharm": {
     "name": "#%%\n"
    }
   }
  },
  {
   "cell_type": "code",
   "execution_count": 50,
   "outputs": [],
   "source": [
    "box_hill = pd.DataFrame(box_hill_csv)\n",
    "car = pd.DataFrame(carlton_csv)\n",
    "colling = pd.DataFrame(colling_csv)\n",
    "dock = pd.DataFrame(dock_csv)\n",
    "eastmel = pd.DataFrame(east_mel_csv)\n",
    "fle = pd.DataFrame(fle_csv)\n",
    "haw = pd.DataFrame(haw_csv)\n",
    "ken = pd.DataFrame(ken_csv)\n",
    "mel = pd.DataFrame(mel_csv)\n",
    "nmel = pd.DataFrame(north_mel_csv)\n",
    "park = pd.DataFrame(park_csv)\n",
    "portmel = pd.DataFrame(port_mel_csv)\n",
    "rich = pd.DataFrame(rich_csv)\n",
    "smel = pd.DataFrame(south_mel_csv)\n",
    "syarra = pd.DataFrame(south_yarra_csv)\n",
    "sbank = pd.DataFrame(sbank_csv)\n",
    "stkilda = pd.DataFrame(stkida_csv)\n",
    "wmel = pd.DataFrame(west_mel_csv)"
   ],
   "metadata": {
    "collapsed": false,
    "pycharm": {
     "name": "#%% convert to dataframe\n"
    }
   }
  },
  {
   "cell_type": "code",
   "execution_count": 51,
   "outputs": [
    {
     "data": {
      "text/plain": "                           Parent Description  \\\n0  Estimated resident population - at 30 June   \n1  Estimated resident population - at 30 June   \n2  Estimated resident population - at 30 June   \n3  Estimated resident population - at 30 June   \n4  Estimated resident population - at 30 June   \n\n                                     Description  2011     2015     2016  \\\n0            Estimated resident population (no.)   NaN  20170.0  20839.0   \n1               Population density (persons/km2)   NaN   2876.5   2971.9   \n2    Estimated resident population - males (no.)   NaN   9826.0  10153.0   \n3  Estimated resident population - females (no.)   NaN  10344.0  10686.0   \n4                     Median age - males (years)   NaN     31.7     31.4   \n\n      2017     2018     2019     2020  \n0  21703.0  22627.0  23331.0  23981.0  \n1   3095.1   3226.9   3327.3   3420.0  \n2  10650.0  11108.0  11577.0  11909.0  \n3  11053.0  11519.0  11754.0  12072.0  \n4     30.9     30.7     30.5     30.9  ",
      "text/html": "<div>\n<style scoped>\n    .dataframe tbody tr th:only-of-type {\n        vertical-align: middle;\n    }\n\n    .dataframe tbody tr th {\n        vertical-align: top;\n    }\n\n    .dataframe thead th {\n        text-align: right;\n    }\n</style>\n<table border=\"1\" class=\"dataframe\">\n  <thead>\n    <tr style=\"text-align: right;\">\n      <th></th>\n      <th>Parent Description</th>\n      <th>Description</th>\n      <th>2011</th>\n      <th>2015</th>\n      <th>2016</th>\n      <th>2017</th>\n      <th>2018</th>\n      <th>2019</th>\n      <th>2020</th>\n    </tr>\n  </thead>\n  <tbody>\n    <tr>\n      <th>0</th>\n      <td>Estimated resident population - at 30 June</td>\n      <td>Estimated resident population (no.)</td>\n      <td>NaN</td>\n      <td>20170.0</td>\n      <td>20839.0</td>\n      <td>21703.0</td>\n      <td>22627.0</td>\n      <td>23331.0</td>\n      <td>23981.0</td>\n    </tr>\n    <tr>\n      <th>1</th>\n      <td>Estimated resident population - at 30 June</td>\n      <td>Population density (persons/km2)</td>\n      <td>NaN</td>\n      <td>2876.5</td>\n      <td>2971.9</td>\n      <td>3095.1</td>\n      <td>3226.9</td>\n      <td>3327.3</td>\n      <td>3420.0</td>\n    </tr>\n    <tr>\n      <th>2</th>\n      <td>Estimated resident population - at 30 June</td>\n      <td>Estimated resident population - males (no.)</td>\n      <td>NaN</td>\n      <td>9826.0</td>\n      <td>10153.0</td>\n      <td>10650.0</td>\n      <td>11108.0</td>\n      <td>11577.0</td>\n      <td>11909.0</td>\n    </tr>\n    <tr>\n      <th>3</th>\n      <td>Estimated resident population - at 30 June</td>\n      <td>Estimated resident population - females (no.)</td>\n      <td>NaN</td>\n      <td>10344.0</td>\n      <td>10686.0</td>\n      <td>11053.0</td>\n      <td>11519.0</td>\n      <td>11754.0</td>\n      <td>12072.0</td>\n    </tr>\n    <tr>\n      <th>4</th>\n      <td>Estimated resident population - at 30 June</td>\n      <td>Median age - males (years)</td>\n      <td>NaN</td>\n      <td>31.7</td>\n      <td>31.4</td>\n      <td>30.9</td>\n      <td>30.7</td>\n      <td>30.5</td>\n      <td>30.9</td>\n    </tr>\n  </tbody>\n</table>\n</div>"
     },
     "execution_count": 51,
     "metadata": {},
     "output_type": "execute_result"
    }
   ],
   "source": [
    "box_hill.head()"
   ],
   "metadata": {
    "collapsed": false,
    "pycharm": {
     "name": "#%% look at the data form\n"
    }
   }
  },
  {
   "cell_type": "code",
   "execution_count": 52,
   "outputs": [],
   "source": [
    "box_hill=box_hill[['Description','2018','2019','2020']]\n",
    "car=car[['Description','2018','2019','2020']]\n",
    "colling=colling[['Description','2018','2019','2020']]\n",
    "dock=dock[['Description','2018','2019','2020']]\n",
    "eastmel=eastmel[['Description','2018','2019','2020']]\n",
    "fle=fle[['Description','2018','2019','2020']]\n",
    "haw=haw[['Description','2018','2019','2020']]\n",
    "ken=ken[['Description','2018','2019','2020']]\n",
    "mel=mel[['Description','2018','2019','2020']]\n",
    "nmel=nmel[['Description','2018','2019','2020']]\n",
    "park=park[['Description','2018','2019','2020']]\n",
    "portmel=portmel[['Description','2018','2019','2020']]\n",
    "rich=rich[['Description','2018','2019','2020']]\n",
    "smel=smel[['Description','2018','2019','2020']]\n",
    "syarra=syarra[['Description','2018','2019','2020']]\n",
    "sbank=sbank[['Description','2018','2019','2020']]\n",
    "stkilda=stkilda[['Description','2018','2019','2020']]\n",
    "wmel=wmel[['Description','2018','2019','2020']]"
   ],
   "metadata": {
    "collapsed": false,
    "pycharm": {
     "name": "#%%select the columns interest\n"
    }
   }
  },
  {
   "cell_type": "code",
   "execution_count": 53,
   "outputs": [
    {
     "data": {
      "text/plain": "                                     Description     2018     2019     2020\n0            Estimated resident population (no.)  23261.0  24709.0  25670.0\n1               Population density (persons/km2)  12791.3  13587.6  14116.0\n2    Estimated resident population - males (no.)  10875.0  11644.0  12144.0\n3  Estimated resident population - females (no.)  12386.0  13065.0  13526.0\n4                     Median age - males (years)     24.8     24.9     25.3",
      "text/html": "<div>\n<style scoped>\n    .dataframe tbody tr th:only-of-type {\n        vertical-align: middle;\n    }\n\n    .dataframe tbody tr th {\n        vertical-align: top;\n    }\n\n    .dataframe thead th {\n        text-align: right;\n    }\n</style>\n<table border=\"1\" class=\"dataframe\">\n  <thead>\n    <tr style=\"text-align: right;\">\n      <th></th>\n      <th>Description</th>\n      <th>2018</th>\n      <th>2019</th>\n      <th>2020</th>\n    </tr>\n  </thead>\n  <tbody>\n    <tr>\n      <th>0</th>\n      <td>Estimated resident population (no.)</td>\n      <td>23261.0</td>\n      <td>24709.0</td>\n      <td>25670.0</td>\n    </tr>\n    <tr>\n      <th>1</th>\n      <td>Population density (persons/km2)</td>\n      <td>12791.3</td>\n      <td>13587.6</td>\n      <td>14116.0</td>\n    </tr>\n    <tr>\n      <th>2</th>\n      <td>Estimated resident population - males (no.)</td>\n      <td>10875.0</td>\n      <td>11644.0</td>\n      <td>12144.0</td>\n    </tr>\n    <tr>\n      <th>3</th>\n      <td>Estimated resident population - females (no.)</td>\n      <td>12386.0</td>\n      <td>13065.0</td>\n      <td>13526.0</td>\n    </tr>\n    <tr>\n      <th>4</th>\n      <td>Median age - males (years)</td>\n      <td>24.8</td>\n      <td>24.9</td>\n      <td>25.3</td>\n    </tr>\n  </tbody>\n</table>\n</div>"
     },
     "execution_count": 53,
     "metadata": {},
     "output_type": "execute_result"
    }
   ],
   "source": [
    "car.head()"
   ],
   "metadata": {
    "collapsed": false,
    "pycharm": {
     "name": "#%%\n"
    }
   }
  },
  {
   "cell_type": "code",
   "execution_count": 54,
   "outputs": [],
   "source": [
    "a = pd.concat([box_hill.iloc[:1,:],car.iloc[:1,:],colling.iloc[:1,:],dock.iloc[:1,:],eastmel.iloc[:1,:],\n",
    "              fle.iloc[:1,:],haw.iloc[:1,:],ken.iloc[:1,:],mel.iloc[:1,:],nmel.iloc[:1,:],\n",
    "              park.iloc[:1,:],portmel.iloc[:1,:],rich.iloc[:1,:],smel.iloc[:1,:],syarra.iloc[:1,:],\n",
    "              sbank.iloc[:1,:],stkilda.iloc[:1,:],wmel.iloc[:1,:]],ignore_index= True)"
   ],
   "metadata": {
    "collapsed": false,
    "pycharm": {
     "name": "#%% append all suburbs with population number in one dataframe called a\n"
    }
   }
  },
  {
   "cell_type": "code",
   "execution_count": 55,
   "outputs": [
    {
     "data": {
      "text/plain": "                            Description     2018     2019     2020\n0   Estimated resident population (no.)  22627.0  23331.0  23981.0\n1   Estimated resident population (no.)  23261.0  24709.0  25670.0\n2   Estimated resident population (no.)  10377.0  10990.0  11529.0\n3   Estimated resident population (no.)  14985.0  15701.0  15803.0\n4   Estimated resident population (no.)   5743.0   5918.0   6055.0\n5   Estimated resident population (no.)     91.0     91.0     91.0\n6   Estimated resident population (no.)  25532.0  26164.0  26333.0\n7   Estimated resident population (no.)  11866.0  12176.0  12183.0\n8   Estimated resident population (no.)  49247.0  51909.0  53180.0\n9   Estimated resident population (no.)  25367.0  26471.0  27737.0\n10  Estimated resident population (no.)   8447.0   8754.0   8741.0\n11  Estimated resident population (no.)  17842.0  18051.0  18003.0\n12  Estimated resident population (no.)  34659.0  35862.0  36252.0\n13  Estimated resident population (no.)  13169.0  13510.0  13686.0\n14  Estimated resident population (no.)   6924.0   7008.0   6904.0\n15  Estimated resident population (no.)  24424.0  26321.0  27444.0\n16  Estimated resident population (no.)  29886.0  30453.0  30772.0\n17  Estimated resident population (no.)      3.0      3.0      3.0",
      "text/html": "<div>\n<style scoped>\n    .dataframe tbody tr th:only-of-type {\n        vertical-align: middle;\n    }\n\n    .dataframe tbody tr th {\n        vertical-align: top;\n    }\n\n    .dataframe thead th {\n        text-align: right;\n    }\n</style>\n<table border=\"1\" class=\"dataframe\">\n  <thead>\n    <tr style=\"text-align: right;\">\n      <th></th>\n      <th>Description</th>\n      <th>2018</th>\n      <th>2019</th>\n      <th>2020</th>\n    </tr>\n  </thead>\n  <tbody>\n    <tr>\n      <th>0</th>\n      <td>Estimated resident population (no.)</td>\n      <td>22627.0</td>\n      <td>23331.0</td>\n      <td>23981.0</td>\n    </tr>\n    <tr>\n      <th>1</th>\n      <td>Estimated resident population (no.)</td>\n      <td>23261.0</td>\n      <td>24709.0</td>\n      <td>25670.0</td>\n    </tr>\n    <tr>\n      <th>2</th>\n      <td>Estimated resident population (no.)</td>\n      <td>10377.0</td>\n      <td>10990.0</td>\n      <td>11529.0</td>\n    </tr>\n    <tr>\n      <th>3</th>\n      <td>Estimated resident population (no.)</td>\n      <td>14985.0</td>\n      <td>15701.0</td>\n      <td>15803.0</td>\n    </tr>\n    <tr>\n      <th>4</th>\n      <td>Estimated resident population (no.)</td>\n      <td>5743.0</td>\n      <td>5918.0</td>\n      <td>6055.0</td>\n    </tr>\n    <tr>\n      <th>5</th>\n      <td>Estimated resident population (no.)</td>\n      <td>91.0</td>\n      <td>91.0</td>\n      <td>91.0</td>\n    </tr>\n    <tr>\n      <th>6</th>\n      <td>Estimated resident population (no.)</td>\n      <td>25532.0</td>\n      <td>26164.0</td>\n      <td>26333.0</td>\n    </tr>\n    <tr>\n      <th>7</th>\n      <td>Estimated resident population (no.)</td>\n      <td>11866.0</td>\n      <td>12176.0</td>\n      <td>12183.0</td>\n    </tr>\n    <tr>\n      <th>8</th>\n      <td>Estimated resident population (no.)</td>\n      <td>49247.0</td>\n      <td>51909.0</td>\n      <td>53180.0</td>\n    </tr>\n    <tr>\n      <th>9</th>\n      <td>Estimated resident population (no.)</td>\n      <td>25367.0</td>\n      <td>26471.0</td>\n      <td>27737.0</td>\n    </tr>\n    <tr>\n      <th>10</th>\n      <td>Estimated resident population (no.)</td>\n      <td>8447.0</td>\n      <td>8754.0</td>\n      <td>8741.0</td>\n    </tr>\n    <tr>\n      <th>11</th>\n      <td>Estimated resident population (no.)</td>\n      <td>17842.0</td>\n      <td>18051.0</td>\n      <td>18003.0</td>\n    </tr>\n    <tr>\n      <th>12</th>\n      <td>Estimated resident population (no.)</td>\n      <td>34659.0</td>\n      <td>35862.0</td>\n      <td>36252.0</td>\n    </tr>\n    <tr>\n      <th>13</th>\n      <td>Estimated resident population (no.)</td>\n      <td>13169.0</td>\n      <td>13510.0</td>\n      <td>13686.0</td>\n    </tr>\n    <tr>\n      <th>14</th>\n      <td>Estimated resident population (no.)</td>\n      <td>6924.0</td>\n      <td>7008.0</td>\n      <td>6904.0</td>\n    </tr>\n    <tr>\n      <th>15</th>\n      <td>Estimated resident population (no.)</td>\n      <td>24424.0</td>\n      <td>26321.0</td>\n      <td>27444.0</td>\n    </tr>\n    <tr>\n      <th>16</th>\n      <td>Estimated resident population (no.)</td>\n      <td>29886.0</td>\n      <td>30453.0</td>\n      <td>30772.0</td>\n    </tr>\n    <tr>\n      <th>17</th>\n      <td>Estimated resident population (no.)</td>\n      <td>3.0</td>\n      <td>3.0</td>\n      <td>3.0</td>\n    </tr>\n  </tbody>\n</table>\n</div>"
     },
     "execution_count": 55,
     "metadata": {},
     "output_type": "execute_result"
    }
   ],
   "source": [
    "a.head(18)"
   ],
   "metadata": {
    "collapsed": false,
    "pycharm": {
     "name": "#%%\n"
    }
   }
  },
  {
   "cell_type": "code",
   "execution_count": 56,
   "outputs": [],
   "source": [
    "a['suburb']= ['BOX HILL','CARLTON','COLLINGWOOD','DOCKLANDS','EAST MELBOURNE','FLEMINGTON',\n",
    "              'HAWTHORN','KENSINGTON','MELBOURNE','NORTH MELBOURNE','PARKVILLE','PORT MELBOURNE',\n",
    "              'RICHMOND','SOUTH MELBOURNE','SOUTH YARRA','SOUTH BANK','ST KILDA','WEST MELBOURNE']"
   ],
   "metadata": {
    "collapsed": false,
    "pycharm": {
     "name": "#%% creat new column named as suburb with their corresponding suburbs' name\n"
    }
   }
  },
  {
   "cell_type": "code",
   "execution_count": 57,
   "outputs": [
    {
     "data": {
      "text/plain": "                           Description     2018     2019     2020  \\\n0  Estimated resident population (no.)  22627.0  23331.0  23981.0   \n1  Estimated resident population (no.)  23261.0  24709.0  25670.0   \n2  Estimated resident population (no.)  10377.0  10990.0  11529.0   \n3  Estimated resident population (no.)  14985.0  15701.0  15803.0   \n4  Estimated resident population (no.)   5743.0   5918.0   6055.0   \n\n           suburb  \n0        BOX HILL  \n1         CARLTON  \n2     COLLINGWOOD  \n3       DOCKLANDS  \n4  EAST MELBOURNE  ",
      "text/html": "<div>\n<style scoped>\n    .dataframe tbody tr th:only-of-type {\n        vertical-align: middle;\n    }\n\n    .dataframe tbody tr th {\n        vertical-align: top;\n    }\n\n    .dataframe thead th {\n        text-align: right;\n    }\n</style>\n<table border=\"1\" class=\"dataframe\">\n  <thead>\n    <tr style=\"text-align: right;\">\n      <th></th>\n      <th>Description</th>\n      <th>2018</th>\n      <th>2019</th>\n      <th>2020</th>\n      <th>suburb</th>\n    </tr>\n  </thead>\n  <tbody>\n    <tr>\n      <th>0</th>\n      <td>Estimated resident population (no.)</td>\n      <td>22627.0</td>\n      <td>23331.0</td>\n      <td>23981.0</td>\n      <td>BOX HILL</td>\n    </tr>\n    <tr>\n      <th>1</th>\n      <td>Estimated resident population (no.)</td>\n      <td>23261.0</td>\n      <td>24709.0</td>\n      <td>25670.0</td>\n      <td>CARLTON</td>\n    </tr>\n    <tr>\n      <th>2</th>\n      <td>Estimated resident population (no.)</td>\n      <td>10377.0</td>\n      <td>10990.0</td>\n      <td>11529.0</td>\n      <td>COLLINGWOOD</td>\n    </tr>\n    <tr>\n      <th>3</th>\n      <td>Estimated resident population (no.)</td>\n      <td>14985.0</td>\n      <td>15701.0</td>\n      <td>15803.0</td>\n      <td>DOCKLANDS</td>\n    </tr>\n    <tr>\n      <th>4</th>\n      <td>Estimated resident population (no.)</td>\n      <td>5743.0</td>\n      <td>5918.0</td>\n      <td>6055.0</td>\n      <td>EAST MELBOURNE</td>\n    </tr>\n  </tbody>\n</table>\n</div>"
     },
     "execution_count": 57,
     "metadata": {},
     "output_type": "execute_result"
    }
   ],
   "source": [
    "a.head()"
   ],
   "metadata": {
    "collapsed": false,
    "pycharm": {
     "name": "#%%\n"
    }
   }
  },
  {
   "cell_type": "code",
   "execution_count": 58,
   "outputs": [],
   "source": [
    "b = pd.concat([box_hill.iloc[1:2,:],car.iloc[1:2,:],colling.iloc[1:2,:],dock.iloc[1:2,:],eastmel.iloc[1:2,:],\n",
    "              fle.iloc[1:2,:],haw.iloc[1:2,:],ken.iloc[1:2,:],mel.iloc[1:2,:],nmel.iloc[1:2,:],\n",
    "              park.iloc[1:2,:],portmel.iloc[1:2,:],rich.iloc[1:2,:],smel.iloc[1:2,:],syarra.iloc[1:2,:],\n",
    "              sbank.iloc[1:2,:],stkilda.iloc[1:2,:],wmel.iloc[1:2,:]],ignore_index= True)\n"
   ],
   "metadata": {
    "collapsed": false,
    "pycharm": {
     "name": "#%% append all suburbs with population density in one dataframe called b\n"
    }
   }
  },
  {
   "cell_type": "code",
   "execution_count": 59,
   "outputs": [],
   "source": [
    "b['suburb']= ['BOX HILL','CARLTON','COLLINGWOOD','DOCKLANDS','EAST MELBOURNE','FLEMINGTON',\n",
    "              'HAWTHORN','KENSINGTON','MELBOURNE','NORTH MELBOURNE','PARKVILLE','PORT MELBOURNE',\n",
    "              'RICHMOND','SOUTH MELBOURNE','SOUTH YARRA','SOUTH BANK','ST KILDA','WEST MELBOURNE']"
   ],
   "metadata": {
    "collapsed": false,
    "pycharm": {
     "name": "#%% creat new column named as suburb with their corresponding suburbs' name\n"
    }
   }
  },
  {
   "cell_type": "code",
   "execution_count": 60,
   "outputs": [
    {
     "data": {
      "text/plain": "                        Description     2018     2019     2020  \\\n0  Population density (persons/km2)   3226.9   3327.3   3420.0   \n1  Population density (persons/km2)  12791.3  13587.6  14116.0   \n2  Population density (persons/km2)   8189.6   8673.3   9098.7   \n3  Population density (persons/km2)   6131.3   6424.3   6466.0   \n4  Population density (persons/km2)   1980.5   2040.8   2088.1   \n5  Population density (persons/km2)     53.2     53.2     53.2   \n6  Population density (persons/km2)   4501.3   4612.8   4642.5   \n7  Population density (persons/km2)   5526.8   5671.2   5674.4   \n8  Population density (persons/km2)  20788.1  21911.8  22448.3   \n9  Population density (persons/km2)   7807.2   8146.9   8536.6   \n\n            suburb  \n0         BOX HILL  \n1          CARLTON  \n2      COLLINGWOOD  \n3        DOCKLANDS  \n4   EAST MELBOURNE  \n5       FLEMINGTON  \n6         HAWTHORN  \n7       KENSINGTON  \n8        MELBOURNE  \n9  NORTH MELBOURNE  ",
      "text/html": "<div>\n<style scoped>\n    .dataframe tbody tr th:only-of-type {\n        vertical-align: middle;\n    }\n\n    .dataframe tbody tr th {\n        vertical-align: top;\n    }\n\n    .dataframe thead th {\n        text-align: right;\n    }\n</style>\n<table border=\"1\" class=\"dataframe\">\n  <thead>\n    <tr style=\"text-align: right;\">\n      <th></th>\n      <th>Description</th>\n      <th>2018</th>\n      <th>2019</th>\n      <th>2020</th>\n      <th>suburb</th>\n    </tr>\n  </thead>\n  <tbody>\n    <tr>\n      <th>0</th>\n      <td>Population density (persons/km2)</td>\n      <td>3226.9</td>\n      <td>3327.3</td>\n      <td>3420.0</td>\n      <td>BOX HILL</td>\n    </tr>\n    <tr>\n      <th>1</th>\n      <td>Population density (persons/km2)</td>\n      <td>12791.3</td>\n      <td>13587.6</td>\n      <td>14116.0</td>\n      <td>CARLTON</td>\n    </tr>\n    <tr>\n      <th>2</th>\n      <td>Population density (persons/km2)</td>\n      <td>8189.6</td>\n      <td>8673.3</td>\n      <td>9098.7</td>\n      <td>COLLINGWOOD</td>\n    </tr>\n    <tr>\n      <th>3</th>\n      <td>Population density (persons/km2)</td>\n      <td>6131.3</td>\n      <td>6424.3</td>\n      <td>6466.0</td>\n      <td>DOCKLANDS</td>\n    </tr>\n    <tr>\n      <th>4</th>\n      <td>Population density (persons/km2)</td>\n      <td>1980.5</td>\n      <td>2040.8</td>\n      <td>2088.1</td>\n      <td>EAST MELBOURNE</td>\n    </tr>\n    <tr>\n      <th>5</th>\n      <td>Population density (persons/km2)</td>\n      <td>53.2</td>\n      <td>53.2</td>\n      <td>53.2</td>\n      <td>FLEMINGTON</td>\n    </tr>\n    <tr>\n      <th>6</th>\n      <td>Population density (persons/km2)</td>\n      <td>4501.3</td>\n      <td>4612.8</td>\n      <td>4642.5</td>\n      <td>HAWTHORN</td>\n    </tr>\n    <tr>\n      <th>7</th>\n      <td>Population density (persons/km2)</td>\n      <td>5526.8</td>\n      <td>5671.2</td>\n      <td>5674.4</td>\n      <td>KENSINGTON</td>\n    </tr>\n    <tr>\n      <th>8</th>\n      <td>Population density (persons/km2)</td>\n      <td>20788.1</td>\n      <td>21911.8</td>\n      <td>22448.3</td>\n      <td>MELBOURNE</td>\n    </tr>\n    <tr>\n      <th>9</th>\n      <td>Population density (persons/km2)</td>\n      <td>7807.2</td>\n      <td>8146.9</td>\n      <td>8536.6</td>\n      <td>NORTH MELBOURNE</td>\n    </tr>\n  </tbody>\n</table>\n</div>"
     },
     "execution_count": 60,
     "metadata": {},
     "output_type": "execute_result"
    }
   ],
   "source": [
    "b.head(10)"
   ],
   "metadata": {
    "collapsed": false,
    "pycharm": {
     "name": "#%%\n"
    }
   }
  },
  {
   "cell_type": "code",
   "execution_count": 61,
   "outputs": [],
   "source": [
    "a.to_csv(\"../data/curated/population_by_suburb.csv\")"
   ],
   "metadata": {
    "collapsed": false,
    "pycharm": {
     "name": "#%% save as csv to curated data set\n"
    }
   }
  },
  {
   "cell_type": "code",
   "execution_count": 62,
   "outputs": [],
   "source": [
    "b.to_csv(\"../data/curated/population_density_by_suburb.csv\")"
   ],
   "metadata": {
    "collapsed": false,
    "pycharm": {
     "name": "#%%\n"
    }
   }
  },
  {
   "cell_type": "code",
   "execution_count": 62,
   "outputs": [],
   "source": [],
   "metadata": {
    "collapsed": false,
    "pycharm": {
     "name": "#%%\n"
    }
   }
  }
 ],
 "metadata": {
  "kernelspec": {
   "display_name": "Python 3",
   "language": "python",
   "name": "python3"
  },
  "language_info": {
   "codemirror_mode": {
    "name": "ipython",
    "version": 2
   },
   "file_extension": ".py",
   "mimetype": "text/x-python",
   "name": "python",
   "nbconvert_exporter": "python",
   "pygments_lexer": "ipython2",
   "version": "2.7.6"
  }
 },
 "nbformat": 4,
 "nbformat_minor": 0
}